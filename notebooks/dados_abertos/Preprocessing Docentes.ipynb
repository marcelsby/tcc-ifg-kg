{
 "cells": [
  {
   "cell_type": "code",
   "execution_count": null,
   "id": "a71fe6af",
   "metadata": {
    "tags": [
     "parameters"
    ]
   },
   "outputs": [],
   "source": [
    "p_storage_dir = \"../../storage\""
   ]
  },
  {
   "cell_type": "code",
   "execution_count": 96,
   "id": "aa2d1b48",
   "metadata": {},
   "outputs": [],
   "source": [
    "import pandas as pd\n",
    "from pathlib import Path\n",
    "\n",
    "DA_STORAGE_DIR = Path(f\"{p_storage_dir}/dados_abertos\")"
   ]
  },
  {
   "cell_type": "markdown",
   "id": "3cd67b8c",
   "metadata": {},
   "source": [
    "# Docentes\n",
    "\n",
    "Para ter um dataset dos docentes do IFG com a maior quantidade de dados sobre eles é necessário cruzar as informações do dataset de servidores com as de docentes."
   ]
  },
  {
   "cell_type": "code",
   "execution_count": 97,
   "id": "c580a496",
   "metadata": {},
   "outputs": [
    {
     "data": {
      "text/html": [
       "<div>\n",
       "<style scoped>\n",
       "    .dataframe tbody tr th:only-of-type {\n",
       "        vertical-align: middle;\n",
       "    }\n",
       "\n",
       "    .dataframe tbody tr th {\n",
       "        vertical-align: top;\n",
       "    }\n",
       "\n",
       "    .dataframe thead th {\n",
       "        text-align: right;\n",
       "    }\n",
       "</style>\n",
       "<table border=\"1\" class=\"dataframe\">\n",
       "  <thead>\n",
       "    <tr style=\"text-align: right;\">\n",
       "      <th></th>\n",
       "      <th>nome</th>\n",
       "      <th>matricula</th>\n",
       "      <th>cargo</th>\n",
       "      <th>data_ingresso</th>\n",
       "      <th>atribuicao</th>\n",
       "      <th>carga_horaria</th>\n",
       "    </tr>\n",
       "  </thead>\n",
       "  <tbody>\n",
       "    <tr>\n",
       "      <th>0</th>\n",
       "      <td>Abadio Antonio dos Santos</td>\n",
       "      <td>270698</td>\n",
       "      <td>doscente</td>\n",
       "      <td>1958-04-01</td>\n",
       "      <td>PROFESSOR ENS BASICO TECN TECNOLOGICO</td>\n",
       "      <td>40 HORAS SEMANAIS</td>\n",
       "    </tr>\n",
       "    <tr>\n",
       "      <th>1</th>\n",
       "      <td>Abdalla Antonios Kayed Elias</td>\n",
       "      <td>1444504</td>\n",
       "      <td>doscente</td>\n",
       "      <td>2004-02-17</td>\n",
       "      <td>PROFESSOR ENS BASICO TECN TECNOLOGICO</td>\n",
       "      <td>DEDICACAO EXCLUSIVA</td>\n",
       "    </tr>\n",
       "    <tr>\n",
       "      <th>2</th>\n",
       "      <td>Abel Ferreira de Lima</td>\n",
       "      <td>6050871</td>\n",
       "      <td>técnico</td>\n",
       "      <td>1985-03-06</td>\n",
       "      <td>MOTORISTA</td>\n",
       "      <td>40 HORAS SEMANAIS</td>\n",
       "    </tr>\n",
       "    <tr>\n",
       "      <th>3</th>\n",
       "      <td>Abel Ferreira de Lima</td>\n",
       "      <td>50871</td>\n",
       "      <td>técnico</td>\n",
       "      <td>1985-03-06</td>\n",
       "      <td>MOTORISTA</td>\n",
       "      <td>40 HORAS SEMANAIS</td>\n",
       "    </tr>\n",
       "    <tr>\n",
       "      <th>4</th>\n",
       "      <td>Abelson Oliveira de Andrade</td>\n",
       "      <td>50644</td>\n",
       "      <td>técnico</td>\n",
       "      <td>1969-07-01</td>\n",
       "      <td>MOTORISTA</td>\n",
       "      <td>40 HORAS SEMANAIS</td>\n",
       "    </tr>\n",
       "  </tbody>\n",
       "</table>\n",
       "</div>"
      ],
      "text/plain": [
       "                           nome  matricula     cargo data_ingresso  \\\n",
       "0     Abadio Antonio dos Santos     270698  doscente    1958-04-01   \n",
       "1  Abdalla Antonios Kayed Elias    1444504  doscente    2004-02-17   \n",
       "2         Abel Ferreira de Lima    6050871   técnico    1985-03-06   \n",
       "3         Abel Ferreira de Lima      50871   técnico    1985-03-06   \n",
       "4   Abelson Oliveira de Andrade      50644   técnico    1969-07-01   \n",
       "\n",
       "                              atribuicao        carga_horaria  \n",
       "0  PROFESSOR ENS BASICO TECN TECNOLOGICO    40 HORAS SEMANAIS  \n",
       "1  PROFESSOR ENS BASICO TECN TECNOLOGICO  DEDICACAO EXCLUSIVA  \n",
       "2                              MOTORISTA    40 HORAS SEMANAIS  \n",
       "3                              MOTORISTA    40 HORAS SEMANAIS  \n",
       "4                              MOTORISTA    40 HORAS SEMANAIS  "
      ]
     },
     "execution_count": 97,
     "metadata": {},
     "output_type": "execute_result"
    }
   ],
   "source": [
    "servidores = pd.read_csv(DA_STORAGE_DIR / \"transformed/servidores.csv\", delimiter=\";\")\n",
    "\n",
    "servidores.head()"
   ]
  },
  {
   "cell_type": "code",
   "execution_count": 98,
   "id": "3cc54117",
   "metadata": {},
   "outputs": [
    {
     "data": {
      "text/plain": [
       "(5435, 6)"
      ]
     },
     "execution_count": 98,
     "metadata": {},
     "output_type": "execute_result"
    }
   ],
   "source": [
    "servidores.shape"
   ]
  },
  {
   "cell_type": "code",
   "execution_count": 99,
   "id": "bff62535",
   "metadata": {},
   "outputs": [
    {
     "data": {
      "text/html": [
       "<div>\n",
       "<style scoped>\n",
       "    .dataframe tbody tr th:only-of-type {\n",
       "        vertical-align: middle;\n",
       "    }\n",
       "\n",
       "    .dataframe tbody tr th {\n",
       "        vertical-align: top;\n",
       "    }\n",
       "\n",
       "    .dataframe thead th {\n",
       "        text-align: right;\n",
       "    }\n",
       "</style>\n",
       "<table border=\"1\" class=\"dataframe\">\n",
       "  <thead>\n",
       "    <tr style=\"text-align: right;\">\n",
       "      <th></th>\n",
       "      <th>nome</th>\n",
       "      <th>matricula</th>\n",
       "      <th>disciplina_ministrada</th>\n",
       "      <th>campus</th>\n",
       "    </tr>\n",
       "  </thead>\n",
       "  <tbody>\n",
       "    <tr>\n",
       "      <th>0</th>\n",
       "      <td>Abdalla Antonios Kayed Elias</td>\n",
       "      <td>1444504</td>\n",
       "      <td>Física</td>\n",
       "      <td>CÂMPUS GOIÂNIA</td>\n",
       "    </tr>\n",
       "    <tr>\n",
       "      <th>1</th>\n",
       "      <td>Abilio de Jesus Carrascal</td>\n",
       "      <td>1526346</td>\n",
       "      <td>Artes</td>\n",
       "      <td>CÂMPUS ÁGUAS LINDAS</td>\n",
       "    </tr>\n",
       "    <tr>\n",
       "      <th>2</th>\n",
       "      <td>Adel Fernando de Almeida Vanny</td>\n",
       "      <td>1791027</td>\n",
       "      <td>Filosofia</td>\n",
       "      <td>CÂMPUS INHUMAS</td>\n",
       "    </tr>\n",
       "    <tr>\n",
       "      <th>3</th>\n",
       "      <td>Aderito Schneider Alencar e Tavora</td>\n",
       "      <td>3058944</td>\n",
       "      <td>Não Informada</td>\n",
       "      <td>CÂMPUS CIDADE DE GOIÁS</td>\n",
       "    </tr>\n",
       "    <tr>\n",
       "      <th>4</th>\n",
       "      <td>Adria Assuncao Santos de Paula</td>\n",
       "      <td>2864372</td>\n",
       "      <td>Psicologia</td>\n",
       "      <td>CÂMPUS GOIÂNIA OESTE</td>\n",
       "    </tr>\n",
       "  </tbody>\n",
       "</table>\n",
       "</div>"
      ],
      "text/plain": [
       "                                 nome  matricula disciplina_ministrada  \\\n",
       "0        Abdalla Antonios Kayed Elias    1444504                Física   \n",
       "1           Abilio de Jesus Carrascal    1526346                 Artes   \n",
       "2      Adel Fernando de Almeida Vanny    1791027             Filosofia   \n",
       "3  Aderito Schneider Alencar e Tavora    3058944         Não Informada   \n",
       "4      Adria Assuncao Santos de Paula    2864372            Psicologia   \n",
       "\n",
       "                   campus  \n",
       "0          CÂMPUS GOIÂNIA  \n",
       "1     CÂMPUS ÁGUAS LINDAS  \n",
       "2          CÂMPUS INHUMAS  \n",
       "3  CÂMPUS CIDADE DE GOIÁS  \n",
       "4    CÂMPUS GOIÂNIA OESTE  "
      ]
     },
     "execution_count": 99,
     "metadata": {},
     "output_type": "execute_result"
    }
   ],
   "source": [
    "docentes = pd.read_csv(DA_STORAGE_DIR / \"transformed/docentes.csv\", delimiter=\";\")\n",
    "\n",
    "docentes.head()"
   ]
  },
  {
   "cell_type": "code",
   "execution_count": 100,
   "id": "e594751f",
   "metadata": {},
   "outputs": [
    {
     "data": {
      "text/plain": [
       "(1117, 4)"
      ]
     },
     "execution_count": 100,
     "metadata": {},
     "output_type": "execute_result"
    }
   ],
   "source": [
    "docentes.shape"
   ]
  },
  {
   "cell_type": "markdown",
   "id": "e3b86da3",
   "metadata": {},
   "source": [
    "## Junção dos dois datasets\n",
    "\n",
    "Para combinar os dois datasets a coluna de matrícula foi utilizada como critério de junção, já que a sua informação é compartilhada pelo dois datasets."
   ]
  },
  {
   "cell_type": "code",
   "execution_count": 101,
   "id": "04dd24d4",
   "metadata": {},
   "outputs": [
    {
     "data": {
      "text/html": [
       "<div>\n",
       "<style scoped>\n",
       "    .dataframe tbody tr th:only-of-type {\n",
       "        vertical-align: middle;\n",
       "    }\n",
       "\n",
       "    .dataframe tbody tr th {\n",
       "        vertical-align: top;\n",
       "    }\n",
       "\n",
       "    .dataframe thead th {\n",
       "        text-align: right;\n",
       "    }\n",
       "</style>\n",
       "<table border=\"1\" class=\"dataframe\">\n",
       "  <thead>\n",
       "    <tr style=\"text-align: right;\">\n",
       "      <th></th>\n",
       "      <th>nome</th>\n",
       "      <th>matricula</th>\n",
       "      <th>disciplina_ministrada</th>\n",
       "      <th>campus</th>\n",
       "      <th>cargo</th>\n",
       "      <th>data_ingresso</th>\n",
       "      <th>atribuicao</th>\n",
       "      <th>carga_horaria</th>\n",
       "    </tr>\n",
       "  </thead>\n",
       "  <tbody>\n",
       "    <tr>\n",
       "      <th>0</th>\n",
       "      <td>Abdalla Antonios Kayed Elias</td>\n",
       "      <td>1444504</td>\n",
       "      <td>Física</td>\n",
       "      <td>CÂMPUS GOIÂNIA</td>\n",
       "      <td>doscente</td>\n",
       "      <td>2004-02-17</td>\n",
       "      <td>PROFESSOR ENS BASICO TECN TECNOLOGICO</td>\n",
       "      <td>DEDICACAO EXCLUSIVA</td>\n",
       "    </tr>\n",
       "    <tr>\n",
       "      <th>1</th>\n",
       "      <td>Abilio de Jesus Carrascal</td>\n",
       "      <td>1526346</td>\n",
       "      <td>Artes</td>\n",
       "      <td>CÂMPUS ÁGUAS LINDAS</td>\n",
       "      <td>doscente</td>\n",
       "      <td>2014-05-07</td>\n",
       "      <td>PROFESSOR ENS BASICO TECN TECNOLOGICO</td>\n",
       "      <td>DEDICACAO EXCLUSIVA</td>\n",
       "    </tr>\n",
       "    <tr>\n",
       "      <th>2</th>\n",
       "      <td>Adel Fernando de Almeida Vanny</td>\n",
       "      <td>1791027</td>\n",
       "      <td>Filosofia</td>\n",
       "      <td>CÂMPUS INHUMAS</td>\n",
       "      <td>doscente</td>\n",
       "      <td>2010-06-15</td>\n",
       "      <td>PROFESSOR ENS BASICO TECN TECNOLOGICO</td>\n",
       "      <td>DEDICACAO EXCLUSIVA</td>\n",
       "    </tr>\n",
       "    <tr>\n",
       "      <th>3</th>\n",
       "      <td>Aderito Schneider Alencar e Tavora</td>\n",
       "      <td>3058944</td>\n",
       "      <td>Não Informada</td>\n",
       "      <td>CÂMPUS CIDADE DE GOIÁS</td>\n",
       "      <td>doscente</td>\n",
       "      <td>2018-07-31</td>\n",
       "      <td>PROFESSOR ENS BASICO TECN TECNOLOGICO</td>\n",
       "      <td>DEDICACAO EXCLUSIVA</td>\n",
       "    </tr>\n",
       "    <tr>\n",
       "      <th>4</th>\n",
       "      <td>Adria Assuncao Santos de Paula</td>\n",
       "      <td>2864372</td>\n",
       "      <td>Psicologia</td>\n",
       "      <td>CÂMPUS GOIÂNIA OESTE</td>\n",
       "      <td>doscente</td>\n",
       "      <td>2013-08-01</td>\n",
       "      <td>PROFESSOR ENS BASICO TECN TECNOLOGICO</td>\n",
       "      <td>DEDICACAO EXCLUSIVA</td>\n",
       "    </tr>\n",
       "  </tbody>\n",
       "</table>\n",
       "</div>"
      ],
      "text/plain": [
       "                                 nome  matricula disciplina_ministrada  \\\n",
       "0        Abdalla Antonios Kayed Elias    1444504                Física   \n",
       "1           Abilio de Jesus Carrascal    1526346                 Artes   \n",
       "2      Adel Fernando de Almeida Vanny    1791027             Filosofia   \n",
       "3  Aderito Schneider Alencar e Tavora    3058944         Não Informada   \n",
       "4      Adria Assuncao Santos de Paula    2864372            Psicologia   \n",
       "\n",
       "                   campus     cargo data_ingresso  \\\n",
       "0          CÂMPUS GOIÂNIA  doscente    2004-02-17   \n",
       "1     CÂMPUS ÁGUAS LINDAS  doscente    2014-05-07   \n",
       "2          CÂMPUS INHUMAS  doscente    2010-06-15   \n",
       "3  CÂMPUS CIDADE DE GOIÁS  doscente    2018-07-31   \n",
       "4    CÂMPUS GOIÂNIA OESTE  doscente    2013-08-01   \n",
       "\n",
       "                              atribuicao        carga_horaria  \n",
       "0  PROFESSOR ENS BASICO TECN TECNOLOGICO  DEDICACAO EXCLUSIVA  \n",
       "1  PROFESSOR ENS BASICO TECN TECNOLOGICO  DEDICACAO EXCLUSIVA  \n",
       "2  PROFESSOR ENS BASICO TECN TECNOLOGICO  DEDICACAO EXCLUSIVA  \n",
       "3  PROFESSOR ENS BASICO TECN TECNOLOGICO  DEDICACAO EXCLUSIVA  \n",
       "4  PROFESSOR ENS BASICO TECN TECNOLOGICO  DEDICACAO EXCLUSIVA  "
      ]
     },
     "execution_count": 101,
     "metadata": {},
     "output_type": "execute_result"
    }
   ],
   "source": [
    "# Realiza um join se baseando na coluna matrícula dos dois dataframes.\n",
    "# No dataset de servidores é feito um recorte retirando a coluna nome.\n",
    "docentes_merged = docentes.merge(servidores.iloc[:, 1:], on=\"matricula\")\n",
    "\n",
    "docentes_merged.head()"
   ]
  },
  {
   "cell_type": "code",
   "execution_count": 102,
   "id": "32b8b7b3",
   "metadata": {},
   "outputs": [
    {
     "data": {
      "text/plain": [
       "(1117, 8)"
      ]
     },
     "execution_count": 102,
     "metadata": {},
     "output_type": "execute_result"
    }
   ],
   "source": [
    "docentes_merged.shape"
   ]
  },
  {
   "cell_type": "code",
   "execution_count": 103,
   "id": "71242198",
   "metadata": {},
   "outputs": [
    {
     "data": {
      "text/plain": [
       "array(['DEDICACAO EXCLUSIVA', '20 HORAS SEMANAIS', '40 HORAS SEMANAIS'],\n",
       "      dtype=object)"
      ]
     },
     "execution_count": 103,
     "metadata": {},
     "output_type": "execute_result"
    }
   ],
   "source": [
    "docentes_merged[\"carga_horaria\"].unique()"
   ]
  },
  {
   "cell_type": "code",
   "execution_count": 104,
   "id": "90273a31",
   "metadata": {
    "scrolled": true
   },
   "outputs": [
    {
     "data": {
      "text/plain": [
       "campus\n",
       "CÂMPUS ANÁPOLIS                 75\n",
       "CÂMPUS APARECIDA DE GOIÂNIA     73\n",
       "CÂMPUS CIDADE DE GOIÁS          48\n",
       "CÂMPUS FORMOSA                  65\n",
       "CÂMPUS GOIÂNIA                 341\n",
       "CÂMPUS GOIÂNIA OESTE            59\n",
       "CÂMPUS INHUMAS                  67\n",
       "CÂMPUS ITUMBIARA                63\n",
       "CÂMPUS JATAÍ                    87\n",
       "CÂMPUS LUZIÂNIA                 57\n",
       "CÂMPUS SENADOR CANEDO           40\n",
       "CÂMPUS URUACU                   62\n",
       "CÂMPUS VALPARAISO               38\n",
       "CÂMPUS ÁGUAS LINDAS             42\n",
       "Name: campus, dtype: int64"
      ]
     },
     "execution_count": 104,
     "metadata": {},
     "output_type": "execute_result"
    }
   ],
   "source": [
    "docentes_merged.groupby([\"campus\"])[\"campus\"].count()"
   ]
  },
  {
   "cell_type": "code",
   "execution_count": 105,
   "id": "212c3caa",
   "metadata": {},
   "outputs": [
    {
     "data": {
      "text/html": [
       "<div>\n",
       "<style scoped>\n",
       "    .dataframe tbody tr th:only-of-type {\n",
       "        vertical-align: middle;\n",
       "    }\n",
       "\n",
       "    .dataframe tbody tr th {\n",
       "        vertical-align: top;\n",
       "    }\n",
       "\n",
       "    .dataframe thead th {\n",
       "        text-align: right;\n",
       "    }\n",
       "</style>\n",
       "<table border=\"1\" class=\"dataframe\">\n",
       "  <thead>\n",
       "    <tr style=\"text-align: right;\">\n",
       "      <th></th>\n",
       "      <th>nome</th>\n",
       "      <th>matricula</th>\n",
       "      <th>disciplina_ministrada</th>\n",
       "      <th>campus</th>\n",
       "      <th>data_ingresso</th>\n",
       "      <th>atribuicao</th>\n",
       "      <th>carga_horaria</th>\n",
       "    </tr>\n",
       "  </thead>\n",
       "  <tbody>\n",
       "    <tr>\n",
       "      <th>0</th>\n",
       "      <td>Abdalla Antonios Kayed Elias</td>\n",
       "      <td>1444504</td>\n",
       "      <td>Física</td>\n",
       "      <td>CÂMPUS GOIÂNIA</td>\n",
       "      <td>2004-02-17</td>\n",
       "      <td>PROFESSOR ENS BASICO TECN TECNOLOGICO</td>\n",
       "      <td>DEDICACAO EXCLUSIVA</td>\n",
       "    </tr>\n",
       "    <tr>\n",
       "      <th>1</th>\n",
       "      <td>Abilio de Jesus Carrascal</td>\n",
       "      <td>1526346</td>\n",
       "      <td>Artes</td>\n",
       "      <td>CÂMPUS ÁGUAS LINDAS</td>\n",
       "      <td>2014-05-07</td>\n",
       "      <td>PROFESSOR ENS BASICO TECN TECNOLOGICO</td>\n",
       "      <td>DEDICACAO EXCLUSIVA</td>\n",
       "    </tr>\n",
       "    <tr>\n",
       "      <th>2</th>\n",
       "      <td>Adel Fernando de Almeida Vanny</td>\n",
       "      <td>1791027</td>\n",
       "      <td>Filosofia</td>\n",
       "      <td>CÂMPUS INHUMAS</td>\n",
       "      <td>2010-06-15</td>\n",
       "      <td>PROFESSOR ENS BASICO TECN TECNOLOGICO</td>\n",
       "      <td>DEDICACAO EXCLUSIVA</td>\n",
       "    </tr>\n",
       "    <tr>\n",
       "      <th>3</th>\n",
       "      <td>Aderito Schneider Alencar e Tavora</td>\n",
       "      <td>3058944</td>\n",
       "      <td>Não Informada</td>\n",
       "      <td>CÂMPUS CIDADE DE GOIÁS</td>\n",
       "      <td>2018-07-31</td>\n",
       "      <td>PROFESSOR ENS BASICO TECN TECNOLOGICO</td>\n",
       "      <td>DEDICACAO EXCLUSIVA</td>\n",
       "    </tr>\n",
       "    <tr>\n",
       "      <th>4</th>\n",
       "      <td>Adria Assuncao Santos de Paula</td>\n",
       "      <td>2864372</td>\n",
       "      <td>Psicologia</td>\n",
       "      <td>CÂMPUS GOIÂNIA OESTE</td>\n",
       "      <td>2013-08-01</td>\n",
       "      <td>PROFESSOR ENS BASICO TECN TECNOLOGICO</td>\n",
       "      <td>DEDICACAO EXCLUSIVA</td>\n",
       "    </tr>\n",
       "  </tbody>\n",
       "</table>\n",
       "</div>"
      ],
      "text/plain": [
       "                                 nome  matricula disciplina_ministrada  \\\n",
       "0        Abdalla Antonios Kayed Elias    1444504                Física   \n",
       "1           Abilio de Jesus Carrascal    1526346                 Artes   \n",
       "2      Adel Fernando de Almeida Vanny    1791027             Filosofia   \n",
       "3  Aderito Schneider Alencar e Tavora    3058944         Não Informada   \n",
       "4      Adria Assuncao Santos de Paula    2864372            Psicologia   \n",
       "\n",
       "                   campus data_ingresso  \\\n",
       "0          CÂMPUS GOIÂNIA    2004-02-17   \n",
       "1     CÂMPUS ÁGUAS LINDAS    2014-05-07   \n",
       "2          CÂMPUS INHUMAS    2010-06-15   \n",
       "3  CÂMPUS CIDADE DE GOIÁS    2018-07-31   \n",
       "4    CÂMPUS GOIÂNIA OESTE    2013-08-01   \n",
       "\n",
       "                              atribuicao        carga_horaria  \n",
       "0  PROFESSOR ENS BASICO TECN TECNOLOGICO  DEDICACAO EXCLUSIVA  \n",
       "1  PROFESSOR ENS BASICO TECN TECNOLOGICO  DEDICACAO EXCLUSIVA  \n",
       "2  PROFESSOR ENS BASICO TECN TECNOLOGICO  DEDICACAO EXCLUSIVA  \n",
       "3  PROFESSOR ENS BASICO TECN TECNOLOGICO  DEDICACAO EXCLUSIVA  \n",
       "4  PROFESSOR ENS BASICO TECN TECNOLOGICO  DEDICACAO EXCLUSIVA  "
      ]
     },
     "execution_count": 105,
     "metadata": {},
     "output_type": "execute_result"
    }
   ],
   "source": [
    "# Remove a coluna \"cargo\", pois já sabemos que todos no dataset são docentes\n",
    "docentes_merged.drop(\"cargo\", axis=1, inplace=True)\n",
    "\n",
    "docentes_merged.head()"
   ]
  },
  {
   "cell_type": "markdown",
   "id": "d422693f",
   "metadata": {},
   "source": [
    "## Exportação do novo dataset gerado após o pré-processamento"
   ]
  },
  {
   "cell_type": "code",
   "execution_count": 106,
   "id": "9c72adb2",
   "metadata": {},
   "outputs": [],
   "source": [
    "export_path = Path(DA_STORAGE_DIR / \"preprocessed\")\n",
    "\n",
    "if not export_path.is_dir():\n",
    "    Path(export_path).mkdir()\n",
    "\n",
    "try:\n",
    "    docentes_merged.to_csv(export_path / \"docentes.csv\", sep=\";\", index=False)\n",
    "except Exception as e:\n",
    "    print(str(e))"
   ]
  }
 ],
 "metadata": {
  "celltoolbar": "Tags",
  "kernelspec": {
   "display_name": "Python 3 (ipykernel)",
   "language": "python",
   "name": "python3"
  },
  "language_info": {
   "codemirror_mode": {
    "name": "ipython",
    "version": 3
   },
   "file_extension": ".py",
   "mimetype": "text/x-python",
   "name": "python",
   "nbconvert_exporter": "python",
   "pygments_lexer": "ipython3",
   "version": "3.10.10"
  }
 },
 "nbformat": 4,
 "nbformat_minor": 5
}
