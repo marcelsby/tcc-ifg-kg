{
 "cells": [
  {
   "cell_type": "code",
   "execution_count": 119,
   "id": "099de103",
   "metadata": {
    "tags": [
     "parameters"
    ]
   },
   "outputs": [],
   "source": [
    "p_storage_dir = \"../../storage\""
   ]
  },
  {
   "cell_type": "code",
   "execution_count": 120,
   "id": "d8639aaa",
   "metadata": {},
   "outputs": [],
   "source": [
    "import pandas as pd\n",
    "import numpy as np\n",
    "import uuid\n",
    "import re\n",
    "from collections import defaultdict\n",
    "from pathlib import Path\n",
    "\n",
    "DA_STORAGE_DIR = Path(f\"{p_storage_dir}/dados_abertos\")"
   ]
  },
  {
   "cell_type": "markdown",
   "id": "3be79c8b",
   "metadata": {},
   "source": [
    "# Discentes"
   ]
  },
  {
   "cell_type": "code",
   "execution_count": 121,
   "id": "85bce6d6-0a06-42f6-83a1-0b9ee1811e32",
   "metadata": {},
   "outputs": [
    {
     "data": {
      "text/html": [
       "<div>\n",
       "<style scoped>\n",
       "    .dataframe tbody tr th:only-of-type {\n",
       "        vertical-align: middle;\n",
       "    }\n",
       "\n",
       "    .dataframe tbody tr th {\n",
       "        vertical-align: top;\n",
       "    }\n",
       "\n",
       "    .dataframe thead th {\n",
       "        text-align: right;\n",
       "    }\n",
       "</style>\n",
       "<table border=\"1\" class=\"dataframe\">\n",
       "  <thead>\n",
       "    <tr style=\"text-align: right;\">\n",
       "      <th></th>\n",
       "      <th>campus</th>\n",
       "      <th>ano_ingresso</th>\n",
       "      <th>periodo_letivo_ingresso</th>\n",
       "      <th>curso</th>\n",
       "      <th>modalidade</th>\n",
       "      <th>formato</th>\n",
       "      <th>sexo</th>\n",
       "      <th>nivel</th>\n",
       "      <th>renda_per_capita</th>\n",
       "      <th>etnia</th>\n",
       "      <th>ano_nascimento</th>\n",
       "      <th>situacao</th>\n",
       "    </tr>\n",
       "  </thead>\n",
       "  <tbody>\n",
       "    <tr>\n",
       "      <th>0</th>\n",
       "      <td>-</td>\n",
       "      <td>2023</td>\n",
       "      <td>1</td>\n",
       "      <td>Especialização em Informática na Educação</td>\n",
       "      <td>Especialização</td>\n",
       "      <td>Semipresencial</td>\n",
       "      <td>F</td>\n",
       "      <td>Pós-Graduação Lato Sensu</td>\n",
       "      <td>1 Sm &lt; Rfp &lt;= 1,5 Sm</td>\n",
       "      <td>Preta</td>\n",
       "      <td>1968</td>\n",
       "      <td>Matriculado</td>\n",
       "    </tr>\n",
       "    <tr>\n",
       "      <th>1</th>\n",
       "      <td>-</td>\n",
       "      <td>2023</td>\n",
       "      <td>1</td>\n",
       "      <td>Especialização em Informática na Educação</td>\n",
       "      <td>Especialização</td>\n",
       "      <td>Semipresencial</td>\n",
       "      <td>M</td>\n",
       "      <td>Pós-Graduação Lato Sensu</td>\n",
       "      <td>1,5 Sm &lt; Rfp &lt;= 2,5 Sm</td>\n",
       "      <td>Parda</td>\n",
       "      <td>1981</td>\n",
       "      <td>Matriculado</td>\n",
       "    </tr>\n",
       "    <tr>\n",
       "      <th>2</th>\n",
       "      <td>-</td>\n",
       "      <td>2023</td>\n",
       "      <td>1</td>\n",
       "      <td>Especialização em Informática na Educação</td>\n",
       "      <td>Especialização</td>\n",
       "      <td>Semipresencial</td>\n",
       "      <td>F</td>\n",
       "      <td>Pós-Graduação Lato Sensu</td>\n",
       "      <td>1,5 Sm &lt; Rfp &lt;= 2,5 Sm</td>\n",
       "      <td>Parda</td>\n",
       "      <td>1982</td>\n",
       "      <td>Matriculado</td>\n",
       "    </tr>\n",
       "    <tr>\n",
       "      <th>3</th>\n",
       "      <td>-</td>\n",
       "      <td>2023</td>\n",
       "      <td>1</td>\n",
       "      <td>Especialização em Informática na Educação</td>\n",
       "      <td>Especialização</td>\n",
       "      <td>Semipresencial</td>\n",
       "      <td>M</td>\n",
       "      <td>Pós-Graduação Lato Sensu</td>\n",
       "      <td>2,5 Sm &lt; Rfp &lt;= 3 Sm</td>\n",
       "      <td>Parda</td>\n",
       "      <td>1988</td>\n",
       "      <td>Matriculado</td>\n",
       "    </tr>\n",
       "    <tr>\n",
       "      <th>4</th>\n",
       "      <td>-</td>\n",
       "      <td>2023</td>\n",
       "      <td>1</td>\n",
       "      <td>Especialização em Informática na Educação</td>\n",
       "      <td>Especialização</td>\n",
       "      <td>Semipresencial</td>\n",
       "      <td>M</td>\n",
       "      <td>Pós-Graduação Lato Sensu</td>\n",
       "      <td>1 Sm &lt; Rfp &lt;= 1,5 Sm</td>\n",
       "      <td>Parda</td>\n",
       "      <td>1988</td>\n",
       "      <td>Matriculado</td>\n",
       "    </tr>\n",
       "  </tbody>\n",
       "</table>\n",
       "</div>"
      ],
      "text/plain": [
       "  campus  ano_ingresso  periodo_letivo_ingresso   \n",
       "0      -          2023                        1  \\\n",
       "1      -          2023                        1   \n",
       "2      -          2023                        1   \n",
       "3      -          2023                        1   \n",
       "4      -          2023                        1   \n",
       "\n",
       "                                       curso      modalidade         formato   \n",
       "0  Especialização em Informática na Educação  Especialização  Semipresencial  \\\n",
       "1  Especialização em Informática na Educação  Especialização  Semipresencial   \n",
       "2  Especialização em Informática na Educação  Especialização  Semipresencial   \n",
       "3  Especialização em Informática na Educação  Especialização  Semipresencial   \n",
       "4  Especialização em Informática na Educação  Especialização  Semipresencial   \n",
       "\n",
       "  sexo                     nivel        renda_per_capita  etnia   \n",
       "0    F  Pós-Graduação Lato Sensu    1 Sm < Rfp <= 1,5 Sm  Preta  \\\n",
       "1    M  Pós-Graduação Lato Sensu  1,5 Sm < Rfp <= 2,5 Sm  Parda   \n",
       "2    F  Pós-Graduação Lato Sensu  1,5 Sm < Rfp <= 2,5 Sm  Parda   \n",
       "3    M  Pós-Graduação Lato Sensu    2,5 Sm < Rfp <= 3 Sm  Parda   \n",
       "4    M  Pós-Graduação Lato Sensu    1 Sm < Rfp <= 1,5 Sm  Parda   \n",
       "\n",
       "   ano_nascimento     situacao  \n",
       "0            1968  Matriculado  \n",
       "1            1981  Matriculado  \n",
       "2            1982  Matriculado  \n",
       "3            1988  Matriculado  \n",
       "4            1988  Matriculado  "
      ]
     },
     "execution_count": 121,
     "metadata": {},
     "output_type": "execute_result"
    }
   ],
   "source": [
    "discentes = pd.read_csv(DA_STORAGE_DIR / \"transformed/discentes.csv\", delimiter=\";\")\n",
    "\n",
    "discentes.head()"
   ]
  },
  {
   "cell_type": "markdown",
   "id": "1158efbe-aac8-4038-b833-8c7e49d7f2ee",
   "metadata": {},
   "source": [
    "**Colocar uma string vazia na coluna câmpus onde os valores não forem condizentes com os câmpus existentes**"
   ]
  },
  {
   "cell_type": "code",
   "execution_count": 122,
   "id": "77d3383d-02f3-4369-b3de-ebe16abe4e2c",
   "metadata": {},
   "outputs": [
    {
     "name": "stdout",
     "output_type": "stream",
     "text": [
      "• -\n",
      "• Câmpus Águas Lindas\n",
      "• Câmpus Anápolis\n",
      "• Câmpus Aparecida de Goiânia\n",
      "• Câmpus Cidade de Goiás\n",
      "• Câmpus Formosa\n",
      "• Câmpus Goiânia\n",
      "• Câmpus Goiânia Oeste\n",
      "• Câmpus Inhumas\n",
      "• Câmpus Itumbiara\n",
      "• Câmpus Jataí\n",
      "• Câmpus Luziânia\n",
      "• Câmpus Senador Canedo\n",
      "• Câmpus Uruaçu\n",
      "• Câmpus Valparaíso\n",
      "• Câmpus Virtual de Ead\n",
      "• Polo Águas Lindas de Goiás\n",
      "• Polo Anápolis\n",
      "• Polo Aparecida de Goiânia\n",
      "• Polo Catalão\n",
      "• Polo Cavalcante\n",
      "• Polo Cidade de Goiás\n",
      "• Polo Formosa\n",
      "• Polo Goianésia\n",
      "• Polo Goiânia\n",
      "• Polo Goiânia Oeste\n",
      "• Polo Inhumas\n",
      "• Polo Itumbiara\n",
      "• Polo Jatai\n",
      "• Polo Luziânia\n",
      "• Polo Mineiros\n",
      "• Polo Niqueilândia\n",
      "• Polo Santo Antônio do Descoberto\n",
      "• Polo Senador Canedo\n",
      "• Polo Uruaçu\n",
      "• Polo Uruana\n",
      "• Polo Valparaíso de Goiás\n"
     ]
    }
   ],
   "source": [
    "for campus in discentes[\"campus\"].unique():\n",
    "    print(f\"• {campus}\")"
   ]
  },
  {
   "cell_type": "code",
   "execution_count": 123,
   "id": "061db817-d1f7-41b0-bfd8-6fed88ac6a3f",
   "metadata": {},
   "outputs": [],
   "source": [
    "discentes['campus'] = discentes['campus'].replace({'-': ''})"
   ]
  },
  {
   "cell_type": "markdown",
   "id": "5e27182d-aeba-4e37-8ea9-64d69396c734",
   "metadata": {},
   "source": [
    "**Inserir uma coluna com a sigla do nome do câmpus**"
   ]
  },
  {
   "cell_type": "code",
   "execution_count": 124,
   "id": "e88c7159-3df2-40dd-93c0-5e11ae3158d9",
   "metadata": {},
   "outputs": [],
   "source": [
    "campus_replacement_map = {\n",
    "    \"Câmpus Águas Lindas\": \"LIN\",\n",
    "    \"Câmpus Anápolis\": \"ANA\",\n",
    "    \"Câmpus Aparecida de Goiânia\": \"APA\",\n",
    "    \"Câmpus Cidade de Goiás\": \"GOI\",\n",
    "    \"Câmpus Formosa\": \"FOR\",\n",
    "    \"Câmpus Goiânia\": \"GYN\",\n",
    "    \"Câmpus Goiânia Oeste\": \"OES\",\n",
    "    \"Câmpus Inhumas\": \"INH\",\n",
    "    \"Câmpus Itumbiara\": \"ITU\",\n",
    "    \"Câmpus Jataí\": \"JAT\",\n",
    "    \"Câmpus Luziânia\": \"LUZ\",\n",
    "    \"Câmpus Senador Canedo\": \"SEN\",\n",
    "    \"Câmpus Uruaçu\": \"URU\",\n",
    "    \"Câmpus Valparaíso\": \"VAL\",\n",
    "    \n",
    "    \"Polo Águas Lindas de Goiás\": \"LIN\",\n",
    "    \"Polo Anápolis\": \"ANA\",\n",
    "    \"Polo Aparecida de Goiânia\": \"APA\",\n",
    "    \"Polo Cidade de Goiás\": \"GOI\",\n",
    "    \"Polo Formosa\": \"FOR\",\n",
    "    \"Polo Goiânia\": \"GYN\",\n",
    "    \"Polo Goiânia Oeste\": \"OES\",\n",
    "    \"Polo Inhumas\": \"INH\",\n",
    "    \"Polo Itumbiara\": \"ITU\",\n",
    "    \"Polo Jatai\": \"JAT\",\n",
    "    \"Polo Luziânia\": \"LUZ\",\n",
    "    \"Polo Senador Canedo\": \"SEN\",\n",
    "    \"Polo Uruaçu\": \"URU\",\n",
    "    \"Polo Valparaíso de Goiás\": \"VAL\"\n",
    "}"
   ]
  },
  {
   "cell_type": "code",
   "execution_count": 125,
   "id": "3e053b8e-1f1d-41fa-b325-12283bae1679",
   "metadata": {},
   "outputs": [],
   "source": [
    "discentes['sigla_campus'] = discentes['campus'].replace(campus_replacement_map)"
   ]
  },
  {
   "cell_type": "code",
   "execution_count": 126,
   "id": "199d0fc1-3ff1-4be7-91a3-c622c2a45b74",
   "metadata": {},
   "outputs": [
    {
     "data": {
      "text/plain": [
       "array(['Câmpus Uruaçu', 'Polo Uruaçu'], dtype=object)"
      ]
     },
     "execution_count": 126,
     "metadata": {},
     "output_type": "execute_result"
    }
   ],
   "source": [
    "discentes[discentes['sigla_campus'] == 'URU']['campus'].unique()"
   ]
  },
  {
   "cell_type": "markdown",
   "id": "fd0f5a40-d78d-4498-849b-b51529b4ae3c",
   "metadata": {},
   "source": [
    "**Renomear a coluna \"renda per capita\"**"
   ]
  },
  {
   "cell_type": "code",
   "execution_count": 127,
   "id": "0f5aa74a-4f63-4ee8-8192-f1cea516443e",
   "metadata": {},
   "outputs": [],
   "source": [
    "discentes.rename(columns={\"renda_per_capita\": \"renda_familiar_per_capita\"}, inplace=True)"
   ]
  },
  {
   "cell_type": "code",
   "execution_count": 128,
   "id": "f6caa9b4-27a1-468e-aeea-a3f8776657bb",
   "metadata": {},
   "outputs": [
    {
     "data": {
      "text/html": [
       "<div>\n",
       "<style scoped>\n",
       "    .dataframe tbody tr th:only-of-type {\n",
       "        vertical-align: middle;\n",
       "    }\n",
       "\n",
       "    .dataframe tbody tr th {\n",
       "        vertical-align: top;\n",
       "    }\n",
       "\n",
       "    .dataframe thead th {\n",
       "        text-align: right;\n",
       "    }\n",
       "</style>\n",
       "<table border=\"1\" class=\"dataframe\">\n",
       "  <thead>\n",
       "    <tr style=\"text-align: right;\">\n",
       "      <th></th>\n",
       "      <th>campus</th>\n",
       "      <th>ano_ingresso</th>\n",
       "      <th>periodo_letivo_ingresso</th>\n",
       "      <th>curso</th>\n",
       "      <th>modalidade</th>\n",
       "      <th>formato</th>\n",
       "      <th>sexo</th>\n",
       "      <th>nivel</th>\n",
       "      <th>renda_familiar_per_capita</th>\n",
       "      <th>etnia</th>\n",
       "      <th>ano_nascimento</th>\n",
       "      <th>situacao</th>\n",
       "      <th>sigla_campus</th>\n",
       "    </tr>\n",
       "  </thead>\n",
       "  <tbody>\n",
       "    <tr>\n",
       "      <th>0</th>\n",
       "      <td></td>\n",
       "      <td>2023</td>\n",
       "      <td>1</td>\n",
       "      <td>Especialização em Informática na Educação</td>\n",
       "      <td>Especialização</td>\n",
       "      <td>Semipresencial</td>\n",
       "      <td>F</td>\n",
       "      <td>Pós-Graduação Lato Sensu</td>\n",
       "      <td>1 Sm &lt; Rfp &lt;= 1,5 Sm</td>\n",
       "      <td>Preta</td>\n",
       "      <td>1968</td>\n",
       "      <td>Matriculado</td>\n",
       "      <td></td>\n",
       "    </tr>\n",
       "    <tr>\n",
       "      <th>1</th>\n",
       "      <td></td>\n",
       "      <td>2023</td>\n",
       "      <td>1</td>\n",
       "      <td>Especialização em Informática na Educação</td>\n",
       "      <td>Especialização</td>\n",
       "      <td>Semipresencial</td>\n",
       "      <td>M</td>\n",
       "      <td>Pós-Graduação Lato Sensu</td>\n",
       "      <td>1,5 Sm &lt; Rfp &lt;= 2,5 Sm</td>\n",
       "      <td>Parda</td>\n",
       "      <td>1981</td>\n",
       "      <td>Matriculado</td>\n",
       "      <td></td>\n",
       "    </tr>\n",
       "    <tr>\n",
       "      <th>2</th>\n",
       "      <td></td>\n",
       "      <td>2023</td>\n",
       "      <td>1</td>\n",
       "      <td>Especialização em Informática na Educação</td>\n",
       "      <td>Especialização</td>\n",
       "      <td>Semipresencial</td>\n",
       "      <td>F</td>\n",
       "      <td>Pós-Graduação Lato Sensu</td>\n",
       "      <td>1,5 Sm &lt; Rfp &lt;= 2,5 Sm</td>\n",
       "      <td>Parda</td>\n",
       "      <td>1982</td>\n",
       "      <td>Matriculado</td>\n",
       "      <td></td>\n",
       "    </tr>\n",
       "    <tr>\n",
       "      <th>3</th>\n",
       "      <td></td>\n",
       "      <td>2023</td>\n",
       "      <td>1</td>\n",
       "      <td>Especialização em Informática na Educação</td>\n",
       "      <td>Especialização</td>\n",
       "      <td>Semipresencial</td>\n",
       "      <td>M</td>\n",
       "      <td>Pós-Graduação Lato Sensu</td>\n",
       "      <td>2,5 Sm &lt; Rfp &lt;= 3 Sm</td>\n",
       "      <td>Parda</td>\n",
       "      <td>1988</td>\n",
       "      <td>Matriculado</td>\n",
       "      <td></td>\n",
       "    </tr>\n",
       "    <tr>\n",
       "      <th>4</th>\n",
       "      <td></td>\n",
       "      <td>2023</td>\n",
       "      <td>1</td>\n",
       "      <td>Especialização em Informática na Educação</td>\n",
       "      <td>Especialização</td>\n",
       "      <td>Semipresencial</td>\n",
       "      <td>M</td>\n",
       "      <td>Pós-Graduação Lato Sensu</td>\n",
       "      <td>1 Sm &lt; Rfp &lt;= 1,5 Sm</td>\n",
       "      <td>Parda</td>\n",
       "      <td>1988</td>\n",
       "      <td>Matriculado</td>\n",
       "      <td></td>\n",
       "    </tr>\n",
       "  </tbody>\n",
       "</table>\n",
       "</div>"
      ],
      "text/plain": [
       "  campus  ano_ingresso  periodo_letivo_ingresso   \n",
       "0                 2023                        1  \\\n",
       "1                 2023                        1   \n",
       "2                 2023                        1   \n",
       "3                 2023                        1   \n",
       "4                 2023                        1   \n",
       "\n",
       "                                       curso      modalidade         formato   \n",
       "0  Especialização em Informática na Educação  Especialização  Semipresencial  \\\n",
       "1  Especialização em Informática na Educação  Especialização  Semipresencial   \n",
       "2  Especialização em Informática na Educação  Especialização  Semipresencial   \n",
       "3  Especialização em Informática na Educação  Especialização  Semipresencial   \n",
       "4  Especialização em Informática na Educação  Especialização  Semipresencial   \n",
       "\n",
       "  sexo                     nivel renda_familiar_per_capita  etnia   \n",
       "0    F  Pós-Graduação Lato Sensu      1 Sm < Rfp <= 1,5 Sm  Preta  \\\n",
       "1    M  Pós-Graduação Lato Sensu    1,5 Sm < Rfp <= 2,5 Sm  Parda   \n",
       "2    F  Pós-Graduação Lato Sensu    1,5 Sm < Rfp <= 2,5 Sm  Parda   \n",
       "3    M  Pós-Graduação Lato Sensu      2,5 Sm < Rfp <= 3 Sm  Parda   \n",
       "4    M  Pós-Graduação Lato Sensu      1 Sm < Rfp <= 1,5 Sm  Parda   \n",
       "\n",
       "   ano_nascimento     situacao sigla_campus  \n",
       "0            1968  Matriculado               \n",
       "1            1981  Matriculado               \n",
       "2            1982  Matriculado               \n",
       "3            1988  Matriculado               \n",
       "4            1988  Matriculado               "
      ]
     },
     "execution_count": 128,
     "metadata": {},
     "output_type": "execute_result"
    }
   ],
   "source": [
    "discentes.head()"
   ]
  },
  {
   "cell_type": "markdown",
   "id": "9c6e364f-241d-4621-a157-ca360e4f810e",
   "metadata": {},
   "source": [
    "**Colocar uma string vazia no campo \"renda_familiar_per_capita\" onde os valores forem \"Não Informado\" ou \"Não Declarado\"**"
   ]
  },
  {
   "cell_type": "code",
   "execution_count": 129,
   "id": "12bf7590-18e0-4da8-b053-e201c3f3d3c4",
   "metadata": {},
   "outputs": [
    {
     "data": {
      "text/plain": [
       "array(['1 Sm < Rfp <= 1,5 Sm', '1,5 Sm < Rfp <= 2,5 Sm',\n",
       "       '2,5 Sm < Rfp <= 3 Sm', '0,5 Sm < Rfp <= 1 Sm', 'Rfp <= 0,5 Sm',\n",
       "       'Não Informado', 'Rfp > 3 Sm', 'Não Declarado'], dtype=object)"
      ]
     },
     "execution_count": 129,
     "metadata": {},
     "output_type": "execute_result"
    }
   ],
   "source": [
    "discentes['renda_familiar_per_capita'].unique()"
   ]
  },
  {
   "cell_type": "code",
   "execution_count": 130,
   "id": "0d3b10c3-2536-4176-9acc-79344447ff90",
   "metadata": {},
   "outputs": [],
   "source": [
    "discentes['renda_familiar_per_capita'].replace({'Não Informado': '', 'Não Declarado': ''}, inplace=True)"
   ]
  },
  {
   "cell_type": "code",
   "execution_count": 131,
   "id": "aa8302cc-b733-4481-9c8c-4ab17b9afdc7",
   "metadata": {},
   "outputs": [
    {
     "data": {
      "text/plain": [
       "array(['1 Sm < Rfp <= 1,5 Sm', '1,5 Sm < Rfp <= 2,5 Sm',\n",
       "       '2,5 Sm < Rfp <= 3 Sm', '0,5 Sm < Rfp <= 1 Sm', 'Rfp <= 0,5 Sm',\n",
       "       '', 'Rfp > 3 Sm'], dtype=object)"
      ]
     },
     "execution_count": 131,
     "metadata": {},
     "output_type": "execute_result"
    }
   ],
   "source": [
    "discentes['renda_familiar_per_capita'].replace({'Não Informado': '', 'Não Declarado': ''}).unique()"
   ]
  },
  {
   "cell_type": "markdown",
   "id": "856919a7-4540-491b-8372-8e01a3263891",
   "metadata": {},
   "source": [
    "**Colocar uma string vazia na coluna \"etnia\" quando o valor for \"Não dispõe da informação\"**"
   ]
  },
  {
   "cell_type": "code",
   "execution_count": 132,
   "id": "c0a618f0-428e-45e7-ab95-5cfbb039c5b6",
   "metadata": {},
   "outputs": [
    {
     "data": {
      "text/plain": [
       "array(['Preta', 'Parda', 'Branca', 'Não dispõe da informação', 'Amarela',\n",
       "       'Indígena', 'Não quis declarar cor/raça'], dtype=object)"
      ]
     },
     "execution_count": 132,
     "metadata": {},
     "output_type": "execute_result"
    }
   ],
   "source": [
    "discentes['etnia'].unique()"
   ]
  },
  {
   "cell_type": "code",
   "execution_count": 133,
   "id": "01b1aff0-4970-4ef8-90d8-92a1d64a5021",
   "metadata": {},
   "outputs": [],
   "source": [
    "discentes['etnia'].replace({'Não dispõe da informação': ''}, inplace=True)"
   ]
  },
  {
   "cell_type": "code",
   "execution_count": 134,
   "id": "657dcae3-5136-4f3b-8479-2fd3ec813617",
   "metadata": {},
   "outputs": [
    {
     "data": {
      "text/plain": [
       "array(['Preta', 'Parda', 'Branca', '', 'Amarela', 'Indígena',\n",
       "       'Não quis declarar cor/raça'], dtype=object)"
      ]
     },
     "execution_count": 134,
     "metadata": {},
     "output_type": "execute_result"
    }
   ],
   "source": [
    "discentes['etnia'].unique()"
   ]
  },
  {
   "cell_type": "markdown",
   "id": "70ac5f46-b85c-4d1e-bd99-e98e54b48728",
   "metadata": {},
   "source": [
    "**Gerar uma coluna \"codigo\" para identificar unicamente cada discente**\n",
    "\n",
    "Medida necessária para ligá-los corretamente a outras entidades no grafo"
   ]
  },
  {
   "cell_type": "code",
   "execution_count": 135,
   "id": "02d5532d-2d9b-4d7b-ab9c-a77342345843",
   "metadata": {},
   "outputs": [],
   "source": [
    "discentes['codigo'] = [str(uuid.uuid4()) for _ in range(len(discentes))]"
   ]
  },
  {
   "cell_type": "code",
   "execution_count": 136,
   "id": "317e2f83-5ad2-496e-a9a4-9a8b8a8a1832",
   "metadata": {},
   "outputs": [
    {
     "data": {
      "text/html": [
       "<div>\n",
       "<style scoped>\n",
       "    .dataframe tbody tr th:only-of-type {\n",
       "        vertical-align: middle;\n",
       "    }\n",
       "\n",
       "    .dataframe tbody tr th {\n",
       "        vertical-align: top;\n",
       "    }\n",
       "\n",
       "    .dataframe thead th {\n",
       "        text-align: right;\n",
       "    }\n",
       "</style>\n",
       "<table border=\"1\" class=\"dataframe\">\n",
       "  <thead>\n",
       "    <tr style=\"text-align: right;\">\n",
       "      <th></th>\n",
       "      <th>campus</th>\n",
       "      <th>ano_ingresso</th>\n",
       "      <th>periodo_letivo_ingresso</th>\n",
       "      <th>curso</th>\n",
       "      <th>modalidade</th>\n",
       "      <th>formato</th>\n",
       "      <th>sexo</th>\n",
       "      <th>nivel</th>\n",
       "      <th>renda_familiar_per_capita</th>\n",
       "      <th>etnia</th>\n",
       "      <th>ano_nascimento</th>\n",
       "      <th>situacao</th>\n",
       "      <th>sigla_campus</th>\n",
       "      <th>codigo</th>\n",
       "    </tr>\n",
       "  </thead>\n",
       "  <tbody>\n",
       "    <tr>\n",
       "      <th>0</th>\n",
       "      <td></td>\n",
       "      <td>2023</td>\n",
       "      <td>1</td>\n",
       "      <td>Especialização em Informática na Educação</td>\n",
       "      <td>Especialização</td>\n",
       "      <td>Semipresencial</td>\n",
       "      <td>F</td>\n",
       "      <td>Pós-Graduação Lato Sensu</td>\n",
       "      <td>1 Sm &lt; Rfp &lt;= 1,5 Sm</td>\n",
       "      <td>Preta</td>\n",
       "      <td>1968</td>\n",
       "      <td>Matriculado</td>\n",
       "      <td></td>\n",
       "      <td>0edccfe1-f987-4e06-9a02-15076b5ed24e</td>\n",
       "    </tr>\n",
       "    <tr>\n",
       "      <th>1</th>\n",
       "      <td></td>\n",
       "      <td>2023</td>\n",
       "      <td>1</td>\n",
       "      <td>Especialização em Informática na Educação</td>\n",
       "      <td>Especialização</td>\n",
       "      <td>Semipresencial</td>\n",
       "      <td>M</td>\n",
       "      <td>Pós-Graduação Lato Sensu</td>\n",
       "      <td>1,5 Sm &lt; Rfp &lt;= 2,5 Sm</td>\n",
       "      <td>Parda</td>\n",
       "      <td>1981</td>\n",
       "      <td>Matriculado</td>\n",
       "      <td></td>\n",
       "      <td>26af4b68-ea89-4d05-9305-5fd920518404</td>\n",
       "    </tr>\n",
       "    <tr>\n",
       "      <th>2</th>\n",
       "      <td></td>\n",
       "      <td>2023</td>\n",
       "      <td>1</td>\n",
       "      <td>Especialização em Informática na Educação</td>\n",
       "      <td>Especialização</td>\n",
       "      <td>Semipresencial</td>\n",
       "      <td>F</td>\n",
       "      <td>Pós-Graduação Lato Sensu</td>\n",
       "      <td>1,5 Sm &lt; Rfp &lt;= 2,5 Sm</td>\n",
       "      <td>Parda</td>\n",
       "      <td>1982</td>\n",
       "      <td>Matriculado</td>\n",
       "      <td></td>\n",
       "      <td>3faec04f-e29a-49a7-975b-a6ad67b799b6</td>\n",
       "    </tr>\n",
       "    <tr>\n",
       "      <th>3</th>\n",
       "      <td></td>\n",
       "      <td>2023</td>\n",
       "      <td>1</td>\n",
       "      <td>Especialização em Informática na Educação</td>\n",
       "      <td>Especialização</td>\n",
       "      <td>Semipresencial</td>\n",
       "      <td>M</td>\n",
       "      <td>Pós-Graduação Lato Sensu</td>\n",
       "      <td>2,5 Sm &lt; Rfp &lt;= 3 Sm</td>\n",
       "      <td>Parda</td>\n",
       "      <td>1988</td>\n",
       "      <td>Matriculado</td>\n",
       "      <td></td>\n",
       "      <td>561713ed-0ec5-4acc-9ef8-4163299aefb8</td>\n",
       "    </tr>\n",
       "    <tr>\n",
       "      <th>4</th>\n",
       "      <td></td>\n",
       "      <td>2023</td>\n",
       "      <td>1</td>\n",
       "      <td>Especialização em Informática na Educação</td>\n",
       "      <td>Especialização</td>\n",
       "      <td>Semipresencial</td>\n",
       "      <td>M</td>\n",
       "      <td>Pós-Graduação Lato Sensu</td>\n",
       "      <td>1 Sm &lt; Rfp &lt;= 1,5 Sm</td>\n",
       "      <td>Parda</td>\n",
       "      <td>1988</td>\n",
       "      <td>Matriculado</td>\n",
       "      <td></td>\n",
       "      <td>5b132ff5-bd41-49a4-b84f-6cb9e3ea6a8b</td>\n",
       "    </tr>\n",
       "  </tbody>\n",
       "</table>\n",
       "</div>"
      ],
      "text/plain": [
       "  campus  ano_ingresso  periodo_letivo_ingresso   \n",
       "0                 2023                        1  \\\n",
       "1                 2023                        1   \n",
       "2                 2023                        1   \n",
       "3                 2023                        1   \n",
       "4                 2023                        1   \n",
       "\n",
       "                                       curso      modalidade         formato   \n",
       "0  Especialização em Informática na Educação  Especialização  Semipresencial  \\\n",
       "1  Especialização em Informática na Educação  Especialização  Semipresencial   \n",
       "2  Especialização em Informática na Educação  Especialização  Semipresencial   \n",
       "3  Especialização em Informática na Educação  Especialização  Semipresencial   \n",
       "4  Especialização em Informática na Educação  Especialização  Semipresencial   \n",
       "\n",
       "  sexo                     nivel renda_familiar_per_capita  etnia   \n",
       "0    F  Pós-Graduação Lato Sensu      1 Sm < Rfp <= 1,5 Sm  Preta  \\\n",
       "1    M  Pós-Graduação Lato Sensu    1,5 Sm < Rfp <= 2,5 Sm  Parda   \n",
       "2    F  Pós-Graduação Lato Sensu    1,5 Sm < Rfp <= 2,5 Sm  Parda   \n",
       "3    M  Pós-Graduação Lato Sensu      2,5 Sm < Rfp <= 3 Sm  Parda   \n",
       "4    M  Pós-Graduação Lato Sensu      1 Sm < Rfp <= 1,5 Sm  Parda   \n",
       "\n",
       "   ano_nascimento     situacao sigla_campus   \n",
       "0            1968  Matriculado               \\\n",
       "1            1981  Matriculado                \n",
       "2            1982  Matriculado                \n",
       "3            1988  Matriculado                \n",
       "4            1988  Matriculado                \n",
       "\n",
       "                                 codigo  \n",
       "0  0edccfe1-f987-4e06-9a02-15076b5ed24e  \n",
       "1  26af4b68-ea89-4d05-9305-5fd920518404  \n",
       "2  3faec04f-e29a-49a7-975b-a6ad67b799b6  \n",
       "3  561713ed-0ec5-4acc-9ef8-4163299aefb8  \n",
       "4  5b132ff5-bd41-49a4-b84f-6cb9e3ea6a8b  "
      ]
     },
     "execution_count": 136,
     "metadata": {},
     "output_type": "execute_result"
    }
   ],
   "source": [
    "discentes.head()"
   ]
  },
  {
   "cell_type": "markdown",
   "id": "e522b28a-6731-4881-811d-06cb077d515e",
   "metadata": {},
   "source": [
    "**WIP: Criar uma coluna com o código do curso do discente**"
   ]
  },
  {
   "cell_type": "code",
   "execution_count": null,
   "id": "0b4458b7-88e1-4bf0-b10e-fa4cfa2aad13",
   "metadata": {},
   "outputs": [],
   "source": []
  },
  {
   "cell_type": "markdown",
   "id": "6d3e60a0-37c3-486d-affb-7795de609be4",
   "metadata": {},
   "source": [
    "**Exportar o dataset**"
   ]
  },
  {
   "cell_type": "code",
   "execution_count": 137,
   "id": "28e34a71-3d10-4b4b-9831-821e6489608f",
   "metadata": {},
   "outputs": [],
   "source": [
    "export_path = Path(DA_STORAGE_DIR / \"preprocessed\")\n",
    "\n",
    "if not export_path.is_dir():\n",
    "    Path(export_path).mkdir()\n",
    "\n",
    "try:\n",
    "    discentes.to_csv(export_path / \"discentes.csv\", sep=\";\", index=False)\n",
    "except Exception as e:\n",
    "    print(str(e))"
   ]
  }
 ],
 "metadata": {
  "kernelspec": {
   "display_name": "Python 3 (ipykernel)",
   "language": "python",
   "name": "python3"
  },
  "language_info": {
   "codemirror_mode": {
    "name": "ipython",
    "version": 3
   },
   "file_extension": ".py",
   "mimetype": "text/x-python",
   "name": "python",
   "nbconvert_exporter": "python",
   "pygments_lexer": "ipython3",
   "version": "3.10.12"
  }
 },
 "nbformat": 4,
 "nbformat_minor": 5
}
