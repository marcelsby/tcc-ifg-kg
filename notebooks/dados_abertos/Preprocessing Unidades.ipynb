{
 "cells": [
  {
   "cell_type": "code",
   "execution_count": 13,
   "id": "9e7e33ae",
   "metadata": {
    "tags": [
     "parameters"
    ]
   },
   "outputs": [],
   "source": [
    "p_storage_dir = \"../../storage\""
   ]
  },
  {
   "cell_type": "code",
   "execution_count": 14,
   "id": "26699801",
   "metadata": {},
   "outputs": [],
   "source": [
    "import pandas as pd\n",
    "import re\n",
    "from pathlib import Path\n",
    "\n",
    "DA_STORAGE_DIR = Path(f\"{p_storage_dir}/dados_abertos\")"
   ]
  },
  {
   "cell_type": "markdown",
   "id": "63619834",
   "metadata": {},
   "source": [
    "## Unidades"
   ]
  },
  {
   "cell_type": "code",
   "execution_count": 15,
   "id": "e0a1fdaa",
   "metadata": {
    "scrolled": false
   },
   "outputs": [
    {
     "data": {
      "text/html": [
       "<div>\n",
       "<style scoped>\n",
       "    .dataframe tbody tr th:only-of-type {\n",
       "        vertical-align: middle;\n",
       "    }\n",
       "\n",
       "    .dataframe tbody tr th {\n",
       "        vertical-align: top;\n",
       "    }\n",
       "\n",
       "    .dataframe thead th {\n",
       "        text-align: right;\n",
       "    }\n",
       "</style>\n",
       "<table border=\"1\" class=\"dataframe\">\n",
       "  <thead>\n",
       "    <tr style=\"text-align: right;\">\n",
       "      <th></th>\n",
       "      <th>nome</th>\n",
       "      <th>sigla</th>\n",
       "      <th>endereco</th>\n",
       "      <th>site</th>\n",
       "      <th>telefone</th>\n",
       "      <th>email</th>\n",
       "      <th>cnpj</th>\n",
       "      <th>uasg</th>\n",
       "      <th>autoridade_maxima_unidade</th>\n",
       "    </tr>\n",
       "  </thead>\n",
       "  <tbody>\n",
       "    <tr>\n",
       "      <th>0</th>\n",
       "      <td>CÂMPUS ÁGUAS LINDAS</td>\n",
       "      <td>LIN</td>\n",
       "      <td>Rua 21, Área Especial 4, Jardim Querência, CEP...</td>\n",
       "      <td>http://www.ifg.edu.br/aguaslindas</td>\n",
       "      <td>(61) 3799-7500</td>\n",
       "      <td>gabinete.aguaslindas@ifg.edu.br</td>\n",
       "      <td>10.870.883/0014-69</td>\n",
       "      <td>158640.0</td>\n",
       "      <td>Tiago Gomes de Araujo</td>\n",
       "    </tr>\n",
       "    <tr>\n",
       "      <th>1</th>\n",
       "      <td>CÂMPUS ANÁPOLIS</td>\n",
       "      <td>ANA</td>\n",
       "      <td>Avenida Pedro Ludovico, s/ nº, Reny Cury, CEP ...</td>\n",
       "      <td>http://www.ifg.edu.br/anapolis</td>\n",
       "      <td>(62) 3703-3350</td>\n",
       "      <td>gabinete.anapolis@ifg.edu.br</td>\n",
       "      <td>10.870.883/0009-00</td>\n",
       "      <td>158522.0</td>\n",
       "      <td>Katia Cilene Costa Fernandes</td>\n",
       "    </tr>\n",
       "    <tr>\n",
       "      <th>2</th>\n",
       "      <td>CÂMPUS APARECIDA DE GOIÂNIA</td>\n",
       "      <td>APA</td>\n",
       "      <td>Avenida Universitária Vereador Vagner da Silva...</td>\n",
       "      <td>http://www.ifg.edu.br/aparecida</td>\n",
       "      <td>(62) 3507-5950</td>\n",
       "      <td>gabinete.aparecida@ifg.edu.br</td>\n",
       "      <td>10.870.883/0010-35</td>\n",
       "      <td>158610.0</td>\n",
       "      <td>Eduardo de Carvalho Rezende</td>\n",
       "    </tr>\n",
       "    <tr>\n",
       "      <th>3</th>\n",
       "      <td>CÂMPUS CIDADE DE GOIÁS</td>\n",
       "      <td>GOI</td>\n",
       "      <td>Rua 02, Quadra 10, Lote 01 a 15, Residencial B...</td>\n",
       "      <td>http://www.ifg.edu.br/goias</td>\n",
       "      <td>(62) 3371-9000</td>\n",
       "      <td>gabinete.goias@ifg.edu.br</td>\n",
       "      <td>10.870.883/0011-16</td>\n",
       "      <td>158611.0</td>\n",
       "      <td>Sandro Ramos de Lima</td>\n",
       "    </tr>\n",
       "    <tr>\n",
       "      <th>4</th>\n",
       "      <td>CÂMPUS FORMOSA</td>\n",
       "      <td>FOR</td>\n",
       "      <td>Rua 64 esquina com Rua 11, S/Nº, Expansão Parq...</td>\n",
       "      <td>http://www.ifg.edu.br/formosa</td>\n",
       "      <td>(61) 3642 9450</td>\n",
       "      <td>gabinete.formosa@ifg.edu.br</td>\n",
       "      <td>10.870.883/0007-30</td>\n",
       "      <td>158523.0</td>\n",
       "      <td>Thiago Goncalves Dias</td>\n",
       "    </tr>\n",
       "  </tbody>\n",
       "</table>\n",
       "</div>"
      ],
      "text/plain": [
       "                          nome sigla   \n",
       "0          CÂMPUS ÁGUAS LINDAS   LIN  \\\n",
       "1              CÂMPUS ANÁPOLIS   ANA   \n",
       "2  CÂMPUS APARECIDA DE GOIÂNIA   APA   \n",
       "3       CÂMPUS CIDADE DE GOIÁS   GOI   \n",
       "4               CÂMPUS FORMOSA   FOR   \n",
       "\n",
       "                                            endereco   \n",
       "0  Rua 21, Área Especial 4, Jardim Querência, CEP...  \\\n",
       "1  Avenida Pedro Ludovico, s/ nº, Reny Cury, CEP ...   \n",
       "2  Avenida Universitária Vereador Vagner da Silva...   \n",
       "3  Rua 02, Quadra 10, Lote 01 a 15, Residencial B...   \n",
       "4  Rua 64 esquina com Rua 11, S/Nº, Expansão Parq...   \n",
       "\n",
       "                                site        telefone   \n",
       "0  http://www.ifg.edu.br/aguaslindas  (61) 3799-7500  \\\n",
       "1     http://www.ifg.edu.br/anapolis  (62) 3703-3350   \n",
       "2    http://www.ifg.edu.br/aparecida  (62) 3507-5950   \n",
       "3        http://www.ifg.edu.br/goias  (62) 3371-9000   \n",
       "4      http://www.ifg.edu.br/formosa  (61) 3642 9450   \n",
       "\n",
       "                             email                cnpj      uasg   \n",
       "0  gabinete.aguaslindas@ifg.edu.br  10.870.883/0014-69  158640.0  \\\n",
       "1     gabinete.anapolis@ifg.edu.br  10.870.883/0009-00  158522.0   \n",
       "2    gabinete.aparecida@ifg.edu.br  10.870.883/0010-35  158610.0   \n",
       "3        gabinete.goias@ifg.edu.br  10.870.883/0011-16  158611.0   \n",
       "4      gabinete.formosa@ifg.edu.br  10.870.883/0007-30  158523.0   \n",
       "\n",
       "      autoridade_maxima_unidade  \n",
       "0         Tiago Gomes de Araujo  \n",
       "1  Katia Cilene Costa Fernandes  \n",
       "2   Eduardo de Carvalho Rezende  \n",
       "3          Sandro Ramos de Lima  \n",
       "4         Thiago Goncalves Dias  "
      ]
     },
     "execution_count": 15,
     "metadata": {},
     "output_type": "execute_result"
    }
   ],
   "source": [
    "unidades = pd.read_csv(DA_STORAGE_DIR / \"transformed/unidades.csv\", delimiter=\";\")\n",
    "\n",
    "unidades.head()"
   ]
  },
  {
   "cell_type": "markdown",
   "id": "58b32270",
   "metadata": {},
   "source": [
    "# Remoção de registros inconsistentes\n",
    "\n",
    "Neste conjunto de dados existe o registro de uma unidade IFG que aparentemente é utilizado para representar a unidade raiz do IFG, servindo como um agrupador pai para todas as outras. \n",
    "\n",
    "No nosso caso ela não é necessária, pois o nosso grafo já é sobre o IFG, então essa unidade será excluída."
   ]
  },
  {
   "cell_type": "code",
   "execution_count": 16,
   "id": "86783636",
   "metadata": {},
   "outputs": [
    {
     "data": {
      "text/html": [
       "<div>\n",
       "<style scoped>\n",
       "    .dataframe tbody tr th:only-of-type {\n",
       "        vertical-align: middle;\n",
       "    }\n",
       "\n",
       "    .dataframe tbody tr th {\n",
       "        vertical-align: top;\n",
       "    }\n",
       "\n",
       "    .dataframe thead th {\n",
       "        text-align: right;\n",
       "    }\n",
       "</style>\n",
       "<table border=\"1\" class=\"dataframe\">\n",
       "  <thead>\n",
       "    <tr style=\"text-align: right;\">\n",
       "      <th></th>\n",
       "      <th>nome</th>\n",
       "      <th>sigla</th>\n",
       "      <th>endereco</th>\n",
       "      <th>site</th>\n",
       "      <th>telefone</th>\n",
       "      <th>email</th>\n",
       "      <th>cnpj</th>\n",
       "      <th>uasg</th>\n",
       "      <th>autoridade_maxima_unidade</th>\n",
       "    </tr>\n",
       "  </thead>\n",
       "  <tbody>\n",
       "    <tr>\n",
       "      <th>14</th>\n",
       "      <td>IFG</td>\n",
       "      <td>IFG</td>\n",
       "      <td>, , CEP ,  -</td>\n",
       "      <td>http://www.ifg.edu.br/</td>\n",
       "      <td>NaN</td>\n",
       "      <td>ifg@ifg.edu.br</td>\n",
       "      <td>NaN</td>\n",
       "      <td>NaN</td>\n",
       "      <td>NaN</td>\n",
       "    </tr>\n",
       "  </tbody>\n",
       "</table>\n",
       "</div>"
      ],
      "text/plain": [
       "   nome sigla      endereco                    site telefone           email   \n",
       "14  IFG   IFG  , , CEP ,  -  http://www.ifg.edu.br/      NaN  ifg@ifg.edu.br  \\\n",
       "\n",
       "   cnpj uasg autoridade_maxima_unidade  \n",
       "14  NaN  NaN                       NaN  "
      ]
     },
     "execution_count": 16,
     "metadata": {},
     "output_type": "execute_result"
    }
   ],
   "source": [
    "unidades.iloc[14].to_frame().T"
   ]
  },
  {
   "cell_type": "code",
   "execution_count": 17,
   "id": "1e2e0d0c",
   "metadata": {},
   "outputs": [],
   "source": [
    "unidades.drop(index=14, inplace=True)"
   ]
  },
  {
   "cell_type": "markdown",
   "id": "6794db3b",
   "metadata": {},
   "source": [
    "## Coluna Endereço\n",
    "\n",
    "- Atomizar os dados de endereço, dispersando-os em colunas\n",
    "\n",
    "### Tratamento dos números\n",
    "\n",
    "Os números do endereço podem envolver quadra e lote, ou quilômetro da rodovia, logo um simples split não é suficiente"
   ]
  },
  {
   "cell_type": "code",
   "execution_count": null,
   "id": "e0d16850",
   "metadata": {
    "scrolled": false
   },
   "outputs": [],
   "source": [
    "unidades[\"endereco\"][0]"
   ]
  },
  {
   "cell_type": "code",
   "execution_count": null,
   "id": "aff7d29e",
   "metadata": {
    "scrolled": false
   },
   "outputs": [],
   "source": [
    "enderecos_raw = unidades.values[:, 2]\n",
    "enderecos_cleaned = []\n",
    "\n",
    "# Separa os campos em um array e faz o strip() em cada um\n",
    "for endereco in enderecos_raw:\n",
    "    row = []\n",
    "    \n",
    "    for field in endereco.split(\",\"):\n",
    "        row.append(field.strip())\n",
    "        \n",
    "    enderecos_cleaned.append(row)\n",
    "\n",
    "# Armazena os números antigos para comparar o resultado do pré-processamento\n",
    "numeros_before = []\n",
    "\n",
    "for endereco in enderecos_cleaned:\n",
    "    temp = \" \".join(endereco[1:3]) if re.match(r\"(quadra |lote |qd\\.? |lt\\.? )\", \" \".join(endereco[1:3]), flags=re.IGNORECASE) else endereco[1]\n",
    "    numeros_before.append(temp)\n",
    "                    \n",
    "# Padroniza a nomenclatura da numeração\n",
    "# Quadra  -> Qd.\n",
    "# Lote    -> Lt.\n",
    "# nº 64   -> 64\n",
    "# km 89   -> Km 89\n",
    "numeros = []\n",
    "\n",
    "for endereco in enderecos_cleaned:\n",
    "    sem_numero_regex = r\"s\\/\\s*nº\"\n",
    "    num_ordinal_regex = r\"nº\\s*\"\n",
    "    quilometro_regex = r\"km\\s*\"\n",
    "    \n",
    "    if re.match(r\"(qd\\.?\\s|lt\\.?\\s)\", \" \".join(endereco[1:3]).lower(), flags=re.IGNORECASE):\n",
    "        numero_composto = \" \".join(endereco[1:3])\n",
    "        numero_composto = re.sub(r\"qd\\.?\", \"Qd.\", numero_composto, flags=re.IGNORECASE)\n",
    "        numero_composto = re.sub(r\"lt\\.?\", \"Lt.\", numero_composto, flags=re.IGNORECASE)\n",
    "        numeros.append(numero_composto)\n",
    "    elif \"quadra\" in endereco[1].lower() and \"lote\" in endereco[2].lower():\n",
    "        numeros.append(\" \".join(endereco[1:3]).lower().replace(\"quadra\", \"Qd.\").replace(\"lote\", \"Lt.\"))\n",
    "    elif \"quadra\" in endereco[1].lower():\n",
    "        numeros.append(endereco[1].lower().replace(\"quadra\", \"Qd.\"))\n",
    "    elif re.match(sem_numero_regex, endereco[1], re.IGNORECASE) != None:\n",
    "        numeros.append(re.sub(sem_numero_regex, \"S/N\", endereco[1], flags=re.IGNORECASE))\n",
    "    elif re.match(num_ordinal_regex, endereco[1], re.IGNORECASE):\n",
    "        numeros.append(re.sub(num_ordinal_regex, \"\", endereco[1], flags=re.IGNORECASE))\n",
    "    elif re.match(quilometro_regex, endereco[1], re.IGNORECASE):\n",
    "        numeros.append(re.sub(quilometro_regex, \"Km \", endereco[1], flags=re.IGNORECASE))\n",
    "    else:\n",
    "        numeros.append(endereco[1])\n",
    "        \n",
    "pd.DataFrame({\"antes\": numeros_before, \"depois\": numeros})"
   ]
  },
  {
   "cell_type": "markdown",
   "id": "b28dbdd3",
   "metadata": {},
   "source": [
    "### Tratamento dos CEPs\n",
    "\n",
    "Os CEPs dos endereços estão seguindo o padrão: \"CEP XXXXX-XXX\" mas para diminuir a redundância do grafo, queremos apenas o número do CEP"
   ]
  },
  {
   "cell_type": "code",
   "execution_count": null,
   "id": "2350d2c7",
   "metadata": {
    "scrolled": false
   },
   "outputs": [],
   "source": [
    "ceps = []\n",
    "ceps_before = []\n",
    "\n",
    "cep_regex = r\"CEP\\s*\"\n",
    "\n",
    "for endereco in enderecos_cleaned:\n",
    "    # Armazenar os antigos CEPs para comparar os resultados do pré-processamento\n",
    "    ceps_before.append(endereco[-2])\n",
    "    \n",
    "    cep = re.sub(cep_regex, \"\", endereco[-2], flags=re.IGNORECASE)\n",
    "    \n",
    "    if cep.find(\"-\") == -1:\n",
    "        cep = \"-\".join([cep[:5], cep[-3:]])\n",
    "    \n",
    "    ceps.append(cep)\n",
    "    \n",
    "pd.DataFrame({\"antes\": ceps_before, \"depois\": ceps})"
   ]
  },
  {
   "cell_type": "markdown",
   "id": "2cf1d54d",
   "metadata": {},
   "source": [
    "### Tratamento do nome da cidade\n",
    "\n",
    "O nome das cidades estão com a UF no final, mas sabemos que os IFG do dataset estão todos localizados em Goiás, logo para os dados ficarem mais limpos é necessário remover a sigla da UF do nome da cidade."
   ]
  },
  {
   "cell_type": "code",
   "execution_count": null,
   "id": "48f4cbe0",
   "metadata": {},
   "outputs": [],
   "source": [
    "cidades = []\n",
    "\n",
    "for endereco in enderecos_cleaned:\n",
    "    cidades.append(endereco[-1][0:-5].upper())\n",
    "    \n",
    "pd.DataFrame(cidades, columns=[\"cidade\"])"
   ]
  },
  {
   "cell_type": "markdown",
   "id": "6f935c02",
   "metadata": {},
   "source": [
    "### Extração do logradouro e bairro do dataset inicial"
   ]
  },
  {
   "cell_type": "code",
   "execution_count": null,
   "id": "d44c67d0",
   "metadata": {},
   "outputs": [],
   "source": [
    "logradouros = []\n",
    "bairros = []\n",
    "\n",
    "for endereco in enderecos_cleaned:\n",
    "    logradouros.append(endereco[0])\n",
    "    bairros.append(endereco[-3])\n",
    "    \n",
    "\n",
    "pd.DataFrame({\"logradouro\": logradouros, \"bairro\": bairros})"
   ]
  },
  {
   "cell_type": "markdown",
   "id": "2460b933",
   "metadata": {},
   "source": [
    "### Dataframe com os endereços atomizados"
   ]
  },
  {
   "cell_type": "code",
   "execution_count": null,
   "id": "ac654f5e",
   "metadata": {
    "scrolled": false
   },
   "outputs": [],
   "source": [
    "enderecos_preprocessed = pd.DataFrame({\"logradouro\": logradouros, \"numero\": numeros, \"bairro\": bairros, \"cep\": ceps, \"cidade\": cidades})\n",
    "\n",
    "enderecos_preprocessed"
   ]
  },
  {
   "cell_type": "markdown",
   "id": "c80a82b5",
   "metadata": {},
   "source": [
    "### Dataframe final"
   ]
  },
  {
   "cell_type": "code",
   "execution_count": null,
   "id": "9a346531",
   "metadata": {
    "scrolled": true
   },
   "outputs": [],
   "source": [
    "df_final = pd.DataFrame(unidades.iloc[:, :2]).join(enderecos_preprocessed).join(unidades.iloc[:, 3:-1])\n",
    "\n",
    "df_final"
   ]
  },
  {
   "cell_type": "code",
   "execution_count": null,
   "id": "b92c2fd2",
   "metadata": {
    "scrolled": true
   },
   "outputs": [],
   "source": [
    "df_final.head()"
   ]
  },
  {
   "cell_type": "code",
   "execution_count": null,
   "id": "51acf7bd",
   "metadata": {},
   "outputs": [],
   "source": [
    "export_path = Path(DA_STORAGE_DIR / \"preprocessed\")\n",
    "\n",
    "if not export_path.is_dir():\n",
    "    Path(export_path).mkdir()\n",
    "\n",
    "try:\n",
    "    df_final.to_csv(export_path / \"unidades.csv\", sep=\";\", index=False)\n",
    "except Exception as e:\n",
    "    print(str(e))"
   ]
  }
 ],
 "metadata": {
  "kernelspec": {
   "display_name": "Python 3 (ipykernel)",
   "language": "python",
   "name": "python3"
  },
  "language_info": {
   "codemirror_mode": {
    "name": "ipython",
    "version": 3
   },
   "file_extension": ".py",
   "mimetype": "text/x-python",
   "name": "python",
   "nbconvert_exporter": "python",
   "pygments_lexer": "ipython3",
   "version": "3.10.10"
  }
 },
 "nbformat": 4,
 "nbformat_minor": 5
}
