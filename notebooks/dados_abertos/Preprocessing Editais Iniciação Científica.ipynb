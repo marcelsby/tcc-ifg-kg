{
 "cells": [
  {
   "cell_type": "code",
   "execution_count": 16,
   "id": "f88d0973",
   "metadata": {
    "tags": [
     "parameters"
    ]
   },
   "outputs": [],
   "source": [
    "p_storage_dir = \"../../storage\""
   ]
  },
  {
   "cell_type": "code",
   "execution_count": 17,
   "id": "4ff98d1a",
   "metadata": {},
   "outputs": [],
   "source": [
    "import pandas as pd\n",
    "import numpy as np\n",
    "import re\n",
    "import uuid\n",
    "from pathlib import Path\n",
    "\n",
    "DA_STORAGE_DIR = Path(f\"{p_storage_dir}/dados_abertos\")"
   ]
  },
  {
   "cell_type": "markdown",
   "id": "5a4b3b6c",
   "metadata": {},
   "source": [
    "# Editais de Iniciação Científica"
   ]
  },
  {
   "cell_type": "code",
   "execution_count": 18,
   "id": "02254d21",
   "metadata": {},
   "outputs": [
    {
     "data": {
      "text/html": [
       "<div>\n",
       "<style scoped>\n",
       "    .dataframe tbody tr th:only-of-type {\n",
       "        vertical-align: middle;\n",
       "    }\n",
       "\n",
       "    .dataframe tbody tr th {\n",
       "        vertical-align: top;\n",
       "    }\n",
       "\n",
       "    .dataframe thead th {\n",
       "        text-align: right;\n",
       "    }\n",
       "</style>\n",
       "<table border=\"1\" class=\"dataframe\">\n",
       "  <thead>\n",
       "    <tr style=\"text-align: right;\">\n",
       "      <th></th>\n",
       "      <th>ano</th>\n",
       "      <th>programas</th>\n",
       "      <th>instituicao</th>\n",
       "      <th>unidade</th>\n",
       "      <th>descricao</th>\n",
       "    </tr>\n",
       "  </thead>\n",
       "  <tbody>\n",
       "    <tr>\n",
       "      <th>0</th>\n",
       "      <td>2023</td>\n",
       "      <td>PIBIC PIBIC-Af PIBITI PIBIC-EM PIVIC</td>\n",
       "      <td>Instituto Federal de Educação, Ciência e Tecno...</td>\n",
       "      <td>Câmpus Goiânia</td>\n",
       "      <td>Chamada para submissão de trabalhos - XI Semin...</td>\n",
       "    </tr>\n",
       "    <tr>\n",
       "      <th>1</th>\n",
       "      <td>2023</td>\n",
       "      <td>PIBIC PIBIC-Af PIBITI PIBIC-EM PIVIC</td>\n",
       "      <td>Instituto Federal de Educação, Ciência e Tecno...</td>\n",
       "      <td>PROPPG - Diretoria de Pesquisa</td>\n",
       "      <td>Edital n. 35/2023 - 16º Seminário de Iniciação...</td>\n",
       "    </tr>\n",
       "    <tr>\n",
       "      <th>2</th>\n",
       "      <td>2023</td>\n",
       "      <td>PIBIC PIBIC-Af PIBITI PIBIC-EM PIVIC</td>\n",
       "      <td>Instituto Federal de Educação, Ciência e Tecno...</td>\n",
       "      <td>Câmpus Uruaçu</td>\n",
       "      <td>XIII - Seminário Local de Iniciação Científica...</td>\n",
       "    </tr>\n",
       "    <tr>\n",
       "      <th>3</th>\n",
       "      <td>2022</td>\n",
       "      <td>PIBIC PIBIC-Af PIBITI PIBIC-EM PIBIC-EM/EJA</td>\n",
       "      <td>Instituto Federal de Educação, Ciência e Tecno...</td>\n",
       "      <td>Câmpus Goiânia</td>\n",
       "      <td>Chamada para submissão de trabalhos - X Seminá...</td>\n",
       "    </tr>\n",
       "    <tr>\n",
       "      <th>4</th>\n",
       "      <td>2022</td>\n",
       "      <td>PIBIC PIBIC-Af PIBITI PIBIC-EM PIVIC PIBIC-EM/EJA</td>\n",
       "      <td>Instituto Federal de Educação, Ciência e Tecno...</td>\n",
       "      <td>PROPPG - Diretoria de Pesquisa</td>\n",
       "      <td>Edital n. 30 - 15º Seminário de Iniciação Cien...</td>\n",
       "    </tr>\n",
       "  </tbody>\n",
       "</table>\n",
       "</div>"
      ],
      "text/plain": [
       "    ano                                          programas   \n",
       "0  2023               PIBIC PIBIC-Af PIBITI PIBIC-EM PIVIC  \\\n",
       "1  2023               PIBIC PIBIC-Af PIBITI PIBIC-EM PIVIC   \n",
       "2  2023               PIBIC PIBIC-Af PIBITI PIBIC-EM PIVIC   \n",
       "3  2022        PIBIC PIBIC-Af PIBITI PIBIC-EM PIBIC-EM/EJA   \n",
       "4  2022  PIBIC PIBIC-Af PIBITI PIBIC-EM PIVIC PIBIC-EM/EJA   \n",
       "\n",
       "                                         instituicao   \n",
       "0  Instituto Federal de Educação, Ciência e Tecno...  \\\n",
       "1  Instituto Federal de Educação, Ciência e Tecno...   \n",
       "2  Instituto Federal de Educação, Ciência e Tecno...   \n",
       "3  Instituto Federal de Educação, Ciência e Tecno...   \n",
       "4  Instituto Federal de Educação, Ciência e Tecno...   \n",
       "\n",
       "                          unidade   \n",
       "0                  Câmpus Goiânia  \\\n",
       "1  PROPPG - Diretoria de Pesquisa   \n",
       "2                   Câmpus Uruaçu   \n",
       "3                  Câmpus Goiânia   \n",
       "4  PROPPG - Diretoria de Pesquisa   \n",
       "\n",
       "                                           descricao  \n",
       "0  Chamada para submissão de trabalhos - XI Semin...  \n",
       "1  Edital n. 35/2023 - 16º Seminário de Iniciação...  \n",
       "2  XIII - Seminário Local de Iniciação Científica...  \n",
       "3  Chamada para submissão de trabalhos - X Seminá...  \n",
       "4  Edital n. 30 - 15º Seminário de Iniciação Cien...  "
      ]
     },
     "execution_count": 18,
     "metadata": {},
     "output_type": "execute_result"
    }
   ],
   "source": [
    "editais_iniciacao_cientifica = pd.read_csv(DA_STORAGE_DIR / \"transformed/editais_iniciacao_cientifica.csv\", delimiter=\";\")\n",
    "\n",
    "editais_iniciacao_cientifica.head()"
   ]
  },
  {
   "cell_type": "markdown",
   "id": "3059c3d0-a823-4852-8e7a-c20d1e3eedbd",
   "metadata": {},
   "source": [
    "**Remover a coluna instituição, pois todos os editais analisados são do IFG**"
   ]
  },
  {
   "cell_type": "code",
   "execution_count": 19,
   "id": "e366ad05-4184-47ba-adca-fec0d8215f88",
   "metadata": {},
   "outputs": [
    {
     "data": {
      "text/plain": [
       "array(['Instituto Federal de Educação, Ciência e Tecnologia de Goiás'],\n",
       "      dtype=object)"
      ]
     },
     "execution_count": 19,
     "metadata": {},
     "output_type": "execute_result"
    }
   ],
   "source": [
    "editais_iniciacao_cientifica['instituicao'].unique()"
   ]
  },
  {
   "cell_type": "code",
   "execution_count": 20,
   "id": "1afcf811-3d2d-4f3f-8cfa-0284dbdde2ca",
   "metadata": {},
   "outputs": [],
   "source": [
    "editais_iniciacao_cientifica.drop('instituicao', axis=1, inplace=True)"
   ]
  },
  {
   "cell_type": "code",
   "execution_count": 21,
   "id": "e915587a-16d6-46a0-b0e6-69c491b1a3f3",
   "metadata": {},
   "outputs": [
    {
     "data": {
      "text/html": [
       "<div>\n",
       "<style scoped>\n",
       "    .dataframe tbody tr th:only-of-type {\n",
       "        vertical-align: middle;\n",
       "    }\n",
       "\n",
       "    .dataframe tbody tr th {\n",
       "        vertical-align: top;\n",
       "    }\n",
       "\n",
       "    .dataframe thead th {\n",
       "        text-align: right;\n",
       "    }\n",
       "</style>\n",
       "<table border=\"1\" class=\"dataframe\">\n",
       "  <thead>\n",
       "    <tr style=\"text-align: right;\">\n",
       "      <th></th>\n",
       "      <th>ano</th>\n",
       "      <th>programas</th>\n",
       "      <th>unidade</th>\n",
       "      <th>descricao</th>\n",
       "    </tr>\n",
       "  </thead>\n",
       "  <tbody>\n",
       "    <tr>\n",
       "      <th>5</th>\n",
       "      <td>2022</td>\n",
       "      <td>PIBIC PIBIC-Af PIBIC-EM PIBIC-EM/EJA</td>\n",
       "      <td>Câmpus Luziânia</td>\n",
       "      <td>Seminário de Iniciação Científica</td>\n",
       "    </tr>\n",
       "    <tr>\n",
       "      <th>13</th>\n",
       "      <td>2019</td>\n",
       "      <td>ProAPP</td>\n",
       "      <td>PROPPG - Pró-Reitoria de Pesquisa e Pós-Graduação</td>\n",
       "      <td>EDITAL Nº 25/2019 -PROGRAMA DE APOIO À PRODUTI...</td>\n",
       "    </tr>\n",
       "    <tr>\n",
       "      <th>38</th>\n",
       "      <td>2016</td>\n",
       "      <td>PIBITI</td>\n",
       "      <td>PROPPG - Pró-Reitoria de Pesquisa e Pós-Graduação</td>\n",
       "      <td>Edital PIBITI nº 05/2016</td>\n",
       "    </tr>\n",
       "    <tr>\n",
       "      <th>39</th>\n",
       "      <td>2016</td>\n",
       "      <td>PIBIC PIBIC-Af PIBITI PIBIC-EM PIVIC</td>\n",
       "      <td>Câmpus Aparecida de Goiânia</td>\n",
       "      <td>III Seminário de ICT do Câmpus Aparecida</td>\n",
       "    </tr>\n",
       "    <tr>\n",
       "      <th>35</th>\n",
       "      <td>2016</td>\n",
       "      <td>PIBIC PIBIC-Af PIBITI PIBIC-EM PIVIC</td>\n",
       "      <td>PROPPG - Pró-Reitoria de Pesquisa e Pós-Graduação</td>\n",
       "      <td>10° Seminário de Iniciação Científica e Tecnol...</td>\n",
       "    </tr>\n",
       "  </tbody>\n",
       "</table>\n",
       "</div>"
      ],
      "text/plain": [
       "     ano                             programas   \n",
       "5   2022  PIBIC PIBIC-Af PIBIC-EM PIBIC-EM/EJA  \\\n",
       "13  2019                                ProAPP   \n",
       "38  2016                                PIBITI   \n",
       "39  2016  PIBIC PIBIC-Af PIBITI PIBIC-EM PIVIC   \n",
       "35  2016  PIBIC PIBIC-Af PIBITI PIBIC-EM PIVIC   \n",
       "\n",
       "                                              unidade   \n",
       "5                                     Câmpus Luziânia  \\\n",
       "13  PROPPG - Pró-Reitoria de Pesquisa e Pós-Graduação   \n",
       "38  PROPPG - Pró-Reitoria de Pesquisa e Pós-Graduação   \n",
       "39                        Câmpus Aparecida de Goiânia   \n",
       "35  PROPPG - Pró-Reitoria de Pesquisa e Pós-Graduação   \n",
       "\n",
       "                                            descricao  \n",
       "5                   Seminário de Iniciação Científica  \n",
       "13  EDITAL Nº 25/2019 -PROGRAMA DE APOIO À PRODUTI...  \n",
       "38                           Edital PIBITI nº 05/2016  \n",
       "39           III Seminário de ICT do Câmpus Aparecida  \n",
       "35  10° Seminário de Iniciação Científica e Tecnol...  "
      ]
     },
     "execution_count": 21,
     "metadata": {},
     "output_type": "execute_result"
    }
   ],
   "source": [
    "editais_iniciacao_cientifica.sample(n=5)"
   ]
  },
  {
   "cell_type": "markdown",
   "id": "a67af8d4-f6b7-48b2-b1b0-0ad1feae7c0c",
   "metadata": {},
   "source": [
    "**Criar uma coluna sigla_unidade com a sigla da unidade de cada edital**"
   ]
  },
  {
   "cell_type": "code",
   "execution_count": 22,
   "id": "3c9d0527-3b9b-481d-b7da-80730183a96d",
   "metadata": {},
   "outputs": [
    {
     "data": {
      "text/plain": [
       "array(['Câmpus Goiânia', 'PROPPG - Diretoria de Pesquisa',\n",
       "       'Câmpus Uruaçu', 'Câmpus Luziânia',\n",
       "       'PROPPG - Pró-Reitoria de Pesquisa e Pós-Graduação',\n",
       "       'Câmpus Aparecida de Goiânia', 'Câmpus Águas Lindas',\n",
       "       'Câmpus Itumbiara'], dtype=object)"
      ]
     },
     "execution_count": 22,
     "metadata": {},
     "output_type": "execute_result"
    }
   ],
   "source": [
    "editais_iniciacao_cientifica['unidade'].unique()"
   ]
  },
  {
   "cell_type": "code",
   "execution_count": 23,
   "id": "ccde8352-8625-4454-80f2-84afd6357e4a",
   "metadata": {},
   "outputs": [],
   "source": [
    "editais_iniciacao_cientifica['sigla_unidade'] = editais_iniciacao_cientifica['unidade']"
   ]
  },
  {
   "cell_type": "code",
   "execution_count": 24,
   "id": "bf5eec3b-482e-4cf0-8412-d6812a83aeb0",
   "metadata": {},
   "outputs": [],
   "source": [
    "campus_replacement_map = {\n",
    "    \"Câmpus Águas Lindas\": \"LIN\",\n",
    "    \"Câmpus Aparecida de Goiânia\": \"APA\",\n",
    "    \"Câmpus Goiânia\": \"GYN\",\n",
    "    \"Câmpus Itumbiara\": \"ITU\",\n",
    "    \"Câmpus Luziânia\": \"LUZ\",\n",
    "    \"Câmpus Uruaçu\": \"URU\",\n",
    "}"
   ]
  },
  {
   "cell_type": "code",
   "execution_count": 25,
   "id": "f7ccc6ed-416e-4e4b-8be4-3b966224d5b6",
   "metadata": {},
   "outputs": [],
   "source": [
    "editais_iniciacao_cientifica['sigla_unidade'].replace(campus_replacement_map, inplace=True)"
   ]
  },
  {
   "cell_type": "code",
   "execution_count": 26,
   "id": "26d3b92c-7bf3-414a-83d1-a3e403d79dd9",
   "metadata": {},
   "outputs": [],
   "source": [
    "nome_unidade_discrepantes = []\n",
    "\n",
    "for unidade in editais_iniciacao_cientifica['sigla_unidade'].unique():\n",
    "    if not re.match(r'^\\D{3}$', unidade):\n",
    "        nome_unidade_discrepantes.append(unidade)"
   ]
  },
  {
   "cell_type": "code",
   "execution_count": 27,
   "id": "a1d8a2cc-5086-4512-a865-47a85c42f472",
   "metadata": {},
   "outputs": [],
   "source": [
    "editais_iniciacao_cientifica['sigla_unidade'].replace(nome_unidade_discrepantes, np.nan, inplace=True)"
   ]
  },
  {
   "cell_type": "code",
   "execution_count": 28,
   "id": "d9a832b9-7a1e-4d7a-95aa-badfa6f0027b",
   "metadata": {},
   "outputs": [
    {
     "data": {
      "text/plain": [
       "array(['GYN', nan, 'URU', 'LUZ', 'APA', 'LIN', 'ITU'], dtype=object)"
      ]
     },
     "execution_count": 28,
     "metadata": {},
     "output_type": "execute_result"
    }
   ],
   "source": [
    "editais_iniciacao_cientifica['sigla_unidade'].unique()"
   ]
  },
  {
   "cell_type": "markdown",
   "id": "a59b92c7-46ba-40d5-a66b-7b5c6cd33380",
   "metadata": {},
   "source": [
    "**Colocar uma coluna com um identificador único para cada edital**"
   ]
  },
  {
   "cell_type": "code",
   "execution_count": 29,
   "id": "b7e3de60-418a-4c7c-9755-150e40045b10",
   "metadata": {},
   "outputs": [],
   "source": [
    "editais_iniciacao_cientifica['codigo'] = [str(uuid.uuid4()) for _ in range(len(editais_iniciacao_cientifica))]"
   ]
  },
  {
   "cell_type": "code",
   "execution_count": 30,
   "id": "80932883-63d5-49c9-9694-0502b8db04c9",
   "metadata": {},
   "outputs": [
    {
     "data": {
      "text/html": [
       "<div>\n",
       "<style scoped>\n",
       "    .dataframe tbody tr th:only-of-type {\n",
       "        vertical-align: middle;\n",
       "    }\n",
       "\n",
       "    .dataframe tbody tr th {\n",
       "        vertical-align: top;\n",
       "    }\n",
       "\n",
       "    .dataframe thead th {\n",
       "        text-align: right;\n",
       "    }\n",
       "</style>\n",
       "<table border=\"1\" class=\"dataframe\">\n",
       "  <thead>\n",
       "    <tr style=\"text-align: right;\">\n",
       "      <th></th>\n",
       "      <th>ano</th>\n",
       "      <th>programas</th>\n",
       "      <th>unidade</th>\n",
       "      <th>descricao</th>\n",
       "      <th>sigla_unidade</th>\n",
       "      <th>codigo</th>\n",
       "    </tr>\n",
       "  </thead>\n",
       "  <tbody>\n",
       "    <tr>\n",
       "      <th>0</th>\n",
       "      <td>2023</td>\n",
       "      <td>PIBIC PIBIC-Af PIBITI PIBIC-EM PIVIC</td>\n",
       "      <td>Câmpus Goiânia</td>\n",
       "      <td>Chamada para submissão de trabalhos - XI Semin...</td>\n",
       "      <td>GYN</td>\n",
       "      <td>26f46ea0-5eff-49f7-b5d8-abd9a3edc265</td>\n",
       "    </tr>\n",
       "    <tr>\n",
       "      <th>1</th>\n",
       "      <td>2023</td>\n",
       "      <td>PIBIC PIBIC-Af PIBITI PIBIC-EM PIVIC</td>\n",
       "      <td>PROPPG - Diretoria de Pesquisa</td>\n",
       "      <td>Edital n. 35/2023 - 16º Seminário de Iniciação...</td>\n",
       "      <td>NaN</td>\n",
       "      <td>324f757d-77a9-4dc3-b8a2-7ecaf188f4ab</td>\n",
       "    </tr>\n",
       "    <tr>\n",
       "      <th>2</th>\n",
       "      <td>2023</td>\n",
       "      <td>PIBIC PIBIC-Af PIBITI PIBIC-EM PIVIC</td>\n",
       "      <td>Câmpus Uruaçu</td>\n",
       "      <td>XIII - Seminário Local de Iniciação Científica...</td>\n",
       "      <td>URU</td>\n",
       "      <td>45c34770-bf79-4877-83ea-17151b2fd21d</td>\n",
       "    </tr>\n",
       "    <tr>\n",
       "      <th>3</th>\n",
       "      <td>2022</td>\n",
       "      <td>PIBIC PIBIC-Af PIBITI PIBIC-EM PIBIC-EM/EJA</td>\n",
       "      <td>Câmpus Goiânia</td>\n",
       "      <td>Chamada para submissão de trabalhos - X Seminá...</td>\n",
       "      <td>GYN</td>\n",
       "      <td>1e28cf39-8bd7-4688-84b3-e687b72eaa61</td>\n",
       "    </tr>\n",
       "    <tr>\n",
       "      <th>4</th>\n",
       "      <td>2022</td>\n",
       "      <td>PIBIC PIBIC-Af PIBITI PIBIC-EM PIVIC PIBIC-EM/EJA</td>\n",
       "      <td>PROPPG - Diretoria de Pesquisa</td>\n",
       "      <td>Edital n. 30 - 15º Seminário de Iniciação Cien...</td>\n",
       "      <td>NaN</td>\n",
       "      <td>2a1b8a6c-5961-4196-a10e-cb9847cdbdaf</td>\n",
       "    </tr>\n",
       "  </tbody>\n",
       "</table>\n",
       "</div>"
      ],
      "text/plain": [
       "    ano                                          programas   \n",
       "0  2023               PIBIC PIBIC-Af PIBITI PIBIC-EM PIVIC  \\\n",
       "1  2023               PIBIC PIBIC-Af PIBITI PIBIC-EM PIVIC   \n",
       "2  2023               PIBIC PIBIC-Af PIBITI PIBIC-EM PIVIC   \n",
       "3  2022        PIBIC PIBIC-Af PIBITI PIBIC-EM PIBIC-EM/EJA   \n",
       "4  2022  PIBIC PIBIC-Af PIBITI PIBIC-EM PIVIC PIBIC-EM/EJA   \n",
       "\n",
       "                          unidade   \n",
       "0                  Câmpus Goiânia  \\\n",
       "1  PROPPG - Diretoria de Pesquisa   \n",
       "2                   Câmpus Uruaçu   \n",
       "3                  Câmpus Goiânia   \n",
       "4  PROPPG - Diretoria de Pesquisa   \n",
       "\n",
       "                                           descricao sigla_unidade   \n",
       "0  Chamada para submissão de trabalhos - XI Semin...           GYN  \\\n",
       "1  Edital n. 35/2023 - 16º Seminário de Iniciação...           NaN   \n",
       "2  XIII - Seminário Local de Iniciação Científica...           URU   \n",
       "3  Chamada para submissão de trabalhos - X Seminá...           GYN   \n",
       "4  Edital n. 30 - 15º Seminário de Iniciação Cien...           NaN   \n",
       "\n",
       "                                 codigo  \n",
       "0  26f46ea0-5eff-49f7-b5d8-abd9a3edc265  \n",
       "1  324f757d-77a9-4dc3-b8a2-7ecaf188f4ab  \n",
       "2  45c34770-bf79-4877-83ea-17151b2fd21d  \n",
       "3  1e28cf39-8bd7-4688-84b3-e687b72eaa61  \n",
       "4  2a1b8a6c-5961-4196-a10e-cb9847cdbdaf  "
      ]
     },
     "execution_count": 30,
     "metadata": {},
     "output_type": "execute_result"
    }
   ],
   "source": [
    " editais_iniciacao_cientifica.head()"
   ]
  },
  {
   "cell_type": "markdown",
   "id": "8b9a9cf6-a04c-4188-a5fe-6ca58202e785",
   "metadata": {},
   "source": [
    "**Exportar o dataset**"
   ]
  },
  {
   "cell_type": "code",
   "execution_count": 31,
   "id": "b8c37bda-9007-4d5d-9f80-dab160892ca3",
   "metadata": {},
   "outputs": [],
   "source": [
    "export_path = Path(DA_STORAGE_DIR / \"preprocessed\")\n",
    "\n",
    "if not export_path.is_dir():\n",
    "    Path(export_path).mkdir()\n",
    "\n",
    "try:\n",
    "    editais_iniciacao_cientifica.to_csv(export_path / \"editais_iniciacao_cientifica.csv\", sep=\";\", index=False)\n",
    "except Exception as e:\n",
    "    print(str(e))"
   ]
  }
 ],
 "metadata": {
  "celltoolbar": "Raw Cell Format",
  "kernelspec": {
   "display_name": "Python 3 (ipykernel)",
   "language": "python",
   "name": "python3"
  },
  "language_info": {
   "codemirror_mode": {
    "name": "ipython",
    "version": 3
   },
   "file_extension": ".py",
   "mimetype": "text/x-python",
   "name": "python",
   "nbconvert_exporter": "python",
   "pygments_lexer": "ipython3",
   "version": "3.10.12"
  }
 },
 "nbformat": 4,
 "nbformat_minor": 5
}
