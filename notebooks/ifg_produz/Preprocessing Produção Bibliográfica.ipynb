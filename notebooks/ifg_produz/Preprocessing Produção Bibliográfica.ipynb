{
 "cells": [
  {
   "cell_type": "code",
   "execution_count": 1,
   "id": "9e7e33ae",
   "metadata": {
    "tags": [
     "parameters"
    ]
   },
   "outputs": [],
   "source": [
    "p_storage_dir = \"../../storage\""
   ]
  },
  {
   "cell_type": "code",
   "execution_count": 2,
   "id": "26699801",
   "metadata": {},
   "outputs": [],
   "source": [
    "import pandas as pd\n",
    "import numpy as np\n",
    "from pathlib import Path\n",
    "\n",
    "IFG_PRODUZ_STORAGE_DIR = Path(f\"{p_storage_dir}/ifg_produz\")"
   ]
  },
  {
   "cell_type": "markdown",
   "id": "63619834",
   "metadata": {},
   "source": [
    "## Produção Bibliográfica"
   ]
  },
  {
   "cell_type": "code",
   "execution_count": 3,
   "id": "e0a1fdaa",
   "metadata": {},
   "outputs": [
    {
     "data": {
      "text/html": [
       "<div>\n",
       "<style scoped>\n",
       "    .dataframe tbody tr th:only-of-type {\n",
       "        vertical-align: middle;\n",
       "    }\n",
       "\n",
       "    .dataframe tbody tr th {\n",
       "        vertical-align: top;\n",
       "    }\n",
       "\n",
       "    .dataframe thead th {\n",
       "        text-align: right;\n",
       "    }\n",
       "</style>\n",
       "<table border=\"1\" class=\"dataframe\">\n",
       "  <thead>\n",
       "    <tr style=\"text-align: right;\">\n",
       "      <th></th>\n",
       "      <th>id_producao</th>\n",
       "      <th>doi_producao</th>\n",
       "      <th>natureza</th>\n",
       "      <th>ano_producao</th>\n",
       "      <th>idioma</th>\n",
       "      <th>tipo</th>\n",
       "      <th>titulo_producao</th>\n",
       "      <th>classificacao_do_evento</th>\n",
       "      <th>meio_divulgacao</th>\n",
       "      <th>tipo_producao</th>\n",
       "      <th>id_conferencia_id</th>\n",
       "      <th>id_curriculo_id</th>\n",
       "      <th>id_revista_id</th>\n",
       "      <th>nome_pdf</th>\n",
       "    </tr>\n",
       "  </thead>\n",
       "  <tbody>\n",
       "    <tr>\n",
       "      <th>0</th>\n",
       "      <td>1</td>\n",
       "      <td>10.22149/teee.v2i1.80</td>\n",
       "      <td>COMPLETO</td>\n",
       "      <td>2016</td>\n",
       "      <td>Inglês</td>\n",
       "      <td>NaN</td>\n",
       "      <td>Metric for Calculation of System Complexity ba...</td>\n",
       "      <td>NaN</td>\n",
       "      <td>MEIO_DIGITAL</td>\n",
       "      <td>1</td>\n",
       "      <td>1</td>\n",
       "      <td>1</td>\n",
       "      <td>2</td>\n",
       "      <td>NaN</td>\n",
       "    </tr>\n",
       "    <tr>\n",
       "      <th>1</th>\n",
       "      <td>2</td>\n",
       "      <td>10.22149/teee.v2i1.89</td>\n",
       "      <td>COMPLETO</td>\n",
       "      <td>2016</td>\n",
       "      <td>Português</td>\n",
       "      <td>NaN</td>\n",
       "      <td>Calculation of the influence of slot geometry ...</td>\n",
       "      <td>NaN</td>\n",
       "      <td>MEIO_DIGITAL</td>\n",
       "      <td>1</td>\n",
       "      <td>1</td>\n",
       "      <td>1</td>\n",
       "      <td>2</td>\n",
       "      <td>NaN</td>\n",
       "    </tr>\n",
       "    <tr>\n",
       "      <th>2</th>\n",
       "      <td>3</td>\n",
       "      <td>10.22149/teee.v2i2.105</td>\n",
       "      <td>COMPLETO</td>\n",
       "      <td>2017</td>\n",
       "      <td>Português</td>\n",
       "      <td>NaN</td>\n",
       "      <td>Proposal of heuristic regression method applie...</td>\n",
       "      <td>NaN</td>\n",
       "      <td>MEIO_DIGITAL</td>\n",
       "      <td>1</td>\n",
       "      <td>1</td>\n",
       "      <td>1</td>\n",
       "      <td>2</td>\n",
       "      <td>NaN</td>\n",
       "    </tr>\n",
       "    <tr>\n",
       "      <th>3</th>\n",
       "      <td>4</td>\n",
       "      <td>10.1155/2019/1303241</td>\n",
       "      <td>COMPLETO</td>\n",
       "      <td>2019</td>\n",
       "      <td>Inglês</td>\n",
       "      <td>NaN</td>\n",
       "      <td>Mechanism for Measuring System Complexity Appl...</td>\n",
       "      <td>NaN</td>\n",
       "      <td>MEIO_DIGITAL</td>\n",
       "      <td>1</td>\n",
       "      <td>1</td>\n",
       "      <td>1</td>\n",
       "      <td>4</td>\n",
       "      <td>NaN</td>\n",
       "    </tr>\n",
       "    <tr>\n",
       "      <th>4</th>\n",
       "      <td>5</td>\n",
       "      <td>10.22149/teee.v2i2.99</td>\n",
       "      <td>COMPLETO</td>\n",
       "      <td>2017</td>\n",
       "      <td>Português</td>\n",
       "      <td>NaN</td>\n",
       "      <td>Analysis and monitoring of electrical groundin...</td>\n",
       "      <td>NaN</td>\n",
       "      <td>MEIO_DIGITAL</td>\n",
       "      <td>1</td>\n",
       "      <td>1</td>\n",
       "      <td>1</td>\n",
       "      <td>2</td>\n",
       "      <td>NaN</td>\n",
       "    </tr>\n",
       "  </tbody>\n",
       "</table>\n",
       "</div>"
      ],
      "text/plain": [
       "   id_producao            doi_producao  natureza  ano_producao     idioma  \\\n",
       "0            1   10.22149/teee.v2i1.80  COMPLETO          2016     Inglês   \n",
       "1            2   10.22149/teee.v2i1.89  COMPLETO          2016  Português   \n",
       "2            3  10.22149/teee.v2i2.105  COMPLETO          2017  Português   \n",
       "3            4    10.1155/2019/1303241  COMPLETO          2019     Inglês   \n",
       "4            5   10.22149/teee.v2i2.99  COMPLETO          2017  Português   \n",
       "\n",
       "  tipo                                    titulo_producao  \\\n",
       "0  NaN  Metric for Calculation of System Complexity ba...   \n",
       "1  NaN  Calculation of the influence of slot geometry ...   \n",
       "2  NaN  Proposal of heuristic regression method applie...   \n",
       "3  NaN  Mechanism for Measuring System Complexity Appl...   \n",
       "4  NaN  Analysis and monitoring of electrical groundin...   \n",
       "\n",
       "  classificacao_do_evento meio_divulgacao  tipo_producao  id_conferencia_id  \\\n",
       "0                     NaN    MEIO_DIGITAL              1                  1   \n",
       "1                     NaN    MEIO_DIGITAL              1                  1   \n",
       "2                     NaN    MEIO_DIGITAL              1                  1   \n",
       "3                     NaN    MEIO_DIGITAL              1                  1   \n",
       "4                     NaN    MEIO_DIGITAL              1                  1   \n",
       "\n",
       "   id_curriculo_id  id_revista_id  nome_pdf  \n",
       "0                1              2       NaN  \n",
       "1                1              2       NaN  \n",
       "2                1              2       NaN  \n",
       "3                1              4       NaN  \n",
       "4                1              2       NaN  "
      ]
     },
     "execution_count": 3,
     "metadata": {},
     "output_type": "execute_result"
    }
   ],
   "source": [
    "producao_bibliografica = pd.read_csv(IFG_PRODUZ_STORAGE_DIR / \"extracted/producaobibliografica.csv\", delimiter=\";\")\n",
    "\n",
    "producao_bibliografica.head(n=5)"
   ]
  },
  {
   "cell_type": "code",
   "execution_count": 4,
   "id": "e4f0c019-0551-4cc0-af68-61e752735f8e",
   "metadata": {},
   "outputs": [
    {
     "data": {
      "text/html": [
       "<div>\n",
       "<style scoped>\n",
       "    .dataframe tbody tr th:only-of-type {\n",
       "        vertical-align: middle;\n",
       "    }\n",
       "\n",
       "    .dataframe tbody tr th {\n",
       "        vertical-align: top;\n",
       "    }\n",
       "\n",
       "    .dataframe thead th {\n",
       "        text-align: right;\n",
       "    }\n",
       "</style>\n",
       "<table border=\"1\" class=\"dataframe\">\n",
       "  <thead>\n",
       "    <tr style=\"text-align: right;\">\n",
       "      <th></th>\n",
       "      <th>codigo</th>\n",
       "      <th>doi_producao</th>\n",
       "      <th>natureza</th>\n",
       "      <th>ano</th>\n",
       "      <th>idioma</th>\n",
       "      <th>tipo</th>\n",
       "      <th>titulo</th>\n",
       "      <th>classificacao_do_evento</th>\n",
       "      <th>meio_divulgacao</th>\n",
       "      <th>tipo_producao</th>\n",
       "      <th>codigo_conferencia</th>\n",
       "      <th>codigo_curriculo</th>\n",
       "      <th>codigo_revista</th>\n",
       "      <th>nome_pdf</th>\n",
       "    </tr>\n",
       "  </thead>\n",
       "  <tbody>\n",
       "    <tr>\n",
       "      <th>12668</th>\n",
       "      <td>12662</td>\n",
       "      <td>NaN</td>\n",
       "      <td>NaN</td>\n",
       "      <td>2015</td>\n",
       "      <td>Português</td>\n",
       "      <td>Capítulo de livro publicado</td>\n",
       "      <td>Hydrochar as a soil conditioner in ecological ...</td>\n",
       "      <td>NaN</td>\n",
       "      <td>VARIOS</td>\n",
       "      <td>5</td>\n",
       "      <td>1</td>\n",
       "      <td>1095</td>\n",
       "      <td>1</td>\n",
       "      <td>NaN</td>\n",
       "    </tr>\n",
       "    <tr>\n",
       "      <th>5749</th>\n",
       "      <td>5743</td>\n",
       "      <td>10.1016/j.fuel.2011.11.060</td>\n",
       "      <td>COMPLETO</td>\n",
       "      <td>2012</td>\n",
       "      <td>Inglês</td>\n",
       "      <td>NaN</td>\n",
       "      <td>Simultaneous gas chromatographic analysis of t...</td>\n",
       "      <td>NaN</td>\n",
       "      <td>MEIO_DIGITAL</td>\n",
       "      <td>1</td>\n",
       "      <td>1</td>\n",
       "      <td>513</td>\n",
       "      <td>2695</td>\n",
       "      <td>NaN</td>\n",
       "    </tr>\n",
       "    <tr>\n",
       "      <th>2136</th>\n",
       "      <td>2128</td>\n",
       "      <td>NaN</td>\n",
       "      <td>TEXTO_INTEGRAL</td>\n",
       "      <td>2011</td>\n",
       "      <td>Português</td>\n",
       "      <td>LIVRO_PUBLICADO</td>\n",
       "      <td>A Representação do Feminino na Ficção de Yvonn...</td>\n",
       "      <td>NaN</td>\n",
       "      <td>IMPRESSO</td>\n",
       "      <td>4</td>\n",
       "      <td>1</td>\n",
       "      <td>195</td>\n",
       "      <td>1</td>\n",
       "      <td>NaN</td>\n",
       "    </tr>\n",
       "    <tr>\n",
       "      <th>16711</th>\n",
       "      <td>16707</td>\n",
       "      <td>NaN</td>\n",
       "      <td>RESUMO_EXPANDIDO</td>\n",
       "      <td>2006</td>\n",
       "      <td>Português</td>\n",
       "      <td>NaN</td>\n",
       "      <td>Prática pedagógica e formação discente no ensi...</td>\n",
       "      <td>REGIONAL</td>\n",
       "      <td>MEIO_DIGITAL</td>\n",
       "      <td>2</td>\n",
       "      <td>1</td>\n",
       "      <td>1427</td>\n",
       "      <td>1</td>\n",
       "      <td>NaN</td>\n",
       "    </tr>\n",
       "    <tr>\n",
       "      <th>13559</th>\n",
       "      <td>13558</td>\n",
       "      <td>NaN</td>\n",
       "      <td>RESUMO</td>\n",
       "      <td>2006</td>\n",
       "      <td>Português</td>\n",
       "      <td>NaN</td>\n",
       "      <td>Evasão universitária: uma questão do curso de ...</td>\n",
       "      <td>REGIONAL</td>\n",
       "      <td>MEIO_DIGITAL</td>\n",
       "      <td>2</td>\n",
       "      <td>1</td>\n",
       "      <td>1165</td>\n",
       "      <td>1</td>\n",
       "      <td>NaN</td>\n",
       "    </tr>\n",
       "  </tbody>\n",
       "</table>\n",
       "</div>"
      ],
      "text/plain": [
       "       codigo                doi_producao          natureza   ano     idioma  \\\n",
       "12668   12662                         NaN               NaN  2015  Português   \n",
       "5749     5743  10.1016/j.fuel.2011.11.060          COMPLETO  2012     Inglês   \n",
       "2136     2128                         NaN    TEXTO_INTEGRAL  2011  Português   \n",
       "16711   16707                         NaN  RESUMO_EXPANDIDO  2006  Português   \n",
       "13559   13558                         NaN            RESUMO  2006  Português   \n",
       "\n",
       "                              tipo  \\\n",
       "12668  Capítulo de livro publicado   \n",
       "5749                           NaN   \n",
       "2136               LIVRO_PUBLICADO   \n",
       "16711                          NaN   \n",
       "13559                          NaN   \n",
       "\n",
       "                                                  titulo  \\\n",
       "12668  Hydrochar as a soil conditioner in ecological ...   \n",
       "5749   Simultaneous gas chromatographic analysis of t...   \n",
       "2136   A Representação do Feminino na Ficção de Yvonn...   \n",
       "16711  Prática pedagógica e formação discente no ensi...   \n",
       "13559  Evasão universitária: uma questão do curso de ...   \n",
       "\n",
       "      classificacao_do_evento meio_divulgacao  tipo_producao  \\\n",
       "12668                     NaN          VARIOS              5   \n",
       "5749                      NaN    MEIO_DIGITAL              1   \n",
       "2136                      NaN        IMPRESSO              4   \n",
       "16711                REGIONAL    MEIO_DIGITAL              2   \n",
       "13559                REGIONAL    MEIO_DIGITAL              2   \n",
       "\n",
       "       codigo_conferencia  codigo_curriculo  codigo_revista  nome_pdf  \n",
       "12668                   1              1095               1       NaN  \n",
       "5749                    1               513            2695       NaN  \n",
       "2136                    1               195               1       NaN  \n",
       "16711                   1              1427               1       NaN  \n",
       "13559                   1              1165               1       NaN  "
      ]
     },
     "execution_count": 4,
     "metadata": {},
     "output_type": "execute_result"
    }
   ],
   "source": [
    "producao_bibliografica = producao_bibliografica.rename(columns={\n",
    "    'id_producao': 'codigo',\n",
    "    'ano_producao': 'ano',\n",
    "    'titulo_producao': 'titulo',\n",
    "    'id_conferencia_id': 'codigo_conferencia',\n",
    "    'id_curriculo_id': 'codigo_curriculo',\n",
    "    'id_revista_id': 'codigo_revista'\n",
    "})\n",
    "\n",
    "producao_bibliografica.sample(n=5)"
   ]
  },
  {
   "cell_type": "markdown",
   "id": "986a04bf-8eea-4dc1-953d-1b18a8681289",
   "metadata": {},
   "source": [
    "### Análise das colunas 'tipo' e 'tipo_produção'"
   ]
  },
  {
   "cell_type": "code",
   "execution_count": 5,
   "id": "cef9731c-04c0-4b64-bb2b-b00eb0e70b86",
   "metadata": {},
   "outputs": [
    {
     "data": {
      "text/plain": [
       "array([nan, 'LIVRO_PUBLICADO', 'Capítulo de livro publicado',\n",
       "       'LIVRO_ORGANIZADO_OU_EDICAO'], dtype=object)"
      ]
     },
     "execution_count": 5,
     "metadata": {},
     "output_type": "execute_result"
    }
   ],
   "source": [
    "producao_bibliografica['tipo'].unique()"
   ]
  },
  {
   "cell_type": "markdown",
   "id": "3154cd41-54a4-404d-a8db-b16201ddd66a",
   "metadata": {},
   "source": [
    "A coluna 'tipo' possui dados válidos, o único tratamento que será feito é a renomeação de um valor para ficar no padrão dos outros, com letras maíusculas, sem acentos e com underline no lugar dos espaços."
   ]
  },
  {
   "cell_type": "code",
   "execution_count": 6,
   "id": "a44e0069-ef9e-472d-8561-2083319f483a",
   "metadata": {},
   "outputs": [],
   "source": [
    "cap_livro_irregular_indexes = producao_bibliografica[producao_bibliografica['tipo'] == 'Capítulo de livro publicado'].index"
   ]
  },
  {
   "cell_type": "code",
   "execution_count": 7,
   "id": "03e785c2-c2f2-44d5-b254-309f8bed3daf",
   "metadata": {},
   "outputs": [],
   "source": [
    "producao_bibliografica.loc[cap_livro_irregular_indexes, 'tipo'] = 'CAPITULO_DE_LIVRO_PUBLICADO'"
   ]
  },
  {
   "cell_type": "code",
   "execution_count": 8,
   "id": "708b457d-aad6-429a-a33c-893a1f69b0ee",
   "metadata": {},
   "outputs": [
    {
     "data": {
      "text/plain": [
       "array([nan, 'LIVRO_PUBLICADO', 'CAPITULO_DE_LIVRO_PUBLICADO',\n",
       "       'LIVRO_ORGANIZADO_OU_EDICAO'], dtype=object)"
      ]
     },
     "execution_count": 8,
     "metadata": {},
     "output_type": "execute_result"
    }
   ],
   "source": [
    "producao_bibliografica['tipo'].unique()"
   ]
  },
  {
   "cell_type": "markdown",
   "id": "304411ab-d1a9-4f22-81fa-1fe917d3b7f6",
   "metadata": {},
   "source": [
    "---"
   ]
  },
  {
   "cell_type": "code",
   "execution_count": 9,
   "id": "a678eb70-199b-4439-82bc-b90dbcfc03b8",
   "metadata": {},
   "outputs": [
    {
     "data": {
      "text/plain": [
       "array([1, 3, 2, 4, 5])"
      ]
     },
     "execution_count": 9,
     "metadata": {},
     "output_type": "execute_result"
    }
   ],
   "source": [
    "producao_bibliografica['tipo_producao'].unique()"
   ]
  },
  {
   "cell_type": "markdown",
   "id": "630c0ecf-a646-4f76-8b21-fecb3172b2ea",
   "metadata": {},
   "source": [
    "A coluna 'tipo_producao' possui dados que aparentam ser chaves estrangeiras, entretanto analisando o DER não é possível encontrar nenhuma referência que possa nos dar alguma informação útil de que representam os números utilizados nessa coluna, por isso a coluna será removida do dataset."
   ]
  },
  {
   "cell_type": "code",
   "execution_count": 10,
   "id": "02380e64-062a-4715-941d-f792b2ec92fe",
   "metadata": {},
   "outputs": [
    {
     "data": {
      "text/html": [
       "<div>\n",
       "<style scoped>\n",
       "    .dataframe tbody tr th:only-of-type {\n",
       "        vertical-align: middle;\n",
       "    }\n",
       "\n",
       "    .dataframe tbody tr th {\n",
       "        vertical-align: top;\n",
       "    }\n",
       "\n",
       "    .dataframe thead th {\n",
       "        text-align: right;\n",
       "    }\n",
       "</style>\n",
       "<table border=\"1\" class=\"dataframe\">\n",
       "  <thead>\n",
       "    <tr style=\"text-align: right;\">\n",
       "      <th></th>\n",
       "      <th>codigo</th>\n",
       "      <th>doi_producao</th>\n",
       "      <th>natureza</th>\n",
       "      <th>ano</th>\n",
       "      <th>idioma</th>\n",
       "      <th>tipo</th>\n",
       "      <th>titulo</th>\n",
       "      <th>classificacao_do_evento</th>\n",
       "      <th>meio_divulgacao</th>\n",
       "      <th>codigo_conferencia</th>\n",
       "      <th>codigo_curriculo</th>\n",
       "      <th>codigo_revista</th>\n",
       "      <th>nome_pdf</th>\n",
       "    </tr>\n",
       "  </thead>\n",
       "  <tbody>\n",
       "    <tr>\n",
       "      <th>16729</th>\n",
       "      <td>16725</td>\n",
       "      <td>NaN</td>\n",
       "      <td>NaN</td>\n",
       "      <td>2019</td>\n",
       "      <td>Português</td>\n",
       "      <td>CAPITULO_DE_LIVRO_PUBLICADO</td>\n",
       "      <td>Corpo e Juventude Skatista</td>\n",
       "      <td>NaN</td>\n",
       "      <td>IMPRESSO</td>\n",
       "      <td>1</td>\n",
       "      <td>1427</td>\n",
       "      <td>1</td>\n",
       "      <td>NaN</td>\n",
       "    </tr>\n",
       "    <tr>\n",
       "      <th>20140</th>\n",
       "      <td>20141</td>\n",
       "      <td>NaN</td>\n",
       "      <td>NAO_INFORMADO</td>\n",
       "      <td>2007</td>\n",
       "      <td>Português</td>\n",
       "      <td>LIVRO_PUBLICADO</td>\n",
       "      <td>Instrumento de Avaliação da gestão para os CEF...</td>\n",
       "      <td>NaN</td>\n",
       "      <td>IMPRESSO</td>\n",
       "      <td>1</td>\n",
       "      <td>1663</td>\n",
       "      <td>1</td>\n",
       "      <td>NaN</td>\n",
       "    </tr>\n",
       "    <tr>\n",
       "      <th>16386</th>\n",
       "      <td>16384</td>\n",
       "      <td>NaN</td>\n",
       "      <td>NaN</td>\n",
       "      <td>2012</td>\n",
       "      <td>Português</td>\n",
       "      <td>CAPITULO_DE_LIVRO_PUBLICADO</td>\n",
       "      <td>Dança contemporânea e a pesquisa sobre o caval...</td>\n",
       "      <td>NaN</td>\n",
       "      <td>NAO_INFORMADO</td>\n",
       "      <td>1</td>\n",
       "      <td>1403</td>\n",
       "      <td>1</td>\n",
       "      <td>NaN</td>\n",
       "    </tr>\n",
       "    <tr>\n",
       "      <th>14809</th>\n",
       "      <td>14809</td>\n",
       "      <td>NaN</td>\n",
       "      <td>COMPLETO</td>\n",
       "      <td>2011</td>\n",
       "      <td>Português</td>\n",
       "      <td>NaN</td>\n",
       "      <td>Avaliação do Desempenho Lumínico de Edificação...</td>\n",
       "      <td>NaN</td>\n",
       "      <td>MEIO_DIGITAL</td>\n",
       "      <td>1</td>\n",
       "      <td>1274</td>\n",
       "      <td>15385</td>\n",
       "      <td>NaN</td>\n",
       "    </tr>\n",
       "    <tr>\n",
       "      <th>13777</th>\n",
       "      <td>13776</td>\n",
       "      <td>NaN</td>\n",
       "      <td>RESUMO</td>\n",
       "      <td>2009</td>\n",
       "      <td>Português</td>\n",
       "      <td>NaN</td>\n",
       "      <td>A instância da escrita e da letra no documentá...</td>\n",
       "      <td>INTERNACIONAL</td>\n",
       "      <td>VARIOS</td>\n",
       "      <td>1</td>\n",
       "      <td>1172</td>\n",
       "      <td>1</td>\n",
       "      <td>NaN</td>\n",
       "    </tr>\n",
       "  </tbody>\n",
       "</table>\n",
       "</div>"
      ],
      "text/plain": [
       "       codigo doi_producao       natureza   ano     idioma  \\\n",
       "16729   16725          NaN            NaN  2019  Português   \n",
       "20140   20141          NaN  NAO_INFORMADO  2007  Português   \n",
       "16386   16384          NaN            NaN  2012  Português   \n",
       "14809   14809          NaN       COMPLETO  2011  Português   \n",
       "13777   13776          NaN         RESUMO  2009  Português   \n",
       "\n",
       "                              tipo  \\\n",
       "16729  CAPITULO_DE_LIVRO_PUBLICADO   \n",
       "20140              LIVRO_PUBLICADO   \n",
       "16386  CAPITULO_DE_LIVRO_PUBLICADO   \n",
       "14809                          NaN   \n",
       "13777                          NaN   \n",
       "\n",
       "                                                  titulo  \\\n",
       "16729                         Corpo e Juventude Skatista   \n",
       "20140  Instrumento de Avaliação da gestão para os CEF...   \n",
       "16386  Dança contemporânea e a pesquisa sobre o caval...   \n",
       "14809  Avaliação do Desempenho Lumínico de Edificação...   \n",
       "13777  A instância da escrita e da letra no documentá...   \n",
       "\n",
       "      classificacao_do_evento meio_divulgacao  codigo_conferencia  \\\n",
       "16729                     NaN        IMPRESSO                   1   \n",
       "20140                     NaN        IMPRESSO                   1   \n",
       "16386                     NaN   NAO_INFORMADO                   1   \n",
       "14809                     NaN    MEIO_DIGITAL                   1   \n",
       "13777           INTERNACIONAL          VARIOS                   1   \n",
       "\n",
       "       codigo_curriculo  codigo_revista  nome_pdf  \n",
       "16729              1427               1       NaN  \n",
       "20140              1663               1       NaN  \n",
       "16386              1403               1       NaN  \n",
       "14809              1274           15385       NaN  \n",
       "13777              1172               1       NaN  "
      ]
     },
     "execution_count": 10,
     "metadata": {},
     "output_type": "execute_result"
    }
   ],
   "source": [
    "producao_bibliografica = producao_bibliografica.drop(columns=['tipo_producao'])\n",
    "\n",
    "producao_bibliografica.sample(n=5)"
   ]
  },
  {
   "cell_type": "markdown",
   "id": "5dfb93eb-3613-406d-9f1c-60f3656758d5",
   "metadata": {},
   "source": [
    "### Tratamento das colunas com valores categóricos"
   ]
  },
  {
   "cell_type": "code",
   "execution_count": 13,
   "id": "758ee0f9-6789-45bb-af73-7b7bb68f37d6",
   "metadata": {},
   "outputs": [],
   "source": [
    "from replacer import replace_na_repr_with_nan"
   ]
  },
  {
   "cell_type": "code",
   "execution_count": 81,
   "id": "d84e608c-1547-47f3-8580-a046a6c2aca7",
   "metadata": {
    "scrolled": true
   },
   "outputs": [
    {
     "data": {
      "text/plain": [
       "array(['COMPLETO', 'RESUMO', 'TEXTO_INTEGRAL', nan, 'RESUMO_EXPANDIDO',\n",
       "       'NAO_INFORMADO', 'OUTRA', 'COLETANEA', 'LIVRO', 'ANAIS', 'VERBETE',\n",
       "       'CATALOGO'], dtype=object)"
      ]
     },
     "execution_count": 81,
     "metadata": {},
     "output_type": "execute_result"
    }
   ],
   "source": [
    "producao_bibliografica['natureza'].unique()"
   ]
  },
  {
   "cell_type": "code",
   "execution_count": 14,
   "id": "e0d89c71-b48e-4ed0-b924-71c9fadaebc8",
   "metadata": {},
   "outputs": [],
   "source": [
    "producao_bibliografica = replace_na_repr_with_nan(producao_bibliografica, 'NAO_INFORMADO', 'natureza')"
   ]
  },
  {
   "cell_type": "code",
   "execution_count": 43,
   "id": "87382525-0c0a-4e5c-90d8-bd75e53e276e",
   "metadata": {
    "scrolled": true
   },
   "outputs": [
    {
     "data": {
      "text/plain": [
       "array(['Inglês', 'Português', 'Bretão', 'Galego', 'Espanhol', 'Italiano',\n",
       "       'Malgaxe', 'Outros', 'Francês', 'Russo', 'Abhkazian', 'Albanês',\n",
       "       'Afar', 'Afrikaans', 'Maltês', 'Alemão', 'Árabe', 'Oria', 'Aimara'],\n",
       "      dtype=object)"
      ]
     },
     "execution_count": 43,
     "metadata": {},
     "output_type": "execute_result"
    }
   ],
   "source": [
    "producao_bibliografica['idioma'].unique()"
   ]
  },
  {
   "cell_type": "code",
   "execution_count": 33,
   "id": "c7f0155c-b984-4d1d-9045-8439465d07f5",
   "metadata": {},
   "outputs": [
    {
     "data": {
      "text/plain": [
       "array([nan, 'NACIONAL', 'INTERNACIONAL', 'LOCAL', 'NAO_INFORMADO',\n",
       "       'REGIONAL'], dtype=object)"
      ]
     },
     "execution_count": 33,
     "metadata": {},
     "output_type": "execute_result"
    }
   ],
   "source": [
    "producao_bibliografica['classificacao_do_evento'].unique()"
   ]
  },
  {
   "cell_type": "code",
   "execution_count": 16,
   "id": "443f5408-4ad2-4975-947c-099c202008b4",
   "metadata": {},
   "outputs": [],
   "source": [
    "producao_bibliografica = replace_na_repr_with_nan(producao_bibliografica, 'NAO_INFORMADO', 'classificacao_do_evento')"
   ]
  },
  {
   "cell_type": "code",
   "execution_count": 17,
   "id": "ae073cdf-ae35-4a84-9fd5-5dfbb505ee62",
   "metadata": {},
   "outputs": [
    {
     "data": {
      "text/plain": [
       "array(['MEIO_DIGITAL', 'VARIOS', 'NAO_INFORMADO', 'IMPRESSO',\n",
       "       'MEIO_MAGNETICO', 'OUTRO', 'FILME', 'HIPERTEXTO'], dtype=object)"
      ]
     },
     "execution_count": 17,
     "metadata": {},
     "output_type": "execute_result"
    }
   ],
   "source": [
    "producao_bibliografica['meio_divulgacao'].unique()"
   ]
  },
  {
   "cell_type": "code",
   "execution_count": 18,
   "id": "d528e0e6-39dd-4b49-adee-017a3642c079",
   "metadata": {},
   "outputs": [],
   "source": [
    "producao_bibliografica = replace_na_repr_with_nan(producao_bibliografica, 'NAO_INFORMADO', 'meio_divulgacao')"
   ]
  },
  {
   "cell_type": "code",
   "execution_count": 43,
   "id": "981c8e18-ce7e-4d25-b566-a3aa37d90dbc",
   "metadata": {},
   "outputs": [],
   "source": [
    "if producao_bibliografica['nome_pdf'].isna().all():\n",
    "    producao_bibliografica = producao_bibliografica.drop(columns='nome_pdf')"
   ]
  },
  {
   "cell_type": "code",
   "execution_count": 44,
   "id": "ef3cb882-39e8-4160-ab69-dfb4a6e7091a",
   "metadata": {},
   "outputs": [
    {
     "data": {
      "text/html": [
       "<div>\n",
       "<style scoped>\n",
       "    .dataframe tbody tr th:only-of-type {\n",
       "        vertical-align: middle;\n",
       "    }\n",
       "\n",
       "    .dataframe tbody tr th {\n",
       "        vertical-align: top;\n",
       "    }\n",
       "\n",
       "    .dataframe thead th {\n",
       "        text-align: right;\n",
       "    }\n",
       "</style>\n",
       "<table border=\"1\" class=\"dataframe\">\n",
       "  <thead>\n",
       "    <tr style=\"text-align: right;\">\n",
       "      <th></th>\n",
       "      <th>codigo</th>\n",
       "      <th>doi_producao</th>\n",
       "      <th>natureza</th>\n",
       "      <th>ano</th>\n",
       "      <th>idioma</th>\n",
       "      <th>tipo</th>\n",
       "      <th>titulo</th>\n",
       "      <th>classificacao_do_evento</th>\n",
       "      <th>meio_divulgacao</th>\n",
       "      <th>codigo_conferencia</th>\n",
       "      <th>codigo_curriculo</th>\n",
       "      <th>codigo_revista</th>\n",
       "    </tr>\n",
       "  </thead>\n",
       "  <tbody>\n",
       "    <tr>\n",
       "      <th>19680</th>\n",
       "      <td>19678</td>\n",
       "      <td>NaN</td>\n",
       "      <td>COMPLETO</td>\n",
       "      <td>2006</td>\n",
       "      <td>Português</td>\n",
       "      <td>NaN</td>\n",
       "      <td>Gestão Participativa e os conflitos entre as c...</td>\n",
       "      <td>INTERNACIONAL</td>\n",
       "      <td>VARIOS</td>\n",
       "      <td>1</td>\n",
       "      <td>1617</td>\n",
       "      <td>1</td>\n",
       "    </tr>\n",
       "    <tr>\n",
       "      <th>17601</th>\n",
       "      <td>17600</td>\n",
       "      <td>NaN</td>\n",
       "      <td>COMPLETO</td>\n",
       "      <td>2004</td>\n",
       "      <td>Português</td>\n",
       "      <td>NaN</td>\n",
       "      <td>Roda Viva (1968) de Chico Buarque: a dramaturg...</td>\n",
       "      <td>NaN</td>\n",
       "      <td>MEIO_DIGITAL</td>\n",
       "      <td>1</td>\n",
       "      <td>1481</td>\n",
       "      <td>11774</td>\n",
       "    </tr>\n",
       "    <tr>\n",
       "      <th>5637</th>\n",
       "      <td>5631</td>\n",
       "      <td>NaN</td>\n",
       "      <td>COMPLETO</td>\n",
       "      <td>2013</td>\n",
       "      <td>Bretão</td>\n",
       "      <td>NaN</td>\n",
       "      <td>A importância das abelhas nas produções agríco...</td>\n",
       "      <td>INTERNACIONAL</td>\n",
       "      <td>MEIO_DIGITAL</td>\n",
       "      <td>1</td>\n",
       "      <td>506</td>\n",
       "      <td>1</td>\n",
       "    </tr>\n",
       "    <tr>\n",
       "      <th>413</th>\n",
       "      <td>413</td>\n",
       "      <td>NaN</td>\n",
       "      <td>COMPLETO</td>\n",
       "      <td>2007</td>\n",
       "      <td>Português</td>\n",
       "      <td>NaN</td>\n",
       "      <td>PCH Mosquitão - O Controle Tecnológico do Conc...</td>\n",
       "      <td>NACIONAL</td>\n",
       "      <td>VARIOS</td>\n",
       "      <td>1</td>\n",
       "      <td>30</td>\n",
       "      <td>1</td>\n",
       "    </tr>\n",
       "    <tr>\n",
       "      <th>4840</th>\n",
       "      <td>4829</td>\n",
       "      <td>NaN</td>\n",
       "      <td>NaN</td>\n",
       "      <td>2019</td>\n",
       "      <td>Português</td>\n",
       "      <td>CAPITULO_DE_LIVRO_PUBLICADO</td>\n",
       "      <td>Políticas Educacionais: O Ensino Médio no Bras...</td>\n",
       "      <td>NaN</td>\n",
       "      <td>VARIOS</td>\n",
       "      <td>1</td>\n",
       "      <td>435</td>\n",
       "      <td>1</td>\n",
       "    </tr>\n",
       "  </tbody>\n",
       "</table>\n",
       "</div>"
      ],
      "text/plain": [
       "       codigo doi_producao  natureza   ano     idioma  \\\n",
       "19680   19678          NaN  COMPLETO  2006  Português   \n",
       "17601   17600          NaN  COMPLETO  2004  Português   \n",
       "5637     5631          NaN  COMPLETO  2013     Bretão   \n",
       "413       413          NaN  COMPLETO  2007  Português   \n",
       "4840     4829          NaN       NaN  2019  Português   \n",
       "\n",
       "                              tipo  \\\n",
       "19680                          NaN   \n",
       "17601                          NaN   \n",
       "5637                           NaN   \n",
       "413                            NaN   \n",
       "4840   CAPITULO_DE_LIVRO_PUBLICADO   \n",
       "\n",
       "                                                  titulo  \\\n",
       "19680  Gestão Participativa e os conflitos entre as c...   \n",
       "17601  Roda Viva (1968) de Chico Buarque: a dramaturg...   \n",
       "5637   A importância das abelhas nas produções agríco...   \n",
       "413    PCH Mosquitão - O Controle Tecnológico do Conc...   \n",
       "4840   Políticas Educacionais: O Ensino Médio no Bras...   \n",
       "\n",
       "      classificacao_do_evento meio_divulgacao  codigo_conferencia  \\\n",
       "19680           INTERNACIONAL          VARIOS                   1   \n",
       "17601                     NaN    MEIO_DIGITAL                   1   \n",
       "5637            INTERNACIONAL    MEIO_DIGITAL                   1   \n",
       "413                  NACIONAL          VARIOS                   1   \n",
       "4840                      NaN          VARIOS                   1   \n",
       "\n",
       "       codigo_curriculo  codigo_revista  \n",
       "19680              1617               1  \n",
       "17601              1481           11774  \n",
       "5637                506               1  \n",
       "413                  30               1  \n",
       "4840                435               1  "
      ]
     },
     "execution_count": 44,
     "metadata": {},
     "output_type": "execute_result"
    }
   ],
   "source": [
    "producao_bibliografica.sample(5)"
   ]
  },
  {
   "cell_type": "markdown",
   "id": "906a0af7-b060-4c06-af97-77b30d8dcd5a",
   "metadata": {},
   "source": [
    "**Exportar**"
   ]
  },
  {
   "cell_type": "code",
   "execution_count": 45,
   "id": "c55189b8-69fd-48e5-951a-c6c70437ee66",
   "metadata": {},
   "outputs": [],
   "source": [
    "export_path = Path(IFG_PRODUZ_STORAGE_DIR / \"preprocessed\")\n",
    "\n",
    "if not export_path.is_dir():\n",
    "    Path(export_path).mkdir()\n",
    "\n",
    "producao_bibliografica.to_csv(export_path / \"producao_bibliografica.csv\", sep=\";\", index=False)"
   ]
  }
 ],
 "metadata": {
  "kernelspec": {
   "display_name": "Python 3 (ipykernel)",
   "language": "python",
   "name": "python3"
  },
  "language_info": {
   "codemirror_mode": {
    "name": "ipython",
    "version": 3
   },
   "file_extension": ".py",
   "mimetype": "text/x-python",
   "name": "python",
   "nbconvert_exporter": "python",
   "pygments_lexer": "ipython3",
   "version": "3.10.12"
  }
 },
 "nbformat": 4,
 "nbformat_minor": 5
}
