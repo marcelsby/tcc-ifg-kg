{
 "cells": [
  {
   "cell_type": "code",
   "execution_count": 1,
   "id": "9e7e33ae",
   "metadata": {
    "tags": [
     "parameters"
    ]
   },
   "outputs": [],
   "source": [
    "p_storage_dir = \"../../storage\"\n",
    "p_notebooks_root = None"
   ]
  },
  {
   "cell_type": "code",
   "execution_count": 2,
   "id": "1d68e5ae-4bdd-4ce3-b0f6-cbfe2890327c",
   "metadata": {},
   "outputs": [],
   "source": [
    "if p_notebooks_root is not None:\n",
    "    import os\n",
    "    os.chdir(p_notebooks_root)"
   ]
  },
  {
   "cell_type": "code",
   "execution_count": 3,
   "id": "26699801",
   "metadata": {},
   "outputs": [],
   "source": [
    "import pandas as pd\n",
    "from pathlib import Path\n",
    "\n",
    "IFG_PRODUZ_STORAGE_DIR = Path(f\"{p_storage_dir}/ifg_produz\")"
   ]
  },
  {
   "cell_type": "markdown",
   "id": "63619834",
   "metadata": {},
   "source": [
    "## Orientação"
   ]
  },
  {
   "cell_type": "code",
   "execution_count": 4,
   "id": "e0a1fdaa",
   "metadata": {},
   "outputs": [
    {
     "data": {
      "text/html": [
       "<div>\n",
       "<style scoped>\n",
       "    .dataframe tbody tr th:only-of-type {\n",
       "        vertical-align: middle;\n",
       "    }\n",
       "\n",
       "    .dataframe tbody tr th {\n",
       "        vertical-align: top;\n",
       "    }\n",
       "\n",
       "    .dataframe thead th {\n",
       "        text-align: right;\n",
       "    }\n",
       "</style>\n",
       "<table border=\"1\" class=\"dataframe\">\n",
       "  <thead>\n",
       "    <tr style=\"text-align: right;\">\n",
       "      <th></th>\n",
       "      <th>id_orientacao</th>\n",
       "      <th>tipo_orientacao</th>\n",
       "      <th>titulo_orientacao</th>\n",
       "      <th>ano_orientacao</th>\n",
       "      <th>nome_orientado</th>\n",
       "      <th>id_curriculo_id</th>\n",
       "      <th>concluida</th>\n",
       "    </tr>\n",
       "  </thead>\n",
       "  <tbody>\n",
       "    <tr>\n",
       "      <th>55</th>\n",
       "      <td>55854</td>\n",
       "      <td>Iniciação Científica</td>\n",
       "      <td>Política e religião: estudos sobre manifestaçõ...</td>\n",
       "      <td>2020</td>\n",
       "      <td>Eduardo José de Alvarenga</td>\n",
       "      <td>10</td>\n",
       "      <td>False</td>\n",
       "    </tr>\n",
       "    <tr>\n",
       "      <th>931</th>\n",
       "      <td>56656</td>\n",
       "      <td>TRABALHO_DE_CONCLUSAO_DE_CURSO_GRADUACAO</td>\n",
       "      <td>Estudo de viabilidade de fundações para o câmp...</td>\n",
       "      <td>2017</td>\n",
       "      <td>Arthur Dias e Laís Wind</td>\n",
       "      <td>115</td>\n",
       "      <td>True</td>\n",
       "    </tr>\n",
       "    <tr>\n",
       "      <th>371</th>\n",
       "      <td>56131</td>\n",
       "      <td>TRABALHO_DE_CONCLUSAO_DE_CURSO_GRADUACAO</td>\n",
       "      <td>GESTÃO DE RESÍDUOS SÓLIDOS E LÍQUIDOS EM LAVA-...</td>\n",
       "      <td>2014</td>\n",
       "      <td>Leonardo Dorniger Feitosa</td>\n",
       "      <td>47</td>\n",
       "      <td>True</td>\n",
       "    </tr>\n",
       "    <tr>\n",
       "      <th>840</th>\n",
       "      <td>56566</td>\n",
       "      <td>INICIACAO_CIENTIFICA</td>\n",
       "      <td>Estudo sobre o comportamento do perfil de vent...</td>\n",
       "      <td>2014</td>\n",
       "      <td>Eduardo Palhares Sakemi</td>\n",
       "      <td>107</td>\n",
       "      <td>True</td>\n",
       "    </tr>\n",
       "    <tr>\n",
       "      <th>543</th>\n",
       "      <td>56304</td>\n",
       "      <td>Iniciação Científica</td>\n",
       "      <td>As metamorfoses do espaço: os dez anos de impl...</td>\n",
       "      <td>2018</td>\n",
       "      <td>Izadora Neto Reis</td>\n",
       "      <td>52</td>\n",
       "      <td>False</td>\n",
       "    </tr>\n",
       "  </tbody>\n",
       "</table>\n",
       "</div>"
      ],
      "text/plain": [
       "     id_orientacao                           tipo_orientacao  \\\n",
       "55           55854                      Iniciação Científica   \n",
       "931          56656  TRABALHO_DE_CONCLUSAO_DE_CURSO_GRADUACAO   \n",
       "371          56131  TRABALHO_DE_CONCLUSAO_DE_CURSO_GRADUACAO   \n",
       "840          56566                      INICIACAO_CIENTIFICA   \n",
       "543          56304                      Iniciação Científica   \n",
       "\n",
       "                                     titulo_orientacao  ano_orientacao  \\\n",
       "55   Política e religião: estudos sobre manifestaçõ...            2020   \n",
       "931  Estudo de viabilidade de fundações para o câmp...            2017   \n",
       "371  GESTÃO DE RESÍDUOS SÓLIDOS E LÍQUIDOS EM LAVA-...            2014   \n",
       "840  Estudo sobre o comportamento do perfil de vent...            2014   \n",
       "543  As metamorfoses do espaço: os dez anos de impl...            2018   \n",
       "\n",
       "                nome_orientado  id_curriculo_id  concluida  \n",
       "55   Eduardo José de Alvarenga               10      False  \n",
       "931    Arthur Dias e Laís Wind              115       True  \n",
       "371  Leonardo Dorniger Feitosa               47       True  \n",
       "840    Eduardo Palhares Sakemi              107       True  \n",
       "543          Izadora Neto Reis               52      False  "
      ]
     },
     "execution_count": 4,
     "metadata": {},
     "output_type": "execute_result"
    }
   ],
   "source": [
    "orientacao = pd.read_csv(IFG_PRODUZ_STORAGE_DIR / \"extracted/orientacao.csv\", delimiter=\";\")\n",
    "\n",
    "orientacao.sample(n=5)"
   ]
  },
  {
   "cell_type": "code",
   "execution_count": 5,
   "id": "2cb31d71-5206-455e-904d-23dfbceaefed",
   "metadata": {},
   "outputs": [],
   "source": [
    "orientacao = orientacao.rename(columns={\n",
    "    'id_orientacao': 'codigo',\n",
    "    'tipo_orientacao': 'tipo',\n",
    "    'titulo_orientacao': 'titulo',\n",
    "    'ano_orientacao': 'ano',\n",
    "    'id_curriculo_id': 'codigo_curriculo'\n",
    "})"
   ]
  },
  {
   "cell_type": "code",
   "execution_count": 6,
   "id": "3dc31f7f-7c43-43ac-a7bf-75c2a94e4164",
   "metadata": {},
   "outputs": [
    {
     "data": {
      "text/html": [
       "<div>\n",
       "<style scoped>\n",
       "    .dataframe tbody tr th:only-of-type {\n",
       "        vertical-align: middle;\n",
       "    }\n",
       "\n",
       "    .dataframe tbody tr th {\n",
       "        vertical-align: top;\n",
       "    }\n",
       "\n",
       "    .dataframe thead th {\n",
       "        text-align: right;\n",
       "    }\n",
       "</style>\n",
       "<table border=\"1\" class=\"dataframe\">\n",
       "  <thead>\n",
       "    <tr style=\"text-align: right;\">\n",
       "      <th></th>\n",
       "      <th>codigo</th>\n",
       "      <th>tipo</th>\n",
       "      <th>titulo</th>\n",
       "      <th>ano</th>\n",
       "      <th>nome_orientado</th>\n",
       "      <th>codigo_curriculo</th>\n",
       "      <th>concluida</th>\n",
       "    </tr>\n",
       "  </thead>\n",
       "  <tbody>\n",
       "    <tr>\n",
       "      <th>127</th>\n",
       "      <td>55915</td>\n",
       "      <td>Iniciação Científica</td>\n",
       "      <td>Acolhimento e formação acadêmica nos cursos su...</td>\n",
       "      <td>2018</td>\n",
       "      <td>Marilia Jorge Squissato da Silva</td>\n",
       "      <td>18</td>\n",
       "      <td>False</td>\n",
       "    </tr>\n",
       "    <tr>\n",
       "      <th>1282</th>\n",
       "      <td>57005</td>\n",
       "      <td>INICIACAO_CIENTIFICA</td>\n",
       "      <td>PROGRAMA NACIONAL DE IMUNIZAÇÃO: A PERCEPÇÃO D...</td>\n",
       "      <td>2017</td>\n",
       "      <td>Ismália Pereira da Silva de Paula</td>\n",
       "      <td>152</td>\n",
       "      <td>True</td>\n",
       "    </tr>\n",
       "    <tr>\n",
       "      <th>845</th>\n",
       "      <td>56571</td>\n",
       "      <td>Trabalho de conclusão de curso de graduação</td>\n",
       "      <td>Desenvolvimento de Plataforma Experimental par...</td>\n",
       "      <td>2019</td>\n",
       "      <td>Leonardo Rodrigues Mendes da Cunha</td>\n",
       "      <td>107</td>\n",
       "      <td>False</td>\n",
       "    </tr>\n",
       "  </tbody>\n",
       "</table>\n",
       "</div>"
      ],
      "text/plain": [
       "      codigo                                         tipo  \\\n",
       "127    55915                         Iniciação Científica   \n",
       "1282   57005                         INICIACAO_CIENTIFICA   \n",
       "845    56571  Trabalho de conclusão de curso de graduação   \n",
       "\n",
       "                                                 titulo   ano  \\\n",
       "127   Acolhimento e formação acadêmica nos cursos su...  2018   \n",
       "1282  PROGRAMA NACIONAL DE IMUNIZAÇÃO: A PERCEPÇÃO D...  2017   \n",
       "845   Desenvolvimento de Plataforma Experimental par...  2019   \n",
       "\n",
       "                          nome_orientado  codigo_curriculo  concluida  \n",
       "127     Marilia Jorge Squissato da Silva                18      False  \n",
       "1282   Ismália Pereira da Silva de Paula               152       True  \n",
       "845   Leonardo Rodrigues Mendes da Cunha               107      False  "
      ]
     },
     "execution_count": 6,
     "metadata": {},
     "output_type": "execute_result"
    }
   ],
   "source": [
    "orientacao.sample(n=3)"
   ]
  },
  {
   "cell_type": "code",
   "execution_count": 7,
   "id": "f15c2fb3-000b-465d-a113-ffe7f4090d6c",
   "metadata": {},
   "outputs": [
    {
     "data": {
      "text/plain": [
       "array(['TRABALHO_DE_CONCLUSAO_DE_CURSO_GRADUACAO',\n",
       "       'MONOGRAFIA_DE_CONCLUSAO_DE_CURSO_APERFEICOAMENTO_E_ESPECIALIZACAO',\n",
       "       'ORIENTACAO-DE-OUTRA-NATUREZA', 'Orientação de outra natureza',\n",
       "       'Iniciação Científica', 'INICIACAO_CIENTIFICA',\n",
       "       'Trabalho de conclusão de curso de graduação',\n",
       "       'Dissertação de mestrado', 'Tese de doutorado'], dtype=object)"
      ]
     },
     "execution_count": 7,
     "metadata": {},
     "output_type": "execute_result"
    }
   ],
   "source": [
    "orientacao['tipo'].unique()"
   ]
  },
  {
   "cell_type": "code",
   "execution_count": 8,
   "id": "4c4e70e6-668c-4130-b873-65c889323fc1",
   "metadata": {},
   "outputs": [],
   "source": [
    "tipo_replacement_map = {\n",
    "    'TRABALHO_DE_CONCLUSAO_DE_CURSO_GRADUACAO': 'Trabalho de Conclusão de Curso de Graduação',\n",
    "    'Trabalho de conclusão de curso de graduação': 'Trabalho de Conclusão de Curso de Graduação',\n",
    "    'MONOGRAFIA_DE_CONCLUSAO_DE_CURSO_APERFEICOAMENTO_E_ESPECIALIZACAO': 'Monografia de Conclusão de Curso de Aperfeiçoamento e Especialização',\n",
    "    'ORIENTACAO-DE-OUTRA-NATUREZA': 'Orientação de Outra Natureza',\n",
    "    'Orientação de outra natureza': 'Orientação de Outra Natureza',\n",
    "    'INICIACAO_CIENTIFICA': 'Iniciação Científica',\n",
    "    'Dissertação de mestrado': 'Dissertação de Mestrado',\n",
    "    'Tese de doutorado':'Tese de Doutorado'\n",
    "}"
   ]
  },
  {
   "cell_type": "code",
   "execution_count": 9,
   "id": "d4b0fb8f-b3ae-4e7a-b8c3-0468837aa9fa",
   "metadata": {},
   "outputs": [
    {
     "data": {
      "text/plain": [
       "array(['Trabalho de Conclusão de Curso de Graduação',\n",
       "       'Monografia de Conclusão de Curso de Aperfeiçoamento e Especialização',\n",
       "       'Orientação de Outra Natureza', 'Iniciação Científica',\n",
       "       'Dissertação de Mestrado', 'Tese de Doutorado'], dtype=object)"
      ]
     },
     "execution_count": 9,
     "metadata": {},
     "output_type": "execute_result"
    }
   ],
   "source": [
    "orientacao['tipo'] = orientacao['tipo'].replace(tipo_replacement_map)\n",
    "\n",
    "orientacao['tipo'].unique()"
   ]
  },
  {
   "cell_type": "code",
   "execution_count": 10,
   "id": "de7beade-cbe5-4dc1-8b68-72d3975ae753",
   "metadata": {},
   "outputs": [
    {
     "data": {
      "text/plain": [
       "1255    Avaliação Dos Perfis Obtidos Pelo Congelamento...\n",
       "434                         Voip Utilizando Tecnologia 3G\n",
       "897     Uma Aplicação Do Aprendizado De Sequências De ...\n",
       "397     Certificação Digital: Aspectos Teoricos E Prat...\n",
       "809         O Lúdico Na Educação Infantil: O Faz-De-Conta\n",
       "618          Implantação De Sistemas De Gestão Industrial\n",
       "1226    Levantamento Das Manifestações Patológicas Em ...\n",
       "Name: titulo, dtype: object"
      ]
     },
     "execution_count": 10,
     "metadata": {},
     "output_type": "execute_result"
    }
   ],
   "source": [
    "orientacao['titulo'] = orientacao['titulo'].apply(str.title).apply(str.strip)\n",
    "\n",
    "orientacao['titulo'].sample(n=7)"
   ]
  },
  {
   "cell_type": "code",
   "execution_count": 11,
   "id": "635fe8d3-3165-4ad3-a2e3-92e03b60b4e0",
   "metadata": {},
   "outputs": [
    {
     "data": {
      "text/plain": [
       "codigo              False\n",
       "tipo                False\n",
       "titulo              False\n",
       "ano                 False\n",
       "nome_orientado       True\n",
       "codigo_curriculo    False\n",
       "concluida           False\n",
       "dtype: bool"
      ]
     },
     "execution_count": 11,
     "metadata": {},
     "output_type": "execute_result"
    }
   ],
   "source": [
    "orientacao.isna().any()"
   ]
  },
  {
   "cell_type": "markdown",
   "id": "906a0af7-b060-4c06-af97-77b30d8dcd5a",
   "metadata": {},
   "source": [
    "**Exportar**"
   ]
  },
  {
   "cell_type": "code",
   "execution_count": 36,
   "id": "c55189b8-69fd-48e5-951a-c6c70437ee66",
   "metadata": {},
   "outputs": [],
   "source": [
    "export_path = Path(IFG_PRODUZ_STORAGE_DIR / \"preprocessed\")\n",
    "\n",
    "if not export_path.is_dir():\n",
    "    Path(export_path).mkdir()\n",
    "\n",
    "orientacao.to_csv(export_path / \"orientacao.csv\", sep=\";\", index=False)"
   ]
  }
 ],
 "metadata": {
  "kernelspec": {
   "display_name": "Python 3 (ipykernel)",
   "language": "python",
   "name": "python3"
  },
  "language_info": {
   "codemirror_mode": {
    "name": "ipython",
    "version": 3
   },
   "file_extension": ".py",
   "mimetype": "text/x-python",
   "name": "python",
   "nbconvert_exporter": "python",
   "pygments_lexer": "ipython3",
   "version": "3.10.12"
  }
 },
 "nbformat": 4,
 "nbformat_minor": 5
}
