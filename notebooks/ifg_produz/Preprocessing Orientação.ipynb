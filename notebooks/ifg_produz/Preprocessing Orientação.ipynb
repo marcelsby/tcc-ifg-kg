{
 "cells": [
  {
   "cell_type": "code",
   "execution_count": 27,
   "id": "9e7e33ae",
   "metadata": {
    "tags": [
     "parameters"
    ]
   },
   "outputs": [],
   "source": [
    "p_storage_dir = \"../../storage\"\n",
    "p_notebooks_root = None"
   ]
  },
  {
   "cell_type": "code",
   "execution_count": null,
   "id": "1d68e5ae-4bdd-4ce3-b0f6-cbfe2890327c",
   "metadata": {},
   "outputs": [],
   "source": [
    "if p_notebooks_root is not None:\n",
    "    import os\n",
    "    os.chdir(p_notebooks_root)"
   ]
  },
  {
   "cell_type": "code",
   "execution_count": 28,
   "id": "26699801",
   "metadata": {},
   "outputs": [],
   "source": [
    "import pandas as pd\n",
    "from pathlib import Path\n",
    "\n",
    "IFG_PRODUZ_STORAGE_DIR = Path(f\"{p_storage_dir}/ifg_produz\")"
   ]
  },
  {
   "cell_type": "markdown",
   "id": "63619834",
   "metadata": {},
   "source": [
    "## Orientação"
   ]
  },
  {
   "cell_type": "code",
   "execution_count": 29,
   "id": "e0a1fdaa",
   "metadata": {},
   "outputs": [
    {
     "data": {
      "text/html": [
       "<div>\n",
       "<style scoped>\n",
       "    .dataframe tbody tr th:only-of-type {\n",
       "        vertical-align: middle;\n",
       "    }\n",
       "\n",
       "    .dataframe tbody tr th {\n",
       "        vertical-align: top;\n",
       "    }\n",
       "\n",
       "    .dataframe thead th {\n",
       "        text-align: right;\n",
       "    }\n",
       "</style>\n",
       "<table border=\"1\" class=\"dataframe\">\n",
       "  <thead>\n",
       "    <tr style=\"text-align: right;\">\n",
       "      <th></th>\n",
       "      <th>id_orientacao</th>\n",
       "      <th>tipo_orientacao</th>\n",
       "      <th>titulo_orientacao</th>\n",
       "      <th>ano_orientacao</th>\n",
       "      <th>nome_orientado</th>\n",
       "      <th>id_curriculo_id</th>\n",
       "      <th>concluida</th>\n",
       "    </tr>\n",
       "  </thead>\n",
       "  <tbody>\n",
       "    <tr>\n",
       "      <th>303</th>\n",
       "      <td>56063</td>\n",
       "      <td>INICIACAO_CIENTIFICA</td>\n",
       "      <td>CONTRIBUIÇÃO DA EDUCAÇÃO FÍSICA NA PROMOÇÃO DA...</td>\n",
       "      <td>2020</td>\n",
       "      <td>Zilka dos Santos de Freitas Ribeiro</td>\n",
       "      <td>41</td>\n",
       "      <td>True</td>\n",
       "    </tr>\n",
       "    <tr>\n",
       "      <th>1186</th>\n",
       "      <td>56909</td>\n",
       "      <td>ORIENTACAO-DE-OUTRA-NATUREZA</td>\n",
       "      <td>Monitoria na Disciplina HGS: 1086 Seminário: L...</td>\n",
       "      <td>2020</td>\n",
       "      <td>Sthephany Lopes de França Ferreira</td>\n",
       "      <td>140</td>\n",
       "      <td>True</td>\n",
       "    </tr>\n",
       "    <tr>\n",
       "      <th>91</th>\n",
       "      <td>55880</td>\n",
       "      <td>TRABALHO_DE_CONCLUSAO_DE_CURSO_GRADUACAO</td>\n",
       "      <td>O lixo eletrônico de cada dia na Idade Mídia</td>\n",
       "      <td>2012</td>\n",
       "      <td>Fábia Cristina Pereira Da Silva</td>\n",
       "      <td>12</td>\n",
       "      <td>True</td>\n",
       "    </tr>\n",
       "    <tr>\n",
       "      <th>533</th>\n",
       "      <td>56294</td>\n",
       "      <td>INICIACAO_CIENTIFICA</td>\n",
       "      <td>Diagnóstico da questão urbana de inhumas: uma ...</td>\n",
       "      <td>2014</td>\n",
       "      <td>Kesley Ziméria Dias Dutra</td>\n",
       "      <td>52</td>\n",
       "      <td>True</td>\n",
       "    </tr>\n",
       "    <tr>\n",
       "      <th>1027</th>\n",
       "      <td>56751</td>\n",
       "      <td>TRABALHO_DE_CONCLUSAO_DE_CURSO_GRADUACAO</td>\n",
       "      <td>A Confeccção de um Jornal de Divulgação Cientí...</td>\n",
       "      <td>2013</td>\n",
       "      <td>Juliana Silva de Menezes Lopes</td>\n",
       "      <td>125</td>\n",
       "      <td>True</td>\n",
       "    </tr>\n",
       "  </tbody>\n",
       "</table>\n",
       "</div>"
      ],
      "text/plain": [
       "      id_orientacao                           tipo_orientacao  \\\n",
       "303           56063                      INICIACAO_CIENTIFICA   \n",
       "1186          56909              ORIENTACAO-DE-OUTRA-NATUREZA   \n",
       "91            55880  TRABALHO_DE_CONCLUSAO_DE_CURSO_GRADUACAO   \n",
       "533           56294                      INICIACAO_CIENTIFICA   \n",
       "1027          56751  TRABALHO_DE_CONCLUSAO_DE_CURSO_GRADUACAO   \n",
       "\n",
       "                                      titulo_orientacao  ano_orientacao  \\\n",
       "303   CONTRIBUIÇÃO DA EDUCAÇÃO FÍSICA NA PROMOÇÃO DA...            2020   \n",
       "1186  Monitoria na Disciplina HGS: 1086 Seminário: L...            2020   \n",
       "91         O lixo eletrônico de cada dia na Idade Mídia            2012   \n",
       "533   Diagnóstico da questão urbana de inhumas: uma ...            2014   \n",
       "1027  A Confeccção de um Jornal de Divulgação Cientí...            2013   \n",
       "\n",
       "                           nome_orientado  id_curriculo_id  concluida  \n",
       "303   Zilka dos Santos de Freitas Ribeiro               41       True  \n",
       "1186   Sthephany Lopes de França Ferreira              140       True  \n",
       "91        Fábia Cristina Pereira Da Silva               12       True  \n",
       "533             Kesley Ziméria Dias Dutra               52       True  \n",
       "1027       Juliana Silva de Menezes Lopes              125       True  "
      ]
     },
     "execution_count": 29,
     "metadata": {},
     "output_type": "execute_result"
    }
   ],
   "source": [
    "orientacao = pd.read_csv(IFG_PRODUZ_STORAGE_DIR / \"extracted/orientacao.csv\", delimiter=\";\")\n",
    "\n",
    "orientacao.sample(n=5)"
   ]
  },
  {
   "cell_type": "code",
   "execution_count": 30,
   "id": "2cb31d71-5206-455e-904d-23dfbceaefed",
   "metadata": {},
   "outputs": [],
   "source": [
    "orientacao = orientacao.rename(columns={\n",
    "    'id_orientacao': 'codigo',\n",
    "    'tipo_orientacao': 'tipo',\n",
    "    'titulo_orientacao': 'titulo',\n",
    "    'ano_orientacao': 'ano',\n",
    "    'id_curriculo_id': 'codigo_curriculo'\n",
    "})"
   ]
  },
  {
   "cell_type": "code",
   "execution_count": 31,
   "id": "3dc31f7f-7c43-43ac-a7bf-75c2a94e4164",
   "metadata": {},
   "outputs": [
    {
     "data": {
      "text/html": [
       "<div>\n",
       "<style scoped>\n",
       "    .dataframe tbody tr th:only-of-type {\n",
       "        vertical-align: middle;\n",
       "    }\n",
       "\n",
       "    .dataframe tbody tr th {\n",
       "        vertical-align: top;\n",
       "    }\n",
       "\n",
       "    .dataframe thead th {\n",
       "        text-align: right;\n",
       "    }\n",
       "</style>\n",
       "<table border=\"1\" class=\"dataframe\">\n",
       "  <thead>\n",
       "    <tr style=\"text-align: right;\">\n",
       "      <th></th>\n",
       "      <th>codigo</th>\n",
       "      <th>tipo</th>\n",
       "      <th>titulo</th>\n",
       "      <th>ano</th>\n",
       "      <th>nome_orientado</th>\n",
       "      <th>codigo_curriculo</th>\n",
       "      <th>concluida</th>\n",
       "    </tr>\n",
       "  </thead>\n",
       "  <tbody>\n",
       "    <tr>\n",
       "      <th>552</th>\n",
       "      <td>56313</td>\n",
       "      <td>TRABALHO_DE_CONCLUSAO_DE_CURSO_GRADUACAO</td>\n",
       "      <td>SISTEMAS ERP, CONCEITUALIZAÇÃO E IMPACTOS DE S...</td>\n",
       "      <td>2016</td>\n",
       "      <td>Filipe Ferreira Mendes</td>\n",
       "      <td>54</td>\n",
       "      <td>True</td>\n",
       "    </tr>\n",
       "    <tr>\n",
       "      <th>509</th>\n",
       "      <td>56270</td>\n",
       "      <td>Trabalho de conclusão de curso de graduação</td>\n",
       "      <td>Contribuições do PIBID na iniciação à docência...</td>\n",
       "      <td>2021</td>\n",
       "      <td>Cleidivânia da Silva Lima</td>\n",
       "      <td>49</td>\n",
       "      <td>False</td>\n",
       "    </tr>\n",
       "    <tr>\n",
       "      <th>931</th>\n",
       "      <td>56656</td>\n",
       "      <td>TRABALHO_DE_CONCLUSAO_DE_CURSO_GRADUACAO</td>\n",
       "      <td>Estudo de viabilidade de fundações para o câmp...</td>\n",
       "      <td>2017</td>\n",
       "      <td>Arthur Dias e Laís Wind</td>\n",
       "      <td>115</td>\n",
       "      <td>True</td>\n",
       "    </tr>\n",
       "  </tbody>\n",
       "</table>\n",
       "</div>"
      ],
      "text/plain": [
       "     codigo                                         tipo  \\\n",
       "552   56313     TRABALHO_DE_CONCLUSAO_DE_CURSO_GRADUACAO   \n",
       "509   56270  Trabalho de conclusão de curso de graduação   \n",
       "931   56656     TRABALHO_DE_CONCLUSAO_DE_CURSO_GRADUACAO   \n",
       "\n",
       "                                                titulo   ano  \\\n",
       "552  SISTEMAS ERP, CONCEITUALIZAÇÃO E IMPACTOS DE S...  2016   \n",
       "509  Contribuições do PIBID na iniciação à docência...  2021   \n",
       "931  Estudo de viabilidade de fundações para o câmp...  2017   \n",
       "\n",
       "                nome_orientado  codigo_curriculo  concluida  \n",
       "552     Filipe Ferreira Mendes                54       True  \n",
       "509  Cleidivânia da Silva Lima                49      False  \n",
       "931    Arthur Dias e Laís Wind               115       True  "
      ]
     },
     "execution_count": 31,
     "metadata": {},
     "output_type": "execute_result"
    }
   ],
   "source": [
    "orientacao.sample(n=3)"
   ]
  },
  {
   "cell_type": "code",
   "execution_count": 32,
   "id": "f15c2fb3-000b-465d-a113-ffe7f4090d6c",
   "metadata": {},
   "outputs": [
    {
     "data": {
      "text/plain": [
       "array(['TRABALHO_DE_CONCLUSAO_DE_CURSO_GRADUACAO',\n",
       "       'MONOGRAFIA_DE_CONCLUSAO_DE_CURSO_APERFEICOAMENTO_E_ESPECIALIZACAO',\n",
       "       'ORIENTACAO-DE-OUTRA-NATUREZA', 'Orientação de outra natureza',\n",
       "       'Iniciação Científica', 'INICIACAO_CIENTIFICA',\n",
       "       'Trabalho de conclusão de curso de graduação',\n",
       "       'Dissertação de mestrado', 'Tese de doutorado'], dtype=object)"
      ]
     },
     "execution_count": 32,
     "metadata": {},
     "output_type": "execute_result"
    }
   ],
   "source": [
    "orientacao['tipo'].unique()"
   ]
  },
  {
   "cell_type": "code",
   "execution_count": 33,
   "id": "4c4e70e6-668c-4130-b873-65c889323fc1",
   "metadata": {},
   "outputs": [],
   "source": [
    "tipo_replacement_map = {\n",
    "    'TRABALHO_DE_CONCLUSAO_DE_CURSO_GRADUACAO': 'Trabalho de Conclusão de Curso de Graduação',\n",
    "    'Trabalho de conclusão de curso de graduação': 'Trabalho de Conclusão de Curso de Graduação',\n",
    "    'MONOGRAFIA_DE_CONCLUSAO_DE_CURSO_APERFEICOAMENTO_E_ESPECIALIZACAO': 'Monografia de Conclusão de Curso de Aperfeiçoamento e Especialização',\n",
    "    'ORIENTACAO-DE-OUTRA-NATUREZA': 'Orientação de Outra Natureza',\n",
    "    'Orientação de outra natureza': 'Orientação de Outra Natureza',\n",
    "    'INICIACAO_CIENTIFICA': 'Iniciação Científica',\n",
    "    'Dissertação de mestrado': 'Dissertação de Mestrado',\n",
    "    'Tese de doutorado':'Tese de Doutorado'\n",
    "}"
   ]
  },
  {
   "cell_type": "code",
   "execution_count": 34,
   "id": "d4b0fb8f-b3ae-4e7a-b8c3-0468837aa9fa",
   "metadata": {},
   "outputs": [
    {
     "data": {
      "text/plain": [
       "array(['Trabalho de Conclusão de Curso de Graduação',\n",
       "       'Monografia de Conclusão de Curso de Aperfeiçoamento e Especialização',\n",
       "       'Orientação de Outra Natureza', 'Iniciação Científica',\n",
       "       'Dissertação de Mestrado', 'Tese de Doutorado'], dtype=object)"
      ]
     },
     "execution_count": 34,
     "metadata": {},
     "output_type": "execute_result"
    }
   ],
   "source": [
    "orientacao['tipo'] = orientacao['tipo'].replace(tipo_replacement_map)\n",
    "\n",
    "orientacao['tipo'].unique()"
   ]
  },
  {
   "cell_type": "code",
   "execution_count": 35,
   "id": "de7beade-cbe5-4dc1-8b68-72d3975ae753",
   "metadata": {},
   "outputs": [
    {
     "data": {
      "text/plain": [
       "253     Software Educativo Para Apoio Ao Processo De E...\n",
       "1162    Observatório: O Trabalho Real E A Formação Doc...\n",
       "1267    Avaliação Da Caracterização E Classificação Do...\n",
       "394     Modelos Estatisticos Empiricos De Propagacao D...\n",
       "621                           A História Dos Web Services\n",
       "951             Jogos E Brincadeiras Na Educação Infantil\n",
       "1332    Famílias Escravas No Sudoeste Brasileiro Do Sé...\n",
       "Name: titulo, dtype: object"
      ]
     },
     "execution_count": 35,
     "metadata": {},
     "output_type": "execute_result"
    }
   ],
   "source": [
    "orientacao['titulo'] = orientacao['titulo'].apply(str.title).apply(str.strip)\n",
    "\n",
    "orientacao['titulo'].sample(n=7)"
   ]
  },
  {
   "cell_type": "markdown",
   "id": "906a0af7-b060-4c06-af97-77b30d8dcd5a",
   "metadata": {},
   "source": [
    "**Exportar**"
   ]
  },
  {
   "cell_type": "code",
   "execution_count": 36,
   "id": "c55189b8-69fd-48e5-951a-c6c70437ee66",
   "metadata": {},
   "outputs": [],
   "source": [
    "export_path = Path(IFG_PRODUZ_STORAGE_DIR / \"preprocessed\")\n",
    "\n",
    "if not export_path.is_dir():\n",
    "    Path(export_path).mkdir()\n",
    "\n",
    "orientacao.to_csv(export_path / \"orientacao.csv\", sep=\";\", index=False)"
   ]
  }
 ],
 "metadata": {
  "kernelspec": {
   "display_name": "Python 3 (ipykernel)",
   "language": "python",
   "name": "python3"
  },
  "language_info": {
   "codemirror_mode": {
    "name": "ipython",
    "version": 3
   },
   "file_extension": ".py",
   "mimetype": "text/x-python",
   "name": "python",
   "nbconvert_exporter": "python",
   "pygments_lexer": "ipython3",
   "version": "3.10.12"
  }
 },
 "nbformat": 4,
 "nbformat_minor": 5
}
