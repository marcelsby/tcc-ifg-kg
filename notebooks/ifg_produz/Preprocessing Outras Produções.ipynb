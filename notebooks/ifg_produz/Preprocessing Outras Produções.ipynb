{
 "cells": [
  {
   "cell_type": "code",
   "execution_count": 11,
   "id": "9e7e33ae",
   "metadata": {
    "tags": [
     "parameters"
    ]
   },
   "outputs": [],
   "source": [
    "p_storage_dir = \"../../storage\"\n",
    "p_notebooks_root = None"
   ]
  },
  {
   "cell_type": "code",
   "execution_count": null,
   "id": "b15d23aa-bf9c-4529-98e3-5b1c82abd428",
   "metadata": {},
   "outputs": [],
   "source": [
    "if p_notebooks_root is not None:\n",
    "    import os\n",
    "    os.chdir(p_notebooks_root)"
   ]
  },
  {
   "cell_type": "code",
   "execution_count": 12,
   "id": "26699801",
   "metadata": {},
   "outputs": [],
   "source": [
    "import pandas as pd\n",
    "from pathlib import Path\n",
    "\n",
    "IFG_PRODUZ_STORAGE_DIR = Path(f\"{p_storage_dir}/ifg_produz\")"
   ]
  },
  {
   "cell_type": "markdown",
   "id": "63619834",
   "metadata": {},
   "source": [
    "## Outras Produções"
   ]
  },
  {
   "cell_type": "code",
   "execution_count": 13,
   "id": "e0a1fdaa",
   "metadata": {},
   "outputs": [
    {
     "data": {
      "text/html": [
       "<div>\n",
       "<style scoped>\n",
       "    .dataframe tbody tr th:only-of-type {\n",
       "        vertical-align: middle;\n",
       "    }\n",
       "\n",
       "    .dataframe tbody tr th {\n",
       "        vertical-align: top;\n",
       "    }\n",
       "\n",
       "    .dataframe thead th {\n",
       "        text-align: right;\n",
       "    }\n",
       "</style>\n",
       "<table border=\"1\" class=\"dataframe\">\n",
       "  <thead>\n",
       "    <tr style=\"text-align: right;\">\n",
       "      <th></th>\n",
       "      <th>id_producao_cultural</th>\n",
       "      <th>nome_producao</th>\n",
       "      <th>ano_producao</th>\n",
       "      <th>natureza</th>\n",
       "      <th>tipo</th>\n",
       "      <th>meio_de_divulgacao</th>\n",
       "      <th>id_curriculo_id</th>\n",
       "    </tr>\n",
       "  </thead>\n",
       "  <tbody>\n",
       "    <tr>\n",
       "      <th>268</th>\n",
       "      <td>269</td>\n",
       "      <td>Nova Viagem</td>\n",
       "      <td>2000</td>\n",
       "      <td>INTERPRETACAO</td>\n",
       "      <td>Musica</td>\n",
       "      <td>IMPRESSO</td>\n",
       "      <td>345</td>\n",
       "    </tr>\n",
       "    <tr>\n",
       "      <th>2515</th>\n",
       "      <td>2516</td>\n",
       "      <td>Este verão eles chegaram de Ricardo Tacuchian</td>\n",
       "      <td>2014</td>\n",
       "      <td>INTERPRETACAO</td>\n",
       "      <td>Musica</td>\n",
       "      <td>MEIO_MAGNETICO</td>\n",
       "      <td>1742</td>\n",
       "    </tr>\n",
       "    <tr>\n",
       "      <th>1570</th>\n",
       "      <td>1568</td>\n",
       "      <td>XV Concerto da Temporada de 2002 da Orquestra ...</td>\n",
       "      <td>2002</td>\n",
       "      <td>APRESENTACAO_DE_OBRA</td>\n",
       "      <td>Musica</td>\n",
       "      <td>IMPRESSO</td>\n",
       "      <td>1286</td>\n",
       "    </tr>\n",
       "    <tr>\n",
       "      <th>60</th>\n",
       "      <td>61</td>\n",
       "      <td>As prisões sob as lentes de Foucault</td>\n",
       "      <td>2016</td>\n",
       "      <td>TEATRAL</td>\n",
       "      <td>Artes-Cenicas</td>\n",
       "      <td>VARIOS</td>\n",
       "      <td>129</td>\n",
       "    </tr>\n",
       "    <tr>\n",
       "      <th>1790</th>\n",
       "      <td>1788</td>\n",
       "      <td>Híbridos</td>\n",
       "      <td>2005</td>\n",
       "      <td>TEATRAL</td>\n",
       "      <td>Artes-Cenicas</td>\n",
       "      <td>VARIOS</td>\n",
       "      <td>1387</td>\n",
       "    </tr>\n",
       "  </tbody>\n",
       "</table>\n",
       "</div>"
      ],
      "text/plain": [
       "      id_producao_cultural                                      nome_producao  \\\n",
       "268                    269                                        Nova Viagem   \n",
       "2515                  2516      Este verão eles chegaram de Ricardo Tacuchian   \n",
       "1570                  1568  XV Concerto da Temporada de 2002 da Orquestra ...   \n",
       "60                      61               As prisões sob as lentes de Foucault   \n",
       "1790                  1788                                           Híbridos   \n",
       "\n",
       "      ano_producao              natureza           tipo meio_de_divulgacao  \\\n",
       "268           2000         INTERPRETACAO         Musica           IMPRESSO   \n",
       "2515          2014         INTERPRETACAO         Musica     MEIO_MAGNETICO   \n",
       "1570          2002  APRESENTACAO_DE_OBRA         Musica           IMPRESSO   \n",
       "60            2016               TEATRAL  Artes-Cenicas             VARIOS   \n",
       "1790          2005               TEATRAL  Artes-Cenicas             VARIOS   \n",
       "\n",
       "      id_curriculo_id  \n",
       "268               345  \n",
       "2515             1742  \n",
       "1570             1286  \n",
       "60                129  \n",
       "1790             1387  "
      ]
     },
     "execution_count": 13,
     "metadata": {},
     "output_type": "execute_result"
    }
   ],
   "source": [
    "outras_producoes = pd.read_csv(IFG_PRODUZ_STORAGE_DIR / \"extracted/outras_producoes.csv\", delimiter=\";\")\n",
    "\n",
    "outras_producoes.sample(n=5)"
   ]
  },
  {
   "cell_type": "code",
   "execution_count": 14,
   "id": "2cb31d71-5206-455e-904d-23dfbceaefed",
   "metadata": {},
   "outputs": [],
   "source": [
    "outras_producoes = outras_producoes.rename(columns={\n",
    "    'id_producao_cultural': 'codigo',\n",
    "    'nome_producao': 'nome',\n",
    "    'ano_producao': 'ano',\n",
    "    'id_curriculo_id': 'codigo_curriculo'\n",
    "})"
   ]
  },
  {
   "cell_type": "code",
   "execution_count": 15,
   "id": "8a6002c9-ef28-413d-b711-6e9371ed3d5f",
   "metadata": {},
   "outputs": [
    {
     "data": {
      "text/html": [
       "<div>\n",
       "<style scoped>\n",
       "    .dataframe tbody tr th:only-of-type {\n",
       "        vertical-align: middle;\n",
       "    }\n",
       "\n",
       "    .dataframe tbody tr th {\n",
       "        vertical-align: top;\n",
       "    }\n",
       "\n",
       "    .dataframe thead th {\n",
       "        text-align: right;\n",
       "    }\n",
       "</style>\n",
       "<table border=\"1\" class=\"dataframe\">\n",
       "  <thead>\n",
       "    <tr style=\"text-align: right;\">\n",
       "      <th></th>\n",
       "      <th>codigo</th>\n",
       "      <th>nome</th>\n",
       "      <th>ano</th>\n",
       "      <th>natureza</th>\n",
       "      <th>tipo</th>\n",
       "      <th>meio_de_divulgacao</th>\n",
       "      <th>codigo_curriculo</th>\n",
       "    </tr>\n",
       "  </thead>\n",
       "  <tbody>\n",
       "    <tr>\n",
       "      <th>10</th>\n",
       "      <td>11</td>\n",
       "      <td>Coisas do Cerrado</td>\n",
       "      <td>2004</td>\n",
       "      <td>TEATRAL</td>\n",
       "      <td>Artes-Cenicas</td>\n",
       "      <td>OUTRO</td>\n",
       "      <td>12</td>\n",
       "    </tr>\n",
       "    <tr>\n",
       "      <th>615</th>\n",
       "      <td>615</td>\n",
       "      <td>Mostra de dança da Copa Sesc - Giro 8 cia de d...</td>\n",
       "      <td>2012</td>\n",
       "      <td>COREOGRAFICA</td>\n",
       "      <td>Artes-Cenicas</td>\n",
       "      <td>MEIO_DIGITAL</td>\n",
       "      <td>602</td>\n",
       "    </tr>\n",
       "    <tr>\n",
       "      <th>926</th>\n",
       "      <td>927</td>\n",
       "      <td>Show Camerata Caipira</td>\n",
       "      <td>2017</td>\n",
       "      <td>INTERPRETACAO</td>\n",
       "      <td>Musica</td>\n",
       "      <td>VARIOS</td>\n",
       "      <td>822</td>\n",
       "    </tr>\n",
       "    <tr>\n",
       "      <th>2444</th>\n",
       "      <td>2445</td>\n",
       "      <td>Concertos em Série - Recital Música e Dança</td>\n",
       "      <td>2002</td>\n",
       "      <td>INTERPRETACAO</td>\n",
       "      <td>Musica</td>\n",
       "      <td>IMPRESSO</td>\n",
       "      <td>1742</td>\n",
       "    </tr>\n",
       "    <tr>\n",
       "      <th>932</th>\n",
       "      <td>933</td>\n",
       "      <td>4o. Colóquio para Clarinetistas: pesquisa, for...</td>\n",
       "      <td>2018</td>\n",
       "      <td>INTERPRETACAO</td>\n",
       "      <td>Musica</td>\n",
       "      <td>MEIO_DIGITAL</td>\n",
       "      <td>822</td>\n",
       "    </tr>\n",
       "  </tbody>\n",
       "</table>\n",
       "</div>"
      ],
      "text/plain": [
       "      codigo                                               nome   ano  \\\n",
       "10        11                                  Coisas do Cerrado  2004   \n",
       "615      615  Mostra de dança da Copa Sesc - Giro 8 cia de d...  2012   \n",
       "926      927                              Show Camerata Caipira  2017   \n",
       "2444    2445        Concertos em Série - Recital Música e Dança  2002   \n",
       "932      933  4o. Colóquio para Clarinetistas: pesquisa, for...  2018   \n",
       "\n",
       "           natureza           tipo meio_de_divulgacao  codigo_curriculo  \n",
       "10          TEATRAL  Artes-Cenicas              OUTRO                12  \n",
       "615    COREOGRAFICA  Artes-Cenicas       MEIO_DIGITAL               602  \n",
       "926   INTERPRETACAO         Musica             VARIOS               822  \n",
       "2444  INTERPRETACAO         Musica           IMPRESSO              1742  \n",
       "932   INTERPRETACAO         Musica       MEIO_DIGITAL               822  "
      ]
     },
     "execution_count": 15,
     "metadata": {},
     "output_type": "execute_result"
    }
   ],
   "source": [
    "outras_producoes.sample(n=5)"
   ]
  },
  {
   "cell_type": "code",
   "execution_count": 16,
   "id": "98442a47-7d07-486a-96ea-f5b4c22dd368",
   "metadata": {},
   "outputs": [
    {
     "data": {
      "text/plain": [
       "array(['Outra Producao Artistica Cultural', 'Artes-Cenicas', 'Musica'],\n",
       "      dtype=object)"
      ]
     },
     "execution_count": 16,
     "metadata": {},
     "output_type": "execute_result"
    }
   ],
   "source": [
    "outras_producoes['tipo'].unique()"
   ]
  },
  {
   "cell_type": "code",
   "execution_count": 17,
   "id": "5acf0084-806f-44bf-b799-7601111542ca",
   "metadata": {},
   "outputs": [],
   "source": [
    "tipo_replacement_map = {\n",
    "    'Outra Producao Artistica Cultural': 'Outra Produção Artística Cultural',\n",
    "    'Artes-Cenicas': 'Artes-Cênicas',\n",
    "    'Musica': 'Música'\n",
    "}"
   ]
  },
  {
   "cell_type": "code",
   "execution_count": 18,
   "id": "66f85bef-8665-4e6a-b88f-4f4d5b354d80",
   "metadata": {},
   "outputs": [],
   "source": [
    "outras_producoes['tipo'] = outras_producoes['tipo'].replace(tipo_replacement_map)"
   ]
  },
  {
   "cell_type": "code",
   "execution_count": 19,
   "id": "261ac1f8-a78b-4737-95da-caed4846d23c",
   "metadata": {},
   "outputs": [
    {
     "data": {
      "text/plain": [
       "array(['Outra Produção Artística Cultural', 'Artes-Cênicas', 'Música'],\n",
       "      dtype=object)"
      ]
     },
     "execution_count": 19,
     "metadata": {},
     "output_type": "execute_result"
    }
   ],
   "source": [
    "outras_producoes['tipo'].unique()"
   ]
  },
  {
   "cell_type": "markdown",
   "id": "906a0af7-b060-4c06-af97-77b30d8dcd5a",
   "metadata": {},
   "source": [
    "**Exportar**"
   ]
  },
  {
   "cell_type": "code",
   "execution_count": 20,
   "id": "c55189b8-69fd-48e5-951a-c6c70437ee66",
   "metadata": {},
   "outputs": [],
   "source": [
    "export_path = Path(IFG_PRODUZ_STORAGE_DIR / \"preprocessed\")\n",
    "\n",
    "if not export_path.is_dir():\n",
    "    Path(export_path).mkdir()\n",
    "\n",
    "outras_producoes.to_csv(export_path / \"outras_producoes.csv\", sep=\";\", index=False)"
   ]
  }
 ],
 "metadata": {
  "kernelspec": {
   "display_name": "Python 3 (ipykernel)",
   "language": "python",
   "name": "python3"
  },
  "language_info": {
   "codemirror_mode": {
    "name": "ipython",
    "version": 3
   },
   "file_extension": ".py",
   "mimetype": "text/x-python",
   "name": "python",
   "nbconvert_exporter": "python",
   "pygments_lexer": "ipython3",
   "version": "3.10.12"
  }
 },
 "nbformat": 4,
 "nbformat_minor": 5
}
