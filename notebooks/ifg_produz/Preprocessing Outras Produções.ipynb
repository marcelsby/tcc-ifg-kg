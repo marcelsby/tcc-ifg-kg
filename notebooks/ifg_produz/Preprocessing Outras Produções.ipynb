{
 "cells": [
  {
   "cell_type": "code",
   "execution_count": 1,
   "id": "9e7e33ae",
   "metadata": {
    "tags": [
     "parameters"
    ]
   },
   "outputs": [],
   "source": [
    "p_storage_dir = \"../../storage\"\n",
    "p_notebooks_root = None"
   ]
  },
  {
   "cell_type": "code",
   "execution_count": 2,
   "id": "b15d23aa-bf9c-4529-98e3-5b1c82abd428",
   "metadata": {},
   "outputs": [],
   "source": [
    "if p_notebooks_root is not None:\n",
    "    import os\n",
    "    os.chdir(p_notebooks_root)"
   ]
  },
  {
   "cell_type": "code",
   "execution_count": 19,
   "id": "26699801",
   "metadata": {},
   "outputs": [],
   "source": [
    "import pandas as pd\n",
    "import numpy as np\n",
    "from pathlib import Path\n",
    "\n",
    "IFG_PRODUZ_STORAGE_DIR = Path(f\"{p_storage_dir}/ifg_produz\")"
   ]
  },
  {
   "cell_type": "markdown",
   "id": "63619834",
   "metadata": {},
   "source": [
    "## Outras Produções"
   ]
  },
  {
   "cell_type": "code",
   "execution_count": 4,
   "id": "e0a1fdaa",
   "metadata": {},
   "outputs": [
    {
     "data": {
      "text/html": [
       "<div>\n",
       "<style scoped>\n",
       "    .dataframe tbody tr th:only-of-type {\n",
       "        vertical-align: middle;\n",
       "    }\n",
       "\n",
       "    .dataframe tbody tr th {\n",
       "        vertical-align: top;\n",
       "    }\n",
       "\n",
       "    .dataframe thead th {\n",
       "        text-align: right;\n",
       "    }\n",
       "</style>\n",
       "<table border=\"1\" class=\"dataframe\">\n",
       "  <thead>\n",
       "    <tr style=\"text-align: right;\">\n",
       "      <th></th>\n",
       "      <th>id_producao_cultural</th>\n",
       "      <th>nome_producao</th>\n",
       "      <th>ano_producao</th>\n",
       "      <th>natureza</th>\n",
       "      <th>tipo</th>\n",
       "      <th>meio_de_divulgacao</th>\n",
       "      <th>id_curriculo_id</th>\n",
       "    </tr>\n",
       "  </thead>\n",
       "  <tbody>\n",
       "    <tr>\n",
       "      <th>417</th>\n",
       "      <td>418</td>\n",
       "      <td>Recital com Luis Gustavo Przybylski (violonist...</td>\n",
       "      <td>2003</td>\n",
       "      <td>INTERPRETACAO</td>\n",
       "      <td>Musica</td>\n",
       "      <td>NAO_INFORMADO</td>\n",
       "      <td>522</td>\n",
       "    </tr>\n",
       "    <tr>\n",
       "      <th>1913</th>\n",
       "      <td>1912</td>\n",
       "      <td>Superadas</td>\n",
       "      <td>2014</td>\n",
       "      <td>Produção Cultural - Local</td>\n",
       "      <td>Outra Producao Artistica Cultural</td>\n",
       "      <td>OUTRO</td>\n",
       "      <td>1414</td>\n",
       "    </tr>\n",
       "    <tr>\n",
       "      <th>1276</th>\n",
       "      <td>1275</td>\n",
       "      <td>Euterpe - 44a. Semana da música</td>\n",
       "      <td>2004</td>\n",
       "      <td>INTERPRETACAO</td>\n",
       "      <td>Musica</td>\n",
       "      <td>IMPRESSO</td>\n",
       "      <td>1168</td>\n",
       "    </tr>\n",
       "    <tr>\n",
       "      <th>276</th>\n",
       "      <td>277</td>\n",
       "      <td>Tabacaria</td>\n",
       "      <td>2007</td>\n",
       "      <td>Literatura</td>\n",
       "      <td>Outra Producao Artistica Cultural</td>\n",
       "      <td>OUTRO</td>\n",
       "      <td>454</td>\n",
       "    </tr>\n",
       "    <tr>\n",
       "      <th>264</th>\n",
       "      <td>265</td>\n",
       "      <td>RATMAM E BOBIN - COMÉDIA</td>\n",
       "      <td>1996</td>\n",
       "      <td>ROTEIRO PARA TEATRO</td>\n",
       "      <td>Outra Producao Artistica Cultural</td>\n",
       "      <td>OUTRO</td>\n",
       "      <td>320</td>\n",
       "    </tr>\n",
       "  </tbody>\n",
       "</table>\n",
       "</div>"
      ],
      "text/plain": [
       "      id_producao_cultural                                      nome_producao  \\\n",
       "417                    418  Recital com Luis Gustavo Przybylski (violonist...   \n",
       "1913                  1912                                          Superadas   \n",
       "1276                  1275                    Euterpe - 44a. Semana da música   \n",
       "276                    277                                          Tabacaria   \n",
       "264                    265                           RATMAM E BOBIN - COMÉDIA   \n",
       "\n",
       "      ano_producao                   natureza  \\\n",
       "417           2003              INTERPRETACAO   \n",
       "1913          2014  Produção Cultural - Local   \n",
       "1276          2004              INTERPRETACAO   \n",
       "276           2007                 Literatura   \n",
       "264           1996        ROTEIRO PARA TEATRO   \n",
       "\n",
       "                                   tipo meio_de_divulgacao  id_curriculo_id  \n",
       "417                              Musica      NAO_INFORMADO              522  \n",
       "1913  Outra Producao Artistica Cultural              OUTRO             1414  \n",
       "1276                             Musica           IMPRESSO             1168  \n",
       "276   Outra Producao Artistica Cultural              OUTRO              454  \n",
       "264   Outra Producao Artistica Cultural              OUTRO              320  "
      ]
     },
     "execution_count": 4,
     "metadata": {},
     "output_type": "execute_result"
    }
   ],
   "source": [
    "outras_producoes = pd.read_csv(IFG_PRODUZ_STORAGE_DIR / \"extracted/outras_producoes.csv\", delimiter=\";\")\n",
    "\n",
    "outras_producoes.sample(n=5)"
   ]
  },
  {
   "cell_type": "code",
   "execution_count": 5,
   "id": "2cb31d71-5206-455e-904d-23dfbceaefed",
   "metadata": {},
   "outputs": [],
   "source": [
    "outras_producoes = outras_producoes.rename(columns={\n",
    "    'id_producao_cultural': 'codigo',\n",
    "    'nome_producao': 'nome',\n",
    "    'ano_producao': 'ano',\n",
    "    'id_curriculo_id': 'codigo_curriculo'\n",
    "})"
   ]
  },
  {
   "cell_type": "code",
   "execution_count": 6,
   "id": "8a6002c9-ef28-413d-b711-6e9371ed3d5f",
   "metadata": {},
   "outputs": [
    {
     "data": {
      "text/html": [
       "<div>\n",
       "<style scoped>\n",
       "    .dataframe tbody tr th:only-of-type {\n",
       "        vertical-align: middle;\n",
       "    }\n",
       "\n",
       "    .dataframe tbody tr th {\n",
       "        vertical-align: top;\n",
       "    }\n",
       "\n",
       "    .dataframe thead th {\n",
       "        text-align: right;\n",
       "    }\n",
       "</style>\n",
       "<table border=\"1\" class=\"dataframe\">\n",
       "  <thead>\n",
       "    <tr style=\"text-align: right;\">\n",
       "      <th></th>\n",
       "      <th>codigo</th>\n",
       "      <th>nome</th>\n",
       "      <th>ano</th>\n",
       "      <th>natureza</th>\n",
       "      <th>tipo</th>\n",
       "      <th>meio_de_divulgacao</th>\n",
       "      <th>codigo_curriculo</th>\n",
       "    </tr>\n",
       "  </thead>\n",
       "  <tbody>\n",
       "    <tr>\n",
       "      <th>1937</th>\n",
       "      <td>1936</td>\n",
       "      <td>Concerto Romântico</td>\n",
       "      <td>2004</td>\n",
       "      <td>INTERPRETACAO</td>\n",
       "      <td>Musica</td>\n",
       "      <td>VARIOS</td>\n",
       "      <td>1432</td>\n",
       "    </tr>\n",
       "    <tr>\n",
       "      <th>442</th>\n",
       "      <td>443</td>\n",
       "      <td>Recital de Alunos. Participação Solo</td>\n",
       "      <td>1998</td>\n",
       "      <td>INTERPRETACAO</td>\n",
       "      <td>Musica</td>\n",
       "      <td>NAO_INFORMADO</td>\n",
       "      <td>522</td>\n",
       "    </tr>\n",
       "    <tr>\n",
       "      <th>1149</th>\n",
       "      <td>1149</td>\n",
       "      <td>I Semana de Educação, Ciência, Tecnologia e Cu...</td>\n",
       "      <td>2016</td>\n",
       "      <td>INTERPRETACAO</td>\n",
       "      <td>Musica</td>\n",
       "      <td>IMPRESSO</td>\n",
       "      <td>1128</td>\n",
       "    </tr>\n",
       "    <tr>\n",
       "      <th>1313</th>\n",
       "      <td>1312</td>\n",
       "      <td>GruLaPe no Festival Cozinha Goiás</td>\n",
       "      <td>2014</td>\n",
       "      <td>INTERPRETACAO</td>\n",
       "      <td>Musica</td>\n",
       "      <td>VARIOS</td>\n",
       "      <td>1168</td>\n",
       "    </tr>\n",
       "    <tr>\n",
       "      <th>1742</th>\n",
       "      <td>1740</td>\n",
       "      <td>Tota Pulchra és Maria, Dies Sanctificatus, Lau...</td>\n",
       "      <td>1997</td>\n",
       "      <td>INTERPRETACAO</td>\n",
       "      <td>Musica</td>\n",
       "      <td>NAO_INFORMADO</td>\n",
       "      <td>1369</td>\n",
       "    </tr>\n",
       "  </tbody>\n",
       "</table>\n",
       "</div>"
      ],
      "text/plain": [
       "      codigo                                               nome   ano  \\\n",
       "1937    1936                                 Concerto Romântico  2004   \n",
       "442      443               Recital de Alunos. Participação Solo  1998   \n",
       "1149    1149  I Semana de Educação, Ciência, Tecnologia e Cu...  2016   \n",
       "1313    1312                  GruLaPe no Festival Cozinha Goiás  2014   \n",
       "1742    1740  Tota Pulchra és Maria, Dies Sanctificatus, Lau...  1997   \n",
       "\n",
       "           natureza    tipo meio_de_divulgacao  codigo_curriculo  \n",
       "1937  INTERPRETACAO  Musica             VARIOS              1432  \n",
       "442   INTERPRETACAO  Musica      NAO_INFORMADO               522  \n",
       "1149  INTERPRETACAO  Musica           IMPRESSO              1128  \n",
       "1313  INTERPRETACAO  Musica             VARIOS              1168  \n",
       "1742  INTERPRETACAO  Musica      NAO_INFORMADO              1369  "
      ]
     },
     "execution_count": 6,
     "metadata": {},
     "output_type": "execute_result"
    }
   ],
   "source": [
    "outras_producoes.sample(n=5)"
   ]
  },
  {
   "cell_type": "code",
   "execution_count": 7,
   "id": "98442a47-7d07-486a-96ea-f5b4c22dd368",
   "metadata": {},
   "outputs": [
    {
     "data": {
      "text/plain": [
       "array(['Outra Producao Artistica Cultural', 'Artes-Cenicas', 'Musica'],\n",
       "      dtype=object)"
      ]
     },
     "execution_count": 7,
     "metadata": {},
     "output_type": "execute_result"
    }
   ],
   "source": [
    "outras_producoes['tipo'].unique()"
   ]
  },
  {
   "cell_type": "code",
   "execution_count": 8,
   "id": "5acf0084-806f-44bf-b799-7601111542ca",
   "metadata": {},
   "outputs": [],
   "source": [
    "tipo_replacement_map = {\n",
    "    'Outra Producao Artistica Cultural': 'Outra Produção Artística Cultural',\n",
    "    'Artes-Cenicas': 'Artes-Cênicas',\n",
    "    'Musica': 'Música'\n",
    "}"
   ]
  },
  {
   "cell_type": "code",
   "execution_count": 9,
   "id": "66f85bef-8665-4e6a-b88f-4f4d5b354d80",
   "metadata": {},
   "outputs": [],
   "source": [
    "outras_producoes['tipo'] = outras_producoes['tipo'].replace(tipo_replacement_map)"
   ]
  },
  {
   "cell_type": "code",
   "execution_count": 10,
   "id": "261ac1f8-a78b-4737-95da-caed4846d23c",
   "metadata": {},
   "outputs": [
    {
     "data": {
      "text/plain": [
       "array(['Outra Produção Artística Cultural', 'Artes-Cênicas', 'Música'],\n",
       "      dtype=object)"
      ]
     },
     "execution_count": 10,
     "metadata": {},
     "output_type": "execute_result"
    }
   ],
   "source": [
    "outras_producoes['tipo'].unique()"
   ]
  },
  {
   "cell_type": "code",
   "execution_count": 21,
   "id": "64f4e627-29df-483c-ada8-9bfa63561bee",
   "metadata": {},
   "outputs": [
    {
     "data": {
      "text/plain": [
       "array(['VARIOS', nan, 'IMPRESSO', 'MEIO_DIGITAL', 'OUTRO', 'HIPERTEXTO',\n",
       "       'FILME', 'MEIO_MAGNETICO'], dtype=object)"
      ]
     },
     "execution_count": 21,
     "metadata": {},
     "output_type": "execute_result"
    }
   ],
   "source": [
    "outras_producoes['meio_de_divulgacao'].unique()"
   ]
  },
  {
   "cell_type": "code",
   "execution_count": 20,
   "id": "a9b7c9c7-3f89-490e-98e2-24af76c59933",
   "metadata": {},
   "outputs": [],
   "source": [
    "outras_producoes['meio_de_divulgacao'] = outras_producoes['meio_de_divulgacao'].replace({'NAO_INFORMADO': np.nan})"
   ]
  },
  {
   "cell_type": "code",
   "execution_count": 22,
   "id": "bf2124df-4a28-41cb-894b-52d29de2c868",
   "metadata": {},
   "outputs": [
    {
     "data": {
      "text/plain": [
       "codigo                False\n",
       "nome                  False\n",
       "ano                   False\n",
       "natureza               True\n",
       "tipo                  False\n",
       "meio_de_divulgacao     True\n",
       "codigo_curriculo      False\n",
       "dtype: bool"
      ]
     },
     "execution_count": 22,
     "metadata": {},
     "output_type": "execute_result"
    }
   ],
   "source": [
    "outras_producoes.isna().any()"
   ]
  },
  {
   "cell_type": "markdown",
   "id": "906a0af7-b060-4c06-af97-77b30d8dcd5a",
   "metadata": {},
   "source": [
    "**Exportar**"
   ]
  },
  {
   "cell_type": "code",
   "execution_count": 20,
   "id": "c55189b8-69fd-48e5-951a-c6c70437ee66",
   "metadata": {},
   "outputs": [],
   "source": [
    "export_path = Path(IFG_PRODUZ_STORAGE_DIR / \"preprocessed\")\n",
    "\n",
    "if not export_path.is_dir():\n",
    "    Path(export_path).mkdir()\n",
    "\n",
    "outras_producoes.to_csv(export_path / \"outras_producoes.csv\", sep=\";\", index=False)"
   ]
  }
 ],
 "metadata": {
  "kernelspec": {
   "display_name": "Python 3 (ipykernel)",
   "language": "python",
   "name": "python3"
  },
  "language_info": {
   "codemirror_mode": {
    "name": "ipython",
    "version": 3
   },
   "file_extension": ".py",
   "mimetype": "text/x-python",
   "name": "python",
   "nbconvert_exporter": "python",
   "pygments_lexer": "ipython3",
   "version": "3.10.12"
  }
 },
 "nbformat": 4,
 "nbformat_minor": 5
}
