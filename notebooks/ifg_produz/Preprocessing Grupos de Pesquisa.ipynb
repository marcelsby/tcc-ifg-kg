{
 "cells": [
  {
   "cell_type": "code",
   "execution_count": 163,
   "id": "9e7e33ae",
   "metadata": {
    "tags": [
     "parameters"
    ]
   },
   "outputs": [],
   "source": [
    "p_storage_dir = \"../../storage\"\n",
    "p_notebooks_root = None"
   ]
  },
  {
   "cell_type": "code",
   "execution_count": 164,
   "id": "f5d67073-a162-4d70-9692-bf4a3a4e59ca",
   "metadata": {},
   "outputs": [],
   "source": [
    "if p_notebooks_root is not None:\n",
    "    import os\n",
    "    os.chdir(p_notebooks_root)"
   ]
  },
  {
   "cell_type": "code",
   "execution_count": 165,
   "id": "26699801",
   "metadata": {},
   "outputs": [],
   "source": [
    "import pandas as pd\n",
    "import numpy as np\n",
    "from pathlib import Path\n",
    "\n",
    "IFG_PRODUZ_STORAGE_DIR = Path(f\"{p_storage_dir}/ifg_produz\")"
   ]
  },
  {
   "cell_type": "markdown",
   "id": "1680b17b-7dc0-45ba-8bbb-710afed95302",
   "metadata": {},
   "source": [
    "## Tabela Intermediária"
   ]
  },
  {
   "cell_type": "markdown",
   "id": "9ced0cff-285a-47e5-a4fd-43ed339bcd56",
   "metadata": {},
   "source": [
    "![Tabela Intermediária](./assets/images/tabela_intermediaria_grupos_de_pesquisa.png)"
   ]
  },
  {
   "cell_type": "code",
   "execution_count": 166,
   "id": "a39d92b9-babb-4c2c-921b-1457cf63259d",
   "metadata": {},
   "outputs": [],
   "source": [
    "intermediaria = pd.read_csv(IFG_PRODUZ_STORAGE_DIR / \"extracted/curriculo_grupos.csv\", delimiter=\";\", dtype={'curriculo_id': 'Int64'})"
   ]
  },
  {
   "cell_type": "code",
   "execution_count": 167,
   "id": "b7c8c2df-3781-439b-9e0d-e05a0b4c0c86",
   "metadata": {},
   "outputs": [
    {
     "data": {
      "text/html": [
       "<div>\n",
       "<style scoped>\n",
       "    .dataframe tbody tr th:only-of-type {\n",
       "        vertical-align: middle;\n",
       "    }\n",
       "\n",
       "    .dataframe tbody tr th {\n",
       "        vertical-align: top;\n",
       "    }\n",
       "\n",
       "    .dataframe thead th {\n",
       "        text-align: right;\n",
       "    }\n",
       "</style>\n",
       "<table border=\"1\" class=\"dataframe\">\n",
       "  <thead>\n",
       "    <tr style=\"text-align: right;\">\n",
       "      <th></th>\n",
       "      <th>id_curriculo_linha_grupo</th>\n",
       "      <th>curriculo_id</th>\n",
       "      <th>grupos_id</th>\n",
       "      <th>linhas_id</th>\n",
       "    </tr>\n",
       "  </thead>\n",
       "  <tbody>\n",
       "    <tr>\n",
       "      <th>0</th>\n",
       "      <td>1</td>\n",
       "      <td>888</td>\n",
       "      <td>1</td>\n",
       "      <td>1</td>\n",
       "    </tr>\n",
       "    <tr>\n",
       "      <th>1</th>\n",
       "      <td>2</td>\n",
       "      <td>1438</td>\n",
       "      <td>1</td>\n",
       "      <td>1</td>\n",
       "    </tr>\n",
       "    <tr>\n",
       "      <th>2</th>\n",
       "      <td>3</td>\n",
       "      <td>973</td>\n",
       "      <td>1</td>\n",
       "      <td>1</td>\n",
       "    </tr>\n",
       "    <tr>\n",
       "      <th>3</th>\n",
       "      <td>4</td>\n",
       "      <td>1324</td>\n",
       "      <td>1</td>\n",
       "      <td>1</td>\n",
       "    </tr>\n",
       "    <tr>\n",
       "      <th>4</th>\n",
       "      <td>5</td>\n",
       "      <td>39</td>\n",
       "      <td>1</td>\n",
       "      <td>1</td>\n",
       "    </tr>\n",
       "  </tbody>\n",
       "</table>\n",
       "</div>"
      ],
      "text/plain": [
       "   id_curriculo_linha_grupo  curriculo_id  grupos_id  linhas_id\n",
       "0                         1           888          1          1\n",
       "1                         2          1438          1          1\n",
       "2                         3           973          1          1\n",
       "3                         4          1324          1          1\n",
       "4                         5            39          1          1"
      ]
     },
     "execution_count": 167,
     "metadata": {},
     "output_type": "execute_result"
    }
   ],
   "source": [
    "intermediaria.head()"
   ]
  },
  {
   "cell_type": "code",
   "execution_count": 168,
   "id": "3e886c7f-d0f2-4bc9-8a1b-88084a161e27",
   "metadata": {},
   "outputs": [
    {
     "data": {
      "text/plain": [
       "0       888\n",
       "1      1438\n",
       "2       973\n",
       "3      1324\n",
       "4        39\n",
       "       ... \n",
       "983    1263\n",
       "984     564\n",
       "985     555\n",
       "986    1436\n",
       "987     893\n",
       "Name: curriculo_id, Length: 988, dtype: Int64"
      ]
     },
     "execution_count": 168,
     "metadata": {},
     "output_type": "execute_result"
    }
   ],
   "source": [
    "intermediaria['curriculo_id']"
   ]
  },
  {
   "cell_type": "markdown",
   "id": "63619834",
   "metadata": {
    "jp-MarkdownHeadingCollapsed": true
   },
   "source": [
    "## Linhas de Pesquisa"
   ]
  },
  {
   "cell_type": "code",
   "execution_count": 169,
   "id": "e0a1fdaa",
   "metadata": {},
   "outputs": [
    {
     "data": {
      "text/html": [
       "<div>\n",
       "<style scoped>\n",
       "    .dataframe tbody tr th:only-of-type {\n",
       "        vertical-align: middle;\n",
       "    }\n",
       "\n",
       "    .dataframe tbody tr th {\n",
       "        vertical-align: top;\n",
       "    }\n",
       "\n",
       "    .dataframe thead th {\n",
       "        text-align: right;\n",
       "    }\n",
       "</style>\n",
       "<table border=\"1\" class=\"dataframe\">\n",
       "  <thead>\n",
       "    <tr style=\"text-align: right;\">\n",
       "      <th></th>\n",
       "      <th>id_linha</th>\n",
       "      <th>nome_da_linha</th>\n",
       "    </tr>\n",
       "  </thead>\n",
       "  <tbody>\n",
       "    <tr>\n",
       "      <th>0</th>\n",
       "      <td>1</td>\n",
       "      <td>Ambiente, Saúde, Qualidade de Vida e Sociedade</td>\n",
       "    </tr>\n",
       "    <tr>\n",
       "      <th>1</th>\n",
       "      <td>2</td>\n",
       "      <td>Estudos interdisciplinares em Infecções Relaci...</td>\n",
       "    </tr>\n",
       "    <tr>\n",
       "      <th>2</th>\n",
       "      <td>3</td>\n",
       "      <td>Formação humana e cultura corporal</td>\n",
       "    </tr>\n",
       "    <tr>\n",
       "      <th>3</th>\n",
       "      <td>4</td>\n",
       "      <td>Política educacional, currículo e trabalho doc...</td>\n",
       "    </tr>\n",
       "    <tr>\n",
       "      <th>4</th>\n",
       "      <td>5</td>\n",
       "      <td>Processo educativo e trabalho pedagógico</td>\n",
       "    </tr>\n",
       "  </tbody>\n",
       "</table>\n",
       "</div>"
      ],
      "text/plain": [
       "   id_linha                                      nome_da_linha\n",
       "0         1     Ambiente, Saúde, Qualidade de Vida e Sociedade\n",
       "1         2  Estudos interdisciplinares em Infecções Relaci...\n",
       "2         3                 Formação humana e cultura corporal\n",
       "3         4  Política educacional, currículo e trabalho doc...\n",
       "4         5           Processo educativo e trabalho pedagógico"
      ]
     },
     "execution_count": 169,
     "metadata": {},
     "output_type": "execute_result"
    }
   ],
   "source": [
    "linhas_de_pesquisa = pd.read_csv(IFG_PRODUZ_STORAGE_DIR / \"extracted/linhas_de_pesquisa.csv\", delimiter=\";\")\n",
    "\n",
    "linhas_de_pesquisa.head(n=5)"
   ]
  },
  {
   "cell_type": "code",
   "execution_count": 170,
   "id": "e4f0c019-0551-4cc0-af68-61e752735f8e",
   "metadata": {},
   "outputs": [
    {
     "data": {
      "text/html": [
       "<div>\n",
       "<style scoped>\n",
       "    .dataframe tbody tr th:only-of-type {\n",
       "        vertical-align: middle;\n",
       "    }\n",
       "\n",
       "    .dataframe tbody tr th {\n",
       "        vertical-align: top;\n",
       "    }\n",
       "\n",
       "    .dataframe thead th {\n",
       "        text-align: right;\n",
       "    }\n",
       "</style>\n",
       "<table border=\"1\" class=\"dataframe\">\n",
       "  <thead>\n",
       "    <tr style=\"text-align: right;\">\n",
       "      <th></th>\n",
       "      <th>codigo</th>\n",
       "      <th>titulo</th>\n",
       "    </tr>\n",
       "  </thead>\n",
       "  <tbody>\n",
       "    <tr>\n",
       "      <th>249</th>\n",
       "      <td>250</td>\n",
       "      <td>Desenvolvimento e análises de materiais e proc...</td>\n",
       "    </tr>\n",
       "    <tr>\n",
       "      <th>169</th>\n",
       "      <td>170</td>\n",
       "      <td>Planejamento Integrado dos Recursos Hídricos</td>\n",
       "    </tr>\n",
       "    <tr>\n",
       "      <th>43</th>\n",
       "      <td>44</td>\n",
       "      <td>Gramática e ensino</td>\n",
       "    </tr>\n",
       "    <tr>\n",
       "      <th>210</th>\n",
       "      <td>211</td>\n",
       "      <td>Educação, Cultura e Memória</td>\n",
       "    </tr>\n",
       "    <tr>\n",
       "      <th>90</th>\n",
       "      <td>91</td>\n",
       "      <td>Educação em Ciência, Tecnologia, Sociedade e A...</td>\n",
       "    </tr>\n",
       "  </tbody>\n",
       "</table>\n",
       "</div>"
      ],
      "text/plain": [
       "     codigo                                             titulo\n",
       "249     250  Desenvolvimento e análises de materiais e proc...\n",
       "169     170       Planejamento Integrado dos Recursos Hídricos\n",
       "43       44                                 Gramática e ensino\n",
       "210     211                        Educação, Cultura e Memória\n",
       "90       91  Educação em Ciência, Tecnologia, Sociedade e A..."
      ]
     },
     "execution_count": 170,
     "metadata": {},
     "output_type": "execute_result"
    }
   ],
   "source": [
    "linhas_de_pesquisa = linhas_de_pesquisa.rename(columns={\n",
    "    'id_linha': 'codigo',\n",
    "    'nome_da_linha': 'titulo',\n",
    "})\n",
    "\n",
    "linhas_de_pesquisa.sample(n=5)"
   ]
  },
  {
   "cell_type": "code",
   "execution_count": 171,
   "id": "f875d617-f5cd-459c-ba92-063cec88820b",
   "metadata": {},
   "outputs": [],
   "source": [
    "if not (linhas_de_pesquisa['titulo'] == linhas_de_pesquisa['titulo'].str.strip()).all():\n",
    "    linhas_de_pesquisa['titulo'] = linhas_de_pesquisa['titulo'].str.strip()"
   ]
  },
  {
   "cell_type": "code",
   "execution_count": 172,
   "id": "07c04802-bb80-46f5-8d5f-ff128e5d1869",
   "metadata": {},
   "outputs": [
    {
     "data": {
      "text/html": [
       "<div>\n",
       "<style scoped>\n",
       "    .dataframe tbody tr th:only-of-type {\n",
       "        vertical-align: middle;\n",
       "    }\n",
       "\n",
       "    .dataframe tbody tr th {\n",
       "        vertical-align: top;\n",
       "    }\n",
       "\n",
       "    .dataframe thead th {\n",
       "        text-align: right;\n",
       "    }\n",
       "</style>\n",
       "<table border=\"1\" class=\"dataframe\">\n",
       "  <thead>\n",
       "    <tr style=\"text-align: right;\">\n",
       "      <th></th>\n",
       "      <th>codigo</th>\n",
       "      <th>titulo</th>\n",
       "    </tr>\n",
       "  </thead>\n",
       "  <tbody>\n",
       "    <tr>\n",
       "      <th>153</th>\n",
       "      <td>154</td>\n",
       "      <td>Análise Biomecânica da Postura e do Movimento ...</td>\n",
       "    </tr>\n",
       "    <tr>\n",
       "      <th>59</th>\n",
       "      <td>60</td>\n",
       "      <td>Logística de Suprimentos</td>\n",
       "    </tr>\n",
       "    <tr>\n",
       "      <th>43</th>\n",
       "      <td>44</td>\n",
       "      <td>Gramática e ensino</td>\n",
       "    </tr>\n",
       "    <tr>\n",
       "      <th>115</th>\n",
       "      <td>116</td>\n",
       "      <td>Arte, processos criativos comunitários e sua p...</td>\n",
       "    </tr>\n",
       "    <tr>\n",
       "      <th>76</th>\n",
       "      <td>77</td>\n",
       "      <td>Internet das Coisas</td>\n",
       "    </tr>\n",
       "  </tbody>\n",
       "</table>\n",
       "</div>"
      ],
      "text/plain": [
       "     codigo                                             titulo\n",
       "153     154  Análise Biomecânica da Postura e do Movimento ...\n",
       "59       60                           Logística de Suprimentos\n",
       "43       44                                 Gramática e ensino\n",
       "115     116  Arte, processos criativos comunitários e sua p...\n",
       "76       77                                Internet das Coisas"
      ]
     },
     "execution_count": 172,
     "metadata": {},
     "output_type": "execute_result"
    }
   ],
   "source": [
    "linhas_de_pesquisa.sample(n=5)"
   ]
  },
  {
   "cell_type": "markdown",
   "id": "4f33a731-d7bf-4233-824f-b492e1eca9f5",
   "metadata": {
    "jp-MarkdownHeadingCollapsed": true
   },
   "source": [
    "## Grupos de Pesquisa"
   ]
  },
  {
   "cell_type": "code",
   "execution_count": 173,
   "id": "5f1ee06d-d4f7-4255-8211-f92ff3c9d771",
   "metadata": {},
   "outputs": [
    {
     "data": {
      "text/html": [
       "<div>\n",
       "<style scoped>\n",
       "    .dataframe tbody tr th:only-of-type {\n",
       "        vertical-align: middle;\n",
       "    }\n",
       "\n",
       "    .dataframe tbody tr th {\n",
       "        vertical-align: top;\n",
       "    }\n",
       "\n",
       "    .dataframe thead th {\n",
       "        text-align: right;\n",
       "    }\n",
       "</style>\n",
       "<table border=\"1\" class=\"dataframe\">\n",
       "  <thead>\n",
       "    <tr style=\"text-align: right;\">\n",
       "      <th></th>\n",
       "      <th>id_grupo</th>\n",
       "      <th>nome_grupo</th>\n",
       "      <th>situacao_do_grupo</th>\n",
       "      <th>ano_formacao</th>\n",
       "      <th>lider_do_grupo</th>\n",
       "      <th>link_do_grupo</th>\n",
       "      <th>linha_de_pesquisa</th>\n",
       "      <th>situacao_do_grupo_por_criterios</th>\n",
       "    </tr>\n",
       "  </thead>\n",
       "  <tbody>\n",
       "    <tr>\n",
       "      <th>0</th>\n",
       "      <td>1</td>\n",
       "      <td>Núcleo de Estudos e Pesquisas em Ciências da Vida</td>\n",
       "      <td>Certificado</td>\n",
       "      <td>2020</td>\n",
       "      <td>Patricia Carvalho de Oliveira</td>\n",
       "      <td>http://dgp.cnpq.br/dgp/espelhogrupo/633526</td>\n",
       "      <td>NaN</td>\n",
       "      <td>Certificado</td>\n",
       "    </tr>\n",
       "    <tr>\n",
       "      <th>1</th>\n",
       "      <td>2</td>\n",
       "      <td>Núcleo de estudos e pesquisas socicríticas em ...</td>\n",
       "      <td>Em preenchimento</td>\n",
       "      <td>2020</td>\n",
       "      <td>Fernando Henrique Silva Carneiro</td>\n",
       "      <td>http://dgp.cnpq.br/dgp/espelhogrupo/590146</td>\n",
       "      <td>NaN</td>\n",
       "      <td>Certificado</td>\n",
       "    </tr>\n",
       "    <tr>\n",
       "      <th>2</th>\n",
       "      <td>3</td>\n",
       "      <td>Grupo de Pesquisas em Artes e Audiovisual</td>\n",
       "      <td>Em preenchimento</td>\n",
       "      <td>2020</td>\n",
       "      <td>Adérito Schneider Alencar e Távora</td>\n",
       "      <td>http://dgp.cnpq.br/dgp/espelhogrupo/607747</td>\n",
       "      <td>NaN</td>\n",
       "      <td>Certificado</td>\n",
       "    </tr>\n",
       "    <tr>\n",
       "      <th>3</th>\n",
       "      <td>4</td>\n",
       "      <td>Núcleo Multicampi de Pesquisas e Estudos em Li...</td>\n",
       "      <td>Certificado</td>\n",
       "      <td>2011</td>\n",
       "      <td>Mabel Pettersen Prudente</td>\n",
       "      <td>http://dgp.cnpq.br/dgp/espelhogrupo/33150</td>\n",
       "      <td>NaN</td>\n",
       "      <td>Pendente</td>\n",
       "    </tr>\n",
       "    <tr>\n",
       "      <th>4</th>\n",
       "      <td>5</td>\n",
       "      <td>Núcleo de Estudos de Cultura, Linguagens e sua...</td>\n",
       "      <td>Certificado</td>\n",
       "      <td>2013</td>\n",
       "      <td>Rangel Gomes Godinho</td>\n",
       "      <td>http://dgp.cnpq.br/dgp/espelhogrupo/377570</td>\n",
       "      <td>NaN</td>\n",
       "      <td>Pendente</td>\n",
       "    </tr>\n",
       "  </tbody>\n",
       "</table>\n",
       "</div>"
      ],
      "text/plain": [
       "   id_grupo                                         nome_grupo  \\\n",
       "0         1  Núcleo de Estudos e Pesquisas em Ciências da Vida   \n",
       "1         2  Núcleo de estudos e pesquisas socicríticas em ...   \n",
       "2         3          Grupo de Pesquisas em Artes e Audiovisual   \n",
       "3         4  Núcleo Multicampi de Pesquisas e Estudos em Li...   \n",
       "4         5  Núcleo de Estudos de Cultura, Linguagens e sua...   \n",
       "\n",
       "  situacao_do_grupo  ano_formacao                      lider_do_grupo  \\\n",
       "0       Certificado          2020       Patricia Carvalho de Oliveira   \n",
       "1  Em preenchimento          2020    Fernando Henrique Silva Carneiro   \n",
       "2  Em preenchimento          2020  Adérito Schneider Alencar e Távora   \n",
       "3       Certificado          2011            Mabel Pettersen Prudente   \n",
       "4       Certificado          2013                Rangel Gomes Godinho   \n",
       "\n",
       "                                link_do_grupo  linha_de_pesquisa  \\\n",
       "0  http://dgp.cnpq.br/dgp/espelhogrupo/633526                NaN   \n",
       "1  http://dgp.cnpq.br/dgp/espelhogrupo/590146                NaN   \n",
       "2  http://dgp.cnpq.br/dgp/espelhogrupo/607747                NaN   \n",
       "3   http://dgp.cnpq.br/dgp/espelhogrupo/33150                NaN   \n",
       "4  http://dgp.cnpq.br/dgp/espelhogrupo/377570                NaN   \n",
       "\n",
       "  situacao_do_grupo_por_criterios  \n",
       "0                     Certificado  \n",
       "1                     Certificado  \n",
       "2                     Certificado  \n",
       "3                        Pendente  \n",
       "4                        Pendente  "
      ]
     },
     "execution_count": 173,
     "metadata": {},
     "output_type": "execute_result"
    }
   ],
   "source": [
    "grupos_de_pesquisa = pd.read_csv(IFG_PRODUZ_STORAGE_DIR / \"extracted/grupos_de_pesquisa.csv\", delimiter=\";\")\n",
    "\n",
    "grupos_de_pesquisa.head(n=5)"
   ]
  },
  {
   "cell_type": "code",
   "execution_count": 174,
   "id": "be50363c-5257-43fc-b542-f6835faee4f5",
   "metadata": {},
   "outputs": [],
   "source": [
    "grupos_de_pesquisa = grupos_de_pesquisa.rename(columns={\n",
    "    'id_grupo': 'codigo',\n",
    "    'nome_grupo': 'nome',\n",
    "    'situacao_do_grupo': 'situacao',\n",
    "    'situacao_do_grupo_por_criterios': 'situacao_por_criterios',\n",
    "    'lider_do_grupo': 'nome_lider',\n",
    "    'link_do_grupo': 'link'\n",
    "})"
   ]
  },
  {
   "cell_type": "code",
   "execution_count": 175,
   "id": "20e9c74e-6ad3-47d9-b7b7-0965a18ab115",
   "metadata": {},
   "outputs": [
    {
     "data": {
      "text/html": [
       "<div>\n",
       "<style scoped>\n",
       "    .dataframe tbody tr th:only-of-type {\n",
       "        vertical-align: middle;\n",
       "    }\n",
       "\n",
       "    .dataframe tbody tr th {\n",
       "        vertical-align: top;\n",
       "    }\n",
       "\n",
       "    .dataframe thead th {\n",
       "        text-align: right;\n",
       "    }\n",
       "</style>\n",
       "<table border=\"1\" class=\"dataframe\">\n",
       "  <thead>\n",
       "    <tr style=\"text-align: right;\">\n",
       "      <th></th>\n",
       "      <th>codigo</th>\n",
       "      <th>nome</th>\n",
       "      <th>situacao</th>\n",
       "      <th>ano_formacao</th>\n",
       "      <th>nome_lider</th>\n",
       "      <th>link</th>\n",
       "      <th>linha_de_pesquisa</th>\n",
       "      <th>situacao_por_criterios</th>\n",
       "    </tr>\n",
       "  </thead>\n",
       "  <tbody>\n",
       "    <tr>\n",
       "      <th>0</th>\n",
       "      <td>1</td>\n",
       "      <td>Núcleo de Estudos e Pesquisas em Ciências da Vida</td>\n",
       "      <td>Certificado</td>\n",
       "      <td>2020</td>\n",
       "      <td>Patricia Carvalho de Oliveira</td>\n",
       "      <td>http://dgp.cnpq.br/dgp/espelhogrupo/633526</td>\n",
       "      <td>NaN</td>\n",
       "      <td>Certificado</td>\n",
       "    </tr>\n",
       "    <tr>\n",
       "      <th>1</th>\n",
       "      <td>2</td>\n",
       "      <td>Núcleo de estudos e pesquisas socicríticas em ...</td>\n",
       "      <td>Em preenchimento</td>\n",
       "      <td>2020</td>\n",
       "      <td>Fernando Henrique Silva Carneiro</td>\n",
       "      <td>http://dgp.cnpq.br/dgp/espelhogrupo/590146</td>\n",
       "      <td>NaN</td>\n",
       "      <td>Certificado</td>\n",
       "    </tr>\n",
       "    <tr>\n",
       "      <th>2</th>\n",
       "      <td>3</td>\n",
       "      <td>Grupo de Pesquisas em Artes e Audiovisual</td>\n",
       "      <td>Em preenchimento</td>\n",
       "      <td>2020</td>\n",
       "      <td>Adérito Schneider Alencar e Távora</td>\n",
       "      <td>http://dgp.cnpq.br/dgp/espelhogrupo/607747</td>\n",
       "      <td>NaN</td>\n",
       "      <td>Certificado</td>\n",
       "    </tr>\n",
       "    <tr>\n",
       "      <th>3</th>\n",
       "      <td>4</td>\n",
       "      <td>Núcleo Multicampi de Pesquisas e Estudos em Li...</td>\n",
       "      <td>Certificado</td>\n",
       "      <td>2011</td>\n",
       "      <td>Mabel Pettersen Prudente</td>\n",
       "      <td>http://dgp.cnpq.br/dgp/espelhogrupo/33150</td>\n",
       "      <td>NaN</td>\n",
       "      <td>Pendente</td>\n",
       "    </tr>\n",
       "    <tr>\n",
       "      <th>4</th>\n",
       "      <td>5</td>\n",
       "      <td>Núcleo de Estudos de Cultura, Linguagens e sua...</td>\n",
       "      <td>Certificado</td>\n",
       "      <td>2013</td>\n",
       "      <td>Rangel Gomes Godinho</td>\n",
       "      <td>http://dgp.cnpq.br/dgp/espelhogrupo/377570</td>\n",
       "      <td>NaN</td>\n",
       "      <td>Pendente</td>\n",
       "    </tr>\n",
       "  </tbody>\n",
       "</table>\n",
       "</div>"
      ],
      "text/plain": [
       "   codigo                                               nome  \\\n",
       "0       1  Núcleo de Estudos e Pesquisas em Ciências da Vida   \n",
       "1       2  Núcleo de estudos e pesquisas socicríticas em ...   \n",
       "2       3          Grupo de Pesquisas em Artes e Audiovisual   \n",
       "3       4  Núcleo Multicampi de Pesquisas e Estudos em Li...   \n",
       "4       5  Núcleo de Estudos de Cultura, Linguagens e sua...   \n",
       "\n",
       "           situacao  ano_formacao                          nome_lider  \\\n",
       "0       Certificado          2020       Patricia Carvalho de Oliveira   \n",
       "1  Em preenchimento          2020    Fernando Henrique Silva Carneiro   \n",
       "2  Em preenchimento          2020  Adérito Schneider Alencar e Távora   \n",
       "3       Certificado          2011            Mabel Pettersen Prudente   \n",
       "4       Certificado          2013                Rangel Gomes Godinho   \n",
       "\n",
       "                                         link  linha_de_pesquisa  \\\n",
       "0  http://dgp.cnpq.br/dgp/espelhogrupo/633526                NaN   \n",
       "1  http://dgp.cnpq.br/dgp/espelhogrupo/590146                NaN   \n",
       "2  http://dgp.cnpq.br/dgp/espelhogrupo/607747                NaN   \n",
       "3   http://dgp.cnpq.br/dgp/espelhogrupo/33150                NaN   \n",
       "4  http://dgp.cnpq.br/dgp/espelhogrupo/377570                NaN   \n",
       "\n",
       "  situacao_por_criterios  \n",
       "0            Certificado  \n",
       "1            Certificado  \n",
       "2            Certificado  \n",
       "3               Pendente  \n",
       "4               Pendente  "
      ]
     },
     "execution_count": 175,
     "metadata": {},
     "output_type": "execute_result"
    }
   ],
   "source": [
    "grupos_de_pesquisa.head(n=5)"
   ]
  },
  {
   "cell_type": "markdown",
   "id": "9ad03f64-dfba-404c-8b21-a55b5fc097aa",
   "metadata": {
    "jp-MarkdownHeadingCollapsed": true
   },
   "source": [
    "### Verificando valores nulos"
   ]
  },
  {
   "cell_type": "code",
   "execution_count": 176,
   "id": "b77607e8-d7d5-4224-a039-3ea7cb4d3e3b",
   "metadata": {},
   "outputs": [
    {
     "data": {
      "text/plain": [
       "codigo                     0\n",
       "nome                       0\n",
       "situacao                   0\n",
       "ano_formacao               0\n",
       "nome_lider                 0\n",
       "link                       0\n",
       "linha_de_pesquisa         76\n",
       "situacao_por_criterios     0\n",
       "dtype: int64"
      ]
     },
     "execution_count": 176,
     "metadata": {},
     "output_type": "execute_result"
    }
   ],
   "source": [
    "grupos_de_pesquisa.isna().sum()"
   ]
  },
  {
   "cell_type": "code",
   "execution_count": 177,
   "id": "689cd6aa-55b2-4e46-a9a9-963b9f7bc25b",
   "metadata": {},
   "outputs": [
    {
     "data": {
      "text/plain": [
       "(76,)"
      ]
     },
     "execution_count": 177,
     "metadata": {},
     "output_type": "execute_result"
    }
   ],
   "source": [
    "grupos_de_pesquisa['linha_de_pesquisa'].shape"
   ]
  },
  {
   "cell_type": "markdown",
   "id": "b7cc1c49-01a2-457f-991e-0181a18787f3",
   "metadata": {
    "jp-MarkdownHeadingCollapsed": true
   },
   "source": [
    "### Ligar as Linhas de Pesquisa ao Grupo de Pesquisa"
   ]
  },
  {
   "cell_type": "code",
   "execution_count": 178,
   "id": "5938fe39-5fb0-4645-9373-36b4a61e7043",
   "metadata": {},
   "outputs": [
    {
     "data": {
      "text/html": [
       "<div>\n",
       "<style scoped>\n",
       "    .dataframe tbody tr th:only-of-type {\n",
       "        vertical-align: middle;\n",
       "    }\n",
       "\n",
       "    .dataframe tbody tr th {\n",
       "        vertical-align: top;\n",
       "    }\n",
       "\n",
       "    .dataframe thead th {\n",
       "        text-align: right;\n",
       "    }\n",
       "</style>\n",
       "<table border=\"1\" class=\"dataframe\">\n",
       "  <thead>\n",
       "    <tr style=\"text-align: right;\">\n",
       "      <th></th>\n",
       "      <th>id_curriculo_linha_grupo</th>\n",
       "      <th>curriculo_id</th>\n",
       "      <th>grupos_id</th>\n",
       "      <th>linhas_id</th>\n",
       "    </tr>\n",
       "  </thead>\n",
       "  <tbody>\n",
       "    <tr>\n",
       "      <th>836</th>\n",
       "      <td>838</td>\n",
       "      <td>500</td>\n",
       "      <td>65</td>\n",
       "      <td>233</td>\n",
       "    </tr>\n",
       "    <tr>\n",
       "      <th>137</th>\n",
       "      <td>138</td>\n",
       "      <td>745</td>\n",
       "      <td>7</td>\n",
       "      <td>34</td>\n",
       "    </tr>\n",
       "    <tr>\n",
       "      <th>808</th>\n",
       "      <td>810</td>\n",
       "      <td>520</td>\n",
       "      <td>62</td>\n",
       "      <td>220</td>\n",
       "    </tr>\n",
       "    <tr>\n",
       "      <th>176</th>\n",
       "      <td>177</td>\n",
       "      <td>1683</td>\n",
       "      <td>7</td>\n",
       "      <td>38</td>\n",
       "    </tr>\n",
       "    <tr>\n",
       "      <th>225</th>\n",
       "      <td>226</td>\n",
       "      <td>61</td>\n",
       "      <td>12</td>\n",
       "      <td>53</td>\n",
       "    </tr>\n",
       "  </tbody>\n",
       "</table>\n",
       "</div>"
      ],
      "text/plain": [
       "     id_curriculo_linha_grupo  curriculo_id  grupos_id  linhas_id\n",
       "836                       838           500         65        233\n",
       "137                       138           745          7         34\n",
       "808                       810           520         62        220\n",
       "176                       177          1683          7         38\n",
       "225                       226            61         12         53"
      ]
     },
     "execution_count": 178,
     "metadata": {},
     "output_type": "execute_result"
    }
   ],
   "source": [
    "intermediaria.sample(n=5)"
   ]
  },
  {
   "cell_type": "code",
   "execution_count": 179,
   "id": "136c5dad-1164-4f30-9ec3-165b72d40805",
   "metadata": {},
   "outputs": [],
   "source": [
    "grupos_de_pesquisa = grupos_de_pesquisa.rename(columns={'linha_de_pesquisa': 'codigos_linhas_de_pesquisa'})"
   ]
  },
  {
   "cell_type": "code",
   "execution_count": 180,
   "id": "47a51679-abe9-4288-b1bc-f688de67dafe",
   "metadata": {},
   "outputs": [
    {
     "data": {
      "text/plain": [
       "Index(['codigo', 'nome', 'situacao', 'ano_formacao', 'nome_lider', 'link',\n",
       "       'codigos_linhas_de_pesquisa', 'situacao_por_criterios'],\n",
       "      dtype='object')"
      ]
     },
     "execution_count": 180,
     "metadata": {},
     "output_type": "execute_result"
    }
   ],
   "source": [
    "grupos_de_pesquisa.columns"
   ]
  },
  {
   "cell_type": "code",
   "execution_count": 181,
   "id": "d4badbe3-442b-48fd-b9fc-f493d6405c78",
   "metadata": {},
   "outputs": [],
   "source": [
    "def find_and_set_research_lines_for_research_groups(row, intermediaria: pd.DataFrame):\n",
    "    research_lines_codes = list(intermediaria[intermediaria['grupos_id'] == row['codigo']]['linhas_id'].unique())\n",
    "    row['codigos_linhas_de_pesquisa'] = research_lines_codes\n",
    "\n",
    "    return row"
   ]
  },
  {
   "cell_type": "code",
   "execution_count": 182,
   "id": "0e65b184-60cf-4a2e-8a03-2b0e254dfadc",
   "metadata": {
    "scrolled": true
   },
   "outputs": [],
   "source": [
    "grupos_de_pesquisa = grupos_de_pesquisa.apply(find_and_set_research_lines_for_research_groups, args=(intermediaria,), axis=1)"
   ]
  },
  {
   "cell_type": "code",
   "execution_count": 183,
   "id": "3f5674a3-dbc1-4d6c-9738-163792b9d91d",
   "metadata": {},
   "outputs": [
    {
     "data": {
      "text/html": [
       "<div>\n",
       "<style scoped>\n",
       "    .dataframe tbody tr th:only-of-type {\n",
       "        vertical-align: middle;\n",
       "    }\n",
       "\n",
       "    .dataframe tbody tr th {\n",
       "        vertical-align: top;\n",
       "    }\n",
       "\n",
       "    .dataframe thead th {\n",
       "        text-align: right;\n",
       "    }\n",
       "</style>\n",
       "<table border=\"1\" class=\"dataframe\">\n",
       "  <thead>\n",
       "    <tr style=\"text-align: right;\">\n",
       "      <th></th>\n",
       "      <th>codigo</th>\n",
       "      <th>nome</th>\n",
       "      <th>situacao</th>\n",
       "      <th>ano_formacao</th>\n",
       "      <th>nome_lider</th>\n",
       "      <th>link</th>\n",
       "      <th>codigos_linhas_de_pesquisa</th>\n",
       "      <th>situacao_por_criterios</th>\n",
       "    </tr>\n",
       "  </thead>\n",
       "  <tbody>\n",
       "    <tr>\n",
       "      <th>0</th>\n",
       "      <td>1</td>\n",
       "      <td>Núcleo de Estudos e Pesquisas em Ciências da Vida</td>\n",
       "      <td>Certificado</td>\n",
       "      <td>2020</td>\n",
       "      <td>Patricia Carvalho de Oliveira</td>\n",
       "      <td>http://dgp.cnpq.br/dgp/espelhogrupo/633526</td>\n",
       "      <td>[1, 2]</td>\n",
       "      <td>Certificado</td>\n",
       "    </tr>\n",
       "    <tr>\n",
       "      <th>1</th>\n",
       "      <td>2</td>\n",
       "      <td>Núcleo de estudos e pesquisas socicríticas em ...</td>\n",
       "      <td>Em preenchimento</td>\n",
       "      <td>2020</td>\n",
       "      <td>Fernando Henrique Silva Carneiro</td>\n",
       "      <td>http://dgp.cnpq.br/dgp/espelhogrupo/590146</td>\n",
       "      <td>[3, 4, 5]</td>\n",
       "      <td>Certificado</td>\n",
       "    </tr>\n",
       "    <tr>\n",
       "      <th>2</th>\n",
       "      <td>3</td>\n",
       "      <td>Grupo de Pesquisas em Artes e Audiovisual</td>\n",
       "      <td>Em preenchimento</td>\n",
       "      <td>2020</td>\n",
       "      <td>Adérito Schneider Alencar e Távora</td>\n",
       "      <td>http://dgp.cnpq.br/dgp/espelhogrupo/607747</td>\n",
       "      <td>[6, 7, 8]</td>\n",
       "      <td>Certificado</td>\n",
       "    </tr>\n",
       "    <tr>\n",
       "      <th>3</th>\n",
       "      <td>4</td>\n",
       "      <td>Núcleo Multicampi de Pesquisas e Estudos em Li...</td>\n",
       "      <td>Certificado</td>\n",
       "      <td>2011</td>\n",
       "      <td>Mabel Pettersen Prudente</td>\n",
       "      <td>http://dgp.cnpq.br/dgp/espelhogrupo/33150</td>\n",
       "      <td>[9, 10]</td>\n",
       "      <td>Pendente</td>\n",
       "    </tr>\n",
       "    <tr>\n",
       "      <th>4</th>\n",
       "      <td>5</td>\n",
       "      <td>Núcleo de Estudos de Cultura, Linguagens e sua...</td>\n",
       "      <td>Certificado</td>\n",
       "      <td>2013</td>\n",
       "      <td>Rangel Gomes Godinho</td>\n",
       "      <td>http://dgp.cnpq.br/dgp/espelhogrupo/377570</td>\n",
       "      <td>[11, 12, 13]</td>\n",
       "      <td>Pendente</td>\n",
       "    </tr>\n",
       "  </tbody>\n",
       "</table>\n",
       "</div>"
      ],
      "text/plain": [
       "   codigo                                               nome  \\\n",
       "0       1  Núcleo de Estudos e Pesquisas em Ciências da Vida   \n",
       "1       2  Núcleo de estudos e pesquisas socicríticas em ...   \n",
       "2       3          Grupo de Pesquisas em Artes e Audiovisual   \n",
       "3       4  Núcleo Multicampi de Pesquisas e Estudos em Li...   \n",
       "4       5  Núcleo de Estudos de Cultura, Linguagens e sua...   \n",
       "\n",
       "           situacao  ano_formacao                          nome_lider  \\\n",
       "0       Certificado          2020       Patricia Carvalho de Oliveira   \n",
       "1  Em preenchimento          2020    Fernando Henrique Silva Carneiro   \n",
       "2  Em preenchimento          2020  Adérito Schneider Alencar e Távora   \n",
       "3       Certificado          2011            Mabel Pettersen Prudente   \n",
       "4       Certificado          2013                Rangel Gomes Godinho   \n",
       "\n",
       "                                         link codigos_linhas_de_pesquisa  \\\n",
       "0  http://dgp.cnpq.br/dgp/espelhogrupo/633526                     [1, 2]   \n",
       "1  http://dgp.cnpq.br/dgp/espelhogrupo/590146                  [3, 4, 5]   \n",
       "2  http://dgp.cnpq.br/dgp/espelhogrupo/607747                  [6, 7, 8]   \n",
       "3   http://dgp.cnpq.br/dgp/espelhogrupo/33150                    [9, 10]   \n",
       "4  http://dgp.cnpq.br/dgp/espelhogrupo/377570               [11, 12, 13]   \n",
       "\n",
       "  situacao_por_criterios  \n",
       "0            Certificado  \n",
       "1            Certificado  \n",
       "2            Certificado  \n",
       "3               Pendente  \n",
       "4               Pendente  "
      ]
     },
     "execution_count": 183,
     "metadata": {},
     "output_type": "execute_result"
    }
   ],
   "source": [
    "grupos_de_pesquisa.head()"
   ]
  },
  {
   "cell_type": "markdown",
   "id": "3c0f761c-383c-4053-bc04-f42e7886a232",
   "metadata": {
    "jp-MarkdownHeadingCollapsed": true
   },
   "source": [
    "### Inserir uma coluna com o ID do currículo de cada líder"
   ]
  },
  {
   "cell_type": "code",
   "execution_count": 184,
   "id": "4d050b24-d9cc-4031-93a5-98cad437c95b",
   "metadata": {},
   "outputs": [],
   "source": [
    "from text_processors import normalizar_string"
   ]
  },
  {
   "cell_type": "code",
   "execution_count": 185,
   "id": "99198ddf-e7b2-4c3e-a2fd-f559397f033a",
   "metadata": {},
   "outputs": [],
   "source": [
    "curriculos = pd.read_csv(IFG_PRODUZ_STORAGE_DIR / \"extracted/curriculo.csv\", delimiter=\";\")\n",
    "curriculos = curriculos.loc[:, ['id_curriculo', 'nome_completo']]"
   ]
  },
  {
   "cell_type": "code",
   "execution_count": 186,
   "id": "0a195774-0721-4fad-a7fd-4d72396a6438",
   "metadata": {},
   "outputs": [],
   "source": [
    "curriculos['nome_completo_normalizado'] = curriculos['nome_completo'].apply(normalizar_string)"
   ]
  },
  {
   "cell_type": "code",
   "execution_count": 187,
   "id": "2350e6c9-1e05-4d07-be62-e8b975c4e6e5",
   "metadata": {},
   "outputs": [
    {
     "data": {
      "text/html": [
       "<div>\n",
       "<style scoped>\n",
       "    .dataframe tbody tr th:only-of-type {\n",
       "        vertical-align: middle;\n",
       "    }\n",
       "\n",
       "    .dataframe tbody tr th {\n",
       "        vertical-align: top;\n",
       "    }\n",
       "\n",
       "    .dataframe thead th {\n",
       "        text-align: right;\n",
       "    }\n",
       "</style>\n",
       "<table border=\"1\" class=\"dataframe\">\n",
       "  <thead>\n",
       "    <tr style=\"text-align: right;\">\n",
       "      <th></th>\n",
       "      <th>id_curriculo</th>\n",
       "      <th>nome_completo</th>\n",
       "      <th>nome_completo_normalizado</th>\n",
       "    </tr>\n",
       "  </thead>\n",
       "  <tbody>\n",
       "    <tr>\n",
       "      <th>1097</th>\n",
       "      <td>1675</td>\n",
       "      <td>Nathália Barcelos Oliveira</td>\n",
       "      <td>nathalia barcelos oliveira</td>\n",
       "    </tr>\n",
       "    <tr>\n",
       "      <th>1231</th>\n",
       "      <td>1295</td>\n",
       "      <td>Ana Lara Vontobel Fonseca</td>\n",
       "      <td>ana lara vontobel fonseca</td>\n",
       "    </tr>\n",
       "    <tr>\n",
       "      <th>456</th>\n",
       "      <td>669</td>\n",
       "      <td>Rosimeire Oliveira dos Santos</td>\n",
       "      <td>rosimeire oliveira dos santos</td>\n",
       "    </tr>\n",
       "  </tbody>\n",
       "</table>\n",
       "</div>"
      ],
      "text/plain": [
       "      id_curriculo                  nome_completo  \\\n",
       "1097          1675     Nathália Barcelos Oliveira   \n",
       "1231          1295      Ana Lara Vontobel Fonseca   \n",
       "456            669  Rosimeire Oliveira dos Santos   \n",
       "\n",
       "          nome_completo_normalizado  \n",
       "1097     nathalia barcelos oliveira  \n",
       "1231      ana lara vontobel fonseca  \n",
       "456   rosimeire oliveira dos santos  "
      ]
     },
     "execution_count": 187,
     "metadata": {},
     "output_type": "execute_result"
    }
   ],
   "source": [
    "curriculos.sample(n=3)"
   ]
  },
  {
   "cell_type": "code",
   "execution_count": 188,
   "id": "88891bac-ba2f-4ceb-9a1f-a400e58cd302",
   "metadata": {},
   "outputs": [
    {
     "data": {
      "text/html": [
       "<div>\n",
       "<style scoped>\n",
       "    .dataframe tbody tr th:only-of-type {\n",
       "        vertical-align: middle;\n",
       "    }\n",
       "\n",
       "    .dataframe tbody tr th {\n",
       "        vertical-align: top;\n",
       "    }\n",
       "\n",
       "    .dataframe thead th {\n",
       "        text-align: right;\n",
       "    }\n",
       "</style>\n",
       "<table border=\"1\" class=\"dataframe\">\n",
       "  <thead>\n",
       "    <tr style=\"text-align: right;\">\n",
       "      <th></th>\n",
       "      <th>codigo</th>\n",
       "      <th>titulo</th>\n",
       "    </tr>\n",
       "  </thead>\n",
       "  <tbody>\n",
       "    <tr>\n",
       "      <th>42</th>\n",
       "      <td>43</td>\n",
       "      <td>Psicologia, Processos Cognitivos e Formação de...</td>\n",
       "    </tr>\n",
       "    <tr>\n",
       "      <th>132</th>\n",
       "      <td>133</td>\n",
       "      <td>I. Trabalho, Educação, e Políticas Públicas</td>\n",
       "    </tr>\n",
       "    <tr>\n",
       "      <th>166</th>\n",
       "      <td>167</td>\n",
       "      <td>SOCIAIS E HUMANIDADES</td>\n",
       "    </tr>\n",
       "  </tbody>\n",
       "</table>\n",
       "</div>"
      ],
      "text/plain": [
       "     codigo                                             titulo\n",
       "42       43  Psicologia, Processos Cognitivos e Formação de...\n",
       "132     133        I. Trabalho, Educação, e Políticas Públicas\n",
       "166     167                              SOCIAIS E HUMANIDADES"
      ]
     },
     "execution_count": 188,
     "metadata": {},
     "output_type": "execute_result"
    }
   ],
   "source": [
    "linhas_de_pesquisa.sample(n=3)"
   ]
  },
  {
   "cell_type": "code",
   "execution_count": 189,
   "id": "dedc5356-0ce7-4419-8a00-f6f29441e0fe",
   "metadata": {},
   "outputs": [
    {
     "data": {
      "text/html": [
       "<div>\n",
       "<style scoped>\n",
       "    .dataframe tbody tr th:only-of-type {\n",
       "        vertical-align: middle;\n",
       "    }\n",
       "\n",
       "    .dataframe tbody tr th {\n",
       "        vertical-align: top;\n",
       "    }\n",
       "\n",
       "    .dataframe thead th {\n",
       "        text-align: right;\n",
       "    }\n",
       "</style>\n",
       "<table border=\"1\" class=\"dataframe\">\n",
       "  <thead>\n",
       "    <tr style=\"text-align: right;\">\n",
       "      <th></th>\n",
       "      <th>id_curriculo_linha_grupo</th>\n",
       "      <th>curriculo_id</th>\n",
       "      <th>grupos_id</th>\n",
       "      <th>linhas_id</th>\n",
       "    </tr>\n",
       "  </thead>\n",
       "  <tbody>\n",
       "    <tr>\n",
       "      <th>741</th>\n",
       "      <td>743</td>\n",
       "      <td>1661</td>\n",
       "      <td>58</td>\n",
       "      <td>196</td>\n",
       "    </tr>\n",
       "    <tr>\n",
       "      <th>156</th>\n",
       "      <td>157</td>\n",
       "      <td>1364</td>\n",
       "      <td>7</td>\n",
       "      <td>36</td>\n",
       "    </tr>\n",
       "    <tr>\n",
       "      <th>182</th>\n",
       "      <td>183</td>\n",
       "      <td>1115</td>\n",
       "      <td>7</td>\n",
       "      <td>39</td>\n",
       "    </tr>\n",
       "  </tbody>\n",
       "</table>\n",
       "</div>"
      ],
      "text/plain": [
       "     id_curriculo_linha_grupo  curriculo_id  grupos_id  linhas_id\n",
       "741                       743          1661         58        196\n",
       "156                       157          1364          7         36\n",
       "182                       183          1115          7         39"
      ]
     },
     "execution_count": 189,
     "metadata": {},
     "output_type": "execute_result"
    }
   ],
   "source": [
    "intermediaria.sample(n=3)"
   ]
  },
  {
   "cell_type": "code",
   "execution_count": 190,
   "id": "075a6bd5-b626-45f0-b400-26058820da6e",
   "metadata": {},
   "outputs": [],
   "source": [
    "def find_and_set_research_group_leader_code(row, curriculos: pd.DataFrame, linhas_de_pesquisa: pd.DataFrame, intermediaria: pd.DataFrame):\n",
    "    # rg = research group\n",
    "    rg_leader_normalized = normalizar_string(row['nome_lider'])\n",
    "    rg_code = row['codigo']\n",
    "\n",
    "    found_leader_resume = curriculos[curriculos['nome_completo_normalizado'] == rg_leader_normalized]\n",
    "\n",
    "    if len(found_leader_resume) > 1:\n",
    "        print(f'Não foi possível encontrar o código correto para o líder do grupo com ID: {rg_code}. Foi encontrado mais de um resultado na busca realizada.')\n",
    "        return row\n",
    "    elif len(found_leader_resume) == 0:\n",
    "        print(f'Não foi possível encontrar o líder do grupo com ID: {rg_code}. Não foram encontrados registros.')\n",
    "        return row\n",
    "    \n",
    "    found_leader_code = found_leader_resume['id_curriculo'].iloc[0]\n",
    "    found_leader_research_lines = intermediaria[(intermediaria['curriculo_id'] == found_leader_code) & \n",
    "    (intermediaria['grupos_id'] == row['codigo'])]\n",
    "    \n",
    "    if len(found_leader_research_lines) == 0:\n",
    "        print(f\"Não foi possível ligar o líder do grupo com ID: {rg_code}. O líder do grupo não está ligado a nenhuma linha de pesquisa do grupo.\")\n",
    "        return row\n",
    "\n",
    "    row['codigo_lider'] = found_leader_code\n",
    "\n",
    "    return row"
   ]
  },
  {
   "cell_type": "code",
   "execution_count": 191,
   "id": "9bbbbbcd-b960-4bf0-b430-4b39efbe8670",
   "metadata": {},
   "outputs": [
    {
     "name": "stdout",
     "output_type": "stream",
     "text": [
      "Não foi possível ligar o líder do grupo com ID: 27. O líder do grupo não está ligado a nenhuma linha de pesquisa do grupo.\n"
     ]
    }
   ],
   "source": [
    "grupos_de_pesquisa = grupos_de_pesquisa.apply(find_and_set_research_group_leader_code, args=(curriculos, linhas_de_pesquisa, intermediaria), axis=1)"
   ]
  },
  {
   "cell_type": "code",
   "execution_count": 192,
   "id": "ac69dc61-ba24-4839-a3d7-84d9e4ca8bb2",
   "metadata": {},
   "outputs": [],
   "source": [
    "grupos_de_pesquisa['codigo_lider'] = grupos_de_pesquisa['codigo_lider'].astype('Int64')"
   ]
  },
  {
   "cell_type": "markdown",
   "id": "35967ab8-389c-4e16-af23-d108d0882cd6",
   "metadata": {
    "jp-MarkdownHeadingCollapsed": true
   },
   "source": [
    "### Colocar o código dos participantes do grupo em uma coluna"
   ]
  },
  {
   "cell_type": "code",
   "execution_count": 193,
   "id": "deaebab2-cc04-4c5d-9e23-e357397e553e",
   "metadata": {},
   "outputs": [
    {
     "data": {
      "text/html": [
       "<div>\n",
       "<style scoped>\n",
       "    .dataframe tbody tr th:only-of-type {\n",
       "        vertical-align: middle;\n",
       "    }\n",
       "\n",
       "    .dataframe tbody tr th {\n",
       "        vertical-align: top;\n",
       "    }\n",
       "\n",
       "    .dataframe thead th {\n",
       "        text-align: right;\n",
       "    }\n",
       "</style>\n",
       "<table border=\"1\" class=\"dataframe\">\n",
       "  <thead>\n",
       "    <tr style=\"text-align: right;\">\n",
       "      <th></th>\n",
       "      <th>id_curriculo_linha_grupo</th>\n",
       "      <th>curriculo_id</th>\n",
       "      <th>grupos_id</th>\n",
       "      <th>linhas_id</th>\n",
       "    </tr>\n",
       "  </thead>\n",
       "  <tbody>\n",
       "    <tr>\n",
       "      <th>417</th>\n",
       "      <td>419</td>\n",
       "      <td>949</td>\n",
       "      <td>32</td>\n",
       "      <td>71</td>\n",
       "    </tr>\n",
       "    <tr>\n",
       "      <th>606</th>\n",
       "      <td>608</td>\n",
       "      <td>517</td>\n",
       "      <td>46</td>\n",
       "      <td>9</td>\n",
       "    </tr>\n",
       "    <tr>\n",
       "      <th>540</th>\n",
       "      <td>542</td>\n",
       "      <td>3</td>\n",
       "      <td>40</td>\n",
       "      <td>148</td>\n",
       "    </tr>\n",
       "    <tr>\n",
       "      <th>9</th>\n",
       "      <td>10</td>\n",
       "      <td>836</td>\n",
       "      <td>1</td>\n",
       "      <td>1</td>\n",
       "    </tr>\n",
       "    <tr>\n",
       "      <th>478</th>\n",
       "      <td>480</td>\n",
       "      <td>991</td>\n",
       "      <td>36</td>\n",
       "      <td>126</td>\n",
       "    </tr>\n",
       "  </tbody>\n",
       "</table>\n",
       "</div>"
      ],
      "text/plain": [
       "     id_curriculo_linha_grupo  curriculo_id  grupos_id  linhas_id\n",
       "417                       419           949         32         71\n",
       "606                       608           517         46          9\n",
       "540                       542             3         40        148\n",
       "9                          10           836          1          1\n",
       "478                       480           991         36        126"
      ]
     },
     "execution_count": 193,
     "metadata": {},
     "output_type": "execute_result"
    }
   ],
   "source": [
    "intermediaria.sample(n=5)"
   ]
  },
  {
   "cell_type": "code",
   "execution_count": 194,
   "id": "1148c2b1-493d-4b10-bc9a-c33b1d0ecf81",
   "metadata": {},
   "outputs": [],
   "source": [
    "def find_and_set_group_member_codes(row, intermediaria: pd.DataFrame):\n",
    "    group_members_codes = list(intermediaria[intermediaria['grupos_id'] == row['codigo']]['curriculo_id'].dropna().unique())\n",
    "\n",
    "    row['codigo_membros'] = group_members_codes\n",
    "\n",
    "    return row"
   ]
  },
  {
   "cell_type": "code",
   "execution_count": 195,
   "id": "b3b5d5b8-e5b0-4db2-9aa4-aa5d80b6b9f4",
   "metadata": {},
   "outputs": [],
   "source": [
    "grupos_de_pesquisa = grupos_de_pesquisa.apply(find_and_set_group_member_codes, args=(intermediaria,), axis=1)"
   ]
  },
  {
   "cell_type": "code",
   "execution_count": 196,
   "id": "8a6e5e21-9cc7-4df4-8fbb-5e729fc46059",
   "metadata": {},
   "outputs": [
    {
     "data": {
      "text/plain": [
       "['ano_formacao',\n",
       " 'codigo',\n",
       " 'codigo_lider',\n",
       " 'codigos_linhas_de_pesquisa',\n",
       " 'link',\n",
       " 'nome',\n",
       " 'nome_lider',\n",
       " 'situacao',\n",
       " 'situacao_por_criterios',\n",
       " 'codigo_membros']"
      ]
     },
     "execution_count": 196,
     "metadata": {},
     "output_type": "execute_result"
    }
   ],
   "source": [
    "list(grupos_de_pesquisa.columns)"
   ]
  },
  {
   "cell_type": "code",
   "execution_count": 197,
   "id": "d5eec02b-df08-4b40-b7c7-eb78e8a791de",
   "metadata": {},
   "outputs": [
    {
     "data": {
      "text/plain": [
       "ano_formacao                  False\n",
       "codigo                        False\n",
       "codigo_lider                   True\n",
       "codigos_linhas_de_pesquisa    False\n",
       "link                          False\n",
       "nome                          False\n",
       "nome_lider                    False\n",
       "situacao                      False\n",
       "situacao_por_criterios        False\n",
       "codigo_membros                False\n",
       "dtype: bool"
      ]
     },
     "execution_count": 197,
     "metadata": {},
     "output_type": "execute_result"
    }
   ],
   "source": [
    "grupos_de_pesquisa.isna().any()"
   ]
  },
  {
   "cell_type": "markdown",
   "id": "acc91c2d-05f9-4628-8f6f-4b0e08f0ddee",
   "metadata": {},
   "source": [
    "## Alunos"
   ]
  },
  {
   "cell_type": "code",
   "execution_count": 198,
   "id": "6de8ccba-a487-4a8a-96bf-7ea4eebe8bab",
   "metadata": {},
   "outputs": [
    {
     "data": {
      "text/html": [
       "<div>\n",
       "<style scoped>\n",
       "    .dataframe tbody tr th:only-of-type {\n",
       "        vertical-align: middle;\n",
       "    }\n",
       "\n",
       "    .dataframe tbody tr th {\n",
       "        vertical-align: top;\n",
       "    }\n",
       "\n",
       "    .dataframe thead th {\n",
       "        text-align: right;\n",
       "    }\n",
       "</style>\n",
       "<table border=\"1\" class=\"dataframe\">\n",
       "  <thead>\n",
       "    <tr style=\"text-align: right;\">\n",
       "      <th></th>\n",
       "      <th>id_aluno</th>\n",
       "      <th>nome_aluno</th>\n",
       "      <th>id_grupos_de_pesquisa_id</th>\n",
       "    </tr>\n",
       "  </thead>\n",
       "  <tbody>\n",
       "    <tr>\n",
       "      <th>0</th>\n",
       "      <td>1</td>\n",
       "      <td>Amanda Sousa de Queiros</td>\n",
       "      <td>1</td>\n",
       "    </tr>\n",
       "    <tr>\n",
       "      <th>1</th>\n",
       "      <td>2</td>\n",
       "      <td>Ellen Kelrye Ferreira Reis</td>\n",
       "      <td>1</td>\n",
       "    </tr>\n",
       "    <tr>\n",
       "      <th>2</th>\n",
       "      <td>3</td>\n",
       "      <td>Janailza Barbosa da Silva</td>\n",
       "      <td>1</td>\n",
       "    </tr>\n",
       "    <tr>\n",
       "      <th>3</th>\n",
       "      <td>4</td>\n",
       "      <td>Jariele Ferreira de Oliveira</td>\n",
       "      <td>1</td>\n",
       "    </tr>\n",
       "    <tr>\n",
       "      <th>4</th>\n",
       "      <td>5</td>\n",
       "      <td>Maisa Cecília da Silva Reis</td>\n",
       "      <td>1</td>\n",
       "    </tr>\n",
       "  </tbody>\n",
       "</table>\n",
       "</div>"
      ],
      "text/plain": [
       "   id_aluno                    nome_aluno  id_grupos_de_pesquisa_id\n",
       "0         1       Amanda Sousa de Queiros                         1\n",
       "1         2    Ellen Kelrye Ferreira Reis                         1\n",
       "2         3     Janailza Barbosa da Silva                         1\n",
       "3         4  Jariele Ferreira de Oliveira                         1\n",
       "4         5   Maisa Cecília da Silva Reis                         1"
      ]
     },
     "execution_count": 198,
     "metadata": {},
     "output_type": "execute_result"
    }
   ],
   "source": [
    "alunos = pd.read_csv(IFG_PRODUZ_STORAGE_DIR / \"extracted/alunos.csv\", delimiter=\";\")\n",
    "\n",
    "alunos.head(n=5)"
   ]
  },
  {
   "cell_type": "code",
   "execution_count": 199,
   "id": "9d0ab1e7-f4e2-441b-a8bf-e5b1a16c53a6",
   "metadata": {},
   "outputs": [],
   "source": [
    "alunos = alunos.rename(columns={\n",
    "    'id_aluno': 'codigo',\n",
    "    'nome_aluno': 'nome',\n",
    "    'id_grupos_de_pesquisa_id': 'codigo_grupo_de_pesquisa'\n",
    "})"
   ]
  },
  {
   "cell_type": "code",
   "execution_count": 200,
   "id": "c0796f88-db8b-4f11-bf31-bbf04b6da03e",
   "metadata": {},
   "outputs": [
    {
     "data": {
      "text/plain": [
       "Index(['codigo', 'nome', 'codigo_grupo_de_pesquisa'], dtype='object')"
      ]
     },
     "execution_count": 200,
     "metadata": {},
     "output_type": "execute_result"
    }
   ],
   "source": [
    "alunos.columns"
   ]
  },
  {
   "cell_type": "code",
   "execution_count": 201,
   "id": "ab2549eb-af1c-4205-91dd-b9cf969988d9",
   "metadata": {},
   "outputs": [
    {
     "data": {
      "text/plain": [
       "codigo                      False\n",
       "nome                        False\n",
       "codigo_grupo_de_pesquisa    False\n",
       "dtype: bool"
      ]
     },
     "execution_count": 201,
     "metadata": {},
     "output_type": "execute_result"
    }
   ],
   "source": [
    "alunos.isna().any()"
   ]
  },
  {
   "cell_type": "markdown",
   "id": "766ad83c-359e-4aea-8211-b4c331955aee",
   "metadata": {},
   "source": [
    "## Tratando a tabela intermediária para montar os relacionamentos no grafo"
   ]
  },
  {
   "cell_type": "code",
   "execution_count": 202,
   "id": "5b66904f-36a2-4b2e-8beb-441cb3b2ad1e",
   "metadata": {},
   "outputs": [
    {
     "data": {
      "text/plain": [
       "id_curriculo_linha_grupo     0\n",
       "curriculo_id                35\n",
       "grupos_id                    0\n",
       "linhas_id                    0\n",
       "dtype: int64"
      ]
     },
     "execution_count": 202,
     "metadata": {},
     "output_type": "execute_result"
    }
   ],
   "source": [
    "intermediaria.isna().sum()"
   ]
  },
  {
   "cell_type": "code",
   "execution_count": 203,
   "id": "41092e65-d04f-41c1-b092-a01e3b50fd5b",
   "metadata": {},
   "outputs": [],
   "source": [
    "intermediaria_final = intermediaria_final.rename({\n",
    "    \"curriculo_id\": \"id_curriculo\",\n",
    "    \"grupos_id\": \"id_grupo\",\n",
    "    \"linhas_id\": \"id_linha\"\n",
    "}, axis=1)"
   ]
  },
  {
   "cell_type": "code",
   "execution_count": 204,
   "id": "65080dad-5fda-4386-baef-9f2ff8995920",
   "metadata": {},
   "outputs": [],
   "source": [
    "intermediaria_final = intermediaria.dropna()"
   ]
  },
  {
   "cell_type": "code",
   "execution_count": 205,
   "id": "c7991c72-74c1-494b-85a5-ccf76975f915",
   "metadata": {},
   "outputs": [
    {
     "data": {
      "text/plain": [
       "id_curriculo_linha_grupo    0\n",
       "curriculo_id                0\n",
       "grupos_id                   0\n",
       "linhas_id                   0\n",
       "dtype: int64"
      ]
     },
     "execution_count": 205,
     "metadata": {},
     "output_type": "execute_result"
    }
   ],
   "source": [
    "intermediaria_final.isna().sum()"
   ]
  },
  {
   "cell_type": "code",
   "execution_count": 206,
   "id": "5b79571a-86dc-40f0-ae59-2acd48dd6d71",
   "metadata": {},
   "outputs": [],
   "source": [
    "intermediaria_final = intermediaria_final.drop(\"id_curriculo_linha_grupo\", axis=1)"
   ]
  },
  {
   "cell_type": "code",
   "execution_count": 207,
   "id": "da5ed18b-eacc-4b8f-addf-ffc6e48ca437",
   "metadata": {},
   "outputs": [
    {
     "data": {
      "text/plain": [
       "(953, 3)"
      ]
     },
     "execution_count": 207,
     "metadata": {},
     "output_type": "execute_result"
    }
   ],
   "source": [
    "intermediaria_final.shape"
   ]
  },
  {
   "cell_type": "code",
   "execution_count": 208,
   "id": "8c78853b-e46b-4234-a1e1-4d5be9919f95",
   "metadata": {},
   "outputs": [],
   "source": [
    "intermediaria_final = intermediaria_final.drop_duplicates()"
   ]
  },
  {
   "cell_type": "code",
   "execution_count": 209,
   "id": "809b382b-bda0-4bab-a5f2-af2646f66929",
   "metadata": {},
   "outputs": [
    {
     "data": {
      "text/plain": [
       "curriculo_id    Int64\n",
       "grupos_id       int64\n",
       "linhas_id       int64\n",
       "dtype: object"
      ]
     },
     "execution_count": 209,
     "metadata": {},
     "output_type": "execute_result"
    }
   ],
   "source": [
    "intermediaria_final.dtypes"
   ]
  },
  {
   "cell_type": "code",
   "execution_count": 210,
   "id": "f750233b-bc67-4eab-9a13-a8a314b0cd40",
   "metadata": {},
   "outputs": [],
   "source": [
    "intermediaria_final = intermediaria_final.rename({\n",
    "    \"curriculo_id\": \"id_curriculo\",\n",
    "    \"grupos_id\": \"id_grupo\",\n",
    "    \"linhas_id\": \"id_linha\"\n",
    "}, axis=1)"
   ]
  },
  {
   "cell_type": "code",
   "execution_count": 211,
   "id": "05b755bd-c1df-4d02-bd83-d8ffd52f8d57",
   "metadata": {},
   "outputs": [
    {
     "data": {
      "text/plain": [
       "Index(['id_curriculo', 'id_grupo', 'id_linha'], dtype='object')"
      ]
     },
     "execution_count": 211,
     "metadata": {},
     "output_type": "execute_result"
    }
   ],
   "source": [
    "intermediaria_final.columns"
   ]
  },
  {
   "cell_type": "code",
   "execution_count": 212,
   "id": "8b26713e-06d7-43c2-9c69-fc4f2c54aa09",
   "metadata": {},
   "outputs": [],
   "source": [
    "intermediaria_final = intermediaria_final.sort_values(\"id_curriculo\")"
   ]
  },
  {
   "cell_type": "code",
   "execution_count": 213,
   "id": "76d823c2-d300-4d25-ad9b-4f37e277be3c",
   "metadata": {},
   "outputs": [
    {
     "data": {
      "text/html": [
       "<div>\n",
       "<style scoped>\n",
       "    .dataframe tbody tr th:only-of-type {\n",
       "        vertical-align: middle;\n",
       "    }\n",
       "\n",
       "    .dataframe tbody tr th {\n",
       "        vertical-align: top;\n",
       "    }\n",
       "\n",
       "    .dataframe thead th {\n",
       "        text-align: right;\n",
       "    }\n",
       "</style>\n",
       "<table border=\"1\" class=\"dataframe\">\n",
       "  <thead>\n",
       "    <tr style=\"text-align: right;\">\n",
       "      <th></th>\n",
       "      <th>id_curriculo</th>\n",
       "      <th>id_grupo</th>\n",
       "      <th>id_linha</th>\n",
       "    </tr>\n",
       "  </thead>\n",
       "  <tbody>\n",
       "    <tr>\n",
       "      <th>540</th>\n",
       "      <td>3</td>\n",
       "      <td>40</td>\n",
       "      <td>148</td>\n",
       "    </tr>\n",
       "    <tr>\n",
       "      <th>14</th>\n",
       "      <td>4</td>\n",
       "      <td>1</td>\n",
       "      <td>2</td>\n",
       "    </tr>\n",
       "    <tr>\n",
       "      <th>7</th>\n",
       "      <td>4</td>\n",
       "      <td>1</td>\n",
       "      <td>1</td>\n",
       "    </tr>\n",
       "    <tr>\n",
       "      <th>539</th>\n",
       "      <td>12</td>\n",
       "      <td>40</td>\n",
       "      <td>148</td>\n",
       "    </tr>\n",
       "    <tr>\n",
       "      <th>957</th>\n",
       "      <td>26</td>\n",
       "      <td>74</td>\n",
       "      <td>274</td>\n",
       "    </tr>\n",
       "    <tr>\n",
       "      <th>952</th>\n",
       "      <td>26</td>\n",
       "      <td>74</td>\n",
       "      <td>272</td>\n",
       "    </tr>\n",
       "    <tr>\n",
       "      <th>954</th>\n",
       "      <td>26</td>\n",
       "      <td>74</td>\n",
       "      <td>262</td>\n",
       "    </tr>\n",
       "    <tr>\n",
       "      <th>299</th>\n",
       "      <td>28</td>\n",
       "      <td>19</td>\n",
       "      <td>71</td>\n",
       "    </tr>\n",
       "    <tr>\n",
       "      <th>474</th>\n",
       "      <td>29</td>\n",
       "      <td>36</td>\n",
       "      <td>124</td>\n",
       "    </tr>\n",
       "    <tr>\n",
       "      <th>477</th>\n",
       "      <td>29</td>\n",
       "      <td>36</td>\n",
       "      <td>125</td>\n",
       "    </tr>\n",
       "    <tr>\n",
       "      <th>635</th>\n",
       "      <td>32</td>\n",
       "      <td>49</td>\n",
       "      <td>171</td>\n",
       "    </tr>\n",
       "    <tr>\n",
       "      <th>636</th>\n",
       "      <td>32</td>\n",
       "      <td>49</td>\n",
       "      <td>172</td>\n",
       "    </tr>\n",
       "    <tr>\n",
       "      <th>88</th>\n",
       "      <td>32</td>\n",
       "      <td>6</td>\n",
       "      <td>23</td>\n",
       "    </tr>\n",
       "    <tr>\n",
       "      <th>73</th>\n",
       "      <td>32</td>\n",
       "      <td>6</td>\n",
       "      <td>17</td>\n",
       "    </tr>\n",
       "    <tr>\n",
       "      <th>90</th>\n",
       "      <td>32</td>\n",
       "      <td>6</td>\n",
       "      <td>24</td>\n",
       "    </tr>\n",
       "    <tr>\n",
       "      <th>204</th>\n",
       "      <td>34</td>\n",
       "      <td>10</td>\n",
       "      <td>48</td>\n",
       "    </tr>\n",
       "    <tr>\n",
       "      <th>165</th>\n",
       "      <td>35</td>\n",
       "      <td>7</td>\n",
       "      <td>36</td>\n",
       "    </tr>\n",
       "    <tr>\n",
       "      <th>130</th>\n",
       "      <td>35</td>\n",
       "      <td>7</td>\n",
       "      <td>33</td>\n",
       "    </tr>\n",
       "    <tr>\n",
       "      <th>120</th>\n",
       "      <td>35</td>\n",
       "      <td>7</td>\n",
       "      <td>32</td>\n",
       "    </tr>\n",
       "    <tr>\n",
       "      <th>105</th>\n",
       "      <td>35</td>\n",
       "      <td>7</td>\n",
       "      <td>31</td>\n",
       "    </tr>\n",
       "  </tbody>\n",
       "</table>\n",
       "</div>"
      ],
      "text/plain": [
       "     id_curriculo  id_grupo  id_linha\n",
       "540             3        40       148\n",
       "14              4         1         2\n",
       "7               4         1         1\n",
       "539            12        40       148\n",
       "957            26        74       274\n",
       "952            26        74       272\n",
       "954            26        74       262\n",
       "299            28        19        71\n",
       "474            29        36       124\n",
       "477            29        36       125\n",
       "635            32        49       171\n",
       "636            32        49       172\n",
       "88             32         6        23\n",
       "73             32         6        17\n",
       "90             32         6        24\n",
       "204            34        10        48\n",
       "165            35         7        36\n",
       "130            35         7        33\n",
       "120            35         7        32\n",
       "105            35         7        31"
      ]
     },
     "execution_count": 213,
     "metadata": {},
     "output_type": "execute_result"
    }
   ],
   "source": [
    "intermediaria_final.head(n=20)"
   ]
  },
  {
   "cell_type": "markdown",
   "id": "906a0af7-b060-4c06-af97-77b30d8dcd5a",
   "metadata": {},
   "source": [
    "## Exportar"
   ]
  },
  {
   "cell_type": "code",
   "execution_count": 214,
   "id": "c55189b8-69fd-48e5-951a-c6c70437ee66",
   "metadata": {},
   "outputs": [],
   "source": [
    "export_path = Path(IFG_PRODUZ_STORAGE_DIR / \"preprocessed\")\n",
    "\n",
    "if not export_path.is_dir():\n",
    "    Path(export_path).mkdir()\n",
    "\n",
    "linhas_de_pesquisa.to_csv(export_path / \"linhas_de_pesquisa.csv\", sep=\";\", index=False)\n",
    "grupos_de_pesquisa.to_csv(export_path / \"grupos_de_pesquisa.csv\", sep=\";\", index=False)\n",
    "alunos.to_csv(export_path / \"alunos.csv\", sep=\";\", index=False)\n",
    "intermediaria_final.to_csv(export_path / \"curriculo_grupos.csv\", sep=\";\", index=False)"
   ]
  }
 ],
 "metadata": {
  "kernelspec": {
   "display_name": "Python 3 (ipykernel)",
   "language": "python",
   "name": "python3"
  },
  "language_info": {
   "codemirror_mode": {
    "name": "ipython",
    "version": 3
   },
   "file_extension": ".py",
   "mimetype": "text/x-python",
   "name": "python",
   "nbconvert_exporter": "python",
   "pygments_lexer": "ipython3",
   "version": "3.10.12"
  }
 },
 "nbformat": 4,
 "nbformat_minor": 5
}
