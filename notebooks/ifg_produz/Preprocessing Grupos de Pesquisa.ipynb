{
 "cells": [
  {
   "cell_type": "code",
   "execution_count": 282,
   "id": "9e7e33ae",
   "metadata": {
    "tags": [
     "parameters"
    ]
   },
   "outputs": [],
   "source": [
    "p_storage_dir = \"../../storage\""
   ]
  },
  {
   "cell_type": "code",
   "execution_count": 283,
   "id": "26699801",
   "metadata": {},
   "outputs": [],
   "source": [
    "import pandas as pd\n",
    "import numpy as np\n",
    "from pathlib import Path\n",
    "\n",
    "IFG_PRODUZ_STORAGE_DIR = Path(f\"{p_storage_dir}/ifg_produz\")"
   ]
  },
  {
   "cell_type": "markdown",
   "id": "1680b17b-7dc0-45ba-8bbb-710afed95302",
   "metadata": {
    "jp-MarkdownHeadingCollapsed": true
   },
   "source": [
    "## Tabela Intermediária"
   ]
  },
  {
   "cell_type": "markdown",
   "id": "9ced0cff-285a-47e5-a4fd-43ed339bcd56",
   "metadata": {},
   "source": [
    "![Tabela Intermediária](./assets/images/tabela_intermediaria_grupos_de_pesquisa.png)"
   ]
  },
  {
   "cell_type": "code",
   "execution_count": 284,
   "id": "a39d92b9-babb-4c2c-921b-1457cf63259d",
   "metadata": {},
   "outputs": [],
   "source": [
    "intermediaria = pd.read_csv(IFG_PRODUZ_STORAGE_DIR / \"extracted/curriculo_grupos.csv\", delimiter=\";\", dtype={'curriculo_id': 'Int64'})"
   ]
  },
  {
   "cell_type": "code",
   "execution_count": 285,
   "id": "b7c8c2df-3781-439b-9e0d-e05a0b4c0c86",
   "metadata": {},
   "outputs": [
    {
     "data": {
      "text/html": [
       "<div>\n",
       "<style scoped>\n",
       "    .dataframe tbody tr th:only-of-type {\n",
       "        vertical-align: middle;\n",
       "    }\n",
       "\n",
       "    .dataframe tbody tr th {\n",
       "        vertical-align: top;\n",
       "    }\n",
       "\n",
       "    .dataframe thead th {\n",
       "        text-align: right;\n",
       "    }\n",
       "</style>\n",
       "<table border=\"1\" class=\"dataframe\">\n",
       "  <thead>\n",
       "    <tr style=\"text-align: right;\">\n",
       "      <th></th>\n",
       "      <th>id_curriculo_linha_grupo</th>\n",
       "      <th>curriculo_id</th>\n",
       "      <th>grupos_id</th>\n",
       "      <th>linhas_id</th>\n",
       "    </tr>\n",
       "  </thead>\n",
       "  <tbody>\n",
       "    <tr>\n",
       "      <th>0</th>\n",
       "      <td>1</td>\n",
       "      <td>888</td>\n",
       "      <td>1</td>\n",
       "      <td>1</td>\n",
       "    </tr>\n",
       "    <tr>\n",
       "      <th>1</th>\n",
       "      <td>2</td>\n",
       "      <td>1438</td>\n",
       "      <td>1</td>\n",
       "      <td>1</td>\n",
       "    </tr>\n",
       "    <tr>\n",
       "      <th>2</th>\n",
       "      <td>3</td>\n",
       "      <td>973</td>\n",
       "      <td>1</td>\n",
       "      <td>1</td>\n",
       "    </tr>\n",
       "    <tr>\n",
       "      <th>3</th>\n",
       "      <td>4</td>\n",
       "      <td>1324</td>\n",
       "      <td>1</td>\n",
       "      <td>1</td>\n",
       "    </tr>\n",
       "    <tr>\n",
       "      <th>4</th>\n",
       "      <td>5</td>\n",
       "      <td>39</td>\n",
       "      <td>1</td>\n",
       "      <td>1</td>\n",
       "    </tr>\n",
       "  </tbody>\n",
       "</table>\n",
       "</div>"
      ],
      "text/plain": [
       "   id_curriculo_linha_grupo  curriculo_id  grupos_id  linhas_id\n",
       "0                         1           888          1          1\n",
       "1                         2          1438          1          1\n",
       "2                         3           973          1          1\n",
       "3                         4          1324          1          1\n",
       "4                         5            39          1          1"
      ]
     },
     "execution_count": 285,
     "metadata": {},
     "output_type": "execute_result"
    }
   ],
   "source": [
    "intermediaria.head()"
   ]
  },
  {
   "cell_type": "markdown",
   "id": "63619834",
   "metadata": {
    "jp-MarkdownHeadingCollapsed": true
   },
   "source": [
    "## Linhas de Pesquisa"
   ]
  },
  {
   "cell_type": "code",
   "execution_count": 286,
   "id": "e0a1fdaa",
   "metadata": {},
   "outputs": [
    {
     "data": {
      "text/html": [
       "<div>\n",
       "<style scoped>\n",
       "    .dataframe tbody tr th:only-of-type {\n",
       "        vertical-align: middle;\n",
       "    }\n",
       "\n",
       "    .dataframe tbody tr th {\n",
       "        vertical-align: top;\n",
       "    }\n",
       "\n",
       "    .dataframe thead th {\n",
       "        text-align: right;\n",
       "    }\n",
       "</style>\n",
       "<table border=\"1\" class=\"dataframe\">\n",
       "  <thead>\n",
       "    <tr style=\"text-align: right;\">\n",
       "      <th></th>\n",
       "      <th>id_linha</th>\n",
       "      <th>nome_da_linha</th>\n",
       "    </tr>\n",
       "  </thead>\n",
       "  <tbody>\n",
       "    <tr>\n",
       "      <th>0</th>\n",
       "      <td>1</td>\n",
       "      <td>Ambiente, Saúde, Qualidade de Vida e Sociedade</td>\n",
       "    </tr>\n",
       "    <tr>\n",
       "      <th>1</th>\n",
       "      <td>2</td>\n",
       "      <td>Estudos interdisciplinares em Infecções Relaci...</td>\n",
       "    </tr>\n",
       "    <tr>\n",
       "      <th>2</th>\n",
       "      <td>3</td>\n",
       "      <td>Formação humana e cultura corporal</td>\n",
       "    </tr>\n",
       "    <tr>\n",
       "      <th>3</th>\n",
       "      <td>4</td>\n",
       "      <td>Política educacional, currículo e trabalho doc...</td>\n",
       "    </tr>\n",
       "    <tr>\n",
       "      <th>4</th>\n",
       "      <td>5</td>\n",
       "      <td>Processo educativo e trabalho pedagógico</td>\n",
       "    </tr>\n",
       "  </tbody>\n",
       "</table>\n",
       "</div>"
      ],
      "text/plain": [
       "   id_linha                                      nome_da_linha\n",
       "0         1     Ambiente, Saúde, Qualidade de Vida e Sociedade\n",
       "1         2  Estudos interdisciplinares em Infecções Relaci...\n",
       "2         3                 Formação humana e cultura corporal\n",
       "3         4  Política educacional, currículo e trabalho doc...\n",
       "4         5           Processo educativo e trabalho pedagógico"
      ]
     },
     "execution_count": 286,
     "metadata": {},
     "output_type": "execute_result"
    }
   ],
   "source": [
    "linhas_de_pesquisa = pd.read_csv(IFG_PRODUZ_STORAGE_DIR / \"extracted/linhas_de_pesquisa.csv\", delimiter=\";\")\n",
    "\n",
    "linhas_de_pesquisa.head(n=5)"
   ]
  },
  {
   "cell_type": "code",
   "execution_count": 287,
   "id": "e4f0c019-0551-4cc0-af68-61e752735f8e",
   "metadata": {},
   "outputs": [
    {
     "data": {
      "text/html": [
       "<div>\n",
       "<style scoped>\n",
       "    .dataframe tbody tr th:only-of-type {\n",
       "        vertical-align: middle;\n",
       "    }\n",
       "\n",
       "    .dataframe tbody tr th {\n",
       "        vertical-align: top;\n",
       "    }\n",
       "\n",
       "    .dataframe thead th {\n",
       "        text-align: right;\n",
       "    }\n",
       "</style>\n",
       "<table border=\"1\" class=\"dataframe\">\n",
       "  <thead>\n",
       "    <tr style=\"text-align: right;\">\n",
       "      <th></th>\n",
       "      <th>codigo</th>\n",
       "      <th>titulo</th>\n",
       "    </tr>\n",
       "  </thead>\n",
       "  <tbody>\n",
       "    <tr>\n",
       "      <th>146</th>\n",
       "      <td>147</td>\n",
       "      <td>Fundamentos, metodologias e recursos para a Ed...</td>\n",
       "    </tr>\n",
       "    <tr>\n",
       "      <th>19</th>\n",
       "      <td>20</td>\n",
       "      <td>Estudo da flexão em elementos lineares de conc...</td>\n",
       "    </tr>\n",
       "    <tr>\n",
       "      <th>211</th>\n",
       "      <td>212</td>\n",
       "      <td>Logística e Transporte de Cargas</td>\n",
       "    </tr>\n",
       "    <tr>\n",
       "      <th>169</th>\n",
       "      <td>170</td>\n",
       "      <td>Planejamento Integrado dos Recursos Hídricos</td>\n",
       "    </tr>\n",
       "    <tr>\n",
       "      <th>9</th>\n",
       "      <td>10</td>\n",
       "      <td>Linguística Aplicada e o Ensino de Língua Mate...</td>\n",
       "    </tr>\n",
       "  </tbody>\n",
       "</table>\n",
       "</div>"
      ],
      "text/plain": [
       "     codigo                                             titulo\n",
       "146     147  Fundamentos, metodologias e recursos para a Ed...\n",
       "19       20  Estudo da flexão em elementos lineares de conc...\n",
       "211     212                   Logística e Transporte de Cargas\n",
       "169     170       Planejamento Integrado dos Recursos Hídricos\n",
       "9        10  Linguística Aplicada e o Ensino de Língua Mate..."
      ]
     },
     "execution_count": 287,
     "metadata": {},
     "output_type": "execute_result"
    }
   ],
   "source": [
    "linhas_de_pesquisa = linhas_de_pesquisa.rename(columns={\n",
    "    'id_linha': 'codigo',\n",
    "    'nome_da_linha': 'titulo',\n",
    "})\n",
    "\n",
    "linhas_de_pesquisa.sample(n=5)"
   ]
  },
  {
   "cell_type": "code",
   "execution_count": 288,
   "id": "f875d617-f5cd-459c-ba92-063cec88820b",
   "metadata": {},
   "outputs": [],
   "source": [
    "if not (linhas_de_pesquisa['titulo'] == linhas_de_pesquisa['titulo'].str.strip()).all():\n",
    "    linhas_de_pesquisa['titulo'] = linhas_de_pesquisa['titulo'].str.strip()"
   ]
  },
  {
   "cell_type": "markdown",
   "id": "23c6cb26-716b-45a8-bc82-fce80586fcf6",
   "metadata": {},
   "source": [
    "### Inserir em uma nova coluna com todos os currículos que estão ligados com cada linha de pesquisa"
   ]
  },
  {
   "cell_type": "code",
   "execution_count": 289,
   "id": "b95c9452-b79d-469c-bdcd-83e304a076f7",
   "metadata": {},
   "outputs": [
    {
     "data": {
      "text/plain": [
       "[759, 238]"
      ]
     },
     "execution_count": 289,
     "metadata": {},
     "output_type": "execute_result"
    }
   ],
   "source": [
    "list(intermediaria[intermediaria['linhas_id'] == 44]['curriculo_id'].dropna().unique())"
   ]
  },
  {
   "cell_type": "code",
   "execution_count": 290,
   "id": "ca36ef75-fdbf-4136-8b79-c22e42ba6755",
   "metadata": {},
   "outputs": [],
   "source": [
    "def create_df_curriculos_to_linha_de_pesquisa(intermediate: pd.DataFrame, linhas_de_pesquisa: pd.DataFrame) -> pd.DataFrame:\n",
    "    final_map = {}\n",
    "    \n",
    "    for codigo_linha_de_pesquisa in linhas_de_pesquisa['codigo'].unique():\n",
    "        codigos_curriculos = list(intermediaria[intermediaria['linhas_id'] == codigo_linha_de_pesquisa]['curriculo_id'].dropna().unique())\n",
    "\n",
    "        if len(codigos_curriculos) > 0:\n",
    "            final_map[codigo_linha_de_pesquisa] = codigos_curriculos\n",
    "\n",
    "    return final_map"
   ]
  },
  {
   "cell_type": "code",
   "execution_count": 291,
   "id": "274893b5-43b3-404e-8135-36c3b689d989",
   "metadata": {},
   "outputs": [],
   "source": [
    "linha_de_pesquisa_to_curriculos_map = create_df_curriculos_to_linha_de_pesquisa(intermediaria, linhas_de_pesquisa)"
   ]
  },
  {
   "cell_type": "code",
   "execution_count": 292,
   "id": "ee59f1e3-e5d5-4722-bd4a-c50082e0b2dd",
   "metadata": {},
   "outputs": [],
   "source": [
    "def set_curriculos_in_linha_de_pesquisa(row, map):\n",
    "    codigo_linha_de_pesquisa = row['codigo']\n",
    "    \n",
    "    if codigo_linha_de_pesquisa in map.keys():\n",
    "        curriculos = map[row['codigo']]\n",
    "        return curriculos"
   ]
  },
  {
   "cell_type": "code",
   "execution_count": 293,
   "id": "0856cbbc-26cb-4508-8f3a-edaa3d71a05c",
   "metadata": {},
   "outputs": [],
   "source": [
    "linhas_de_pesquisa['codigos_curriculos'] = linhas_de_pesquisa.apply(set_curriculos_in_linha_de_pesquisa, axis=1,\n",
    "                                                                    args=(linha_de_pesquisa_to_curriculos_map,))"
   ]
  },
  {
   "cell_type": "code",
   "execution_count": 294,
   "id": "3c0f1ff3-478b-422c-8f71-2c0cb61f838f",
   "metadata": {},
   "outputs": [
    {
     "data": {
      "text/html": [
       "<div>\n",
       "<style scoped>\n",
       "    .dataframe tbody tr th:only-of-type {\n",
       "        vertical-align: middle;\n",
       "    }\n",
       "\n",
       "    .dataframe tbody tr th {\n",
       "        vertical-align: top;\n",
       "    }\n",
       "\n",
       "    .dataframe thead th {\n",
       "        text-align: right;\n",
       "    }\n",
       "</style>\n",
       "<table border=\"1\" class=\"dataframe\">\n",
       "  <thead>\n",
       "    <tr style=\"text-align: right;\">\n",
       "      <th></th>\n",
       "      <th>codigo</th>\n",
       "      <th>titulo</th>\n",
       "      <th>codigos_curriculos</th>\n",
       "    </tr>\n",
       "  </thead>\n",
       "  <tbody>\n",
       "    <tr>\n",
       "      <th>0</th>\n",
       "      <td>1</td>\n",
       "      <td>Ambiente, Saúde, Qualidade de Vida e Sociedade</td>\n",
       "      <td>[888, 1438, 973, 1324, 39, 386, 509, 4, 1388, ...</td>\n",
       "    </tr>\n",
       "    <tr>\n",
       "      <th>1</th>\n",
       "      <td>2</td>\n",
       "      <td>Estudos interdisciplinares em Infecções Relaci...</td>\n",
       "      <td>[1324, 386, 509, 4, 1388]</td>\n",
       "    </tr>\n",
       "    <tr>\n",
       "      <th>2</th>\n",
       "      <td>3</td>\n",
       "      <td>Formação humana e cultura corporal</td>\n",
       "      <td>[1204, 711, 827, 600, 130]</td>\n",
       "    </tr>\n",
       "    <tr>\n",
       "      <th>3</th>\n",
       "      <td>4</td>\n",
       "      <td>Política educacional, currículo e trabalho doc...</td>\n",
       "      <td>[827, 130, 1146, 1073]</td>\n",
       "    </tr>\n",
       "    <tr>\n",
       "      <th>4</th>\n",
       "      <td>5</td>\n",
       "      <td>Processo educativo e trabalho pedagógico</td>\n",
       "      <td>[915, 1657, 1419, 1334, 1795, 471]</td>\n",
       "    </tr>\n",
       "  </tbody>\n",
       "</table>\n",
       "</div>"
      ],
      "text/plain": [
       "   codigo                                             titulo  \\\n",
       "0       1     Ambiente, Saúde, Qualidade de Vida e Sociedade   \n",
       "1       2  Estudos interdisciplinares em Infecções Relaci...   \n",
       "2       3                 Formação humana e cultura corporal   \n",
       "3       4  Política educacional, currículo e trabalho doc...   \n",
       "4       5           Processo educativo e trabalho pedagógico   \n",
       "\n",
       "                                  codigos_curriculos  \n",
       "0  [888, 1438, 973, 1324, 39, 386, 509, 4, 1388, ...  \n",
       "1                          [1324, 386, 509, 4, 1388]  \n",
       "2                         [1204, 711, 827, 600, 130]  \n",
       "3                             [827, 130, 1146, 1073]  \n",
       "4                 [915, 1657, 1419, 1334, 1795, 471]  "
      ]
     },
     "execution_count": 294,
     "metadata": {},
     "output_type": "execute_result"
    }
   ],
   "source": [
    "linhas_de_pesquisa.head()"
   ]
  },
  {
   "cell_type": "markdown",
   "id": "4f33a731-d7bf-4233-824f-b492e1eca9f5",
   "metadata": {},
   "source": [
    "## Grupos de Pesquisa"
   ]
  },
  {
   "cell_type": "code",
   "execution_count": 295,
   "id": "5f1ee06d-d4f7-4255-8211-f92ff3c9d771",
   "metadata": {},
   "outputs": [
    {
     "data": {
      "text/html": [
       "<div>\n",
       "<style scoped>\n",
       "    .dataframe tbody tr th:only-of-type {\n",
       "        vertical-align: middle;\n",
       "    }\n",
       "\n",
       "    .dataframe tbody tr th {\n",
       "        vertical-align: top;\n",
       "    }\n",
       "\n",
       "    .dataframe thead th {\n",
       "        text-align: right;\n",
       "    }\n",
       "</style>\n",
       "<table border=\"1\" class=\"dataframe\">\n",
       "  <thead>\n",
       "    <tr style=\"text-align: right;\">\n",
       "      <th></th>\n",
       "      <th>id_grupo</th>\n",
       "      <th>nome_grupo</th>\n",
       "      <th>situacao_do_grupo</th>\n",
       "      <th>ano_formacao</th>\n",
       "      <th>lider_do_grupo</th>\n",
       "      <th>link_do_grupo</th>\n",
       "      <th>linha_de_pesquisa</th>\n",
       "      <th>situacao_do_grupo_por_criterios</th>\n",
       "    </tr>\n",
       "  </thead>\n",
       "  <tbody>\n",
       "    <tr>\n",
       "      <th>0</th>\n",
       "      <td>1</td>\n",
       "      <td>Núcleo de Estudos e Pesquisas em Ciências da Vida</td>\n",
       "      <td>Certificado</td>\n",
       "      <td>2020</td>\n",
       "      <td>Patricia Carvalho de Oliveira</td>\n",
       "      <td>http://dgp.cnpq.br/dgp/espelhogrupo/633526</td>\n",
       "      <td>NaN</td>\n",
       "      <td>Certificado</td>\n",
       "    </tr>\n",
       "    <tr>\n",
       "      <th>1</th>\n",
       "      <td>2</td>\n",
       "      <td>Núcleo de estudos e pesquisas socicríticas em ...</td>\n",
       "      <td>Em preenchimento</td>\n",
       "      <td>2020</td>\n",
       "      <td>Fernando Henrique Silva Carneiro</td>\n",
       "      <td>http://dgp.cnpq.br/dgp/espelhogrupo/590146</td>\n",
       "      <td>NaN</td>\n",
       "      <td>Certificado</td>\n",
       "    </tr>\n",
       "    <tr>\n",
       "      <th>2</th>\n",
       "      <td>3</td>\n",
       "      <td>Grupo de Pesquisas em Artes e Audiovisual</td>\n",
       "      <td>Em preenchimento</td>\n",
       "      <td>2020</td>\n",
       "      <td>Adérito Schneider Alencar e Távora</td>\n",
       "      <td>http://dgp.cnpq.br/dgp/espelhogrupo/607747</td>\n",
       "      <td>NaN</td>\n",
       "      <td>Certificado</td>\n",
       "    </tr>\n",
       "    <tr>\n",
       "      <th>3</th>\n",
       "      <td>4</td>\n",
       "      <td>Núcleo Multicampi de Pesquisas e Estudos em Li...</td>\n",
       "      <td>Certificado</td>\n",
       "      <td>2011</td>\n",
       "      <td>Mabel Pettersen Prudente</td>\n",
       "      <td>http://dgp.cnpq.br/dgp/espelhogrupo/33150</td>\n",
       "      <td>NaN</td>\n",
       "      <td>Pendente</td>\n",
       "    </tr>\n",
       "    <tr>\n",
       "      <th>4</th>\n",
       "      <td>5</td>\n",
       "      <td>Núcleo de Estudos de Cultura, Linguagens e sua...</td>\n",
       "      <td>Certificado</td>\n",
       "      <td>2013</td>\n",
       "      <td>Rangel Gomes Godinho</td>\n",
       "      <td>http://dgp.cnpq.br/dgp/espelhogrupo/377570</td>\n",
       "      <td>NaN</td>\n",
       "      <td>Pendente</td>\n",
       "    </tr>\n",
       "  </tbody>\n",
       "</table>\n",
       "</div>"
      ],
      "text/plain": [
       "   id_grupo                                         nome_grupo  \\\n",
       "0         1  Núcleo de Estudos e Pesquisas em Ciências da Vida   \n",
       "1         2  Núcleo de estudos e pesquisas socicríticas em ...   \n",
       "2         3          Grupo de Pesquisas em Artes e Audiovisual   \n",
       "3         4  Núcleo Multicampi de Pesquisas e Estudos em Li...   \n",
       "4         5  Núcleo de Estudos de Cultura, Linguagens e sua...   \n",
       "\n",
       "  situacao_do_grupo  ano_formacao                      lider_do_grupo  \\\n",
       "0       Certificado          2020       Patricia Carvalho de Oliveira   \n",
       "1  Em preenchimento          2020    Fernando Henrique Silva Carneiro   \n",
       "2  Em preenchimento          2020  Adérito Schneider Alencar e Távora   \n",
       "3       Certificado          2011            Mabel Pettersen Prudente   \n",
       "4       Certificado          2013                Rangel Gomes Godinho   \n",
       "\n",
       "                                link_do_grupo  linha_de_pesquisa  \\\n",
       "0  http://dgp.cnpq.br/dgp/espelhogrupo/633526                NaN   \n",
       "1  http://dgp.cnpq.br/dgp/espelhogrupo/590146                NaN   \n",
       "2  http://dgp.cnpq.br/dgp/espelhogrupo/607747                NaN   \n",
       "3   http://dgp.cnpq.br/dgp/espelhogrupo/33150                NaN   \n",
       "4  http://dgp.cnpq.br/dgp/espelhogrupo/377570                NaN   \n",
       "\n",
       "  situacao_do_grupo_por_criterios  \n",
       "0                     Certificado  \n",
       "1                     Certificado  \n",
       "2                     Certificado  \n",
       "3                        Pendente  \n",
       "4                        Pendente  "
      ]
     },
     "execution_count": 295,
     "metadata": {},
     "output_type": "execute_result"
    }
   ],
   "source": [
    "grupos_de_pesquisa = pd.read_csv(IFG_PRODUZ_STORAGE_DIR / \"extracted/grupos_de_pesquisa.csv\", delimiter=\";\")\n",
    "\n",
    "grupos_de_pesquisa.head(n=5)"
   ]
  },
  {
   "cell_type": "code",
   "execution_count": 296,
   "id": "be50363c-5257-43fc-b542-f6835faee4f5",
   "metadata": {},
   "outputs": [],
   "source": [
    "grupos_de_pesquisa = grupos_de_pesquisa.rename(columns={\n",
    "    'id_grupo': 'codigo',\n",
    "    'nome_grupo': 'nome',\n",
    "    'situacao_do_grupo': 'situacao',\n",
    "    'situacao_do_grupo_por_criterios': 'situacao_por_criterios',\n",
    "    'lider_do_grupo': 'nome_lider',\n",
    "    'link_do_grupo': 'link'\n",
    "})"
   ]
  },
  {
   "cell_type": "code",
   "execution_count": 297,
   "id": "20e9c74e-6ad3-47d9-b7b7-0965a18ab115",
   "metadata": {},
   "outputs": [
    {
     "data": {
      "text/html": [
       "<div>\n",
       "<style scoped>\n",
       "    .dataframe tbody tr th:only-of-type {\n",
       "        vertical-align: middle;\n",
       "    }\n",
       "\n",
       "    .dataframe tbody tr th {\n",
       "        vertical-align: top;\n",
       "    }\n",
       "\n",
       "    .dataframe thead th {\n",
       "        text-align: right;\n",
       "    }\n",
       "</style>\n",
       "<table border=\"1\" class=\"dataframe\">\n",
       "  <thead>\n",
       "    <tr style=\"text-align: right;\">\n",
       "      <th></th>\n",
       "      <th>codigo</th>\n",
       "      <th>nome</th>\n",
       "      <th>situacao</th>\n",
       "      <th>ano_formacao</th>\n",
       "      <th>nome_lider</th>\n",
       "      <th>link</th>\n",
       "      <th>linha_de_pesquisa</th>\n",
       "      <th>situacao_por_criterios</th>\n",
       "    </tr>\n",
       "  </thead>\n",
       "  <tbody>\n",
       "    <tr>\n",
       "      <th>0</th>\n",
       "      <td>1</td>\n",
       "      <td>Núcleo de Estudos e Pesquisas em Ciências da Vida</td>\n",
       "      <td>Certificado</td>\n",
       "      <td>2020</td>\n",
       "      <td>Patricia Carvalho de Oliveira</td>\n",
       "      <td>http://dgp.cnpq.br/dgp/espelhogrupo/633526</td>\n",
       "      <td>NaN</td>\n",
       "      <td>Certificado</td>\n",
       "    </tr>\n",
       "    <tr>\n",
       "      <th>1</th>\n",
       "      <td>2</td>\n",
       "      <td>Núcleo de estudos e pesquisas socicríticas em ...</td>\n",
       "      <td>Em preenchimento</td>\n",
       "      <td>2020</td>\n",
       "      <td>Fernando Henrique Silva Carneiro</td>\n",
       "      <td>http://dgp.cnpq.br/dgp/espelhogrupo/590146</td>\n",
       "      <td>NaN</td>\n",
       "      <td>Certificado</td>\n",
       "    </tr>\n",
       "    <tr>\n",
       "      <th>2</th>\n",
       "      <td>3</td>\n",
       "      <td>Grupo de Pesquisas em Artes e Audiovisual</td>\n",
       "      <td>Em preenchimento</td>\n",
       "      <td>2020</td>\n",
       "      <td>Adérito Schneider Alencar e Távora</td>\n",
       "      <td>http://dgp.cnpq.br/dgp/espelhogrupo/607747</td>\n",
       "      <td>NaN</td>\n",
       "      <td>Certificado</td>\n",
       "    </tr>\n",
       "    <tr>\n",
       "      <th>3</th>\n",
       "      <td>4</td>\n",
       "      <td>Núcleo Multicampi de Pesquisas e Estudos em Li...</td>\n",
       "      <td>Certificado</td>\n",
       "      <td>2011</td>\n",
       "      <td>Mabel Pettersen Prudente</td>\n",
       "      <td>http://dgp.cnpq.br/dgp/espelhogrupo/33150</td>\n",
       "      <td>NaN</td>\n",
       "      <td>Pendente</td>\n",
       "    </tr>\n",
       "    <tr>\n",
       "      <th>4</th>\n",
       "      <td>5</td>\n",
       "      <td>Núcleo de Estudos de Cultura, Linguagens e sua...</td>\n",
       "      <td>Certificado</td>\n",
       "      <td>2013</td>\n",
       "      <td>Rangel Gomes Godinho</td>\n",
       "      <td>http://dgp.cnpq.br/dgp/espelhogrupo/377570</td>\n",
       "      <td>NaN</td>\n",
       "      <td>Pendente</td>\n",
       "    </tr>\n",
       "  </tbody>\n",
       "</table>\n",
       "</div>"
      ],
      "text/plain": [
       "   codigo                                               nome  \\\n",
       "0       1  Núcleo de Estudos e Pesquisas em Ciências da Vida   \n",
       "1       2  Núcleo de estudos e pesquisas socicríticas em ...   \n",
       "2       3          Grupo de Pesquisas em Artes e Audiovisual   \n",
       "3       4  Núcleo Multicampi de Pesquisas e Estudos em Li...   \n",
       "4       5  Núcleo de Estudos de Cultura, Linguagens e sua...   \n",
       "\n",
       "           situacao  ano_formacao                          nome_lider  \\\n",
       "0       Certificado          2020       Patricia Carvalho de Oliveira   \n",
       "1  Em preenchimento          2020    Fernando Henrique Silva Carneiro   \n",
       "2  Em preenchimento          2020  Adérito Schneider Alencar e Távora   \n",
       "3       Certificado          2011            Mabel Pettersen Prudente   \n",
       "4       Certificado          2013                Rangel Gomes Godinho   \n",
       "\n",
       "                                         link  linha_de_pesquisa  \\\n",
       "0  http://dgp.cnpq.br/dgp/espelhogrupo/633526                NaN   \n",
       "1  http://dgp.cnpq.br/dgp/espelhogrupo/590146                NaN   \n",
       "2  http://dgp.cnpq.br/dgp/espelhogrupo/607747                NaN   \n",
       "3   http://dgp.cnpq.br/dgp/espelhogrupo/33150                NaN   \n",
       "4  http://dgp.cnpq.br/dgp/espelhogrupo/377570                NaN   \n",
       "\n",
       "  situacao_por_criterios  \n",
       "0            Certificado  \n",
       "1            Certificado  \n",
       "2            Certificado  \n",
       "3               Pendente  \n",
       "4               Pendente  "
      ]
     },
     "execution_count": 297,
     "metadata": {},
     "output_type": "execute_result"
    }
   ],
   "source": [
    "grupos_de_pesquisa.head(n=5)"
   ]
  },
  {
   "cell_type": "markdown",
   "id": "9ad03f64-dfba-404c-8b21-a55b5fc097aa",
   "metadata": {},
   "source": [
    "### Verificando valores nulos"
   ]
  },
  {
   "cell_type": "code",
   "execution_count": 298,
   "id": "b77607e8-d7d5-4224-a039-3ea7cb4d3e3b",
   "metadata": {},
   "outputs": [
    {
     "data": {
      "text/plain": [
       "codigo                     0\n",
       "nome                       0\n",
       "situacao                   0\n",
       "ano_formacao               0\n",
       "nome_lider                 0\n",
       "link                       0\n",
       "linha_de_pesquisa         76\n",
       "situacao_por_criterios     0\n",
       "dtype: int64"
      ]
     },
     "execution_count": 298,
     "metadata": {},
     "output_type": "execute_result"
    }
   ],
   "source": [
    "grupos_de_pesquisa.isna().sum()"
   ]
  },
  {
   "cell_type": "code",
   "execution_count": 299,
   "id": "689cd6aa-55b2-4e46-a9a9-963b9f7bc25b",
   "metadata": {},
   "outputs": [
    {
     "data": {
      "text/plain": [
       "(76,)"
      ]
     },
     "execution_count": 299,
     "metadata": {},
     "output_type": "execute_result"
    }
   ],
   "source": [
    "grupos_de_pesquisa['linha_de_pesquisa'].shape"
   ]
  },
  {
   "cell_type": "markdown",
   "id": "b7cc1c49-01a2-457f-991e-0181a18787f3",
   "metadata": {},
   "source": [
    "### Ligar as Linhas de Pesquisa ao Grupo de Pesquisa"
   ]
  },
  {
   "cell_type": "code",
   "execution_count": 300,
   "id": "5938fe39-5fb0-4645-9373-36b4a61e7043",
   "metadata": {},
   "outputs": [
    {
     "data": {
      "text/html": [
       "<div>\n",
       "<style scoped>\n",
       "    .dataframe tbody tr th:only-of-type {\n",
       "        vertical-align: middle;\n",
       "    }\n",
       "\n",
       "    .dataframe tbody tr th {\n",
       "        vertical-align: top;\n",
       "    }\n",
       "\n",
       "    .dataframe thead th {\n",
       "        text-align: right;\n",
       "    }\n",
       "</style>\n",
       "<table border=\"1\" class=\"dataframe\">\n",
       "  <thead>\n",
       "    <tr style=\"text-align: right;\">\n",
       "      <th></th>\n",
       "      <th>id_curriculo_linha_grupo</th>\n",
       "      <th>curriculo_id</th>\n",
       "      <th>grupos_id</th>\n",
       "      <th>linhas_id</th>\n",
       "    </tr>\n",
       "  </thead>\n",
       "  <tbody>\n",
       "    <tr>\n",
       "      <th>381</th>\n",
       "      <td>383</td>\n",
       "      <td>139</td>\n",
       "      <td>28</td>\n",
       "      <td>98</td>\n",
       "    </tr>\n",
       "    <tr>\n",
       "      <th>454</th>\n",
       "      <td>456</td>\n",
       "      <td>1363</td>\n",
       "      <td>33</td>\n",
       "      <td>118</td>\n",
       "    </tr>\n",
       "    <tr>\n",
       "      <th>214</th>\n",
       "      <td>215</td>\n",
       "      <td>558</td>\n",
       "      <td>11</td>\n",
       "      <td>50</td>\n",
       "    </tr>\n",
       "    <tr>\n",
       "      <th>1</th>\n",
       "      <td>2</td>\n",
       "      <td>1438</td>\n",
       "      <td>1</td>\n",
       "      <td>1</td>\n",
       "    </tr>\n",
       "    <tr>\n",
       "      <th>911</th>\n",
       "      <td>913</td>\n",
       "      <td>870</td>\n",
       "      <td>70</td>\n",
       "      <td>255</td>\n",
       "    </tr>\n",
       "  </tbody>\n",
       "</table>\n",
       "</div>"
      ],
      "text/plain": [
       "     id_curriculo_linha_grupo  curriculo_id  grupos_id  linhas_id\n",
       "381                       383           139         28         98\n",
       "454                       456          1363         33        118\n",
       "214                       215           558         11         50\n",
       "1                           2          1438          1          1\n",
       "911                       913           870         70        255"
      ]
     },
     "execution_count": 300,
     "metadata": {},
     "output_type": "execute_result"
    }
   ],
   "source": [
    "intermediaria.sample(n=5)"
   ]
  },
  {
   "cell_type": "code",
   "execution_count": 301,
   "id": "136c5dad-1164-4f30-9ec3-165b72d40805",
   "metadata": {},
   "outputs": [],
   "source": [
    "grupos_de_pesquisa = grupos_de_pesquisa.rename(columns={'linha_de_pesquisa': 'codigos_linhas_de_pesquisa'})"
   ]
  },
  {
   "cell_type": "code",
   "execution_count": 302,
   "id": "47a51679-abe9-4288-b1bc-f688de67dafe",
   "metadata": {},
   "outputs": [
    {
     "data": {
      "text/plain": [
       "Index(['codigo', 'nome', 'situacao', 'ano_formacao', 'nome_lider', 'link',\n",
       "       'codigos_linhas_de_pesquisa', 'situacao_por_criterios'],\n",
       "      dtype='object')"
      ]
     },
     "execution_count": 302,
     "metadata": {},
     "output_type": "execute_result"
    }
   ],
   "source": [
    "grupos_de_pesquisa.columns"
   ]
  },
  {
   "cell_type": "code",
   "execution_count": 303,
   "id": "d4badbe3-442b-48fd-b9fc-f493d6405c78",
   "metadata": {},
   "outputs": [],
   "source": [
    "def find_and_set_research_lines_for_research_groups(row, intermediaria: pd.DataFrame):\n",
    "    research_lines_codes = list(intermediaria[intermediaria['grupos_id'] == row['codigo']]['linhas_id'].unique())\n",
    "    row['codigos_linhas_de_pesquisa'] = research_lines_codes\n",
    "\n",
    "    return row"
   ]
  },
  {
   "cell_type": "code",
   "execution_count": 304,
   "id": "0e65b184-60cf-4a2e-8a03-2b0e254dfadc",
   "metadata": {
    "scrolled": true
   },
   "outputs": [],
   "source": [
    "grupos_de_pesquisa = grupos_de_pesquisa.apply(find_and_set_research_lines_for_research_groups, args=(intermediaria,), axis=1)"
   ]
  },
  {
   "cell_type": "code",
   "execution_count": 305,
   "id": "3f5674a3-dbc1-4d6c-9738-163792b9d91d",
   "metadata": {},
   "outputs": [
    {
     "data": {
      "text/html": [
       "<div>\n",
       "<style scoped>\n",
       "    .dataframe tbody tr th:only-of-type {\n",
       "        vertical-align: middle;\n",
       "    }\n",
       "\n",
       "    .dataframe tbody tr th {\n",
       "        vertical-align: top;\n",
       "    }\n",
       "\n",
       "    .dataframe thead th {\n",
       "        text-align: right;\n",
       "    }\n",
       "</style>\n",
       "<table border=\"1\" class=\"dataframe\">\n",
       "  <thead>\n",
       "    <tr style=\"text-align: right;\">\n",
       "      <th></th>\n",
       "      <th>codigo</th>\n",
       "      <th>nome</th>\n",
       "      <th>situacao</th>\n",
       "      <th>ano_formacao</th>\n",
       "      <th>nome_lider</th>\n",
       "      <th>link</th>\n",
       "      <th>codigos_linhas_de_pesquisa</th>\n",
       "      <th>situacao_por_criterios</th>\n",
       "    </tr>\n",
       "  </thead>\n",
       "  <tbody>\n",
       "    <tr>\n",
       "      <th>0</th>\n",
       "      <td>1</td>\n",
       "      <td>Núcleo de Estudos e Pesquisas em Ciências da Vida</td>\n",
       "      <td>Certificado</td>\n",
       "      <td>2020</td>\n",
       "      <td>Patricia Carvalho de Oliveira</td>\n",
       "      <td>http://dgp.cnpq.br/dgp/espelhogrupo/633526</td>\n",
       "      <td>[1, 2]</td>\n",
       "      <td>Certificado</td>\n",
       "    </tr>\n",
       "    <tr>\n",
       "      <th>1</th>\n",
       "      <td>2</td>\n",
       "      <td>Núcleo de estudos e pesquisas socicríticas em ...</td>\n",
       "      <td>Em preenchimento</td>\n",
       "      <td>2020</td>\n",
       "      <td>Fernando Henrique Silva Carneiro</td>\n",
       "      <td>http://dgp.cnpq.br/dgp/espelhogrupo/590146</td>\n",
       "      <td>[3, 4, 5]</td>\n",
       "      <td>Certificado</td>\n",
       "    </tr>\n",
       "    <tr>\n",
       "      <th>2</th>\n",
       "      <td>3</td>\n",
       "      <td>Grupo de Pesquisas em Artes e Audiovisual</td>\n",
       "      <td>Em preenchimento</td>\n",
       "      <td>2020</td>\n",
       "      <td>Adérito Schneider Alencar e Távora</td>\n",
       "      <td>http://dgp.cnpq.br/dgp/espelhogrupo/607747</td>\n",
       "      <td>[6, 7, 8]</td>\n",
       "      <td>Certificado</td>\n",
       "    </tr>\n",
       "    <tr>\n",
       "      <th>3</th>\n",
       "      <td>4</td>\n",
       "      <td>Núcleo Multicampi de Pesquisas e Estudos em Li...</td>\n",
       "      <td>Certificado</td>\n",
       "      <td>2011</td>\n",
       "      <td>Mabel Pettersen Prudente</td>\n",
       "      <td>http://dgp.cnpq.br/dgp/espelhogrupo/33150</td>\n",
       "      <td>[9, 10]</td>\n",
       "      <td>Pendente</td>\n",
       "    </tr>\n",
       "    <tr>\n",
       "      <th>4</th>\n",
       "      <td>5</td>\n",
       "      <td>Núcleo de Estudos de Cultura, Linguagens e sua...</td>\n",
       "      <td>Certificado</td>\n",
       "      <td>2013</td>\n",
       "      <td>Rangel Gomes Godinho</td>\n",
       "      <td>http://dgp.cnpq.br/dgp/espelhogrupo/377570</td>\n",
       "      <td>[11, 12, 13]</td>\n",
       "      <td>Pendente</td>\n",
       "    </tr>\n",
       "  </tbody>\n",
       "</table>\n",
       "</div>"
      ],
      "text/plain": [
       "   codigo                                               nome  \\\n",
       "0       1  Núcleo de Estudos e Pesquisas em Ciências da Vida   \n",
       "1       2  Núcleo de estudos e pesquisas socicríticas em ...   \n",
       "2       3          Grupo de Pesquisas em Artes e Audiovisual   \n",
       "3       4  Núcleo Multicampi de Pesquisas e Estudos em Li...   \n",
       "4       5  Núcleo de Estudos de Cultura, Linguagens e sua...   \n",
       "\n",
       "           situacao  ano_formacao                          nome_lider  \\\n",
       "0       Certificado          2020       Patricia Carvalho de Oliveira   \n",
       "1  Em preenchimento          2020    Fernando Henrique Silva Carneiro   \n",
       "2  Em preenchimento          2020  Adérito Schneider Alencar e Távora   \n",
       "3       Certificado          2011            Mabel Pettersen Prudente   \n",
       "4       Certificado          2013                Rangel Gomes Godinho   \n",
       "\n",
       "                                         link codigos_linhas_de_pesquisa  \\\n",
       "0  http://dgp.cnpq.br/dgp/espelhogrupo/633526                     [1, 2]   \n",
       "1  http://dgp.cnpq.br/dgp/espelhogrupo/590146                  [3, 4, 5]   \n",
       "2  http://dgp.cnpq.br/dgp/espelhogrupo/607747                  [6, 7, 8]   \n",
       "3   http://dgp.cnpq.br/dgp/espelhogrupo/33150                    [9, 10]   \n",
       "4  http://dgp.cnpq.br/dgp/espelhogrupo/377570               [11, 12, 13]   \n",
       "\n",
       "  situacao_por_criterios  \n",
       "0            Certificado  \n",
       "1            Certificado  \n",
       "2            Certificado  \n",
       "3               Pendente  \n",
       "4               Pendente  "
      ]
     },
     "execution_count": 305,
     "metadata": {},
     "output_type": "execute_result"
    }
   ],
   "source": [
    "grupos_de_pesquisa.head()"
   ]
  },
  {
   "cell_type": "markdown",
   "id": "3c0f761c-383c-4053-bc04-f42e7886a232",
   "metadata": {},
   "source": [
    "### Inserir uma coluna com o ID do currículo de cada líder"
   ]
  },
  {
   "cell_type": "code",
   "execution_count": 306,
   "id": "4d050b24-d9cc-4031-93a5-98cad437c95b",
   "metadata": {},
   "outputs": [],
   "source": [
    "from text_processors import normalizar_string"
   ]
  },
  {
   "cell_type": "code",
   "execution_count": 307,
   "id": "99198ddf-e7b2-4c3e-a2fd-f559397f033a",
   "metadata": {},
   "outputs": [],
   "source": [
    "curriculos = pd.read_csv(IFG_PRODUZ_STORAGE_DIR / \"extracted/curriculo.csv\", delimiter=\";\")\n",
    "curriculos = curriculos.loc[:, ['id_curriculo', 'nome_completo']]"
   ]
  },
  {
   "cell_type": "code",
   "execution_count": 308,
   "id": "0a195774-0721-4fad-a7fd-4d72396a6438",
   "metadata": {},
   "outputs": [],
   "source": [
    "curriculos['nome_completo_normalizado'] = curriculos['nome_completo'].apply(normalizar_string)"
   ]
  },
  {
   "cell_type": "code",
   "execution_count": 309,
   "id": "2350e6c9-1e05-4d07-be62-e8b975c4e6e5",
   "metadata": {},
   "outputs": [
    {
     "data": {
      "text/html": [
       "<div>\n",
       "<style scoped>\n",
       "    .dataframe tbody tr th:only-of-type {\n",
       "        vertical-align: middle;\n",
       "    }\n",
       "\n",
       "    .dataframe tbody tr th {\n",
       "        vertical-align: top;\n",
       "    }\n",
       "\n",
       "    .dataframe thead th {\n",
       "        text-align: right;\n",
       "    }\n",
       "</style>\n",
       "<table border=\"1\" class=\"dataframe\">\n",
       "  <thead>\n",
       "    <tr style=\"text-align: right;\">\n",
       "      <th></th>\n",
       "      <th>id_curriculo</th>\n",
       "      <th>nome_completo</th>\n",
       "      <th>nome_completo_normalizado</th>\n",
       "    </tr>\n",
       "  </thead>\n",
       "  <tbody>\n",
       "    <tr>\n",
       "      <th>1607</th>\n",
       "      <td>170</td>\n",
       "      <td>Katia Pereira Fonseca</td>\n",
       "      <td>katia pereira fonseca</td>\n",
       "    </tr>\n",
       "    <tr>\n",
       "      <th>1757</th>\n",
       "      <td>665</td>\n",
       "      <td>Adrielly Melo Borges</td>\n",
       "      <td>adrielly melo borges</td>\n",
       "    </tr>\n",
       "    <tr>\n",
       "      <th>1742</th>\n",
       "      <td>617</td>\n",
       "      <td>Angelita Duarte da Silva</td>\n",
       "      <td>angelita duarte da silva</td>\n",
       "    </tr>\n",
       "  </tbody>\n",
       "</table>\n",
       "</div>"
      ],
      "text/plain": [
       "      id_curriculo             nome_completo nome_completo_normalizado\n",
       "1607           170     Katia Pereira Fonseca     katia pereira fonseca\n",
       "1757           665      Adrielly Melo Borges      adrielly melo borges\n",
       "1742           617  Angelita Duarte da Silva  angelita duarte da silva"
      ]
     },
     "execution_count": 309,
     "metadata": {},
     "output_type": "execute_result"
    }
   ],
   "source": [
    "curriculos.sample(n=3)"
   ]
  },
  {
   "cell_type": "code",
   "execution_count": 310,
   "id": "88891bac-ba2f-4ceb-9a1f-a400e58cd302",
   "metadata": {},
   "outputs": [
    {
     "data": {
      "text/html": [
       "<div>\n",
       "<style scoped>\n",
       "    .dataframe tbody tr th:only-of-type {\n",
       "        vertical-align: middle;\n",
       "    }\n",
       "\n",
       "    .dataframe tbody tr th {\n",
       "        vertical-align: top;\n",
       "    }\n",
       "\n",
       "    .dataframe thead th {\n",
       "        text-align: right;\n",
       "    }\n",
       "</style>\n",
       "<table border=\"1\" class=\"dataframe\">\n",
       "  <thead>\n",
       "    <tr style=\"text-align: right;\">\n",
       "      <th></th>\n",
       "      <th>codigo</th>\n",
       "      <th>titulo</th>\n",
       "      <th>codigos_curriculos</th>\n",
       "    </tr>\n",
       "  </thead>\n",
       "  <tbody>\n",
       "    <tr>\n",
       "      <th>119</th>\n",
       "      <td>120</td>\n",
       "      <td>Processamento de Sinais Biológicos</td>\n",
       "      <td>[1756, 1071]</td>\n",
       "    </tr>\n",
       "    <tr>\n",
       "      <th>235</th>\n",
       "      <td>236</td>\n",
       "      <td>Desenvolvimento de Software para Sistemas Elét...</td>\n",
       "      <td>[1406]</td>\n",
       "    </tr>\n",
       "    <tr>\n",
       "      <th>110</th>\n",
       "      <td>111</td>\n",
       "      <td>Construção Civil</td>\n",
       "      <td>[1287, 142, 1748, 752]</td>\n",
       "    </tr>\n",
       "  </tbody>\n",
       "</table>\n",
       "</div>"
      ],
      "text/plain": [
       "     codigo                                             titulo  \\\n",
       "119     120                 Processamento de Sinais Biológicos   \n",
       "235     236  Desenvolvimento de Software para Sistemas Elét...   \n",
       "110     111                                   Construção Civil   \n",
       "\n",
       "         codigos_curriculos  \n",
       "119            [1756, 1071]  \n",
       "235                  [1406]  \n",
       "110  [1287, 142, 1748, 752]  "
      ]
     },
     "execution_count": 310,
     "metadata": {},
     "output_type": "execute_result"
    }
   ],
   "source": [
    "linhas_de_pesquisa.sample(n=3)"
   ]
  },
  {
   "cell_type": "code",
   "execution_count": 311,
   "id": "dedc5356-0ce7-4419-8a00-f6f29441e0fe",
   "metadata": {},
   "outputs": [
    {
     "data": {
      "text/html": [
       "<div>\n",
       "<style scoped>\n",
       "    .dataframe tbody tr th:only-of-type {\n",
       "        vertical-align: middle;\n",
       "    }\n",
       "\n",
       "    .dataframe tbody tr th {\n",
       "        vertical-align: top;\n",
       "    }\n",
       "\n",
       "    .dataframe thead th {\n",
       "        text-align: right;\n",
       "    }\n",
       "</style>\n",
       "<table border=\"1\" class=\"dataframe\">\n",
       "  <thead>\n",
       "    <tr style=\"text-align: right;\">\n",
       "      <th></th>\n",
       "      <th>id_curriculo_linha_grupo</th>\n",
       "      <th>curriculo_id</th>\n",
       "      <th>grupos_id</th>\n",
       "      <th>linhas_id</th>\n",
       "    </tr>\n",
       "  </thead>\n",
       "  <tbody>\n",
       "    <tr>\n",
       "      <th>95</th>\n",
       "      <td>96</td>\n",
       "      <td>1081</td>\n",
       "      <td>6</td>\n",
       "      <td>28</td>\n",
       "    </tr>\n",
       "    <tr>\n",
       "      <th>850</th>\n",
       "      <td>852</td>\n",
       "      <td>&lt;NA&gt;</td>\n",
       "      <td>65</td>\n",
       "      <td>241</td>\n",
       "    </tr>\n",
       "    <tr>\n",
       "      <th>975</th>\n",
       "      <td>977</td>\n",
       "      <td>833</td>\n",
       "      <td>76</td>\n",
       "      <td>278</td>\n",
       "    </tr>\n",
       "  </tbody>\n",
       "</table>\n",
       "</div>"
      ],
      "text/plain": [
       "     id_curriculo_linha_grupo  curriculo_id  grupos_id  linhas_id\n",
       "95                         96          1081          6         28\n",
       "850                       852          <NA>         65        241\n",
       "975                       977           833         76        278"
      ]
     },
     "execution_count": 311,
     "metadata": {},
     "output_type": "execute_result"
    }
   ],
   "source": [
    "intermediaria.sample(n=3)"
   ]
  },
  {
   "cell_type": "code",
   "execution_count": 312,
   "id": "075a6bd5-b626-45f0-b400-26058820da6e",
   "metadata": {},
   "outputs": [],
   "source": [
    "def find_and_set_research_group_leader_code(row, curriculos: pd.DataFrame, linhas_de_pesquisa: pd.DataFrame, intermediaria: pd.DataFrame):\n",
    "    # rg = research group\n",
    "    rg_leader_normalized = normalizar_string(row['nome_lider'])\n",
    "    rg_code = row['codigo']\n",
    "\n",
    "    found_leader_resume = curriculos[curriculos['nome_completo_normalizado'] == rg_leader_normalized]\n",
    "\n",
    "    if len(found_leader_resume) > 1:\n",
    "        print(f'Não foi possível encontrar o código correto para o líder do grupo com ID: {rg_code}. Foi encontrado mais de um resultado na busca realizada.')\n",
    "        return\n",
    "    elif len(found_leader_resume) == 0:\n",
    "        print(f'Não foi possível encontrar o líder do grupo com ID: {rg_code}. Não foram encontrados registros.')\n",
    "        return\n",
    "    \n",
    "    found_leader_code = found_leader_resume['id_curriculo'].iloc[0]\n",
    "    found_leader_research_lines = intermediaria[(intermediaria['curriculo_id'] == found_leader_code) & \n",
    "    (intermediaria['grupos_id'] == row['codigo'])]\n",
    "    \n",
    "    if len(found_leader_research_lines) == 0:\n",
    "        print(f\"Não foi possível ligar o líder do grupo com ID: {rg_code}. O líder do grupo não está ligado a nenhuma linha de pesquisa do grupo.\")\n",
    "        return\n",
    "\n",
    "    row['codigo_lider'] = found_leader_code\n",
    "\n",
    "    return row"
   ]
  },
  {
   "cell_type": "code",
   "execution_count": 313,
   "id": "9bbbbbcd-b960-4bf0-b430-4b39efbe8670",
   "metadata": {},
   "outputs": [
    {
     "name": "stdout",
     "output_type": "stream",
     "text": [
      "Não foi possível ligar o líder do grupo com ID: 27. O líder do grupo não está ligado a nenhuma linha de pesquisa do grupo.\n"
     ]
    }
   ],
   "source": [
    "grupos_de_pesquisa = grupos_de_pesquisa.apply(find_and_set_research_group_leader_code, args=(curriculos, linhas_de_pesquisa, intermediaria), axis=1)"
   ]
  },
  {
   "cell_type": "code",
   "execution_count": 314,
   "id": "ac69dc61-ba24-4839-a3d7-84d9e4ca8bb2",
   "metadata": {},
   "outputs": [],
   "source": [
    "grupos_de_pesquisa['codigo_lider'] = grupos_de_pesquisa['codigo_lider'].astype('Int64')"
   ]
  },
  {
   "cell_type": "markdown",
   "id": "35967ab8-389c-4e16-af23-d108d0882cd6",
   "metadata": {},
   "source": [
    "### Colocar o código dos participantes do grupo em uma coluna"
   ]
  },
  {
   "cell_type": "code",
   "execution_count": 315,
   "id": "deaebab2-cc04-4c5d-9e23-e357397e553e",
   "metadata": {},
   "outputs": [
    {
     "data": {
      "text/html": [
       "<div>\n",
       "<style scoped>\n",
       "    .dataframe tbody tr th:only-of-type {\n",
       "        vertical-align: middle;\n",
       "    }\n",
       "\n",
       "    .dataframe tbody tr th {\n",
       "        vertical-align: top;\n",
       "    }\n",
       "\n",
       "    .dataframe thead th {\n",
       "        text-align: right;\n",
       "    }\n",
       "</style>\n",
       "<table border=\"1\" class=\"dataframe\">\n",
       "  <thead>\n",
       "    <tr style=\"text-align: right;\">\n",
       "      <th></th>\n",
       "      <th>id_curriculo_linha_grupo</th>\n",
       "      <th>curriculo_id</th>\n",
       "      <th>grupos_id</th>\n",
       "      <th>linhas_id</th>\n",
       "    </tr>\n",
       "  </thead>\n",
       "  <tbody>\n",
       "    <tr>\n",
       "      <th>845</th>\n",
       "      <td>847</td>\n",
       "      <td>1097</td>\n",
       "      <td>65</td>\n",
       "      <td>238</td>\n",
       "    </tr>\n",
       "    <tr>\n",
       "      <th>322</th>\n",
       "      <td>324</td>\n",
       "      <td>1040</td>\n",
       "      <td>20</td>\n",
       "      <td>80</td>\n",
       "    </tr>\n",
       "    <tr>\n",
       "      <th>654</th>\n",
       "      <td>656</td>\n",
       "      <td>1792</td>\n",
       "      <td>51</td>\n",
       "      <td>177</td>\n",
       "    </tr>\n",
       "    <tr>\n",
       "      <th>394</th>\n",
       "      <td>396</td>\n",
       "      <td>1467</td>\n",
       "      <td>29</td>\n",
       "      <td>100</td>\n",
       "    </tr>\n",
       "    <tr>\n",
       "      <th>917</th>\n",
       "      <td>919</td>\n",
       "      <td>211</td>\n",
       "      <td>71</td>\n",
       "      <td>258</td>\n",
       "    </tr>\n",
       "  </tbody>\n",
       "</table>\n",
       "</div>"
      ],
      "text/plain": [
       "     id_curriculo_linha_grupo  curriculo_id  grupos_id  linhas_id\n",
       "845                       847          1097         65        238\n",
       "322                       324          1040         20         80\n",
       "654                       656          1792         51        177\n",
       "394                       396          1467         29        100\n",
       "917                       919           211         71        258"
      ]
     },
     "execution_count": 315,
     "metadata": {},
     "output_type": "execute_result"
    }
   ],
   "source": [
    "intermediaria.sample(n=5)"
   ]
  },
  {
   "cell_type": "code",
   "execution_count": 316,
   "id": "1148c2b1-493d-4b10-bc9a-c33b1d0ecf81",
   "metadata": {},
   "outputs": [],
   "source": [
    "def find_and_set_group_member_codes(row, intermediaria: pd.DataFrame):\n",
    "    group_members_codes = list(intermediaria[intermediaria['grupos_id'] == row['codigo']]['curriculo_id'].dropna().unique())\n",
    "\n",
    "    row['codigo_membros'] = group_members_codes\n",
    "\n",
    "    return row"
   ]
  },
  {
   "cell_type": "code",
   "execution_count": 317,
   "id": "b3b5d5b8-e5b0-4db2-9aa4-aa5d80b6b9f4",
   "metadata": {},
   "outputs": [],
   "source": [
    "grupos_de_pesquisa = grupos_de_pesquisa.apply(find_and_set_group_member_codes, args=(intermediaria,), axis=1)"
   ]
  },
  {
   "cell_type": "markdown",
   "id": "acc91c2d-05f9-4628-8f6f-4b0e08f0ddee",
   "metadata": {},
   "source": [
    "## Alunos"
   ]
  },
  {
   "cell_type": "code",
   "execution_count": 318,
   "id": "6de8ccba-a487-4a8a-96bf-7ea4eebe8bab",
   "metadata": {},
   "outputs": [
    {
     "data": {
      "text/html": [
       "<div>\n",
       "<style scoped>\n",
       "    .dataframe tbody tr th:only-of-type {\n",
       "        vertical-align: middle;\n",
       "    }\n",
       "\n",
       "    .dataframe tbody tr th {\n",
       "        vertical-align: top;\n",
       "    }\n",
       "\n",
       "    .dataframe thead th {\n",
       "        text-align: right;\n",
       "    }\n",
       "</style>\n",
       "<table border=\"1\" class=\"dataframe\">\n",
       "  <thead>\n",
       "    <tr style=\"text-align: right;\">\n",
       "      <th></th>\n",
       "      <th>id_aluno</th>\n",
       "      <th>nome_aluno</th>\n",
       "      <th>id_grupos_de_pesquisa_id</th>\n",
       "    </tr>\n",
       "  </thead>\n",
       "  <tbody>\n",
       "    <tr>\n",
       "      <th>0</th>\n",
       "      <td>1</td>\n",
       "      <td>Amanda Sousa de Queiros</td>\n",
       "      <td>1</td>\n",
       "    </tr>\n",
       "    <tr>\n",
       "      <th>1</th>\n",
       "      <td>2</td>\n",
       "      <td>Ellen Kelrye Ferreira Reis</td>\n",
       "      <td>1</td>\n",
       "    </tr>\n",
       "    <tr>\n",
       "      <th>2</th>\n",
       "      <td>3</td>\n",
       "      <td>Janailza Barbosa da Silva</td>\n",
       "      <td>1</td>\n",
       "    </tr>\n",
       "    <tr>\n",
       "      <th>3</th>\n",
       "      <td>4</td>\n",
       "      <td>Jariele Ferreira de Oliveira</td>\n",
       "      <td>1</td>\n",
       "    </tr>\n",
       "    <tr>\n",
       "      <th>4</th>\n",
       "      <td>5</td>\n",
       "      <td>Maisa Cecília da Silva Reis</td>\n",
       "      <td>1</td>\n",
       "    </tr>\n",
       "  </tbody>\n",
       "</table>\n",
       "</div>"
      ],
      "text/plain": [
       "   id_aluno                    nome_aluno  id_grupos_de_pesquisa_id\n",
       "0         1       Amanda Sousa de Queiros                         1\n",
       "1         2    Ellen Kelrye Ferreira Reis                         1\n",
       "2         3     Janailza Barbosa da Silva                         1\n",
       "3         4  Jariele Ferreira de Oliveira                         1\n",
       "4         5   Maisa Cecília da Silva Reis                         1"
      ]
     },
     "execution_count": 318,
     "metadata": {},
     "output_type": "execute_result"
    }
   ],
   "source": [
    "alunos = pd.read_csv(IFG_PRODUZ_STORAGE_DIR / \"extracted/alunos.csv\", delimiter=\";\")\n",
    "\n",
    "alunos.head(n=5)"
   ]
  },
  {
   "cell_type": "code",
   "execution_count": 319,
   "id": "9d0ab1e7-f4e2-441b-a8bf-e5b1a16c53a6",
   "metadata": {},
   "outputs": [],
   "source": [
    "alunos = alunos.rename(columns={\n",
    "    'id_aluno': 'codigo',\n",
    "    'nome_aluno': 'nome',\n",
    "    'id_grupos_de_pesquisa_id': 'codigo_grupo_de_pesquisa'\n",
    "})"
   ]
  },
  {
   "cell_type": "code",
   "execution_count": 320,
   "id": "c0796f88-db8b-4f11-bf31-bbf04b6da03e",
   "metadata": {},
   "outputs": [
    {
     "data": {
      "text/plain": [
       "Index(['codigo', 'nome', 'codigo_grupo_de_pesquisa'], dtype='object')"
      ]
     },
     "execution_count": 320,
     "metadata": {},
     "output_type": "execute_result"
    }
   ],
   "source": [
    "alunos.columns"
   ]
  },
  {
   "cell_type": "markdown",
   "id": "906a0af7-b060-4c06-af97-77b30d8dcd5a",
   "metadata": {},
   "source": [
    "## Exportar"
   ]
  },
  {
   "cell_type": "code",
   "execution_count": 321,
   "id": "c55189b8-69fd-48e5-951a-c6c70437ee66",
   "metadata": {},
   "outputs": [],
   "source": [
    "export_path = Path(IFG_PRODUZ_STORAGE_DIR / \"preprocessed\")\n",
    "\n",
    "if not export_path.is_dir():\n",
    "    Path(export_path).mkdir()\n",
    "\n",
    "linhas_de_pesquisa.to_csv(export_path / \"linhas_de_pesquisa.csv\", sep=\";\", index=False)\n",
    "grupos_de_pesquisa.to_csv(export_path / \"grupos_de_pesquisa.csv\", sep=\";\", index=False)\n",
    "alunos.to_csv(export_path / \"alunos.csv\", sep=\";\", index=False)"
   ]
  }
 ],
 "metadata": {
  "kernelspec": {
   "display_name": "Python 3 (ipykernel)",
   "language": "python",
   "name": "python3"
  },
  "language_info": {
   "codemirror_mode": {
    "name": "ipython",
    "version": 3
   },
   "file_extension": ".py",
   "mimetype": "text/x-python",
   "name": "python",
   "nbconvert_exporter": "python",
   "pygments_lexer": "ipython3",
   "version": "3.10.12"
  }
 },
 "nbformat": 4,
 "nbformat_minor": 5
}
