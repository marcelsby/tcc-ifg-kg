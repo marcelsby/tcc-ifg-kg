{
 "cells": [
  {
   "cell_type": "code",
   "execution_count": 10,
   "id": "9e7e33ae",
   "metadata": {
    "tags": [
     "parameters"
    ]
   },
   "outputs": [],
   "source": [
    "p_storage_dir = \"../../storage\"\n",
    "p_notebooks_root = None"
   ]
  },
  {
   "cell_type": "code",
   "execution_count": null,
   "id": "862a3f6a-7911-46e9-847b-c4ca0fdf06b9",
   "metadata": {},
   "outputs": [],
   "source": [
    "if p_notebooks_root is not None:\n",
    "    import os\n",
    "    os.chdir(p_notebooks_root)"
   ]
  },
  {
   "cell_type": "code",
   "execution_count": 11,
   "id": "26699801",
   "metadata": {},
   "outputs": [],
   "source": [
    "from pathlib import Path\n",
    "\n",
    "import numpy as np\n",
    "import pandas as pd\n",
    "\n",
    "IFG_PRODUZ_STORAGE_DIR = Path(f\"{p_storage_dir}/ifg_produz\")"
   ]
  },
  {
   "cell_type": "markdown",
   "id": "63619834",
   "metadata": {},
   "source": [
    "# Registro"
   ]
  },
  {
   "cell_type": "code",
   "execution_count": 12,
   "id": "e0a1fdaa",
   "metadata": {},
   "outputs": [
    {
     "data": {
      "text/html": [
       "<div>\n",
       "<style scoped>\n",
       "    .dataframe tbody tr th:only-of-type {\n",
       "        vertical-align: middle;\n",
       "    }\n",
       "\n",
       "    .dataframe tbody tr th {\n",
       "        vertical-align: top;\n",
       "    }\n",
       "\n",
       "    .dataframe thead th {\n",
       "        text-align: right;\n",
       "    }\n",
       "</style>\n",
       "<table border=\"1\" class=\"dataframe\">\n",
       "  <thead>\n",
       "    <tr style=\"text-align: right;\">\n",
       "      <th></th>\n",
       "      <th>id_registro</th>\n",
       "      <th>nome_registro</th>\n",
       "      <th>data_registro</th>\n",
       "      <th>tipo</th>\n",
       "      <th>id_curriculo_id</th>\n",
       "    </tr>\n",
       "  </thead>\n",
       "  <tbody>\n",
       "    <tr>\n",
       "      <th>4</th>\n",
       "      <td>875</td>\n",
       "      <td>CEP - Controle Estatístico de Processos</td>\n",
       "      <td>2005</td>\n",
       "      <td>software</td>\n",
       "      <td>13</td>\n",
       "    </tr>\n",
       "    <tr>\n",
       "      <th>33</th>\n",
       "      <td>904</td>\n",
       "      <td>Sistema de Comissionamento de vendas</td>\n",
       "      <td>2004</td>\n",
       "      <td>software</td>\n",
       "      <td>153</td>\n",
       "    </tr>\n",
       "    <tr>\n",
       "      <th>49</th>\n",
       "      <td>920</td>\n",
       "      <td>Laboratório Ponderal</td>\n",
       "      <td>2017</td>\n",
       "      <td>software</td>\n",
       "      <td>153</td>\n",
       "    </tr>\n",
       "    <tr>\n",
       "      <th>18</th>\n",
       "      <td>889</td>\n",
       "      <td>Rule System - Módulo de Análise de Regras (MAR)</td>\n",
       "      <td>2001</td>\n",
       "      <td>software</td>\n",
       "      <td>110</td>\n",
       "    </tr>\n",
       "    <tr>\n",
       "      <th>53</th>\n",
       "      <td>867</td>\n",
       "      <td>Dispositivo e processo de fotomedição em vário...</td>\n",
       "      <td>2019</td>\n",
       "      <td>patente</td>\n",
       "      <td>1</td>\n",
       "    </tr>\n",
       "  </tbody>\n",
       "</table>\n",
       "</div>"
      ],
      "text/plain": [
       "    id_registro                                      nome_registro  \\\n",
       "4           875            CEP - Controle Estatístico de Processos   \n",
       "33          904               Sistema de Comissionamento de vendas   \n",
       "49          920                               Laboratório Ponderal   \n",
       "18          889    Rule System - Módulo de Análise de Regras (MAR)   \n",
       "53          867  Dispositivo e processo de fotomedição em vário...   \n",
       "\n",
       "    data_registro      tipo  id_curriculo_id  \n",
       "4            2005  software               13  \n",
       "33           2004  software              153  \n",
       "49           2017  software              153  \n",
       "18           2001  software              110  \n",
       "53           2019   patente                1  "
      ]
     },
     "execution_count": 12,
     "metadata": {},
     "output_type": "execute_result"
    }
   ],
   "source": [
    "registro = pd.read_csv(IFG_PRODUZ_STORAGE_DIR / \"extracted/registro.csv\", delimiter=\";\")\n",
    "\n",
    "registro.sample(n=5)"
   ]
  },
  {
   "cell_type": "code",
   "execution_count": 13,
   "id": "c343a820-3911-4462-9ff0-f2de792589d5",
   "metadata": {},
   "outputs": [],
   "source": [
    "registro = registro.rename(columns={\n",
    "    'id_registro': 'codigo',\n",
    "    'nome_registro': 'nome',\n",
    "    'data_registro': 'ano',\n",
    "    'id_curriculo_id': 'codigo_curriculo'\n",
    "})"
   ]
  },
  {
   "cell_type": "code",
   "execution_count": 14,
   "id": "12942893-42e0-4cce-96a6-0e0d7aae2152",
   "metadata": {},
   "outputs": [
    {
     "data": {
      "text/html": [
       "<div>\n",
       "<style scoped>\n",
       "    .dataframe tbody tr th:only-of-type {\n",
       "        vertical-align: middle;\n",
       "    }\n",
       "\n",
       "    .dataframe tbody tr th {\n",
       "        vertical-align: top;\n",
       "    }\n",
       "\n",
       "    .dataframe thead th {\n",
       "        text-align: right;\n",
       "    }\n",
       "</style>\n",
       "<table border=\"1\" class=\"dataframe\">\n",
       "  <thead>\n",
       "    <tr style=\"text-align: right;\">\n",
       "      <th></th>\n",
       "      <th>codigo</th>\n",
       "      <th>nome</th>\n",
       "      <th>ano</th>\n",
       "      <th>tipo</th>\n",
       "      <th>codigo_curriculo</th>\n",
       "    </tr>\n",
       "  </thead>\n",
       "  <tbody>\n",
       "    <tr>\n",
       "      <th>24</th>\n",
       "      <td>895</td>\n",
       "      <td>Formj</td>\n",
       "      <td>2004</td>\n",
       "      <td>software</td>\n",
       "      <td>153</td>\n",
       "    </tr>\n",
       "    <tr>\n",
       "      <th>51</th>\n",
       "      <td>922</td>\n",
       "      <td>Quiz Molecular</td>\n",
       "      <td>2019</td>\n",
       "      <td>software</td>\n",
       "      <td>153</td>\n",
       "    </tr>\n",
       "    <tr>\n",
       "      <th>33</th>\n",
       "      <td>904</td>\n",
       "      <td>Sistema de Comissionamento de vendas</td>\n",
       "      <td>2004</td>\n",
       "      <td>software</td>\n",
       "      <td>153</td>\n",
       "    </tr>\n",
       "    <tr>\n",
       "      <th>6</th>\n",
       "      <td>877</td>\n",
       "      <td>Saúdesoft - Sistema de Clínica Médica</td>\n",
       "      <td>2002</td>\n",
       "      <td>software</td>\n",
       "      <td>13</td>\n",
       "    </tr>\n",
       "    <tr>\n",
       "      <th>20</th>\n",
       "      <td>891</td>\n",
       "      <td>Sintaxe Padrão Prolog para Classificadores Sim...</td>\n",
       "      <td>2002</td>\n",
       "      <td>software</td>\n",
       "      <td>110</td>\n",
       "    </tr>\n",
       "  </tbody>\n",
       "</table>\n",
       "</div>"
      ],
      "text/plain": [
       "    codigo                                               nome   ano      tipo  \\\n",
       "24     895                                              Formj  2004  software   \n",
       "51     922                                     Quiz Molecular  2019  software   \n",
       "33     904               Sistema de Comissionamento de vendas  2004  software   \n",
       "6      877              Saúdesoft - Sistema de Clínica Médica  2002  software   \n",
       "20     891  Sintaxe Padrão Prolog para Classificadores Sim...  2002  software   \n",
       "\n",
       "    codigo_curriculo  \n",
       "24               153  \n",
       "51               153  \n",
       "33               153  \n",
       "6                 13  \n",
       "20               110  "
      ]
     },
     "execution_count": 14,
     "metadata": {},
     "output_type": "execute_result"
    }
   ],
   "source": [
    "registro.sample(n=5)"
   ]
  },
  {
   "cell_type": "markdown",
   "id": "906a0af7-b060-4c06-af97-77b30d8dcd5a",
   "metadata": {},
   "source": [
    "## Exportar"
   ]
  },
  {
   "cell_type": "code",
   "execution_count": 15,
   "id": "c55189b8-69fd-48e5-951a-c6c70437ee66",
   "metadata": {},
   "outputs": [],
   "source": [
    "export_path = Path(IFG_PRODUZ_STORAGE_DIR / \"preprocessed\")\n",
    "\n",
    "if not export_path.is_dir():\n",
    "    Path(export_path).mkdir()\n",
    "\n",
    "registro.to_csv(export_path / \"registro.csv\", sep=\";\", index=False)"
   ]
  }
 ],
 "metadata": {
  "kernelspec": {
   "display_name": "Python 3 (ipykernel)",
   "language": "python",
   "name": "python3"
  },
  "language_info": {
   "codemirror_mode": {
    "name": "ipython",
    "version": 3
   },
   "file_extension": ".py",
   "mimetype": "text/x-python",
   "name": "python",
   "nbconvert_exporter": "python",
   "pygments_lexer": "ipython3",
   "version": "3.10.12"
  }
 },
 "nbformat": 4,
 "nbformat_minor": 5
}
