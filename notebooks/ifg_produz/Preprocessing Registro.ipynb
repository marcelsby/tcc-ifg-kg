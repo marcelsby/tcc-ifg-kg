{
 "cells": [
  {
   "cell_type": "code",
   "execution_count": 1,
   "id": "9e7e33ae",
   "metadata": {
    "tags": [
     "parameters"
    ]
   },
   "outputs": [],
   "source": [
    "p_storage_dir = \"../../storage\"\n",
    "p_notebooks_root = None"
   ]
  },
  {
   "cell_type": "code",
   "execution_count": 2,
   "id": "862a3f6a-7911-46e9-847b-c4ca0fdf06b9",
   "metadata": {},
   "outputs": [],
   "source": [
    "if p_notebooks_root is not None:\n",
    "    import os\n",
    "    os.chdir(p_notebooks_root)"
   ]
  },
  {
   "cell_type": "code",
   "execution_count": 3,
   "id": "26699801",
   "metadata": {},
   "outputs": [],
   "source": [
    "from pathlib import Path\n",
    "\n",
    "import numpy as np\n",
    "import pandas as pd\n",
    "\n",
    "IFG_PRODUZ_STORAGE_DIR = Path(f\"{p_storage_dir}/ifg_produz\")"
   ]
  },
  {
   "cell_type": "markdown",
   "id": "63619834",
   "metadata": {},
   "source": [
    "# Registro"
   ]
  },
  {
   "cell_type": "code",
   "execution_count": 4,
   "id": "e0a1fdaa",
   "metadata": {},
   "outputs": [
    {
     "data": {
      "text/html": [
       "<div>\n",
       "<style scoped>\n",
       "    .dataframe tbody tr th:only-of-type {\n",
       "        vertical-align: middle;\n",
       "    }\n",
       "\n",
       "    .dataframe tbody tr th {\n",
       "        vertical-align: top;\n",
       "    }\n",
       "\n",
       "    .dataframe thead th {\n",
       "        text-align: right;\n",
       "    }\n",
       "</style>\n",
       "<table border=\"1\" class=\"dataframe\">\n",
       "  <thead>\n",
       "    <tr style=\"text-align: right;\">\n",
       "      <th></th>\n",
       "      <th>id_registro</th>\n",
       "      <th>nome_registro</th>\n",
       "      <th>data_registro</th>\n",
       "      <th>tipo</th>\n",
       "      <th>id_curriculo_id</th>\n",
       "    </tr>\n",
       "  </thead>\n",
       "  <tbody>\n",
       "    <tr>\n",
       "      <th>52</th>\n",
       "      <td>923</td>\n",
       "      <td>Sistema de Agendamento de Processos</td>\n",
       "      <td>2009</td>\n",
       "      <td>software</td>\n",
       "      <td>153</td>\n",
       "    </tr>\n",
       "    <tr>\n",
       "      <th>7</th>\n",
       "      <td>878</td>\n",
       "      <td>Agrossolo - Sistema de Análise de Solos</td>\n",
       "      <td>2002</td>\n",
       "      <td>software</td>\n",
       "      <td>13</td>\n",
       "    </tr>\n",
       "    <tr>\n",
       "      <th>3</th>\n",
       "      <td>874</td>\n",
       "      <td>Sistema de Atesto de Faturas</td>\n",
       "      <td>2004</td>\n",
       "      <td>software</td>\n",
       "      <td>2</td>\n",
       "    </tr>\n",
       "    <tr>\n",
       "      <th>53</th>\n",
       "      <td>867</td>\n",
       "      <td>Dispositivo e processo de fotomedição em vário...</td>\n",
       "      <td>2019</td>\n",
       "      <td>patente</td>\n",
       "      <td>1</td>\n",
       "    </tr>\n",
       "    <tr>\n",
       "      <th>25</th>\n",
       "      <td>896</td>\n",
       "      <td>WebFS (Web File System)</td>\n",
       "      <td>2006</td>\n",
       "      <td>software</td>\n",
       "      <td>153</td>\n",
       "    </tr>\n",
       "  </tbody>\n",
       "</table>\n",
       "</div>"
      ],
      "text/plain": [
       "    id_registro                                      nome_registro  \\\n",
       "52          923                Sistema de Agendamento de Processos   \n",
       "7           878            Agrossolo - Sistema de Análise de Solos   \n",
       "3           874                       Sistema de Atesto de Faturas   \n",
       "53          867  Dispositivo e processo de fotomedição em vário...   \n",
       "25          896                            WebFS (Web File System)   \n",
       "\n",
       "    data_registro      tipo  id_curriculo_id  \n",
       "52           2009  software              153  \n",
       "7            2002  software               13  \n",
       "3            2004  software                2  \n",
       "53           2019   patente                1  \n",
       "25           2006  software              153  "
      ]
     },
     "execution_count": 4,
     "metadata": {},
     "output_type": "execute_result"
    }
   ],
   "source": [
    "registro = pd.read_csv(IFG_PRODUZ_STORAGE_DIR / \"extracted/registro.csv\", delimiter=\";\")\n",
    "\n",
    "registro.sample(n=5)"
   ]
  },
  {
   "cell_type": "code",
   "execution_count": 5,
   "id": "c343a820-3911-4462-9ff0-f2de792589d5",
   "metadata": {},
   "outputs": [],
   "source": [
    "registro = registro.rename(columns={\n",
    "    'id_registro': 'codigo',\n",
    "    'nome_registro': 'nome',\n",
    "    'data_registro': 'ano',\n",
    "    'id_curriculo_id': 'codigo_curriculo'\n",
    "})"
   ]
  },
  {
   "cell_type": "code",
   "execution_count": 6,
   "id": "12942893-42e0-4cce-96a6-0e0d7aae2152",
   "metadata": {},
   "outputs": [
    {
     "data": {
      "text/html": [
       "<div>\n",
       "<style scoped>\n",
       "    .dataframe tbody tr th:only-of-type {\n",
       "        vertical-align: middle;\n",
       "    }\n",
       "\n",
       "    .dataframe tbody tr th {\n",
       "        vertical-align: top;\n",
       "    }\n",
       "\n",
       "    .dataframe thead th {\n",
       "        text-align: right;\n",
       "    }\n",
       "</style>\n",
       "<table border=\"1\" class=\"dataframe\">\n",
       "  <thead>\n",
       "    <tr style=\"text-align: right;\">\n",
       "      <th></th>\n",
       "      <th>codigo</th>\n",
       "      <th>nome</th>\n",
       "      <th>ano</th>\n",
       "      <th>tipo</th>\n",
       "      <th>codigo_curriculo</th>\n",
       "    </tr>\n",
       "  </thead>\n",
       "  <tbody>\n",
       "    <tr>\n",
       "      <th>21</th>\n",
       "      <td>892</td>\n",
       "      <td>Sistema Especialista utilizando Case based Rea...</td>\n",
       "      <td>1998</td>\n",
       "      <td>software</td>\n",
       "      <td>110</td>\n",
       "    </tr>\n",
       "    <tr>\n",
       "      <th>44</th>\n",
       "      <td>915</td>\n",
       "      <td>Controle do Portal Web do Juizado da Infância ...</td>\n",
       "      <td>2012</td>\n",
       "      <td>software</td>\n",
       "      <td>153</td>\n",
       "    </tr>\n",
       "    <tr>\n",
       "      <th>48</th>\n",
       "      <td>919</td>\n",
       "      <td>Quiz Periódico</td>\n",
       "      <td>2016</td>\n",
       "      <td>software</td>\n",
       "      <td>153</td>\n",
       "    </tr>\n",
       "    <tr>\n",
       "      <th>43</th>\n",
       "      <td>914</td>\n",
       "      <td>Sinfonia</td>\n",
       "      <td>2010</td>\n",
       "      <td>software</td>\n",
       "      <td>153</td>\n",
       "    </tr>\n",
       "    <tr>\n",
       "      <th>1</th>\n",
       "      <td>872</td>\n",
       "      <td>Parrot - Network Simple Management Tool</td>\n",
       "      <td>2006</td>\n",
       "      <td>software</td>\n",
       "      <td>2</td>\n",
       "    </tr>\n",
       "  </tbody>\n",
       "</table>\n",
       "</div>"
      ],
      "text/plain": [
       "    codigo                                               nome   ano      tipo  \\\n",
       "21     892  Sistema Especialista utilizando Case based Rea...  1998  software   \n",
       "44     915  Controle do Portal Web do Juizado da Infância ...  2012  software   \n",
       "48     919                                     Quiz Periódico  2016  software   \n",
       "43     914                                           Sinfonia  2010  software   \n",
       "1      872            Parrot - Network Simple Management Tool  2006  software   \n",
       "\n",
       "    codigo_curriculo  \n",
       "21               110  \n",
       "44               153  \n",
       "48               153  \n",
       "43               153  \n",
       "1                  2  "
      ]
     },
     "execution_count": 6,
     "metadata": {},
     "output_type": "execute_result"
    }
   ],
   "source": [
    "registro.sample(n=5)"
   ]
  },
  {
   "cell_type": "code",
   "execution_count": 8,
   "id": "4d99fca6-7190-45d5-b392-a3953a3460ec",
   "metadata": {},
   "outputs": [
    {
     "data": {
      "text/plain": [
       "codigo              False\n",
       "nome                False\n",
       "ano                 False\n",
       "tipo                False\n",
       "codigo_curriculo    False\n",
       "dtype: bool"
      ]
     },
     "execution_count": 8,
     "metadata": {},
     "output_type": "execute_result"
    }
   ],
   "source": [
    "registro.isna().any()"
   ]
  },
  {
   "cell_type": "markdown",
   "id": "906a0af7-b060-4c06-af97-77b30d8dcd5a",
   "metadata": {},
   "source": [
    "## Exportar"
   ]
  },
  {
   "cell_type": "code",
   "execution_count": 15,
   "id": "c55189b8-69fd-48e5-951a-c6c70437ee66",
   "metadata": {},
   "outputs": [],
   "source": [
    "export_path = Path(IFG_PRODUZ_STORAGE_DIR / \"preprocessed\")\n",
    "\n",
    "if not export_path.is_dir():\n",
    "    Path(export_path).mkdir()\n",
    "\n",
    "registro.to_csv(export_path / \"registro.csv\", sep=\";\", index=False)"
   ]
  }
 ],
 "metadata": {
  "kernelspec": {
   "display_name": "Python 3 (ipykernel)",
   "language": "python",
   "name": "python3"
  },
  "language_info": {
   "codemirror_mode": {
    "name": "ipython",
    "version": 3
   },
   "file_extension": ".py",
   "mimetype": "text/x-python",
   "name": "python",
   "nbconvert_exporter": "python",
   "pygments_lexer": "ipython3",
   "version": "3.10.12"
  }
 },
 "nbformat": 4,
 "nbformat_minor": 5
}
