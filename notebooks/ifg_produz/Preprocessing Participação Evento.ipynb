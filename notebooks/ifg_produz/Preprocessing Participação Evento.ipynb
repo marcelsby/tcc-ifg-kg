{
 "cells": [
  {
   "cell_type": "code",
   "execution_count": 1,
   "id": "9e7e33ae",
   "metadata": {
    "tags": [
     "parameters"
    ]
   },
   "outputs": [],
   "source": [
    "p_storage_dir = \"../../storage\"\n",
    "p_notebooks_root = None"
   ]
  },
  {
   "cell_type": "code",
   "execution_count": 2,
   "id": "4e2ab1ca-0b11-446d-a11f-93d2cb00095b",
   "metadata": {},
   "outputs": [],
   "source": [
    "if p_notebooks_root is not None:\n",
    "    import os\n",
    "    os.chdir(p_notebooks_root)"
   ]
  },
  {
   "cell_type": "code",
   "execution_count": 3,
   "id": "26699801",
   "metadata": {},
   "outputs": [],
   "source": [
    "from pathlib import Path\n",
    "\n",
    "import numpy as np\n",
    "import pandas as pd\n",
    "\n",
    "IFG_PRODUZ_STORAGE_DIR = Path(f\"{p_storage_dir}/ifg_produz\")"
   ]
  },
  {
   "cell_type": "markdown",
   "id": "63619834",
   "metadata": {},
   "source": [
    "# Participação Evento"
   ]
  },
  {
   "cell_type": "code",
   "execution_count": 4,
   "id": "e0a1fdaa",
   "metadata": {},
   "outputs": [
    {
     "data": {
      "text/html": [
       "<div>\n",
       "<style scoped>\n",
       "    .dataframe tbody tr th:only-of-type {\n",
       "        vertical-align: middle;\n",
       "    }\n",
       "\n",
       "    .dataframe tbody tr th {\n",
       "        vertical-align: top;\n",
       "    }\n",
       "\n",
       "    .dataframe thead th {\n",
       "        text-align: right;\n",
       "    }\n",
       "</style>\n",
       "<table border=\"1\" class=\"dataframe\">\n",
       "  <thead>\n",
       "    <tr style=\"text-align: right;\">\n",
       "      <th></th>\n",
       "      <th>id_participacao_evento</th>\n",
       "      <th>titulo</th>\n",
       "      <th>ano</th>\n",
       "      <th>natureza</th>\n",
       "      <th>tipo_participacao</th>\n",
       "      <th>forma_participacao</th>\n",
       "      <th>divulgacao_cientifica</th>\n",
       "      <th>id_curriculo_id</th>\n",
       "    </tr>\n",
       "  </thead>\n",
       "  <tbody>\n",
       "    <tr>\n",
       "      <th>10463</th>\n",
       "      <td>10462</td>\n",
       "      <td>Ouvindo vozes e promovendo o diálogo</td>\n",
       "      <td>2014</td>\n",
       "      <td>Encontro</td>\n",
       "      <td>Apresentação oral</td>\n",
       "      <td>Participante</td>\n",
       "      <td>S</td>\n",
       "      <td>998</td>\n",
       "    </tr>\n",
       "    <tr>\n",
       "      <th>919</th>\n",
       "      <td>914</td>\n",
       "      <td>Educação Inclusiva - Fundamentos e Possibilida...</td>\n",
       "      <td>2014</td>\n",
       "      <td>Outra</td>\n",
       "      <td>Outras Formas</td>\n",
       "      <td>Participante</td>\n",
       "      <td>S</td>\n",
       "      <td>83</td>\n",
       "    </tr>\n",
       "    <tr>\n",
       "      <th>1916</th>\n",
       "      <td>1917</td>\n",
       "      <td>NaN</td>\n",
       "      <td>2004</td>\n",
       "      <td>Simpósio</td>\n",
       "      <td>NaN</td>\n",
       "      <td>Ouvinte</td>\n",
       "      <td>N</td>\n",
       "      <td>183</td>\n",
       "    </tr>\n",
       "    <tr>\n",
       "      <th>13737</th>\n",
       "      <td>13690</td>\n",
       "      <td>IV Festival de Corais de Riversul - II Festiva...</td>\n",
       "      <td>1988</td>\n",
       "      <td>Outra</td>\n",
       "      <td>NaN</td>\n",
       "      <td>NaN</td>\n",
       "      <td>N</td>\n",
       "      <td>1286</td>\n",
       "    </tr>\n",
       "    <tr>\n",
       "      <th>11172</th>\n",
       "      <td>11169</td>\n",
       "      <td>Apoio e avaliação de dispositivos de formação ...</td>\n",
       "      <td>2009</td>\n",
       "      <td>Congresso</td>\n",
       "      <td>Apresentação Oral</td>\n",
       "      <td>Participante</td>\n",
       "      <td>N</td>\n",
       "      <td>1068</td>\n",
       "    </tr>\n",
       "  </tbody>\n",
       "</table>\n",
       "</div>"
      ],
      "text/plain": [
       "       id_participacao_evento  \\\n",
       "10463                   10462   \n",
       "919                       914   \n",
       "1916                     1917   \n",
       "13737                   13690   \n",
       "11172                   11169   \n",
       "\n",
       "                                                  titulo   ano   natureza  \\\n",
       "10463               Ouvindo vozes e promovendo o diálogo  2014   Encontro   \n",
       "919    Educação Inclusiva - Fundamentos e Possibilida...  2014      Outra   \n",
       "1916                                                 NaN  2004   Simpósio   \n",
       "13737  IV Festival de Corais de Riversul - II Festiva...  1988      Outra   \n",
       "11172  Apoio e avaliação de dispositivos de formação ...  2009  Congresso   \n",
       "\n",
       "       tipo_participacao forma_participacao divulgacao_cientifica  \\\n",
       "10463  Apresentação oral       Participante                     S   \n",
       "919        Outras Formas       Participante                     S   \n",
       "1916                 NaN            Ouvinte                     N   \n",
       "13737                NaN                NaN                     N   \n",
       "11172  Apresentação Oral       Participante                     N   \n",
       "\n",
       "       id_curriculo_id  \n",
       "10463              998  \n",
       "919                 83  \n",
       "1916               183  \n",
       "13737             1286  \n",
       "11172             1068  "
      ]
     },
     "execution_count": 4,
     "metadata": {},
     "output_type": "execute_result"
    }
   ],
   "source": [
    "participacao_evento = pd.read_csv(IFG_PRODUZ_STORAGE_DIR / \"extracted/participacao_evento.csv\", delimiter=\";\")\n",
    "\n",
    "participacao_evento.sample(n=5)"
   ]
  },
  {
   "cell_type": "code",
   "execution_count": 5,
   "id": "c343a820-3911-4462-9ff0-f2de792589d5",
   "metadata": {},
   "outputs": [],
   "source": [
    "participacao_evento = participacao_evento.rename(columns={\n",
    "    'id_participacao_evento': 'codigo',\n",
    "    'tipo_participacao': 'tipo',\n",
    "    'forma_participacao': 'forma',\n",
    "    'id_curriculo_id': 'codigo_curriculo'\n",
    "})"
   ]
  },
  {
   "cell_type": "code",
   "execution_count": 6,
   "id": "7758f2c4-4a7d-40ec-91e2-249e2e63006d",
   "metadata": {
    "scrolled": true
   },
   "outputs": [],
   "source": [
    "participacao_evento['divulgacao_cientifica'] = participacao_evento['divulgacao_cientifica'].replace('S', True)\n",
    "participacao_evento['divulgacao_cientifica'] = participacao_evento['divulgacao_cientifica'].replace('N', False)"
   ]
  },
  {
   "cell_type": "code",
   "execution_count": 7,
   "id": "4e76cf1a-f1c9-434e-bdc5-d774606f2cb9",
   "metadata": {},
   "outputs": [
    {
     "data": {
      "text/plain": [
       "array([True, False, nan], dtype=object)"
      ]
     },
     "execution_count": 7,
     "metadata": {},
     "output_type": "execute_result"
    }
   ],
   "source": [
    "participacao_evento['divulgacao_cientifica'].unique()"
   ]
  },
  {
   "cell_type": "code",
   "execution_count": 11,
   "id": "7084a9bc-f9a0-4fcb-b718-c0097fc7d759",
   "metadata": {},
   "outputs": [
    {
     "data": {
      "text/plain": [
       "codigo                   False\n",
       "titulo                    True\n",
       "ano                      False\n",
       "natureza                 False\n",
       "tipo                      True\n",
       "forma                     True\n",
       "divulgacao_cientifica     True\n",
       "codigo_curriculo         False\n",
       "dtype: bool"
      ]
     },
     "execution_count": 11,
     "metadata": {},
     "output_type": "execute_result"
    }
   ],
   "source": [
    "participacao_evento.isna().any()"
   ]
  },
  {
   "cell_type": "markdown",
   "id": "906a0af7-b060-4c06-af97-77b30d8dcd5a",
   "metadata": {},
   "source": [
    "## Exportar"
   ]
  },
  {
   "cell_type": "code",
   "execution_count": 27,
   "id": "c55189b8-69fd-48e5-951a-c6c70437ee66",
   "metadata": {},
   "outputs": [],
   "source": [
    "export_path = Path(IFG_PRODUZ_STORAGE_DIR / \"preprocessed\")\n",
    "\n",
    "if not export_path.is_dir():\n",
    "    Path(export_path).mkdir()\n",
    "\n",
    "participacao_evento.to_csv(export_path / \"participacao_evento.csv\", sep=\";\", index=False)"
   ]
  }
 ],
 "metadata": {
  "kernelspec": {
   "display_name": "Python 3 (ipykernel)",
   "language": "python",
   "name": "python3"
  },
  "language_info": {
   "codemirror_mode": {
    "name": "ipython",
    "version": 3
   },
   "file_extension": ".py",
   "mimetype": "text/x-python",
   "name": "python",
   "nbconvert_exporter": "python",
   "pygments_lexer": "ipython3",
   "version": "3.10.12"
  }
 },
 "nbformat": 4,
 "nbformat_minor": 5
}
