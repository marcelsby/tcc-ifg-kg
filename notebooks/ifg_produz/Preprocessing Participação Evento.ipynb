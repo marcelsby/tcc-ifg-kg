{
 "cells": [
  {
   "cell_type": "code",
   "execution_count": 21,
   "id": "9e7e33ae",
   "metadata": {
    "tags": [
     "parameters"
    ]
   },
   "outputs": [],
   "source": [
    "p_storage_dir = \"../../storage\"\n",
    "p_notebooks_root = None"
   ]
  },
  {
   "cell_type": "code",
   "execution_count": null,
   "id": "4e2ab1ca-0b11-446d-a11f-93d2cb00095b",
   "metadata": {},
   "outputs": [],
   "source": [
    "if p_notebooks_root is not None:\n",
    "    import os\n",
    "    os.chdir(p_notebooks_root)"
   ]
  },
  {
   "cell_type": "code",
   "execution_count": 22,
   "id": "26699801",
   "metadata": {},
   "outputs": [],
   "source": [
    "from pathlib import Path\n",
    "\n",
    "import numpy as np\n",
    "import pandas as pd\n",
    "\n",
    "IFG_PRODUZ_STORAGE_DIR = Path(f\"{p_storage_dir}/ifg_produz\")"
   ]
  },
  {
   "cell_type": "markdown",
   "id": "63619834",
   "metadata": {},
   "source": [
    "# Participação Evento"
   ]
  },
  {
   "cell_type": "code",
   "execution_count": 23,
   "id": "e0a1fdaa",
   "metadata": {},
   "outputs": [
    {
     "data": {
      "text/html": [
       "<div>\n",
       "<style scoped>\n",
       "    .dataframe tbody tr th:only-of-type {\n",
       "        vertical-align: middle;\n",
       "    }\n",
       "\n",
       "    .dataframe tbody tr th {\n",
       "        vertical-align: top;\n",
       "    }\n",
       "\n",
       "    .dataframe thead th {\n",
       "        text-align: right;\n",
       "    }\n",
       "</style>\n",
       "<table border=\"1\" class=\"dataframe\">\n",
       "  <thead>\n",
       "    <tr style=\"text-align: right;\">\n",
       "      <th></th>\n",
       "      <th>id_participacao_evento</th>\n",
       "      <th>titulo</th>\n",
       "      <th>ano</th>\n",
       "      <th>natureza</th>\n",
       "      <th>tipo_participacao</th>\n",
       "      <th>forma_participacao</th>\n",
       "      <th>divulgacao_cientifica</th>\n",
       "      <th>id_curriculo_id</th>\n",
       "    </tr>\n",
       "  </thead>\n",
       "  <tbody>\n",
       "    <tr>\n",
       "      <th>19815</th>\n",
       "      <td>19816</td>\n",
       "      <td>NaN</td>\n",
       "      <td>2000</td>\n",
       "      <td>Outra</td>\n",
       "      <td>NaN</td>\n",
       "      <td>Ouvinte</td>\n",
       "      <td>N</td>\n",
       "      <td>1788</td>\n",
       "    </tr>\n",
       "    <tr>\n",
       "      <th>19659</th>\n",
       "      <td>19660</td>\n",
       "      <td>Cine com ciência</td>\n",
       "      <td>2016</td>\n",
       "      <td>Outra</td>\n",
       "      <td>Outras formas</td>\n",
       "      <td>Participante</td>\n",
       "      <td>N</td>\n",
       "      <td>1776</td>\n",
       "    </tr>\n",
       "    <tr>\n",
       "      <th>4799</th>\n",
       "      <td>4774</td>\n",
       "      <td>Universidade e Política Estudantil</td>\n",
       "      <td>2009</td>\n",
       "      <td>Outra</td>\n",
       "      <td>Conferencista</td>\n",
       "      <td>Convidado</td>\n",
       "      <td>N</td>\n",
       "      <td>471</td>\n",
       "    </tr>\n",
       "    <tr>\n",
       "      <th>18635</th>\n",
       "      <td>18634</td>\n",
       "      <td>NaN</td>\n",
       "      <td>2007</td>\n",
       "      <td>Encontro</td>\n",
       "      <td>NaN</td>\n",
       "      <td>Ouvinte</td>\n",
       "      <td>N</td>\n",
       "      <td>1693</td>\n",
       "    </tr>\n",
       "    <tr>\n",
       "      <th>18328</th>\n",
       "      <td>18328</td>\n",
       "      <td>I JORNADA DE EDUCAÇÃO DO ISE</td>\n",
       "      <td>2005</td>\n",
       "      <td>Encontro</td>\n",
       "      <td>Apresentação Oral</td>\n",
       "      <td>Participante</td>\n",
       "      <td>N</td>\n",
       "      <td>1660</td>\n",
       "    </tr>\n",
       "  </tbody>\n",
       "</table>\n",
       "</div>"
      ],
      "text/plain": [
       "       id_participacao_evento                              titulo   ano  \\\n",
       "19815                   19816                                 NaN  2000   \n",
       "19659                   19660                    Cine com ciência  2016   \n",
       "4799                     4774  Universidade e Política Estudantil  2009   \n",
       "18635                   18634                                 NaN  2007   \n",
       "18328                   18328        I JORNADA DE EDUCAÇÃO DO ISE  2005   \n",
       "\n",
       "       natureza  tipo_participacao forma_participacao divulgacao_cientifica  \\\n",
       "19815     Outra                NaN            Ouvinte                     N   \n",
       "19659     Outra      Outras formas       Participante                     N   \n",
       "4799      Outra      Conferencista          Convidado                     N   \n",
       "18635  Encontro                NaN            Ouvinte                     N   \n",
       "18328  Encontro  Apresentação Oral       Participante                     N   \n",
       "\n",
       "       id_curriculo_id  \n",
       "19815             1788  \n",
       "19659             1776  \n",
       "4799               471  \n",
       "18635             1693  \n",
       "18328             1660  "
      ]
     },
     "execution_count": 23,
     "metadata": {},
     "output_type": "execute_result"
    }
   ],
   "source": [
    "participacao_evento = pd.read_csv(IFG_PRODUZ_STORAGE_DIR / \"extracted/participacao_evento.csv\", delimiter=\";\")\n",
    "\n",
    "participacao_evento.sample(n=5)"
   ]
  },
  {
   "cell_type": "code",
   "execution_count": 24,
   "id": "c343a820-3911-4462-9ff0-f2de792589d5",
   "metadata": {},
   "outputs": [],
   "source": [
    "participacao_evento = participacao_evento.rename(columns={\n",
    "    'id_participacao_evento': 'codigo',\n",
    "    'tipo_participacao': 'tipo',\n",
    "    'forma_participacao': 'forma',\n",
    "    'id_curriculo_id': 'codigo_curriculo'\n",
    "})"
   ]
  },
  {
   "cell_type": "code",
   "execution_count": 25,
   "id": "7758f2c4-4a7d-40ec-91e2-249e2e63006d",
   "metadata": {
    "scrolled": true
   },
   "outputs": [],
   "source": [
    "participacao_evento['divulgacao_cientifica'] = participacao_evento['divulgacao_cientifica'].replace('S', True)\n",
    "participacao_evento['divulgacao_cientifica'] = participacao_evento['divulgacao_cientifica'].replace('N', False)"
   ]
  },
  {
   "cell_type": "code",
   "execution_count": 26,
   "id": "4e76cf1a-f1c9-434e-bdc5-d774606f2cb9",
   "metadata": {},
   "outputs": [
    {
     "data": {
      "text/plain": [
       "array([True, False, nan], dtype=object)"
      ]
     },
     "execution_count": 26,
     "metadata": {},
     "output_type": "execute_result"
    }
   ],
   "source": [
    "participacao_evento['divulgacao_cientifica'].unique()"
   ]
  },
  {
   "cell_type": "markdown",
   "id": "906a0af7-b060-4c06-af97-77b30d8dcd5a",
   "metadata": {},
   "source": [
    "## Exportar"
   ]
  },
  {
   "cell_type": "code",
   "execution_count": 27,
   "id": "c55189b8-69fd-48e5-951a-c6c70437ee66",
   "metadata": {},
   "outputs": [],
   "source": [
    "export_path = Path(IFG_PRODUZ_STORAGE_DIR / \"preprocessed\")\n",
    "\n",
    "if not export_path.is_dir():\n",
    "    Path(export_path).mkdir()\n",
    "\n",
    "participacao_evento.to_csv(export_path / \"participacao_evento.csv\", sep=\";\", index=False)"
   ]
  }
 ],
 "metadata": {
  "kernelspec": {
   "display_name": "Python 3 (ipykernel)",
   "language": "python",
   "name": "python3"
  },
  "language_info": {
   "codemirror_mode": {
    "name": "ipython",
    "version": 3
   },
   "file_extension": ".py",
   "mimetype": "text/x-python",
   "name": "python",
   "nbconvert_exporter": "python",
   "pygments_lexer": "ipython3",
   "version": "3.10.12"
  }
 },
 "nbformat": 4,
 "nbformat_minor": 5
}
