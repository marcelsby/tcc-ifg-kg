{
 "cells": [
  {
   "cell_type": "code",
   "execution_count": 404,
   "id": "9e7e33ae",
   "metadata": {
    "tags": [
     "parameters"
    ]
   },
   "outputs": [],
   "source": [
    "p_storage_dir = \"../../storage\"\n",
    "p_notebooks_root = None"
   ]
  },
  {
   "cell_type": "code",
   "execution_count": null,
   "id": "f600671c-c6ce-423e-8a0e-5737e711722a",
   "metadata": {},
   "outputs": [],
   "source": [
    "if p_notebooks_root is not None:\n",
    "    import os\n",
    "    os.chdir(p_notebooks_root)"
   ]
  },
  {
   "cell_type": "code",
   "execution_count": 405,
   "id": "26699801",
   "metadata": {},
   "outputs": [],
   "source": [
    "import numpy as np\n",
    "import pandas as pd\n",
    "\n",
    "import re\n",
    "from pathlib import Path\n",
    "import unicodedata\n",
    "\n",
    "IFG_PRODUZ_STORAGE_DIR = Path(f\"{p_storage_dir}/ifg_produz\")"
   ]
  },
  {
   "cell_type": "markdown",
   "id": "63619834",
   "metadata": {},
   "source": [
    "# Projetos de Pesquisa"
   ]
  },
  {
   "cell_type": "markdown",
   "id": "15950ef6-1e39-4f78-ba5e-9252706e74dd",
   "metadata": {},
   "source": [
    "## Limpezas básicas"
   ]
  },
  {
   "cell_type": "code",
   "execution_count": 406,
   "id": "e0a1fdaa",
   "metadata": {},
   "outputs": [
    {
     "data": {
      "text/html": [
       "<div>\n",
       "<style scoped>\n",
       "    .dataframe tbody tr th:only-of-type {\n",
       "        vertical-align: middle;\n",
       "    }\n",
       "\n",
       "    .dataframe tbody tr th {\n",
       "        vertical-align: top;\n",
       "    }\n",
       "\n",
       "    .dataframe thead th {\n",
       "        text-align: right;\n",
       "    }\n",
       "</style>\n",
       "<table border=\"1\" class=\"dataframe\">\n",
       "  <thead>\n",
       "    <tr style=\"text-align: right;\">\n",
       "      <th></th>\n",
       "      <th>id_projeto_pesquisa</th>\n",
       "      <th>nome_projeto</th>\n",
       "      <th>descricao_projeto</th>\n",
       "      <th>data_inicio</th>\n",
       "      <th>data_termino</th>\n",
       "      <th>financiador_projeto</th>\n",
       "      <th>instituicao_financiadora</th>\n",
       "      <th>orgao_do_projeto</th>\n",
       "      <th>id_curriculo_id</th>\n",
       "    </tr>\n",
       "  </thead>\n",
       "  <tbody>\n",
       "    <tr>\n",
       "      <th>153</th>\n",
       "      <td>150</td>\n",
       "      <td>O clima urbano de Jataí utilizando medidas de ...</td>\n",
       "      <td>NaN</td>\n",
       "      <td>2011</td>\n",
       "      <td>2012.0</td>\n",
       "      <td>-NAO_INFORMADO</td>\n",
       "      <td>-</td>\n",
       "      <td>Departamento de Geografia</td>\n",
       "      <td>52</td>\n",
       "    </tr>\n",
       "    <tr>\n",
       "      <th>1416</th>\n",
       "      <td>1417</td>\n",
       "      <td>Criação e implementação de ambientes de formaç...</td>\n",
       "      <td>Objetiva a melhoria dos processos de ensino-ap...</td>\n",
       "      <td>2007</td>\n",
       "      <td>2008.0</td>\n",
       "      <td>-BOLSA</td>\n",
       "      <td>-Financiadora de Estudos e Projetos</td>\n",
       "      <td>Pró-reitoria de Extensão, Cultura e Assuntos E...</td>\n",
       "      <td>697</td>\n",
       "    </tr>\n",
       "    <tr>\n",
       "      <th>2235</th>\n",
       "      <td>2247</td>\n",
       "      <td>Competência Linguística em Língua Inglesa e a ...</td>\n",
       "      <td>A internacionalização do mercado de trabalho p...</td>\n",
       "      <td>2016</td>\n",
       "      <td>2017.0</td>\n",
       "      <td>NaN</td>\n",
       "      <td>NaN</td>\n",
       "      <td>Instituto Federal de Goiás - Câmpus Uruaçu</td>\n",
       "      <td>1060</td>\n",
       "    </tr>\n",
       "    <tr>\n",
       "      <th>1962</th>\n",
       "      <td>1975</td>\n",
       "      <td>Análise da distribuição geográfica e caracteri...</td>\n",
       "      <td>O estudo sobre o patrimônio cultural material ...</td>\n",
       "      <td>2019</td>\n",
       "      <td>2020.0</td>\n",
       "      <td>-BOLSA</td>\n",
       "      <td>-Conselho Nacional de Desenvolvimento Científi...</td>\n",
       "      <td>IFG-Câmpus Anápolis</td>\n",
       "      <td>949</td>\n",
       "    </tr>\n",
       "    <tr>\n",
       "      <th>2951</th>\n",
       "      <td>2976</td>\n",
       "      <td>Desenvolvimento de aparato e metodologia para ...</td>\n",
       "      <td>Neste trabalho é desenvolvido aparato eletrôni...</td>\n",
       "      <td>2014</td>\n",
       "      <td>2016.0</td>\n",
       "      <td>NaN</td>\n",
       "      <td>NaN</td>\n",
       "      <td>Campus Goiânia</td>\n",
       "      <td>1385</td>\n",
       "    </tr>\n",
       "  </tbody>\n",
       "</table>\n",
       "</div>"
      ],
      "text/plain": [
       "      id_projeto_pesquisa                                       nome_projeto  \\\n",
       "153                   150  O clima urbano de Jataí utilizando medidas de ...   \n",
       "1416                 1417  Criação e implementação de ambientes de formaç...   \n",
       "2235                 2247  Competência Linguística em Língua Inglesa e a ...   \n",
       "1962                 1975  Análise da distribuição geográfica e caracteri...   \n",
       "2951                 2976  Desenvolvimento de aparato e metodologia para ...   \n",
       "\n",
       "                                      descricao_projeto  data_inicio  \\\n",
       "153                                                 NaN         2011   \n",
       "1416  Objetiva a melhoria dos processos de ensino-ap...         2007   \n",
       "2235  A internacionalização do mercado de trabalho p...         2016   \n",
       "1962  O estudo sobre o patrimônio cultural material ...         2019   \n",
       "2951  Neste trabalho é desenvolvido aparato eletrôni...         2014   \n",
       "\n",
       "      data_termino financiador_projeto  \\\n",
       "153         2012.0      -NAO_INFORMADO   \n",
       "1416        2008.0              -BOLSA   \n",
       "2235        2017.0                 NaN   \n",
       "1962        2020.0              -BOLSA   \n",
       "2951        2016.0                 NaN   \n",
       "\n",
       "                               instituicao_financiadora  \\\n",
       "153                                                   -   \n",
       "1416                -Financiadora de Estudos e Projetos   \n",
       "2235                                                NaN   \n",
       "1962  -Conselho Nacional de Desenvolvimento Científi...   \n",
       "2951                                                NaN   \n",
       "\n",
       "                                       orgao_do_projeto  id_curriculo_id  \n",
       "153                           Departamento de Geografia               52  \n",
       "1416  Pró-reitoria de Extensão, Cultura e Assuntos E...              697  \n",
       "2235         Instituto Federal de Goiás - Câmpus Uruaçu             1060  \n",
       "1962                                IFG-Câmpus Anápolis              949  \n",
       "2951                                     Campus Goiânia             1385  "
      ]
     },
     "execution_count": 406,
     "metadata": {},
     "output_type": "execute_result"
    }
   ],
   "source": [
    "projetos_pesquisa = pd.read_csv(IFG_PRODUZ_STORAGE_DIR / \"extracted/projetos_pesquisa.csv\", delimiter=\";\")\n",
    "\n",
    "projetos_pesquisa.sample(n=5)"
   ]
  },
  {
   "cell_type": "code",
   "execution_count": 407,
   "id": "e0a98651-7dba-4005-ba72-ef791f9e0a47",
   "metadata": {},
   "outputs": [],
   "source": [
    "projetos_pesquisa['data_termino'] = projetos_pesquisa['data_termino'].astype('Int64')"
   ]
  },
  {
   "cell_type": "code",
   "execution_count": 408,
   "id": "2cb31d71-5206-455e-904d-23dfbceaefed",
   "metadata": {},
   "outputs": [],
   "source": [
    "projetos_pesquisa = projetos_pesquisa.rename(columns={\n",
    "    'id_projeto_pesquisa': 'codigo',\n",
    "    'nome_projeto': 'nome',\n",
    "    'descricao_projeto': 'descricao',\n",
    "    'data_inicio': 'ano_inicio',\n",
    "    'data_termino': 'ano_termino',\n",
    "    'orgao_do_projeto': 'orgao',\n",
    "    'id_curriculo_id': 'codigo_curriculo'\n",
    "})"
   ]
  },
  {
   "cell_type": "code",
   "execution_count": 409,
   "id": "8a6002c9-ef28-413d-b711-6e9371ed3d5f",
   "metadata": {},
   "outputs": [
    {
     "data": {
      "text/plain": [
       "Index(['codigo', 'nome', 'descricao', 'ano_inicio', 'ano_termino',\n",
       "       'financiador_projeto', 'instituicao_financiadora', 'orgao',\n",
       "       'codigo_curriculo'],\n",
       "      dtype='object')"
      ]
     },
     "execution_count": 409,
     "metadata": {},
     "output_type": "execute_result"
    }
   ],
   "source": [
    "projetos_pesquisa.columns"
   ]
  },
  {
   "cell_type": "code",
   "execution_count": 410,
   "id": "19423c00-5766-4a5d-a06a-ba088134ee13",
   "metadata": {},
   "outputs": [
    {
     "data": {
      "text/plain": [
       "array(['-NAO_INFORMADO', nan, '-AUXILIO_FINANCEIRO', '-BOLSA',\n",
       "       '-REMUNERACAO', '-BOLSA-AUXILIO_FINANCEIRO',\n",
       "       '-AUXILIO_FINANCEIRO-BOLSA', '-OUTRO', '-COOPERACAO',\n",
       "       '-COOPERACAO-AUXILIO_FINANCEIRO', '-AUXILIO_FINANCEIRO-COOPERACAO',\n",
       "       '-AUXILIO_FINANCEIRO-BOLSA-COOPERACAO',\n",
       "       '-COOPERACAO-COOPERACAO-AUXILIO_FINANCEIRO',\n",
       "       '-AUXILIO_FINANCEIRO-COOPERACAO-COOPERACAO',\n",
       "       '-BOLSA-COOPERACAO-AUXILIO_FINANCEIRO', '-BOLSA-BOLSA',\n",
       "       '-OUTRO-AUXILIO_FINANCEIRO',\n",
       "       '-BOLSA-AUXILIO_FINANCEIRO-AUXILIO_FINANCEIRO',\n",
       "       '-AUXILIO_FINANCEIRO-REMUNERACAO-BOLSA',\n",
       "       '-AUXILIO_FINANCEIRO-AUXILIO_FINANCEIRO-BOLSA',\n",
       "       '-REMUNERACAO-BOLSA', '-BOLSA-REMUNERACAO',\n",
       "       '-AUXILIO_FINANCEIRO-REMUNERACAO-REMUNERACAO',\n",
       "       '-AUXILIO_FINANCEIRO-AUXILIO_FINANCEIRO', '-COOPERACAO-BOLSA',\n",
       "       '-AUXILIO_FINANCEIRO-BOLSA-AUXILIO_FINANCEIRO',\n",
       "       '-REMUNERACAO-COOPERACAO', '-BOLSA-AUXILIO_FINANCEIRO-BOLSA-BOLSA',\n",
       "       '-BOLSA-COOPERACAO', '-AUXILIO_FINANCEIRO-OUTRO', '-BOLSA-OUTRO',\n",
       "       '-COOPERACAO-COOPERACAO', '-OUTRO-COOPERACAO',\n",
       "       '-COOPERACAO-AUXILIO_FINANCEIRO-COOPERACAO',\n",
       "       '-COOPERACAO-COOPERACAO-COOPERACAO',\n",
       "       '-COOPERACAO-COOPERACAO-COOPERACAO-COOPERACAO-AUXILIO_FINANCEIRO',\n",
       "       '-AUXILIO_FINANCEIRO-COOPERACAO-AUXILIO_FINANCEIRO',\n",
       "       '-AUXILIO_FINANCEIRO-OUTRO-COOPERACAO', '-OUTRO-OUTRO',\n",
       "       '-BOLSA-COOPERACAO-COOPERACAO-COOPERACAO',\n",
       "       '-AUXILIO_FINANCEIRO-COOPERACAO-COOPERACAO-BOLSA',\n",
       "       '-BOLSA-AUXILIO_FINANCEIRO-COOPERACAO-COOPERACAO',\n",
       "       '-AUXILIO_FINANCEIRO-AUXILIO_FINANCEIRO-AUXILIO_FINANCEIRO-COOPERACAO',\n",
       "       '-AUXILIO_FINANCEIRO-AUXILIO_FINANCEIRO-AUXILIO_FINANCEIRO-COOPERACAO-COOPERACAO-COOPERACAO-COOPERACAO-COOPERACAO',\n",
       "       '-BOLSA-BOLSA-COOPERACAO', '-BOLSA-AUXILIO_FINANCEIRO-BOLSA',\n",
       "       '-BOLSA-BOLSA-AUXILIO_FINANCEIRO-BOLSA',\n",
       "       '-AUXILIO_FINANCEIRO-BOLSA-BOLSA', '-BOLSA-BOLSA-BOLSA-COOPERACAO',\n",
       "       '-BOLSA-BOLSA-COOPERACAO-BOLSA',\n",
       "       '-AUXILIO_FINANCEIRO-BOLSA-BOLSA-BOLSA',\n",
       "       '-BOLSA-COOPERACAO-REMUNERACAO-BOLSA-AUXILIO_FINANCEIRO-BOLSA',\n",
       "       '-BOLSA-BOLSA-AUXILIO_FINANCEIRO',\n",
       "       '-BOLSA-AUXILIO_FINANCEIRO-BOLSA-BOLSA-BOLSA',\n",
       "       '-COOPERACAO-REMUNERACAO',\n",
       "       '-BOLSA-COOPERACAO-REMUNERACAO-COOPERACAO',\n",
       "       '-OUTRO-OUTRO-COOPERACAO-COOPERACAO-OUTRO-COOPERACAO',\n",
       "       '-BOLSA-BOLSA-AUXILIO_FINANCEIRO-COOPERACAO', '-BOLSA-BOLSA-OUTRO',\n",
       "       '-BOLSA-BOLSA-BOLSA-AUXILIO_FINANCEIRO', 'REMUNERADO'],\n",
       "      dtype=object)"
      ]
     },
     "execution_count": 410,
     "metadata": {},
     "output_type": "execute_result"
    }
   ],
   "source": [
    "projetos_pesquisa['financiador_projeto'].unique()"
   ]
  },
  {
   "cell_type": "code",
   "execution_count": 411,
   "id": "1d3939c0-0864-418f-9416-ffa51396bfa8",
   "metadata": {},
   "outputs": [
    {
     "data": {
      "text/plain": [
       "array(['-', nan,\n",
       "       '-Conselho Nacional de Desenvolvimento Científico e Tecnológico',\n",
       "       '-Coordenação de Aperfeiçoamento de Pessoal de Nível Superior',\n",
       "       '-Universidade Estadual de Santa Cruz',\n",
       "       '-Fundação de Amparo a Pesquisa do Estado de Goiás',\n",
       "       '-Instituto Federal de Goiás', '-Cyclades Brasil',\n",
       "       '-Fundação de Desenvolvimento da Pesquisa',\n",
       "       '-Natura Cosméticos SA-Fundação Arthur Bernardes',\n",
       "       '-Empresa Brasileira de Pesquisa Agropecuária',\n",
       "       '-Instituto Federal de Educação, Ciência e Tecnologia de Goiás',\n",
       "       '-Instituto Federal de Educação, Ciência e Tecnologia de Goiás-Conselho Nacional de Desenvolvimento Científico e Tecnológico',\n",
       "       '-Furnas Centrais Elétricas S.A.-Agência Nacional de Energia Elétrica',\n",
       "       '-Agência Nacional de Energia Elétrica-Furnas Centrais Elétricas S.A.',\n",
       "       '-Conselho Nacional de Desenvolvimento Científico e Tecnológico-Coordenação de Aperfeiçoamento de Pessoal de Nível Superior-Fundação de Amparo à Pesquisa do Estado de Minas Gerais',\n",
       "       '-Fundação de Apoio à Pesquisa-Furnas Centrais Elétricas S.A.-Agência Nacional de Energia Elétrica',\n",
       "       '-Agência Nacional de Energia Elétrica-Fundação de Apoio à Pesquisa-Furnas Centrais Elétricas S.A.',\n",
       "       '-Conselho Nacional de Desenvolvimento Científico e Tecnológico-Fundação de Amparo à Pesquisa do Estado de Minas Gerais-Coordenação de Aperfeiçoamento de Pessoal de Nível Superior',\n",
       "       '-Universidade Estadual de Goiás',\n",
       "       '-CAPES - Centro Anhanguera de Promoção e Educação Social',\n",
       "       '-, Conselho Nacional de Desenvolvimento Científico e Tecnológico.',\n",
       "       '-Universidade Estadual de Londrina',\n",
       "       '-Conselho Nacional de Desenvolvimento Científico e Tecnológico-Instituto Federal de Goiás',\n",
       "       '-Instituto Federal Goiano',\n",
       "       '-Pontifícia Universidade Católica de Goiás',\n",
       "       '-Agência Nacional de Energia Elétrica',\n",
       "       '-Companhia Energética de Goiás-Agência Nacional de Energia Elétrica',\n",
       "       '-Fundação Araucária de Apoio ao Desenvolvimento Científico e Tecnológico',\n",
       "       '-Conselho Nacional de Desenvolvimento Científico e Tecnológico-Fundação de Amparo à Pesquisa do Estado de São Paulo-Coordenação de Aperfeiçoamento de Pessoal de Nível Superior',\n",
       "       '-Conselho Nacional de Desenvolvimento Científico e Tecnológico-Universidade Católica de Brasília-Universidade Católica de Brasília',\n",
       "       '-capes',\n",
       "       '-Conselho Nacional de Desenvolvimento Científico e Tecnológico-Serviço de Apoio às Micros e Pequenas Empresas de Goiás-Instituto Euvaldo Lodi - GO',\n",
       "       '-Fundação de Amparo à Pesquisa do Estado de Minas Gerais',\n",
       "       '-Instituto Euvaldo Lodi - GO-Serviço de Apoio às Micros e Pequenas Empresas de Goiás-Conselho Nacional de Desenvolvimento Científico e Tecnológico',\n",
       "       '-Instituto Federal de Educação, Ciência e Tecnologia de Goiás-Instituto Federal de Educação, Ciência e Tecnologia de Goiás',\n",
       "       '-Secretaria de Educação do Estado de Goiás',\n",
       "       '-Conselho Nacional de Desenvolvimento Científico e Tecnológico-Empresa Brasileira de Pesquisa Agropecuária',\n",
       "       '-Fundação de Amparo à Pesquisa do Estado da Bahia',\n",
       "       '-Instituto Federal de Goiás - Campus Jataí',\n",
       "       '-Vitae Apoio à Cultura, Educação e Promoção Social',\n",
       "       '-Fundação de Amparo à Pesquisa do Estado de Minas Gerais-Universidade do Estado do Rio de Janeiro-Pontifícia Universidade Católica de Minas Gerais',\n",
       "       '-FASAL-Companhia Siderúrgica Paulista-Rio Negro',\n",
       "       '-Universidade Federal de Goiás',\n",
       "       '-Universidade Federal do Rio Grande do Sul',\n",
       "       '-Centro Federal de Educação Tecnológica de Goiás',\n",
       "       '-Companhia Energética de Goiás',\n",
       "       '-Prefeitura Municipal de Goiânia',\n",
       "       '-Secretaria Nacional de Segurança Pública',\n",
       "       '-Ministério da Justiça', '-Conselho Nacional de Justiça',\n",
       "       '-Instituto Federal de Brasília-Instituto Federal de Brasília',\n",
       "       '-Secretaria Estadual de Tecnologia Cnpq',\n",
       "       '-Programa de Licenciatura',\n",
       "       '-Fundação para a Ciência e Tecnologia',\n",
       "       '-Universidade de Barcelona-Pontifícia Universidade Católica de Goiás',\n",
       "       '-INSTITUTO DE FOMENTO EDUCACAO E PESQUISA',\n",
       "       '-Ministério da Educação', '-Ministério da Saúde',\n",
       "       '-Empresa de Saneamento E Esgoto de Goiás-Universidade Federal de Goiás',\n",
       "       '-Fundação Oswaldo Cruz',\n",
       "       '-Fundação de Amparo à Pesquisa do Estado do Rio Grande do Sul',\n",
       "       '-Conselho Nacional de Pesquisa',\n",
       "       '-Fundação de Amparo à Pesquisa do Estado do Rio Grande do Sul-Universidade Federal de Pelotas-Conselho Nacional de Desenvolvimento Científico e Tecnológico',\n",
       "       '-Secretaria da Educação de Goiás',\n",
       "       '-Ministério da Saúde-Governo do Estado de Tocantins',\n",
       "       '-Secretaria de Ciência e Tecnologia do Tocantins-Conselho Nacional de Desenvolvimento Científico e Tecnológico',\n",
       "       '-European Commission',\n",
       "       '-FAPEG (Fundação de Amparo à Pesquisa do Estado de Goiás',\n",
       "       '-Conselho Nacional de Desenvolvimento Científico e Tecnológico-FAPEG (Fundação de Amparo à Pesquisa do Estado de Goiás',\n",
       "       '-Petrobras Biocombustível - Matriz',\n",
       "       '-Fundação de Amparo à Pesquisa do Espírito Santo',\n",
       "       '-Coordenação de Aperfeiçoamento de Pessoal de Nível Superior-Fundação de Amparo à Pesquisa do Estado de São Paulo-Fundação de Amparo à Pesquisa do Estado de São Paulo-Conselho Nacional de Desenvolvimento Científico e Tecnológico',\n",
       "       '-PROGRAMA INSTITUCIONAL DE BOLSAS DE INICIAÇÃO CIENTÍFICA (PIBIC/CNPq)',\n",
       "       '-PROGRAMA DE BOLSAS DE INICIAÇÃO CIENTÍFICA (PBIC/IFG)',\n",
       "       '-Programa Institucional de Bolsas de Iniciação Científica- PIBIC',\n",
       "       '-Programa Institucional de Bolsas de Iniciação em Desenvolvimento Tecnológic',\n",
       "       '-PROGRAMA DE APOIO À PRODUTIVIDADE EM PESQUISA',\n",
       "       '-Instituto Federal de Educação, Ciência e Tecnologia-Conselho de Desenvolvimento Científico e Tecnológico',\n",
       "       '-Programa Institucional de Bolsas de Iniciação Científica- PIBIC - IFG',\n",
       "       '-Fundação de Amparo à Pesquisa do Estado de São Paulo',\n",
       "       '-Instituto Nacional de Estudos e Pesquisas Educacionais Anísio Teixeira',\n",
       "       '-INSTITUTO FEDERAL DE GOIÁS - Câmpus Uruaçu', '-BIONASA',\n",
       "       '-Universidade Federal do Paraná',\n",
       "       '-Faculdade de Filosofia, Ciências e Letras de Ibitinga/SP',\n",
       "       '-Fundação de Apoio à Pesquisa do Distrito Federal-Centro Universitário Euro-Americano',\n",
       "       '-Instituto federal de Goiás',\n",
       "       '-Instituto Federal de Educação, Ciência e Tecnologia de Goiás-Ministério Público do Trabalho',\n",
       "       '-Agencia Nacional de Investigación y Desarrollo',\n",
       "       '-Companhia Hidroelétrica São Patricio-Companhia Energética de Goiás',\n",
       "       '-Companhia Hidroelétrica São Patricio', '-CELG DISTRIBUIÇÃO',\n",
       "       '-Instituto Federal de Goiás - Câmpus Itumbiara',\n",
       "       '-Instituto Federal de Goiás - Câmpus Itumbiara-Conselho Nacional de Desenvolvimento Científico e Tecnológico',\n",
       "       '-CELG Distribuição-Instituto Federal de Goiás - Câmpus Itumbiara',\n",
       "       '-Unesp/PIBIC/Reitoria',\n",
       "       '-Fundação de Apoio à Pesquisa do Estado de Goiás-Conselho Nacional de Desenvolvimento Científico e Tecnológico',\n",
       "       '-Fundação de Apoio à Pesquisa do Distrito Federal',\n",
       "       '-Colegio da Policia Militar de Goias Ayrton Senna',\n",
       "       '-Coordenação de Aperfeiçoamento de Pessoal de Nível Superior-Universidade Federal de Goiás',\n",
       "       '-Pontifícia Universidade Católica de Goiás-Universidade Federal de Goiás',\n",
       "       '-Universidade do Vale do Rio dos Sinos',\n",
       "       '-Universidad de Buenos Aires', '-CNPq',\n",
       "       '-Aqualit Tecnologia em Saneamento', '-IFG/CNPq',\n",
       "       '-União Européia',\n",
       "       '-Empresa Brasileira de Pesquisa Agropecuária-Monsanto - St. Louis',\n",
       "       '-Financiadora de Estudos e Projetos',\n",
       "       '-IFG - Câmpus Cidade de Goiás',\n",
       "       '-Conselho Nacional de Desenvolvimento Científico e Tecnológico-IFG - Câmpus Cidade de Goiás',\n",
       "       '-Instituto Federal de Educação, Ciência e Tecnologia do Rio Grande do Sul',\n",
       "       '-Fundação Araucária',\n",
       "       '-Instituto Federal de Educação, Ciência e Tecnologia de Goiás-Northern Virginia Community College',\n",
       "       '-Secretaria de Educação de Goiás', '-Comissão Européia',\n",
       "       '-Coordenação de Aperfeiçoamento de Pessoal de Nível Superior-Fundação de Amparo a Pesquisa do Estado de Goiás',\n",
       "       '-Associação de Surdos de Goiânia-Fundação de Amparo a Pesquisa do Estado de Goiás-Superintêndencia de Ensino Especial do Estado de Goiás',\n",
       "       '-Colégio Estadual Polivalente Dr. Menezes Jr.-Colégio Estadual Dom Veloso-Colegio Estadual Adoniro',\n",
       "       '-Colégio Estadual Dom Veloso',\n",
       "       '-Conselho Nacional de Desenvolvimento Científico e Tecnológico-Universidade Estadual de Londrina',\n",
       "       '-Agência Goiana de Desenvolvimento da Indústria e Mineração',\n",
       "       '-Conselho Nacional de Desenvolvimento Científico e Tecnológico-Universidade Federal do Maranhão',\n",
       "       '-Pontifícia Universidade Católica do Rio de Janeiro-Universidade de São Paulo-Universidade Federal de Mato Grosso do Sul-Universidade Federal do Maranhão-CNPq',\n",
       "       '-Universidade de São Paulo-CNPq', '-Microsoft Research',\n",
       "       '-Fundação de Amparo a Pesquisa do Estado de Goiás-Institut National de Recherche en Informatique et en Automatique',\n",
       "       '-Fundação de Amparo à Pesquisa do Estado de Minas Gerais-Fundação de Amparo à Pesquisa do Estado de Minas Gerais',\n",
       "       '-Instituto Luterano de Ensino Superior de Itumbiara/Univ. Luterana do Brasil',\n",
       "       '-Fundação de Apoio à Pesquisa e à Extensão',\n",
       "       '-Fundação de Estudos e Pesquisas Sócio-Econômicas',\n",
       "       '-Instituto de Ensino Superior de Rio Verde',\n",
       "       '-Associação Brasileira de Rádio e TV',\n",
       "       '-Conselho Nacional de Desenvolvimento Científico e Tecnológico-Fundação de Amparo à Pesquisa do Estado de Minas Gerais',\n",
       "       '-Programa Ibero-Americano de Ciencia y Tecnologia para el Desarrollo',\n",
       "       '-Fundação de Amparo à Pesquisa do Estado de Minas Gerais-Conselho Nacional de Desenvolvimento Científico e Tecnológico',\n",
       "       '-Brooksfield', '-Departamento de Pessoal do Ministério da Saúde',\n",
       "       '-Conselho Nacional de Desenvolvimento Científico e Tecnológico-Instituto federal de Goiás',\n",
       "       '-Universidade de Brasília',\n",
       "       '-Financiadora de Estudos e Projetos-Instituto de Gestão Tecnológica Farmacêutica-EQUIPLEX INDÚSTRIA FARMACÊUTICA LTDA',\n",
       "       '-DBO Engenharia Ltda.',\n",
       "       '-Instituto Federal de Goiás (IFG) - Câmpus Águas Lindas',\n",
       "       '-Fundação de Amparo a Pesquisa do Estado de Goiás-Instituto Federal de Educação, Ciência e Tecnologia de Goiás',\n",
       "       '-Instituto Federal de Educação, Ciência e Tecnologia de Goiás-Companhia Energética de Goiás',\n",
       "       '-Fundação de Amparo à Pesquisa do Estado de Minas Gerais-Instituto Federal de Educação, Ciência e Tecnologia de Goiás',\n",
       "       '-Instituto Federal de Educação, Ciência e Tecnologia de Goiás-Fundação de Amparo à Pesquisa do Estado de Minas Gerais',\n",
       "       '-Centro Universitário de Anápolis',\n",
       "       '-Fundação Nacional de Desenvolvimento do Ensino Superior Particular',\n",
       "       '-ENDESA CACHOEIRA DOURADA',\n",
       "       '-Fundação Banco do Brasil-Pontifícia Universidade Católica de Goiás-Fundação Aroeira',\n",
       "       '-Instituto Federal de Educação Ciência e Tecnologia do Estado de Goiás - IFG-Pontifícia Universidade Católica de Goiás',\n",
       "       '-Bionasa', '-Pró-Reitoria Assuntos da Comunidade Acadêmica',\n",
       "       '-Fundação de Amparo a Pesquisa do Distrito Federal',\n",
       "       '-Conselho Nacional de Desenvolvimento Científico e Tecnológico-Universidade Federal de Goiás',\n",
       "       '-Conselho Nacional de Desenvolvimento Científico e Tecnológico-Fundação de Amparo a Pesquisa do Estado de Goiás',\n",
       "       '-Fundação Carlos Chagas Filho de Amparo à Pesquisa do Estado do RJ',\n",
       "       '-Ericsson do Brasil Comércio e Indústria S/A',\n",
       "       '-Institut de Recherche pour le Développement',\n",
       "       '-CAPES - Centro Anhanguera de Promoção e Educação Social-Fundação de Amparo à Pesquisa do Estado de São Paulo-Conselho Nacional de Desenvolvimento Científico e Tecnológico',\n",
       "       '-Secretaria da Educação do Estado de São Paulo',\n",
       "       '-PROGRAMA DE APOIO À PRODUTIVIDADE EM PESQUISA ? FOMENTO UNIVERSA',\n",
       "       '-Fundação Nacional de Saúde - Presidência',\n",
       "       '-Coordenação de Aperfeiçoamento de Pessoal de Nível Superior-Conselho Nacional de Desenvolvimento Científico e Tecnológico',\n",
       "       '-CNPq/Universidade Federal de Goiás',\n",
       "       '-Instituto Federal de Goiás/CNPQ',\n",
       "       '-Conselho Nacional de Desenvolvimento Científico e Tecnológico-Conselho Nacional de Desenvolvimento Científico e Tecnológico',\n",
       "       '-Fundação do Ensino Superior de Rio Verde',\n",
       "       '-Fundação de Amparo a Pesquisa do Rio Grande do Sul.',\n",
       "       '-Conselho Nacional de Desenvolvimento Científico e Tecnológico-Centro Internacional de Métodos Numéricos en Ingeníeria',\n",
       "       '-Instituto Federal de São Paulo-Centro Internacional de Métodos Numéricos en Ingeníeria',\n",
       "       '-Instituto federal de Goiás-Instituto Federal de São Paulo',\n",
       "       '-Deutscher Akademischer Austauschdienst',\n",
       "       '-Conselho Nacional de Desenvolvimento Científico e Tecnológico-Joh Gutenberg Universitaet Mainz-Johann Wolfgang Goethe Universität Frankfurt-Centro Federal de Educação Tecnológica de Goiás',\n",
       "       '-Centro Federal de Educação Tecnológica de Goiás CEFET-GO-Fachhochschule Trier, Umwelt-Campus Birkenfeld-FUNMINERAL - Superintendência de Geologia e Mineração de Goiás-Conselho Nacional de Desenvolvimento Científico e Tecnológico',\n",
       "       '-Conselho Nacional de Desenvolvimento Científico e Tecnológico-Centro Federal de Educação Tecnológica de Goiás CEFET-GO-Fachhochschule Trier, Umwelt-Campus Birkenfeld-FUNMINERAL - Superintendência de Geologia e Mineração de Goiás',\n",
       "       '-Internationales Büro des BMBF-- Wissenschaftlich- Technologische Zusamm',\n",
       "       '-Bundesministeriur fur Bildung und Forschung',\n",
       "       '-Ministério de Minas e Energia-Conselho Nacional de Desenvolvimento Científico e Tecnológico',\n",
       "       '-Enel Distribuição Goias',\n",
       "       '-Instituto Federal de Educação Ciência e Tecnologia de Goiás Senador Canedo',\n",
       "       '-Conselho Nacional de Desenvolvimento Científico e Tecnológico-Coordenação de Aperfeiçoamento de Pessoal de Nível Superior-Fundação de Apoio à Pesquisa-Universidade de Brasília',\n",
       "       '-Conselho Nacional de Desenvolvimento Científico e Tecnológico-Coordenação de Aperfeiçoamento de Pessoal de Nível Superior-Fundação de Apoio à Pesquisa-Fundação Oswaldo Cruz-Universidade de Brasília-Universidade Estadual Paulista Júlio de Mesquita Filho-University of Cincinnati-UNIVERSIDADE DE MILÃO',\n",
       "       '-Conselho Nacional de Desenvolvimento Científico e Tecnológico-Coordenação de Aperfeiçoamento de Pessoal de Nível Superior',\n",
       "       '-Coordenadoria de Pós Graduação Uel',\n",
       "       '-Coordenação de Aperfeiçoamento de Pessoal de Nível Superior-Fundação de Amparo à Pesquisa do Estado de São Paulo-Conselho Nacional de Desenvolvimento Científico e Tecnológico',\n",
       "       '-Pontifícia Universidade Católica de Goiás-Pontifícia Universidade Católica de Goiás',\n",
       "       '-Colégio Técnico da Universidade Rural',\n",
       "       '-FundaÃ§Ã£o de Amparo Ã\\xa0 Pesquisa do Estado de GoiÃ¡s.',\n",
       "       '-INSTITUTO FEDERAL DE GOIAS', '-Universidade de São Paulo',\n",
       "       '-Instituto Federal de Educação, Ciência e Tecnologia de Goiás-Secretaria Municipal da Educação de Jataí',\n",
       "       '-Secretaria Municipal de Meio Ambiente Ciência e Tecnologia',\n",
       "       '-Furnas Centrais Elétricas Dct C',\n",
       "       '-Associação dos Servidores do CNPq',\n",
       "       '-Conselho Nacional de Desenvolvimento Científico e Tecnológico-Governo do Estado de Goiás',\n",
       "       '-Pontifícia Universidade Católica de Goiás-Conselho Nacional de Desenvolvimento Científico e Tecnológico',\n",
       "       '-Prefeitura Municipal de Cascavel-Conselho Nacional de Desenvolvimento Científico e Tecnológico-Itaipu Binacional',\n",
       "       '-Corsórcio Estreito Energia', '-Universidade Paulista',\n",
       "       '-Universidade Paulista (Campus Flamboyant)',\n",
       "       '-Gordon and Betty Moore Foundation',\n",
       "       '-Associação WWF do Brasil - Fundo Mundial para a Natureza',\n",
       "       '-Secretaria de Assuntos Estratégicos da Presidência da República',\n",
       "       '-Conselho Nacional de Desenvolvimento Científico e Tecnológico - Bolsa / Coo',\n",
       "       '-Coordenação de Aperfeiçoamento de Pessoal de Nível Superior - Bolsa',\n",
       "       '-Associação de Pais e Mestres do Cefetsp',\n",
       "       '-Agência Goiana de Turismo', '-Fundação de Apoio à Pesquisa',\n",
       "       '-PONTIFÍCIA UNIVERIDADE CATÓLICA DE GOIÁS',\n",
       "       '-CONSELHO NACIONAL DE DESENVOLVIMENTO CIENTÍFICO E TECNOLÓGICO',\n",
       "       '-Instituto Federal de Educação, Ciência e Tecnologia Goiano - Câmpus Iporá-Instituto Federal de Educação Ciência e Tecnologia Goiano -Campus Morrinhos',\n",
       "       '-cnpq',\n",
       "       '-Conselho Nacional de Desenvolvimento Científico e Tecnológico-Fundação de Amparo à Pesquisa do Estado de Minas Gerais-Fundação de Amparo à Pesquisa do Estado de Minas Gerais',\n",
       "       '-Conselho Nacional de Desenvolvimento Científico e Tecnológico-Vleamse Interuniversitaire Raad-Escuela Superior Politécnica del Litoral',\n",
       "       '-PROAPP - IFG', '-SEDUCE', '-Rede Nacional de Ensino e Pesquisa',\n",
       "       '-Petrobras Química S/A',\n",
       "       '-Instituto Federal de Educação Ciência e Tecnologia de Mato Grosso',\n",
       "       '-Universidade Estadual de Goiás-Instituto Federal de Educação, Ciência e Tecnologia de Goiás',\n",
       "       '-Conselho Nacional de Desenvolvimento Científico e Tecnológico - Bolsa.',\n",
       "       '-Conselho Nacional de Desenvolvimento Científico e Tecnológico-Instituto Federal de Educação, Ciência e Tecnologia de Goiás',\n",
       "       '-Universidade Federal de Goiás-Instituto Federal de Educação, Ciência e Tecnologia de Goiás',\n",
       "       '-Fundação do Patrimônio HIstórico e Artístico de Pernambuco',\n",
       "       '-Scitech Produtos Médicos', '-Conselho Nacional de Pesquisa,',\n",
       "       '-Ministério da Pesca e Aquicultura',\n",
       "       '-Ministério da Ciência, Tecnologia, Inovações e Comunicações',\n",
       "       '-Secretaria de Meio Ambiente Recursos Hídricos, Infraestrutura, Cidades e As',\n",
       "       '-Instituto Federal de Educação, Ciência e Tecnologia de Goiás-Secretaria Municipal de Meio Ambiente Ciência e Tecnologia',\n",
       "       '-Instituto Federal de Educação, Ciência e Tecnologia Baiano',\n",
       "       '-Conselho Nacional de Desenvolvimento Científico e Tecnológico-Instituto Federal de Educação, Ciência e Tecnologia de Goiás-Programa Institucional de Apoio à Produtividade em Pesquisa do IFG-Fundação de Amparo a Pesquisa do Estado de Goiás',\n",
       "       '-Agência Goiana de Desenvolvimento Industrial e Mineral',\n",
       "       '-Programa Institucional de Apoio à Produtividade em Pesquisa do IFG',\n",
       "       '-CNPQ', '-Universidade Católica de Brasília',\n",
       "       '-Conselho Nacional de Desenvolvimento Científico e Tecnológico-Fundo de Apoio à Pesquisa Unimep-Governo do Estado de São Paulo',\n",
       "       '-Fundo de Apoio à Pesquisa Unimep',\n",
       "       '-Conselho Nacional de Desenvolvimento Científico e Tecnológico-Fundo de Apoio à Pesquisa Unimep-Fundo de Apoio à Pesquisa Unimep-Universidade Metodista de Piracicaba',\n",
       "       '-Conselho Nacional de Desenvolvimento Científico e Tecnológico-Conselho Nacional de Desenvolvimento Científico e Tecnológico-Universidade Metodista de Piracicaba-Governo do Estado de São Paulo',\n",
       "       '-Universidade Metodista de Piracicaba-Fundo de Apoio à Pesquisa Unimep-Conselho Nacional de Desenvolvimento Científico e Tecnológico-Fundo de Apoio à Pesquisa Unimep',\n",
       "       '-Governo do Estado de São Paulo-Ministério do Esportes-Ministério do Esportes',\n",
       "       '-Conselho Nacional de Desenvolvimento Científico e Tecnológico-Fundo de Apoio à Pesquisa Unimep',\n",
       "       '-Universidade Metodista de Piracicaba',\n",
       "       '-Ministério do Esportes-Ministério do Esportes',\n",
       "       '-Conselho Nacional de Desenvolvimento Científico e Tecnológico-Ministério do Esporte-Ministério do Esporte-Coordenação de Aperfeiçoamento de Pessoal de Nível Superior',\n",
       "       '-Coordenação de Aperfeiçoamento de Pessoal de Nível Superior-Secretaria de Estado de Educação do DF-Universidade Católica de Brasília-Universidade Católica de Brasília-Universidade Católica de Brasília-Conselho Nacional de Desenvolvimento Científico e Tecnológico',\n",
       "       '-Conselho Nacional de Desenvolvimento Científico e Tecnológico-Coordenação de Aperfeiçoamento de Pessoal de Nível Superior-Conselho Nacional de Desenvolvimento Científico e Tecnológico',\n",
       "       '-Conselho Nacional de Desenvolvimento Científico e Tecnológico-Coordenação de Aperfeiçoamento de Pessoal de Nível Superior-Universidade Católica de Brasília',\n",
       "       '-Ministério do Esporte',\n",
       "       '-Conselho Nacional de Desenvolvimento Científico e Tecnológico-Ministério do Esporte-Ministério do Esporte-Programa de Iniciação Científica da UCB-Coordenação de Aperfeiçoamento de Pessoal de Nível Superior',\n",
       "       '-Universidade Federal de Uberlândia',\n",
       "       '-Centrais Elétricas do Norte do Brasil',\n",
       "       '-National Science Foundation', '-OOBJ Tecnologia da Informação',\n",
       "       '-Financiadora de Projetos - Ação transversal',\n",
       "       '-Fundação de Apoio à Pesquisa-Universidade Federal de Goiás',\n",
       "       '-Conselho Nacional de Desenvolvimento Científico e Tecnológico-Pontifícia Universidade Católica de Goiás',\n",
       "       '-Conselho Nacional de Desenvolvimento Científico e Tecnológico-Fundação de Amparo a Pesquisa do Estado de Goiás-Pontifícia Universidade Católica de Goiás',\n",
       "       '-Coordenação de Aperfeiçoamento de Pessoal em Nível Superior',\n",
       "       '-Centro de apoio ao desenvolvimento tecnológico',\n",
       "       '-Laboratório Nacional Agropecuário em Goiás-Instituto Federal de Educação, Ciência e Tecnologia de Goiás',\n",
       "       '-Conselho Nacional de Desenvolvimento Científico e Tecnológico-Instituto Federal de Educação, Ciência e Tecnologia de Goiás-Fachhochschule Trier, Umwelt-Campus Birkenfeld',\n",
       "       '-SEVENTH FRAMEWORK PROGRAMME', '-Companhia Siderúrgica Nacional',\n",
       "       '-Fundação Brasileira de Desenvolvimento Sustentável-Companhia Energética de São Paulo',\n",
       "       '-Fundação de Amparo a Pesquisa do Estado do Amazonas',\n",
       "       '-Conselho Nacional das Instituições da Rede Federal de Educação Profissional',\n",
       "       '-Coordenação de Aperfeiçoamento de Pessoal de Nível Superior-Universidade da Flórida-Universidade Federal de Goiás-Gensys Consultores S C Ltda',\n",
       "       '-Instituto de EducaÃ§Ã£o, CiÃªncia e Tecnologia de GoiÃ¡s',\n",
       "       '-Pró-Reitoria de Pesquisa e Pós-graduação/UFU',\n",
       "       '-Baesa-Energetica Barra Grande', '-Pró Reitoria de Graduação',\n",
       "       '-Fundo Brasileiro para a Biodiversidade',\n",
       "       '-Instituto de Pesquisa Econômica Aplicada - DF',\n",
       "       '-Faculdade Araguaia-Faculdade Sul-Americana-INSTITUTO FEDERAL DE GOIÃ?S-Universidade de BrasÃ\\xadlia-Universidade Estadual de Goiás-Universidade Federal da Bahia',\n",
       "       '-INSTITUTO FEDERAL DE GOIÃ?S',\n",
       "       '-Fundação de Apoio e Desenvolvimento do Ensino, Ciência e Tecnologia do MS',\n",
       "       '-Petróleo Brasileiro - Rio de Janeiro - Matriz',\n",
       "       '-Fundação de Amparo a Pesquisa do Estado de Goiás-Universidade Federal de Goiás-Conselho Nacional de Desenvolvimento Científico e Tecnológico',\n",
       "       '-Fundação de Amparo a Pesquisa do Es ta do de Goiás',\n",
       "       '-Instituto Federal de São Paulo-Instituto federal de Goiás',\n",
       "       '-Conselho Nacional de Desenvolvimento Científico e Tecnológico-Coordenação de Aperfeiçoamento de Pessoal de Nível Superior-Fundação de Amparo a Pesquisa do Estado de Goiás-Mold Estruturas Pré-fabricadas',\n",
       "       '-Coordenação de Aperfeiçoamento de Pessoal de Nível Superior-Fundação de Amparo a Pesquisa do Estado de Goiás-Mold Estruturas Pré-fabricadas',\n",
       "       '-Conselho Nacional de Desenvolvimento Científico e Tecnológico-Coordenação de Aperfeiçoamento de Pessoal de Nível Superior-Fundação de Amparo a Pesquisa do Estado de Goiás-Fundação de Amparo a Pesquisa do Estado de Goiás',\n",
       "       'Instituto Federal de Ciência e Tecnologia de Goiás', '-Rio Verde',\n",
       "       '-IFG CAMPUS INHUMAS', '-Cnpq',\n",
       "       '-Universidade Católica de Goiás - Vice-Reitoria de Pós-Graduação e Pesquisa'],\n",
       "      dtype=object)"
      ]
     },
     "execution_count": 411,
     "metadata": {},
     "output_type": "execute_result"
    }
   ],
   "source": [
    "projetos_pesquisa['instituicao_financiadora'].unique()"
   ]
  },
  {
   "cell_type": "code",
   "execution_count": 412,
   "id": "7e5bfa59-1b77-4c22-92fc-4043725e7672",
   "metadata": {},
   "outputs": [],
   "source": [
    "projetos_pesquisa[['financiador_projeto', 'instituicao_financiadora']] = projetos_pesquisa[['financiador_projeto', 'instituicao_financiadora']].replace('^-{1}', '', regex=True)"
   ]
  },
  {
   "cell_type": "code",
   "execution_count": 413,
   "id": "bf187e20-19df-4423-ad80-afd28fa8fbef",
   "metadata": {},
   "outputs": [],
   "source": [
    "projetos_pesquisa['financiador_projeto'] = projetos_pesquisa['financiador_projeto'].replace('NAO_INFORMADO', np.nan)"
   ]
  },
  {
   "cell_type": "code",
   "execution_count": 414,
   "id": "3c5bb46e-93c3-4a82-bf95-6d6853b8c34a",
   "metadata": {},
   "outputs": [],
   "source": [
    "projetos_pesquisa['instituicao_financiadora'] = projetos_pesquisa['instituicao_financiadora'].replace('', np.nan)"
   ]
  },
  {
   "cell_type": "markdown",
   "id": "e8b7ff46-69e7-4bfc-82d7-9ba545eb3235",
   "metadata": {},
   "source": [
    "## Colocar a sigla do câmpus nos órgãos que se referem às unidades do IFG"
   ]
  },
  {
   "cell_type": "code",
   "execution_count": 415,
   "id": "d8089868-86d1-4115-a914-ef2c72df0b09",
   "metadata": {
    "scrolled": true
   },
   "outputs": [
    {
     "data": {
      "text/plain": [
       "['Escola de Engenharia Elétrica',\n",
       " 'Centro de Inovação Tecnológica',\n",
       " 'Instituto Federal de Goiás - Câmpus Goiânia',\n",
       " 'Programa de Bolsas de Iniciação Científica da UESC - ICB',\n",
       " 'Campus de Jataí',\n",
       " 'Secretaria Municipal de Meio Ambiente, Ciência e Tecnologia de Jataí',\n",
       " 'Faculdade de Enfermagem e Nutrição',\n",
       " 'Instituto Federal de Goiás - Campus Águas Lindas de Goiás',\n",
       " 'Campus Goiânia',\n",
       " 'Conselho de Ensino, Pesquisa e Extensão',\n",
       " 'Campus Inhumas',\n",
       " 'IPEA',\n",
       " 'Faculdade de Administração, Ciências Contábeis e Ciências Econômicas',\n",
       " 'Centro de Estudos Gerais',\n",
       " 'Coordenação de História da Ciência e Tecnologia',\n",
       " 'Instituto Federal de Educação, Ciência e Tecnologia de Goiás/Câmpus Jataí',\n",
       " 'Faculdade de Letras',\n",
       " 'Campus Uruaçu',\n",
       " 'Goiânia',\n",
       " 'Câmpus Inhumas',\n",
       " 'Escola de Engenharia Elétrica, Mecânica e de Computação',\n",
       " 'Mestrado Profissionalizante em Educação para Ciências e Matemática',\n",
       " 'Centro Federal de Goiás - Cefet - Unidade Jataí',\n",
       " 'Instituto Federal de Educação, Ciência e Tecnologia(IFG) Campus Jataí',\n",
       " 'IFG /Mestrado Profissional',\n",
       " 'IF Goiano - Campus Morrinhos',\n",
       " 'Pró-reitoria de Pesquisa e Pós-graduação',\n",
       " 'Núcleo Interdisciplinar de Estudos e Pesquisa em Direitos Humanos/UFG',\n",
       " 'Campus-Inhumas',\n",
       " 'Câmpus Itumbiara',\n",
       " 'Instituto de Artes',\n",
       " 'Câmpus Anápolis - IFG',\n",
       " 'Coordenação de Telecomunicações',\n",
       " 'Faculdade de Agronomia e Medicina Veterinária',\n",
       " 'Departamento de Ciência da Computação',\n",
       " 'Universidade Federal de Goiás',\n",
       " 'CENARGEN',\n",
       " 'IFG-Câmpus Jataí',\n",
       " 'Campus Jataí',\n",
       " 'Instituto Federal de Educação, Ciência e Tecnologia de Goiás-Campus Formosa',\n",
       " 'Instituto de Química',\n",
       " 'Instituto Federal de Educacao, Ciencia e Tecnologia de Goias',\n",
       " 'Campus Goiania',\n",
       " 'GEPEX - Campus Anápolis',\n",
       " 'Campus Rio Verde',\n",
       " 'Campus Luziânia',\n",
       " 'UnUCET',\n",
       " 'Campus Valparaíso',\n",
       " 'Instituto de Ciências Biológicas',\n",
       " 'Departamento de Apoio e Controle Técnico de FURNAS',\n",
       " 'Instituto de Ciências Biomédicas',\n",
       " 'FUNAPE',\n",
       " 'Campus Formosa',\n",
       " 'Instituto Federal de Goiás - Câmpus de Aparecida de Goiânia',\n",
       " 'Câmpus Aparecida de Goiânia',\n",
       " 'Instituto de Estudos Sócio-Ambientais',\n",
       " 'Faculdade de História',\n",
       " 'Câmpus Goiânia',\n",
       " 'Instituto de Patologia Tropical e Saúde Publica',\n",
       " 'Instituto Federal de Educação, Ciência e Tecnologia de Goiás',\n",
       " 'Universidade Estadual de Goiás',\n",
       " 'Instituto de Ciências Humanas e Letras',\n",
       " 'UnU Jussara',\n",
       " 'Faculdade de Farmácia',\n",
       " 'Campus de Inhumas',\n",
       " 'Departamento de Geografia',\n",
       " 'Reitoria - IFG',\n",
       " 'Câmpus Cidade de Goiás',\n",
       " 'IFGoiás - Itumbiara',\n",
       " 'IFG - Câmpus Senador Canedo',\n",
       " 'UnuCet',\n",
       " 'UEG',\n",
       " 'Química',\n",
       " 'Anápolis',\n",
       " 'Campus - Inhumas',\n",
       " 'Centro de Ciências da Saúde',\n",
       " 'Faculdade de Educação Física',\n",
       " 'Centro de Ciências Exatas e Tecnologia',\n",
       " 'IFG',\n",
       " 'Faculdade de Comunicação e Informação',\n",
       " 'Faculdade de Artes, Filosofia e Ciências Sociais',\n",
       " 'Instituto de Letras e Línguística',\n",
       " 'Campus Itumbiara',\n",
       " 'Instituto Federal de Educação, CIência e Tecnologia - Campus Goiás',\n",
       " 'DTA - Departamento de Tecnologia de Alimentos',\n",
       " 'Institutol Federal de Educação, Ciência e Tecnologia de Goiás - Itumbiara',\n",
       " 'Cefet Rv',\n",
       " 'IFGOIAS',\n",
       " 'Cnpq',\n",
       " 'Institudo Federal de Goiás - Campus cidade de Goiás',\n",
       " 'UnB',\n",
       " 'Genie Mecanique de Construction - GMC',\n",
       " 'câmpus Goiânia Oeste',\n",
       " 'Núcleo de Pesquisa em Educação',\n",
       " 'Reitoria',\n",
       " 'Iniciação Científica',\n",
       " 'Instituto Federal de Educação, Ciência e Tecnologia do Paraná',\n",
       " 'Instituto de Ciências Matemáticas e de Computação',\n",
       " 'Curso de Química',\n",
       " 'Campus Anápolis',\n",
       " 'Faculdade de Educação',\n",
       " 'Unidade Universitária de Itaberaí - curso de Pedagogia',\n",
       " 'Unidade Universitária de Ciências Exatas e Tecnológicas de Anápolis',\n",
       " 'Diretoria de Desenvolvimento Edicacional',\n",
       " 'Departamento de Ciência da Informação e Documentação',\n",
       " 'Coordenação de Sistemas de Informação',\n",
       " 'Industria',\n",
       " 'Instituto Federal de Goiás - Campus Inhumas',\n",
       " 'Instituto Federal de Goiás - Câmpus Inhumas',\n",
       " 'Pró-Reitoria de Pós-Graduação e Pesquisa',\n",
       " 'Faculdade de Filosofia Letras e Ciências Humanas',\n",
       " 'Superintendencia do Ensino Fundamental de Goiás',\n",
       " 'Universidade Federal de Uberlândia',\n",
       " 'capes',\n",
       " 'IFG - Campus Aparecida de Goiânia',\n",
       " 'Universidade Estadual de Goiás - unidade ESEFFEGO',\n",
       " 'Centro de Ciências Exatas',\n",
       " 'Unidade Universitária de Uruaçu',\n",
       " 'ESEFFEGO',\n",
       " 'Uruaçu',\n",
       " 'Instituto Federal de Educação, Ciência e Tecnologia de Goiás -Campus Uruaçu',\n",
       " 'Ministério da Educação',\n",
       " 'Instituto Federal de Goiás - câmpus Itumbiara',\n",
       " 'Escola de Agronomia',\n",
       " 'Escola de Formação de Professores e Humanidades',\n",
       " 'Conselho Superior de Ensino, Pesquisa e Extensão',\n",
       " 'Faculdade de Educação Física e Dança',\n",
       " 'Unidade Universitária de Ciências Exatas e Biológicas',\n",
       " 'Itumbiara',\n",
       " 'Câmpus Jataí',\n",
       " 'Centro de Pesquisas Econômicas - CPE',\n",
       " 'NPDA -Núcleo de Pesquisa em Dinâmica e Acústica',\n",
       " 'Departamento de Áreas Acadêmicas',\n",
       " 'IFG LUZIANIA',\n",
       " 'Colégio Marista Goiânia',\n",
       " 'Instituto Federal de Goiás - Câmpus Formosa',\n",
       " 'PROPPG',\n",
       " 'IFG-Campus Goiânia Oeste',\n",
       " 'Instituto Federal de Goias - Campus Senador Canedo',\n",
       " 'Unidade de Pós-Graduação, pesquisa e Inovação do Campus Trindade',\n",
       " 'Divisão de Manuscritos',\n",
       " 'Divisão de Acervos Documentais',\n",
       " 'Coordenação de Documentos Escritos',\n",
       " 'Mameluco Produções Ltda - Rio de Janeiro',\n",
       " 'Faculdade de Filosofia',\n",
       " 'Instituto de Informática',\n",
       " 'Instituto de Matemática e Física',\n",
       " 'PUCGO',\n",
       " 'Instituto Federal de Educação, Ciência e Tecnologia de Goiás - Reitoria',\n",
       " 'UNIVERSIDADE CATÓLICA DE GOIÁS',\n",
       " 'ProPG/IFG/CNPq',\n",
       " 'PROAPP',\n",
       " 'Instituto Federal de Goiás',\n",
       " nan,\n",
       " 'Faculdade de Letras/Universidade Federal de Goiás',\n",
       " 'Campus Jussara',\n",
       " 'Faculdade de Ciências Humanas e Filosofia',\n",
       " 'CAMPUS JATAÍ',\n",
       " 'Pró-Reitoria de Pesquisa e Pós-Graduação PRPPG',\n",
       " 'Campus Aparecida de Goiânia',\n",
       " 'CRECIEM - SEE-GO',\n",
       " 'IFG - Campus Cidade de Goiás',\n",
       " 'IFG Câmpus Goiânia Oeste',\n",
       " 'Instituto Federal de Educação, Ciência e Tecnologia Goiano Campus Morrinhos',\n",
       " 'Secretaria de Educação e Cultura',\n",
       " 'Campus Universitário de Araguaína',\n",
       " 'Escola de Engenharia Mecânica',\n",
       " 'IFG/ Campus Uruaçu',\n",
       " 'Mestrado Profissional em Saúde Coletiva - PRPPG UFG',\n",
       " 'Instituto Federal de Goiás - Campus Águas Lindas',\n",
       " 'Câmpus Goiânia Oste',\n",
       " 'Câmpus Anápolis',\n",
       " 'Setor de Medição Elétrica e Metrologia',\n",
       " 'Câmara Municipal de Goiânia - Assessoria de Imprensa',\n",
       " 'Faculdade de Ciências Sociais',\n",
       " 'Observatório das Metrópoles / IPPUR/UFRJ',\n",
       " 'Laboratório de Estudos sobre Trabalho, Cárcere e Direitos Humanos - LabTrab',\n",
       " 'Centro de Estudos de Criminalidade e Segurança Pública - CRISP',\n",
       " 'Instituto Federal de Goiás - Campus Luziânia',\n",
       " 'Instituto Federal de Goiás (IFG) - Câmpus Itumbiara',\n",
       " 'CELG D',\n",
       " 'Escola de música e artes cênicas',\n",
       " 'ESCOLA DE MÚSICA E ARTES CÊNICAS',\n",
       " 'Instituto Federal de Goias - Senador Canedo',\n",
       " 'VSIM',\n",
       " 'Biosolo Consultoria e Projetos',\n",
       " 'CAMPUS PLANALTINA',\n",
       " 'Fomento à Pesquisa',\n",
       " 'Colégio Estadual Normal César Augusto Ceva',\n",
       " 'Instituto de Biociências Letras e Ciências Exatas de São José do Rio Preto',\n",
       " 'Unidade Universitária de Ciências Sócio-Econômicas e Humanas',\n",
       " 'Camous Formosa',\n",
       " 'Agroindústria',\n",
       " 'Centro Federal de Educação Tecnológica de Rio Verde',\n",
       " 'Unidade de Ensino de Inhumas',\n",
       " 'Regional Jataí',\n",
       " 'Departamento de Química',\n",
       " 'Campus Goiânia Oeste',\n",
       " 'Instituto Federal de Educação Ciência e Tecnologia de Goiás - Uruaçu',\n",
       " 'Instituto de Informática - UFG',\n",
       " 'Centro de Pesquisa Gonçalo Moniz',\n",
       " 'FAPESB',\n",
       " 'Escola de Música',\n",
       " 'Departamento I / Música',\n",
       " 'Departamento de Biologia Animal',\n",
       " 'Faculdade de Nutrição',\n",
       " 'Coordenação de Turismo e Hospitalidade',\n",
       " 'Universidade Católica de Goiás',\n",
       " 'Instituto de Artes e Comunicação Social',\n",
       " 'Faculdade de Agronomia e Engenharia de Alimentos',\n",
       " 'Escola de Veterinária',\n",
       " 'Faculda de Ciências Humanas e Filosofia',\n",
       " 'Universidade do Estado de Minas Gerais',\n",
       " 'CEFET/UnED-Jataí',\n",
       " 'Faculdade de Medicina',\n",
       " 'SAPP',\n",
       " 'Centro de Ciências',\n",
       " 'IFG/GOIANIA',\n",
       " 'Instituto Federal de Goiás -Campus Goiânia',\n",
       " 'Instituto de Ciências Exatas',\n",
       " 'LIAAD (Laboratory of Artificial Intelligence and Decision Support)',\n",
       " 'Centro de Ciências Humanas',\n",
       " 'Instituto Federal de Goiás - Campus Jataí',\n",
       " 'IFG Campus Anápolis',\n",
       " 'Gerência de Pesquisa e Extensão (GEPEX)',\n",
       " 'IFG- Campus Inhumas',\n",
       " 'IFG - Campus Senador Canedo',\n",
       " 'UNUcSEH',\n",
       " 'Centro Ensino e Pesquisa Aplicada à Educação',\n",
       " 'FAPEG',\n",
       " 'IFG Campus Águas Lindas',\n",
       " 'Câmpus Águas Lindas',\n",
       " 'Laboratório de Análise Experimental do Comportamento',\n",
       " 'CAMPUS GOIÂNIA - DEPT.. ÁREAS ACADÊMICAS I',\n",
       " 'UNIDADE JATAÍ',\n",
       " 'Rede de Pesquisa em Turismo',\n",
       " 'Coordenação de Pesquisa e Pós Graduação',\n",
       " 'UnU Goiânia-Laranjeiras',\n",
       " 'Escola de Agronomia e Engenharia de Alimentos',\n",
       " 'Instituto Federal de Goiás - Campus Formosa',\n",
       " 'Escola de Engenharia de Computação',\n",
       " 'Faculdade de Engenharia Mecanica',\n",
       " 'IFG Câmpus Aparecida de Goiânia',\n",
       " 'Gerência de Pesquisa, Extensão e Pós-Graduação do IFG, Campus Uruaçu',\n",
       " 'Instituto Federal de Educação do Goiás - Câmpus Formosa - GO - Brasil',\n",
       " 'campus Inhumas',\n",
       " 'Faculdade de Artes Visuais',\n",
       " 'IF Goiano - Campus Rio Verde',\n",
       " 'Faculdade de Ciências Jurídicas e Sociais',\n",
       " 'Departamento de Areas Academicas',\n",
       " 'Centro Técnico-Científico',\n",
       " 'Câmpus Uruaçu',\n",
       " 'pibic ueg',\n",
       " 'ueg',\n",
       " 'Câmpus Goiânia Oeste',\n",
       " 'Campus Anápolis de Ciências Socioeconômicas e Humanas (CCSEH)',\n",
       " 'Centro de Ensino e Aprendizagem em Rede - CEAR',\n",
       " 'Instituto Federal de Goiás - Câmpus Uruaçu',\n",
       " 'Campus Cidade de Goiás',\n",
       " 'Faculdade de Agronomia Eliseu Maciel',\n",
       " 'NUPEAR',\n",
       " 'IFG/Campus Senador Canedo',\n",
       " 'Campus águas lindas',\n",
       " 'Instituto Federal de Goiás - Campus Cidade de Goiás',\n",
       " 'Instituto Federal de Goiás, Campus Anápolis',\n",
       " 'Secretaria de Estado da Educação de Goiás',\n",
       " 'Campus Senador Canedo',\n",
       " 'Departamento de Matemática e Físca',\n",
       " 'Departamento II',\n",
       " 'Campus Catalão',\n",
       " 'IFG - Campus Uruaçu',\n",
       " 'Secretaria de Estado de Saúde',\n",
       " 'Escola Técnica de Saúde do Tocantins',\n",
       " 'Laboratório de Redes da Coordenação de Telecomunicações',\n",
       " 'Departamento de Alta Tecnologia',\n",
       " 'Pró-Reitoria de Pesquisa e Pós-Graduação',\n",
       " 'Instituto federal de Goiás - Câmpus Anápolis/GO',\n",
       " 'Instituto de Biologia',\n",
       " 'Faculdade de Agronomia e Veterinária',\n",
       " 'IFG - Câmpus Jataí',\n",
       " 'Direito',\n",
       " 'Faculdade de Informação e Comunicação',\n",
       " 'UnU - C.S.E.H.',\n",
       " 'IFG- CAMPUS ITUMBIARA',\n",
       " 'Fundação de Amparo a Pesquisa do Estado de Goiás - FAPEG',\n",
       " 'NUCLEO DE ESTUDOS EM SAÚDE COLETIVA',\n",
       " 'Instituto Federal de Goiás - Campus Goiânia Oeste',\n",
       " 'Instituto de Matemática e Estatística',\n",
       " 'Núcleo Takinahaby de Formação Superior Indígena',\n",
       " 'Programa de Pós-graduação em Educação em Ciências e Matemática',\n",
       " 'Campus Avançado Formoso do Araguaia',\n",
       " 'Subsecretaria Regional de Educação de Itumbiara',\n",
       " 'Campus de Goiânia',\n",
       " 'Pró Reitoria de Pesquisa do IFG',\n",
       " 'IFG, Câmpus Itumbiara',\n",
       " 'Pró Reitoria de Ensino do IFG',\n",
       " 'IFGoiano',\n",
       " 'Instituto de Psicologia',\n",
       " 'Instituto Federal do Espírito Santo - Campus Viana',\n",
       " 'Instituto de Química de Araraquara',\n",
       " 'UNidade Universitária de Ciências Exatas e Tecnológicas',\n",
       " 'Instituto Federal de Goiás - Campus Uruaçu',\n",
       " 'Instituto Federal de Educação, Ciência e Tecnologia de Goiás - Itumbiara',\n",
       " 'Instituto de Filosofia e Ciências Humanas',\n",
       " 'Instituto Federal de Goiás - Campus Anápolis',\n",
       " 'CAMPUS FORMOSA',\n",
       " 'Unidade Rio das Pedras',\n",
       " 'Goiânia Oeste',\n",
       " 'Departamento de Áreas Acadêmicas 1',\n",
       " 'Mestrado em Educação',\n",
       " 'Faculdade de Filosofia, Comunicação, Letras e Artes',\n",
       " 'Departamento de Ciências Jurídicas',\n",
       " 'CNPq',\n",
       " 'Instituto Federal de Goiás - Câmpus Jataí',\n",
       " 'Instituto Federal do Mato Grosso - Campus Confresa',\n",
       " 'Coordenação de Pesquisa',\n",
       " 'Unidade de Ciências Exatas e Tecnológicas',\n",
       " 'Departamento das Áreas Acadêmicas',\n",
       " 'Informática',\n",
       " 'Departamento de Biologia Celular',\n",
       " 'Núcleo de Pesquisa em Matemática - NPM',\n",
       " 'CoMat - Coordenação de Matemática',\n",
       " 'Departamento de Matemática e Física',\n",
       " 'UnUCSEH',\n",
       " 'Centro Universitário de Goiás',\n",
       " 'Centro de Artes',\n",
       " 'Instituto Federal de Goiás- Campus Anápolis',\n",
       " 'Instituto Federal de Ciência e Tecnologia de Goiás - Campus Anápolis',\n",
       " 'Campus Gama',\n",
       " 'FACULDADE DE INHUMAS - FAC-MAIS',\n",
       " 'Departamento de Turismo',\n",
       " 'Faculdade de Filosofia, Ciências e Letras de Ibitinga/SP',\n",
       " 'Instituto Federal de Goiás - Câmpus Aparecida',\n",
       " 'IFG - Campus Goiânia',\n",
       " 'Coordenação de Ciências Humanas e Filosofia',\n",
       " 'Centro Universitário Euro-Americano',\n",
       " 'Campus Águas Lindas',\n",
       " 'Campus de Catalão',\n",
       " 'Sociedade Goiana de Cultura',\n",
       " 'Departamento de Areas Acadêmicas',\n",
       " 'Gerência Ensino, Pesquisa e Extensão do IFG - Luziânia',\n",
       " 'Unidade de Ensino Descentralizada de Jataí',\n",
       " 'Câmpus Formosa',\n",
       " 'Formosa',\n",
       " 'Núcleo de Pesquisas em Ensino, Aprendizagem e contexto social da Educação',\n",
       " 'Instituto Federal de Educação, Ciência e Tecnologia de Goiás - GO - Brasil',\n",
       " 'Centro de Investigación de Estudios Avanzados del Maule',\n",
       " 'Faculdade Alvorada - Maringá - PR - Brasil',\n",
       " 'LUZIÂNIA',\n",
       " 'Pós Graduação em Educação Piracicaba-SP',\n",
       " 'UnU-Universidade Estadual de Goiás-UnUCSEH',\n",
       " 'Instituto Federal de Goiás - Câmpus Anápolis',\n",
       " 'IFG/Goiânia Oeste',\n",
       " 'Faculty of Medicine, Nursing and Health Science',\n",
       " 'Instituto Federal de Ciência e Tecnologia de Goiás',\n",
       " 'Á reas Acadêmicas',\n",
       " 'Faculdade de Engenharia de Ilha Solteira',\n",
       " 'Fundação de Amparo à Pesquisa do Estado de São Paulo - FAPESP',\n",
       " 'EMAC - Escola de Música e Artes Cênicas',\n",
       " 'Faculdades Alves Faria - ALFA',\n",
       " 'Departamento de Letras',\n",
       " 'Ifac Campus Sena Madureira',\n",
       " 'Faculdade de Ciências e Letras de Assis',\n",
       " 'Faculdade de Ciências e Letras',\n",
       " 'Conselho Nacional de Desenvolvimento Científico e Tecnológico',\n",
       " 'Campus Avançado de Catalão/ UFG',\n",
       " 'UNICAMP - Instituto de Estudos da Linguagem',\n",
       " 'CEPAE',\n",
       " 'Escola de Música e Artes Cênicas',\n",
       " 'Fundação Universidade Federal de Mato Grosso do Sul',\n",
       " 'Unidade Universitária de Ciências Exatas e Tecnológicas',\n",
       " 'Escola de Engenharia Civil',\n",
       " 'Campus Experimental de Sorocaba',\n",
       " 'Instituto Federal de Rondônia - Campus Ji-Paraná',\n",
       " 'Centro Federal de Educação Tecnológica',\n",
       " 'Coordenação de Turismo e Hospitalidade do Câmpus Goiânia',\n",
       " 'Centro de Ensino e Pesquisa Aplicada à Educação',\n",
       " 'Instituto do Patrimônio Histórico e Artístico Nacional - MG',\n",
       " 'Departamento de Arquitetura e Urbanismo - ICS/PUC Minas',\n",
       " 'Instituto Federal de Goiás - Câmpus Luziânia',\n",
       " 'Programa de Pós-graduação em Educação',\n",
       " 'IFG - Câmpus Goiania Oeste',\n",
       " 'Núcleo de Pesquisa em Engenharia',\n",
       " 'Secretaria de Educação',\n",
       " 'Conselho Universitário',\n",
       " 'INSTITUTO FEDERAL DE GOIÁS',\n",
       " 'Academia Portuguesa da História',\n",
       " 'Ceppac',\n",
       " 'CLACSO',\n",
       " 'Departamento de Áreas Acadêmicas (DAA)',\n",
       " 'Departamento de Antropologia',\n",
       " 'CIEEPE',\n",
       " 'Instituto de Ciências Humanas da PUC Minas',\n",
       " 'Instituto Federal de Goiás - Câmpus Valparaíso - GO',\n",
       " 'Faculdade de Engenharia Mecânica',\n",
       " 'Coordenação de Programa de Pós-Graduação',\n",
       " 'Gerência de Pesquisa, Pós-Graduação e Extensão',\n",
       " 'Instituto Oswaldo Cruz',\n",
       " 'Instituto Federal Campus Goiânia Oeste',\n",
       " 'Cpmg',\n",
       " 'PICT',\n",
       " 'Pró-Reitoria de Pesquisa e Pós-Graduação; Campus - Goiânia',\n",
       " 'Ifg - Instituto Federal de Educação, Ciência e Tecnologia.',\n",
       " 'Unidade Acadêmica de Ciências Humanas e Letras',\n",
       " 'Pro Reitoria de Pesquisa e Pós- Graduação do IFG',\n",
       " 'UNIDADE SEDE',\n",
       " 'PIBIC-CNPq',\n",
       " 'FAPESP',\n",
       " 'Câmpus Goiânia; Câmpus Inhumas; Câmpus Jataí',\n",
       " 'IFG - Campus Anápolis',\n",
       " 'Coordenação de Ciências Humanas e Suas Tecnologias',\n",
       " 'Facultés des Lettres et Sciences Humaines',\n",
       " 'Centro de Ensino Superior do Brasil',\n",
       " 'Colégio Valparaíso',\n",
       " 'Centro Universitário de Desenvolvimento do Centro-Oeste',\n",
       " 'CESCON - Centro de Estudos Contemporâneos',\n",
       " 'UnB Darcy Ribeiro',\n",
       " 'IFG campus Valparaiso',\n",
       " 'Instituto de Física / Centro Internacional de Física da Matéria Condensada',\n",
       " 'IFG - Campus Rio Verde',\n",
       " 'Instituto Federal Goiano Campus Ceres',\n",
       " 'Campus Estrutural',\n",
       " 'IFG Campus Inhumas',\n",
       " 'LABORATÓRIO DE GEOCIENCIAS APLICADA',\n",
       " 'Fundação de Apoio a Pesquisa do Distrito Federal',\n",
       " 'INHUMAS',\n",
       " 'LACCO',\n",
       " 'Dpto de Quimica',\n",
       " 'Dpto de Engenharia',\n",
       " 'Pró-Reitoria de Pesquisa e Pós-graduação',\n",
       " 'Instituto Federal de Goiás - Campus Itumbiara',\n",
       " 'UNUCEt',\n",
       " 'UNB - Campus Ceilândia',\n",
       " 'Instituto de Filosofia Artes e Cultura',\n",
       " 'Instituto Federal de Goiás-Câmpus Cidade de Goiás.',\n",
       " 'GOIÂNIA',\n",
       " 'Nucleo de Pesquisa em Filosofia - FIT',\n",
       " 'INSTITUTOFEDERAL DE GOIAS - CAMPUS APARECIDA DE GOIÂNIA',\n",
       " 'Instituto de Letras',\n",
       " 'Embrapa Recursos Genéticos e Biotecnologia',\n",
       " 'Instituto Federal de Goiás - Campus Valparaíso de Goiás',\n",
       " 'PIBIC-EM',\n",
       " 'Programa de Pós-graduação em Ensino de Ciências',\n",
       " 'Colégio Estadual Marcondes de Godoy',\n",
       " 'Câmpus Inhumas - Depto. de Áreas Acadêmicas',\n",
       " 'Pró-reitoria de Extensão, Cultura e Assuntos Estudantis-PROEX',\n",
       " 'IFG - Câmpus Cidade de Goiás',\n",
       " 'Campus Sertão',\n",
       " 'IFRS - Campus Bento Gonçalves',\n",
       " 'Câmpus Luziânia',\n",
       " 'IFG - Campus Luziânia',\n",
       " 'Departamento de Sociologia - SOL',\n",
       " 'Programa Pós-graduação de Geografia',\n",
       " 'Departamento de Áreas Acadêmicas I',\n",
       " 'Secretaria de Educação do Estado de Goiás',\n",
       " 'Pró-Reitoria de Pós-Graducação e Pesquisa',\n",
       " 'Rede de Pesquisa Observatório, Estudo e Investigações sobre Estado, Institu',\n",
       " 'Instituto Federal de Goiás - Campus Senador Canedo - GO',\n",
       " 'Unidade Básica das Biociências',\n",
       " 'FACULDADE DE CIÊNCIAS SOCIAIS',\n",
       " 'Instituto Fedeal de Educação, Ciência e Tecnologia de Goiás- Câmpus Jataí',\n",
       " 'Instituto de Física',\n",
       " 'Campus Itumbira',\n",
       " 'Escola de Música e Artes Cênicas - EMAC',\n",
       " 'IAESUP',\n",
       " 'Instituto de Geociências e Ciências Exatas de Rio Claro',\n",
       " 'Coordenação de Pedagogia',\n",
       " 'Instituto Federal de Goiás - Senador Canedo',\n",
       " 'Fundação de Amparo à Pesquisa do Estado de Goiás',\n",
       " 'UNIVERSIDADE FEDERAL DE GOIÁS',\n",
       " 'Centro de Educação e Ciências Humanas',\n",
       " 'Mestrado - Pós-Graduação em Educação Física',\n",
       " 'Núcleo de Pesquisa em Ensino de Ciências',\n",
       " 'Rede Goiana de Pesquisa Interdisciplinar em Educação Especial',\n",
       " ':Instituto de Física',\n",
       " 'Instituto Luterano de Ensino Superior de Itumbiara',\n",
       " 'Centro de Educação Física e Desportos',\n",
       " 'Pró-Reitoria de Pesquisa e Pós Graduação',\n",
       " 'IFG Câmpus Formosa',\n",
       " 'Faculdade de Economia Administração e Contabilidade',\n",
       " 'Departamento de Matemática - Área II',\n",
       " 'Centro de Desenvolvimento da Tecnologia Nuclear',\n",
       " 'Coordenação de Mineração',\n",
       " 'Tecnomin',\n",
       " 'Centro de Tecnologia',\n",
       " 'Iles Ulbra',\n",
       " 'Campus de Itumbiara',\n",
       " 'Mestrado Profissional em Tecnologias de Processos Sustentáveis',\n",
       " 'Coordenação de Informática / Departamento IV',\n",
       " 'Inria-Rocquencourt',\n",
       " 'Universidad de Santiago de Compostela - Campus Lugo',\n",
       " 'Pró Reitoria de Pesquisa e Pós Graduação',\n",
       " 'Faculdade de Gestão e Negocios',\n",
       " 'Programa de Pós-Graduação em Sociologia e Ciência Política',\n",
       " 'Programa de Pós-Graduação Interdisciplinar em Ciências Humanas',\n",
       " 'UNIVERSIDADE FEDERAL DE SANTA CATARINA - UFSC',\n",
       " 'Instituto de Ciências Sociais',\n",
       " \"Institut Universitari d'Estudis Europeus\",\n",
       " 'Campus Aparecida',\n",
       " 'Centro de Ciências Biológicas e da Saúde',\n",
       " 'Centro de Ciências Humanas Letras e Artes',\n",
       " 'Curso de Bacharelado em Educação Física',\n",
       " 'Programa de Pós- graduação em Filosofia',\n",
       " 'Programa de Pós-graduação em Literatura',\n",
       " 'Departamento de Assuntos Acadêmicos - Campus Luziânia',\n",
       " 'colégio Anhanguera',\n",
       " 'Instituto de Pesquisa e Planejamento Urbano de Aparecida de Goiânia',\n",
       " 'Sistema Brasileiro de TV Digital / Universidade Federal de Goiás',\n",
       " 'GPCRF/UFSC',\n",
       " 'INF/UFG',\n",
       " 'Departamento Área IV',\n",
       " 'Diretoria Acadêmica',\n",
       " 'Comissão Própria de Avaliação',\n",
       " 'Coordenação de Comunicação Social',\n",
       " 'Núcleo de Pesquisa',\n",
       " 'Grupo de Pesquisa Ràdio e Mídia Sonora',\n",
       " 'Faculdade de Educação Física e Dança - FEFD',\n",
       " 'Coordenação de extensão',\n",
       " 'Licenciatura em Dança',\n",
       " 'Instituto Federal de Goiás - Campus Senador Canedo',\n",
       " 'BioGenetics Tecnologia Molecular Ltda - Unidade Uberlândia',\n",
       " 'Federal',\n",
       " 'Letras Inglês - CAJ',\n",
       " 'Programa de Pós-Graduação em Educação - Reg. Jataí',\n",
       " 'Escola de Minas',\n",
       " 'Departamento de Geologia',\n",
       " 'Departamento de Física - UFV',\n",
       " 'UNIVERSIDADE ESTADUAL DE GOIÁS. UNIDADE UNIVERSITÁRIA DE CIÊNCIAS',\n",
       " 'UFSCar',\n",
       " 'Instituto Federal de Goiás- Campus Uruaçu',\n",
       " 'Reitoria do IFG',\n",
       " 'DEPTO. ENGENHARIA DE PRODUÇÃO E SISTEMAS - DPS',\n",
       " 'Instituto Federal de Santa Catarina - Campus Caçador',\n",
       " 'Escola Superior de Educação Física e Fisioterapia de Goiás',\n",
       " 'Faculdade de Tecnologia',\n",
       " 'Coordenação de Meio Ambiente',\n",
       " 'Programa de Mestrado em Desenvolvimento Sustentável',\n",
       " 'Fraternidade e Assistência a Menores Aprendizes - Goiânia',\n",
       " 'Coordenação de Mecânica',\n",
       " 'Departamento de Computação',\n",
       " 'Câmpus Darcy Ribeiro',\n",
       " 'Centro de Estudos e Pesquisas BIológicas',\n",
       " 'Associação Brasileira para Proteção das Tartarugas',\n",
       " 'História/Uni-Jussara',\n",
       " 'MEC',\n",
       " 'Instituto Federal de Goiás - câmpus Uruaçu',\n",
       " 'Unidade de Pires do Rio',\n",
       " 'Instituto Federal de Goiás (IFG) - Câmpus Águas Lindas',\n",
       " 'Secretaria de Educação Média e Tecnológica',\n",
       " 'Câmpus Senador Canedo',\n",
       " 'Projetos de Pesquisa - monitora',\n",
       " 'Centro Universitário de Anápolis - UniEVANGELICA',\n",
       " 'Campus de Anápolis',\n",
       " 'Departamento de Engenharia Elétrica',\n",
       " 'Pró-Reitoria de Pesquisa e Pós-Graduação - PROPPG-IFG',\n",
       " 'Faculdade de Ciências e Tecnologia',\n",
       " 'Instituto Federal de Goiás - Campus Valparaíso',\n",
       " 'Departamento de Engenharia',\n",
       " 'Mestrado em desenvolvimento e planejamento territorial',\n",
       " 'Mestrado em planejamento e desenvolvimento territorial',\n",
       " 'Escola de Gestão e Negócios',\n",
       " 'Coordenação de Engenharia Ambiental e Sanitária',\n",
       " 'Departamento de matemática',\n",
       " 'Instituto Federal de Educação Ciência e Tecnologia de Goiás',\n",
       " 'Área de Telecomunicações - Departamento IV',\n",
       " 'IFG/ Campus Anápolis',\n",
       " 'Centro de Inovação Tecnológica do IFG',\n",
       " 'Diretoria de Pesquisa e Pós Graduação do IFG',\n",
       " 'Instituto Federal de Goiás - Campus Aparecida de Goiânia - GO',\n",
       " 'ifg - campus jatai',\n",
       " 'Instituto Federal de Educação, Ciência e Tecnologia de Goiás, Campus Jataí',\n",
       " 'Departamento de Áreas Acadêmicas do câmpus de Valparaíso de Goiás',\n",
       " 'GEPEX - IFG Valparaíso de Goiás',\n",
       " 'Instituto Federal de Goiás câmpus Anápolis',\n",
       " 'Direção de Pós-Graduação e Pesquisa',\n",
       " 'Instituto de Ciências Humanas e Sociais',\n",
       " 'Departamento de Solos',\n",
       " 'Campus Planaltina',\n",
       " 'Agrobiologia',\n",
       " 'Instituto Federal de Mato Grosso - Campus Primavera do Leste',\n",
       " 'Tecnologia em Gestão Ambiental',\n",
       " 'CNPQ',\n",
       " 'Departamento de Matemática, Física, Química e Engenharias da PUCGoiás',\n",
       " 'Departamento de Matemática e Física- Curso de Licenciatura em Química.',\n",
       " 'Instituto Federal de Educação, Ciência e Tecnologia de Goiás/Anápolis',\n",
       " 'Pro-Reitoria de Graduação',\n",
       " 'Instituto Federal de Educação, Ciência e Tecnologia',\n",
       " 'Campus Universitário de Palmas',\n",
       " 'ENCIEM - Núcleo de Pesquisa em Ensino de Ciências e Educação Matemática',\n",
       " 'IFG-Câmpus Anápolis',\n",
       " 'Câmpus Jataí/ Coord. Licenciatura',\n",
       " 'PPG FAU UnB',\n",
       " 'IFG Campus de Jataí',\n",
       " 'Centro de Ciências Humanas e Sociais',\n",
       " 'Universidade Paulista - Brasília',\n",
       " 'Instituto Federal de Goiás (IFG) - Campus Valparaíso',\n",
       " 'Diretoria de Metrologia Científica e Industrial',\n",
       " 'CETUC - Centro de Estudos em Telecomunicações da PUC/Rio',\n",
       " 'Departamento de Engenharia Mecânica(ENM)',\n",
       " 'Faculdade de Tecnologia, UnB',\n",
       " 'Faculdade Serra da Mesa - Curso de Farmácia',\n",
       " 'CAMPUS LUZIÂNIA',\n",
       " 'Instituto Federal de Goiás - IFG, Campus Aparecida de Goiânia',\n",
       " 'IFG - Câmpus Itumbiara',\n",
       " 'Universidade Estadual de Goiás - campus Cora Coralina',\n",
       " 'Universidade Estadual de Goiás - Unidade Quirinópolis',\n",
       " 'Faculdade de Medicina de Ribeirão Preto',\n",
       " 'Departamento de Áreas Acadêmicas - Câmpus Anápolis',\n",
       " 'NÚCLEO DE PESQUISA E EXTENSÃO EM TECNOLOGIA DE PROCESSOS SUSTENTÁVEIS',\n",
       " 'Câmpus Valparaíso de Goiás',\n",
       " 'Cooperação Centro de Pesquisa em Alimentos da Universidade Federal de Goiás',\n",
       " 'Inhumas',\n",
       " 'Faculdade de Educação - Darcy Ribeiro, Asa norte',\n",
       " 'Instituto de Estudos da Linguagem',\n",
       " 'Departamento de História',\n",
       " 'Escola de Ciências Exatas e da Computação',\n",
       " 'Coordenação de Química',\n",
       " 'Pró-Reitoria de Pós-Graduação',\n",
       " 'Instituto Federal de Goiás - campus Jataí',\n",
       " 'Regional Catalão',\n",
       " 'IPTUR',\n",
       " 'CAmpus Inhumas',\n",
       " 'IFG - Campus Valparaiso de Goiás',\n",
       " 'UniCet',\n",
       " 'Instituto Federal de educação, Ciência e Tecnologia - Câmpus Formosa',\n",
       " 'Campus Rondonópolis',\n",
       " 'INSTITUTO FEDERAL DE MATO GROSSO DO SUL',\n",
       " 'Unidade De São Luis de Montes Belos',\n",
       " 'Unidade Acadêmica Especial de Matemática e Tecnológia - IMTec',\n",
       " 'Departamento de Matemática - UFG/CaC',\n",
       " 'Ciências Exatas e Tecnológicas',\n",
       " 'INSTITUTO FEDERAL DE GOIÁS - CAMPUS JATAÍ',\n",
       " 'Editora IFG',\n",
       " 'Diretor Geral',\n",
       " 'Conselho Diretor',\n",
       " 'FORMOSA',\n",
       " 'PECC-UnB',\n",
       " 'FAculdade de Enfermagem e Nutrição, Departamento de Nutrição',\n",
       " 'Departamento de Áreas Acadêmicas I/ Coordenação de Turismo e Hospitalidade',\n",
       " 'Câmara de Pesquisadores',\n",
       " 'Unidade Formosa',\n",
       " 'Embrapa Arroz e Feijão',\n",
       " 'Instituto Federal de Goiás - Câmpus Luziânia - GO',\n",
       " 'Departamento de Turismo e Hospitalidade-Campus Goiânia',\n",
       " 'Acadêmico',\n",
       " 'Esecil',\n",
       " 'Pro-reitoria de Pesquisa e Exteensão',\n",
       " 'Unidade de Ciências Exatas e Tecnológicas Anápolis',\n",
       " 'Colégio Imaculada Conceição',\n",
       " 'Unidade Jataí',\n",
       " 'Campus - Uruaçu',\n",
       " 'Instituto Federal de Goiás/ Câmpus Jataí',\n",
       " 'Uned Bragança Paulista',\n",
       " 'Campus Bragança Paulista',\n",
       " 'IFSP - campus S Paulo',\n",
       " 'IFSP',\n",
       " 'Pro-reitoria de Pesquisa e Pós-graduação - PROPPG',\n",
       " 'Curso de Pedagogia',\n",
       " 'Departamento de Áreas acadêmicas - Anápolis',\n",
       " 'Pró-Reitoria de Pós Graduação e Pesquisa',\n",
       " 'Área de Química',\n",
       " 'Programa de Mestrado em Tecnologia de Processos Sustentáveis',\n",
       " 'Institut für Chemie',\n",
       " 'Fraunhofer Institute for Environmental, Safety and Energy Technology',\n",
       " 'IBG2 - Plant Sciences',\n",
       " 'DBFZ-Leipzig',\n",
       " 'Department of Environmental Microbiology (UMB) - UFZ Leipzig',\n",
       " 'Campus de Palmas',\n",
       " 'UNIRV',\n",
       " 'Cãmara de Pesquisa e Pós-Graduação',\n",
       " 'Laboratório de fisica médica',\n",
       " 'Faculdade de Computação',\n",
       " 'Natural Language Learning Team',\n",
       " 'Núcleo de Pesquisas Replicon',\n",
       " 'Mestrado em Genética MGene',\n",
       " 'Laboratório de Oncogenética e Radiobiologia',\n",
       " 'IFG Campi/Inhumas',\n",
       " 'unidade Aparecida de Goiânia',\n",
       " 'Instituto Nacional de Criminalística - Laboratórios de Química',\n",
       " 'Departamento de Pedagogia',\n",
       " 'Campus Avançado Guarantã do Norte',\n",
       " 'Cefd',\n",
       " 'UNB',\n",
       " 'Ciencias da Vida',\n",
       " 'Fundação Carlos Chagas',\n",
       " 'Instituto de Educação',\n",
       " 'Curso Técnico em Agroecologia',\n",
       " 'Curso Técnico em Meio Ambiente',\n",
       " 'PIBIC',\n",
       " 'Faculdade de Tecnologia - FT/UnB',\n",
       " 'Instituto Federal Goiano Câmpus Urutaí',\n",
       " 'Instituto Dom Fernando',\n",
       " 'Pró Reitoria de Pós-Graduação e Pesquisa',\n",
       " 'UnB-Câmpus Darcy Ribeiro',\n",
       " 'IFG, Campus aparecida de Goiânia',\n",
       " 'ROGRAMA DE MESTRADO EM TECNOLOGIA DE PROCESSOS SUSTENTÁVEIS',\n",
       " 'Centro\\xa0de\\xa0Investigação\\xa0e\\xa0Prevenção\\xa0de\\xa0Incêndios',\n",
       " 'Departamento de Geografia - Unidade de Minaçu',\n",
       " 'INSTITUTO FEDERAL DE GOIÁS - CAMPUS ANAPOLIS',\n",
       " 'FAIFA',\n",
       " 'UNIVERSIDADE FEDREAL RURAL DE PERNAMBUCO',\n",
       " 'Centro de Ciências Exatas e de Tecnologia',\n",
       " 'IFG, Campus Anápolis',\n",
       " 'Centro de Ciências Humanas e Letras',\n",
       " 'Civil',\n",
       " 'IFG câmpus Anápolis',\n",
       " 'Faculdade de Ciências de Bauru',\n",
       " 'Escola de Belas Artes',\n",
       " 'Musikwissenschaftliches Seminar',\n",
       " 'Escola de Direito e Relações Internacionais',\n",
       " 'Departamento de Controle Técnico',\n",
       " 'Instituto federal de Goiás-Jataí-GO',\n",
       " 'Núcleo Estadual de Meteorologia e Recursos Hídricos',\n",
       " 'Instituto de Biociências',\n",
       " 'IFG Campus Cidade de Goiás',\n",
       " 'Universidade de Brasília',\n",
       " 'Comissão de Avaliação Institucional da UEG',\n",
       " 'Departamento de Educação',\n",
       " 'Departamento de Educação - Doutorado em Educação',\n",
       " 'Departamento de Educação - Mestrado em Educação',\n",
       " 'Instituto Federal de Goiás - IFG - Câmpus Aparecida de Goiânia',\n",
       " 'PROPESQ',\n",
       " 'Pró-reitoria de pesquisa IFG',\n",
       " 'Centro de Ciências da Educação',\n",
       " 'Grupo de Pesquisa em Ensino de Ciências e Educação Matemática (ENCIEM)',\n",
       " 'Campus VII - Timóteo',\n",
       " 'Pró-Reitoria de Pesquisa e Pós-Graduação - ProPG/IFG',\n",
       " 'Campus Presidente Prudente',\n",
       " 'Faculdade de Ciências e Tecnologia de Presidente Prudente',\n",
       " 'FACULDADE DE LETRAS',\n",
       " 'Instituto Federal de Educação, Ciência e Tecnologia de Goiás Valparaíso',\n",
       " 'UNIP interativa',\n",
       " 'Programa de Pós-graduação em Farmacologia',\n",
       " 'Departamento de análises clínicas e toxicológicas - ACT',\n",
       " 'Instituto Federal de Goiás - Câmpus Águas Lindas',\n",
       " 'IFGoiás - Campus Jataí',\n",
       " 'Curso de Geografia',\n",
       " 'CAMPUS ANÁPOLIS',\n",
       " 'Polo IFE-Go',\n",
       " 'IF Goiano - Campus Ceres',\n",
       " 'Fundação Euclides da Cunha',\n",
       " 'Divisão de Processamento de Imagens',\n",
       " 'unidade universitária de uruaçu',\n",
       " 'Instituto federal de goiás - Aparecida de Goiânia',\n",
       " 'Universidade Paulista Faculdades Objetivo',\n",
       " 'Pro-Reitoria de Pesquisa e Pós-Graduação',\n",
       " 'Pró-Reitoria de Pesquisa - IFG',\n",
       " 'Pró-Reitoria de Pesquisa e Pós-Graduação (PROPPG)',\n",
       " 'Centro Tecnológico',\n",
       " 'Université de Sherbrooke',\n",
       " 'Instituto Federal de Educação, Ciência e Tecnologia de Goiás - IFG',\n",
       " 'DAA anapolis',\n",
       " 'Unidade Universitária de Ceres',\n",
       " 'UTFPR',\n",
       " 'Unidade Universitária de Itumbiara',\n",
       " 'Face',\n",
       " 'Universidade Federal de Goias',\n",
       " 'Coordenação das Áreas Acadêmicas - Campus Uruaçu',\n",
       " 'Campus Jataí - Universidade Federal de Goiás',\n",
       " 'Coordenação de Iniciação Científica',\n",
       " 'Unidade Sede - Gerência de Formação Básica - CCT - sub-área de Física',\n",
       " 'Campus São Paulo',\n",
       " 'Pro-Reitoria de Ensino IFSP',\n",
       " 'Universidade Luterana do Brasil - Iles/Ulbra',\n",
       " 'Turismo',\n",
       " 'Curso de graduação em Turismo',\n",
       " 'TECCER',\n",
       " 'Instituto de Psicologuia',\n",
       " 'PRÓ-REITORIA DE PESQUISA',\n",
       " 'Escola de Engenharia',\n",
       " 'DEPARTAMENTO DE ÁREAS ACADÊMICAS-CAMPUS AP DE GOIANIA',\n",
       " 'CÂMPUS ANÁPOLIS',\n",
       " 'IF Goiano - Campus Iporá',\n",
       " 'Instituto Federal de Educação, Ciência e Tecnologia Goiano',\n",
       " 'Proreitoria de Educação do IFG',\n",
       " 'PIVIC',\n",
       " 'IFGoiás',\n",
       " 'Programa de Estudos e Atenção à Dependência Quimica - PRODEQUI',\n",
       " 'Conselho de Pesquisa e Pós-Graduação',\n",
       " 'Instituto Federal de Goiás Campus Aparecida de Goiânia',\n",
       " 'Instituto Federal de Goiás - Campus Aparecida de Goiânia',\n",
       " 'Centro Universitário de Anápolis',\n",
       " 'Mestrado em Serviço Social',\n",
       " 'Centro de Ciências Sociais Aplicadas',\n",
       " 'Fundação Universidade Federal do Tocantins',\n",
       " 'UNITINS',\n",
       " 'IF Goiano - campus Iporá',\n",
       " 'Laboratório de Farmacologia - Curso de Biomedicina - Regional Jataí',\n",
       " 'Componente 6 - Programa VLIR/ESPOL',\n",
       " 'DEGEO/UFOP',\n",
       " 'Campus Goiânia/IFG',\n",
       " 'PIC- Programa de Iniciação Científica',\n",
       " 'IFMS - Campus Naviraí',\n",
       " 'Instituto Federal de Goiás - Câmpus Goiânia Oeste',\n",
       " 'Instituto Federal de Goiás - Câmpus Inhumas - GO',\n",
       " 'Campus Avançado de Catalão',\n",
       " 'Agência Goiânia de Desenvolvimento da Indústria e Mineração',\n",
       " 'Programa de Pós graduação em Imunologia e Parasitologia Aplicadas',\n",
       " 'Instituto federal de educação, ciência e tecnologia de Goiás',\n",
       " 'Campus Inhumas - IFG',\n",
       " 'Campus Brasília',\n",
       " 'Instituto de Biotecnologia',\n",
       " 'Area Matemática',\n",
       " 'Departamento Area IV',\n",
       " 'Departamento Acadêmico - Campus Cidade de Goiás',\n",
       " 'UFMT',\n",
       " 'Campus Cuiabá',\n",
       " 'Ciência e Tecnologia',\n",
       " 'Departamento de Artes Cênicas',\n",
       " 'Conselho Nacional de Desenvolvimento Científico e Tecnológico - Bolsa.',\n",
       " 'IFG - Uruaçu',\n",
       " 'Universidade Estadual de Goiás - GO - BRA',\n",
       " 'Instituto Federal de Goiás - Câmpus Itumbiara',\n",
       " 'Universidade Estadual de Goias',\n",
       " 'Faculdade de Educação UFG',\n",
       " 'Grupo Peleja',\n",
       " 'Farmácia',\n",
       " 'Laboratório de Aplicações de Video Digital',\n",
       " 'Diretoria de Desenvolvimento de Sistemas',\n",
       " 'Diretoria de Tecnologia',\n",
       " 'Coordenação de Filosofia e Ciências Humanas do IFG',\n",
       " 'Instituto de Pesquisas e Estudos Históricos do Brasil Central',\n",
       " 'Pro-reitoria de Extensão e Assuntos Estudantis',\n",
       " 'Programa de Estudos e Extensão Afro-brasileiro',\n",
       " 'Instituto de Pesquisas e EStudos Históricos do Brasil Central/IPEHBC',\n",
       " 'Programa de Pós-graduação em História',\n",
       " 'IFG campus Jataí',\n",
       " 'NUCLEO DE PESQUISA, EDUCAÇÃO, SAÚDE E SEXUALIDADE',\n",
       " 'Faculdade Anhanguera de Anápolis',\n",
       " 'Departamento de Teoria Literária e Literaturas',\n",
       " 'FEF',\n",
       " 'Redes de pesquisa',\n",
       " 'Centro Federal de Educação Tecnológica de Goiás',\n",
       " 'Campus de Aparecida de Goiânia',\n",
       " 'Faculdade de Educação Física - FEF',\n",
       " 'Coordenação do Curso Bacharelado em Engenharia Elétrica',\n",
       " 'Curso de Geografia - Unidade Minaçu',\n",
       " 'Departamento de Filosofia e Teologia',\n",
       " 'Pró Reitoria de Pós Graduação e Pesquisa',\n",
       " 'Campus Goiânia - Departamento 1',\n",
       " 'Campus Jataí / Unidade Flamboyant',\n",
       " 'Instituto Federal de Educação, Ciência e Tecnologia de Goiás - Campus Jataí',\n",
       " 'Universidade Federal de Viçosa (UFV)',\n",
       " 'Agência Nacional de Água e Energia Elétrica ? ANEEL',\n",
       " 'Organização Mundial de Saúde',\n",
       " 'Departamento 1',\n",
       " 'GEPEX',\n",
       " 'centro de ciencias exatas/quimica',\n",
       " 'CDIM - Centro de Documentação Informação e Memória',\n",
       " 'Diretor',\n",
       " 'Uned de jataí',\n",
       " 'Campus Avançado de Jataí',\n",
       " 'UFG',\n",
       " 'Departamento de Áreas Acadêmicas II',\n",
       " 'Universidade Federal de Goiás - UFG',\n",
       " 'campus Jataí',\n",
       " 'câmpus Inhumas, Goiânia e Jataí',\n",
       " 'Mestrado Profissional em Educação para Ciências e Matemática',\n",
       " 'ProfEPT-IFG',\n",
       " 'Núcleo de Estudos e Pesquisas em Psicologia, Educação e Cultura - NEPPEC',\n",
       " 'UNESP',\n",
       " 'Instituto Federal de Goiás - Câmpus Valparaíso de Goiás',\n",
       " 'Departamento de Áreas Acadêmicas 1 IFG. Campus Goiânia',\n",
       " 'Licenciatura em Informática',\n",
       " 'IFSULDEMINAS - Campus Inconfidentes',\n",
       " 'Agência Goiana de Desenvolvimento da Indústria e Mineração',\n",
       " 'Instituto Federal de Goiás - Câmpus Aparecida de Goiânia',\n",
       " 'Núcleo de Estudos e Pesquisas em Trabalho, Educação, Cultura e Ciência',\n",
       " 'Departamento de Estudos Latino-Americanos',\n",
       " 'Unidade de áreas acadêmicas',\n",
       " 'instituto Federal de Educação, Ciência e Tecnologia de Goiás',\n",
       " 'IDEA-INSTITUTO DE DESENVOLVIMENTO EM EDUCAÇÃO-FACULDADE SULDAMÉRICA',\n",
       " 'Escola Municipal Professora Dinalva Lopes',\n",
       " 'CURSO DE HISTÓRIA',\n",
       " 'UNIDADE DE PARANAÍBA - MS',\n",
       " 'Instituto Federal de Goiás - Câmpus Cidade de Goiás',\n",
       " 'Gerência de Pesquisa, Extensão e Pós-Graduação',\n",
       " 'Centro Federal de Educação Tecnológica de Goiás Unidade de Jataí',\n",
       " 'IFG - Campus Jataí',\n",
       " 'Escola Superior de Educação Física de Goiás',\n",
       " 'Coordenação de Ensino Especial',\n",
       " 'Departamentos de Áreas Acadêmicas',\n",
       " 'Departamento IV',\n",
       " 'Curso de Educação Física',\n",
       " 'Mestrado e Doutorado em Educação Física',\n",
       " 'Faculdade de Ciências da Religião',\n",
       " 'Faculdade de Ciências da Saúde',\n",
       " 'Mestrado Em Educação Física',\n",
       " 'IFG - Câmpus Aparecida de Goiânia',\n",
       " 'Faculdade de Administração, Ciências Contábeis e Ciências Econômicas (FACE)',\n",
       " 'IFGoiano - Campus Morrinhos',\n",
       " 'Pró-Reitoria de Pesquisa e Pós-Graduação/UFG',\n",
       " 'Coordenação de Ciências Humanas',\n",
       " 'Coordenação de Artes do CEFET-GO',\n",
       " 'LET-Departamento de Letras',\n",
       " 'Centro universitário de Mineiros - UNIFIMES',\n",
       " 'Núcleo de Educação',\n",
       " 'CEDU',\n",
       " 'Secretaria Estadual de Educação',\n",
       " 'Faculdade de Engenharia de Guaratinguetá',\n",
       " 'Departamento Acadêmico',\n",
       " 'Gerência de Pesquisa, Pós-graduação e Extensão',\n",
       " 'Campus Inconfidentes',\n",
       " 'IFG CÂMPUS GOIÂNIA OESTE',\n",
       " 'Coordenação de Geomática',\n",
       " 'Pró-Reitoria de Pesquisa e Inovação',\n",
       " 'Câmpus Anápolis de Ciências Exatas e Tecnológicas',\n",
       " 'Núcleo de Estudos Experimentais e Tecnológicos - NEXT',\n",
       " 'Instituto Federal de Goiás - Câmpus Senador Canedo - GO',\n",
       " 'Depratamento de Ciências e Tecnologia',\n",
       " 'Escola de Música e Artes Cênicas da UFG - GO - BRA',\n",
       " 'Faculdade de Artes Visuais da UFG',\n",
       " 'Universidade Federal de Santa Catarina',\n",
       " 'Faculdade de Ciências Sociais da UFG',\n",
       " 'Campus Universitário de Gurupi',\n",
       " 'Diretoria de Ciência e Tecnologia',\n",
       " 'Instituto Federal de Educação, Ciência e Tecnologia de Goiás-Câmpus Inhumas',\n",
       " 'Unidade Universitária Ciências Exatas e Tecnológicas',\n",
       " 'SENAI',\n",
       " 'Programa de Pós-Graduação em Geotecnia, Estruturas e Construção Civil',\n",
       " 'College of Computing',\n",
       " 'Produto & Desenvolvimento',\n",
       " 'Câmpus Águas Lindas e Goiânia-oeste',\n",
       " 'Departamento de Informática',\n",
       " 'Faculdade de Educação - UFG',\n",
       " 'Secretaria Municipal da Educação de Aparecida de Goiânia',\n",
       " 'Campi Luziânia',\n",
       " 'Campus Goiania Oeste',\n",
       " 'Instituto Federal de Goiás.',\n",
       " 'Emac',\n",
       " 'Campus - Goiânia',\n",
       " 'Campus Ituiutaba',\n",
       " 'Aparecida de Goiânia',\n",
       " 'Centro de Ciências Biológicas e da Saúde da UFSCAR',\n",
       " 'Programa de Pós-Graduação em Ecologia e Recursos Naturais',\n",
       " 'IFSP - Campus Barretos',\n",
       " 'Campus Darci Ribeiro',\n",
       " 'Universidade Federal de Tocantins',\n",
       " 'Departamento de áreas acadêmicas III',\n",
       " 'IFG - Campus Goiânia Oeste',\n",
       " 'Departamento 2',\n",
       " 'INSTITUTO FEDERAL DE EDUCAÇÃO CIÊNCIA E TECNOLOGIA DE GOIÁS',\n",
       " 'Nucleo de Pesquisa em Computação',\n",
       " 'Departamento de Mecânca',\n",
       " 'Fundação do Ensino Superior de Rio Verde',\n",
       " 'Pontifícia Universidade de Goiás - Programa de Doutorado em Educação',\n",
       " 'IFG - Campus Valparaíso de Goiás',\n",
       " 'IFSP - Campus Hortolândia',\n",
       " 'Faculdade de Odontologia',\n",
       " 'Faculdade de Filosofia Ciências e Letras de Ribeirão Preto',\n",
       " 'Diretoria Geral',\n",
       " 'Instituto Federal de Goiás - Câmpus Anápolis (GO)',\n",
       " 'IPEN',\n",
       " 'Direção de Ensino Superior',\n",
       " 'IFG - Campus Formosa',\n",
       " 'IFG - Campus Itumbiara',\n",
       " 'Área de Química Tecnológica ? IFG',\n",
       " 'Mestrado Tecnologia Processos Sustentaveis IFG',\n",
       " 'IFG Campus Goiânia.',\n",
       " 'Vice Reitoria de Pós Graduação - VPG',\n",
       " 'Departamento de Matemática e Física Maf',\n",
       " 'Departamento de Eletrotécnica',\n",
       " 'Embrapa Cerrados - CPAC',\n",
       " 'ENF',\n",
       " 'IFG-Campus Itumbiara',\n",
       " 'Faculdade de Geologia',\n",
       " 'Sistema de Proteção da Amazônia',\n",
       " 'nstituto Federal de Goiás- Câmpus Inhumas',\n",
       " 'campus Itumbiara',\n",
       " 'Instituto Federal Goiano - Câmpus Morrinhos',\n",
       " 'Coordenação de Matemática - DAA II - Câmpus Goiânia',\n",
       " 'nstituto Federal de Educação, Ciência e Tecnologia- Câmpus Inhumas',\n",
       " 'Instituto Federal de Goiás - campus Luziânia',\n",
       " 'Jataí',\n",
       " 'Faculdade de Comunicação Social e Biblioteconomia',\n",
       " 'UNIVERSIDADE ESTADUAL DE GOIÁS',\n",
       " 'Unidade Universitária de Goiânia - Laranjeiras (UEG)',\n",
       " 'IFG - CAMPUS LUZIÂNIA',\n",
       " 'IFG - Câmpus Oeste',\n",
       " 'Câmpus Goiânia Oeste / IFG',\n",
       " 'Faculdade de Ciências e Letras - campus de Araraquara',\n",
       " 'Faculdade de Filosofia e Ciências/Campus de Marília',\n",
       " 'Instituto Federal de Goiás/Campus de Goiânia',\n",
       " 'Núcleo Interdisciplinar de Direitos Humanos',\n",
       " 'IFG - REITORIA',\n",
       " 'Faculdade de Ceilândia - FCe',\n",
       " 'Instituto de Biologia Campus Darci Ribeiro',\n",
       " 'Instituto Federal de Educação - Campi Aparecida de Goiânia',\n",
       " 'Instituto Federal de Educação - Campi Senador Canedo',\n",
       " 'Pró-Reitoria de Extensão',\n",
       " 'Coordenação de Matemática',\n",
       " 'Campus Darcy Ribeiro',\n",
       " 'Departamento de Áreas Acadêmicas - Campus Formosa',\n",
       " 'IFG - Campus Inhumas',\n",
       " 'Projeto',\n",
       " 'Diretoria de Estudos sobre Estado, Instituições e Democracia (DIEST)',\n",
       " 'Câmpus de Aparecida de Goiânia',\n",
       " 'IFG-CAMPUS ANÁPOLIS',\n",
       " 'Departamento de Fìsica - UFMS',\n",
       " 'Instituto Federal de Educação de Goiás-Câmpus Senador Canedo-GO',\n",
       " ...]"
      ]
     },
     "execution_count": 415,
     "metadata": {},
     "output_type": "execute_result"
    }
   ],
   "source": [
    "list(projetos_pesquisa['orgao'].unique())"
   ]
  },
  {
   "cell_type": "code",
   "execution_count": 416,
   "id": "2c26e0f2-56cb-4aef-a364-b9e6eee049f7",
   "metadata": {},
   "outputs": [],
   "source": [
    "projetos_pesquisa['sigla_orgao'] = pd.Series([None] * len(projetos_pesquisa), dtype='object')"
   ]
  },
  {
   "cell_type": "code",
   "execution_count": 417,
   "id": "e9ab1932-26a7-4a01-ad59-bab224bbb26a",
   "metadata": {},
   "outputs": [],
   "source": [
    "def normalizar_string(s):\n",
    "    if pd.notna(s):\n",
    "        # Transforma todos os caracteres em minúsculas\n",
    "        s = s.lower()\n",
    "        \n",
    "        # Remove acentos das letras\n",
    "        s = unicodedata.normalize(\"NFD\", s).encode(\"ascii\", \"ignore\").decode(\"utf-8\")\n",
    "    \n",
    "        # Substitui todos os caracteres que não são letras por um espaço em branco\n",
    "        s = re.sub(r'[^A-Za-z]', ' ', s)\n",
    "    \n",
    "        # Substitui espaços consecutivos por apenas um espaço\n",
    "        s = re.sub(r'\\s{2,}', ' ', s)\n",
    "    \n",
    "        # Remove os espaços em branco do começo e fim\n",
    "        s = s.strip() \n",
    "    \n",
    "    return s"
   ]
  },
  {
   "cell_type": "code",
   "execution_count": 418,
   "id": "2e010a3c-8ec5-42a2-88c3-694156bca5c8",
   "metadata": {},
   "outputs": [],
   "source": [
    "projetos_pesquisa['orgao_normalizado'] = projetos_pesquisa['orgao'].apply(normalizar_string)"
   ]
  },
  {
   "cell_type": "code",
   "execution_count": 419,
   "id": "e3027fee-e76c-477d-81ba-dfa4ce278fcc",
   "metadata": {},
   "outputs": [
    {
     "data": {
      "text/plain": [
       "array(['campus uruacu', 'unidade universitaria de uruacu', 'uruacu',\n",
       "       'instituto federal de educacao ciencia e tecnologia de goias campus uruacu',\n",
       "       'ifg campus uruacu',\n",
       "       'instituto federal de educacao ciencia e tecnologia de goias uruacu',\n",
       "       'gerencia de pesquisa extensao e pos graduacao do ifg campus uruacu',\n",
       "       'instituto federal de goias campus uruacu',\n",
       "       'coordenacao das areas academicas campus uruacu', 'ifg uruacu',\n",
       "       'gepex campus uruacu'], dtype=object)"
      ]
     },
     "execution_count": 419,
     "metadata": {},
     "output_type": "execute_result"
    }
   ],
   "source": [
    "projetos_pesquisa[(projetos_pesquisa['orgao_normalizado'].notna()) & ((projetos_pesquisa['orgao_normalizado'].str.contains('uruacu')))]['orgao_normalizado'].unique()"
   ]
  },
  {
   "cell_type": "markdown",
   "id": "6dc84813-1b6b-4e5c-9421-b79026e239c0",
   "metadata": {},
   "source": [
    "### Fazer uma bag of words geral\n",
    "\n",
    "Essa técnica é utilizada para investigar quais são as palavras que mais se repetem em um conjunto de palavras. No nosso caso será utilizada para destacarmos os termos principais que podem indicar a referência de um órgão a uma unidade do IFG."
   ]
  },
  {
   "cell_type": "code",
   "execution_count": 420,
   "id": "eb2ca810-99b1-4fe2-be13-ea18cb6cee3d",
   "metadata": {
    "scrolled": true
   },
   "outputs": [],
   "source": [
    "import nltk\n",
    "from nltk.tokenize import word_tokenize\n",
    "from nltk.probability import FreqDist\n",
    "from nltk.corpus import stopwords"
   ]
  },
  {
   "cell_type": "code",
   "execution_count": 421,
   "id": "f222f4d9-e2ad-40c8-92b7-1f49fe9b9821",
   "metadata": {
    "scrolled": true
   },
   "outputs": [
    {
     "name": "stderr",
     "output_type": "stream",
     "text": [
      "[nltk_data] Downloading collection 'popular'\n",
      "[nltk_data]    | \n",
      "[nltk_data]    | Downloading package cmudict to\n",
      "[nltk_data]    |     /home/marcel/nltk_data...\n",
      "[nltk_data]    |   Package cmudict is already up-to-date!\n",
      "[nltk_data]    | Downloading package gazetteers to\n",
      "[nltk_data]    |     /home/marcel/nltk_data...\n",
      "[nltk_data]    |   Package gazetteers is already up-to-date!\n",
      "[nltk_data]    | Downloading package genesis to\n",
      "[nltk_data]    |     /home/marcel/nltk_data...\n",
      "[nltk_data]    |   Package genesis is already up-to-date!\n",
      "[nltk_data]    | Downloading package gutenberg to\n",
      "[nltk_data]    |     /home/marcel/nltk_data...\n",
      "[nltk_data]    |   Package gutenberg is already up-to-date!\n",
      "[nltk_data]    | Downloading package inaugural to\n",
      "[nltk_data]    |     /home/marcel/nltk_data...\n",
      "[nltk_data]    |   Package inaugural is already up-to-date!\n",
      "[nltk_data]    | Downloading package movie_reviews to\n",
      "[nltk_data]    |     /home/marcel/nltk_data...\n",
      "[nltk_data]    |   Package movie_reviews is already up-to-date!\n",
      "[nltk_data]    | Downloading package names to\n",
      "[nltk_data]    |     /home/marcel/nltk_data...\n",
      "[nltk_data]    |   Package names is already up-to-date!\n",
      "[nltk_data]    | Downloading package shakespeare to\n",
      "[nltk_data]    |     /home/marcel/nltk_data...\n",
      "[nltk_data]    |   Package shakespeare is already up-to-date!\n",
      "[nltk_data]    | Downloading package stopwords to\n",
      "[nltk_data]    |     /home/marcel/nltk_data...\n",
      "[nltk_data]    |   Package stopwords is already up-to-date!\n",
      "[nltk_data]    | Downloading package treebank to\n",
      "[nltk_data]    |     /home/marcel/nltk_data...\n",
      "[nltk_data]    |   Package treebank is already up-to-date!\n",
      "[nltk_data]    | Downloading package twitter_samples to\n",
      "[nltk_data]    |     /home/marcel/nltk_data...\n",
      "[nltk_data]    |   Package twitter_samples is already up-to-date!\n",
      "[nltk_data]    | Downloading package omw to /home/marcel/nltk_data...\n",
      "[nltk_data]    |   Package omw is already up-to-date!\n",
      "[nltk_data]    | Downloading package omw-1.4 to\n",
      "[nltk_data]    |     /home/marcel/nltk_data...\n",
      "[nltk_data]    |   Package omw-1.4 is already up-to-date!\n",
      "[nltk_data]    | Downloading package wordnet to\n",
      "[nltk_data]    |     /home/marcel/nltk_data...\n",
      "[nltk_data]    |   Package wordnet is already up-to-date!\n",
      "[nltk_data]    | Downloading package wordnet2021 to\n",
      "[nltk_data]    |     /home/marcel/nltk_data...\n",
      "[nltk_data]    |   Package wordnet2021 is already up-to-date!\n",
      "[nltk_data]    | Downloading package wordnet31 to\n",
      "[nltk_data]    |     /home/marcel/nltk_data...\n",
      "[nltk_data]    |   Package wordnet31 is already up-to-date!\n",
      "[nltk_data]    | Downloading package wordnet_ic to\n",
      "[nltk_data]    |     /home/marcel/nltk_data...\n",
      "[nltk_data]    |   Package wordnet_ic is already up-to-date!\n",
      "[nltk_data]    | Downloading package words to\n",
      "[nltk_data]    |     /home/marcel/nltk_data...\n",
      "[nltk_data]    |   Package words is already up-to-date!\n",
      "[nltk_data]    | Downloading package maxent_ne_chunker to\n",
      "[nltk_data]    |     /home/marcel/nltk_data...\n",
      "[nltk_data]    |   Package maxent_ne_chunker is already up-to-date!\n",
      "[nltk_data]    | Downloading package punkt to\n",
      "[nltk_data]    |     /home/marcel/nltk_data...\n",
      "[nltk_data]    |   Package punkt is already up-to-date!\n",
      "[nltk_data]    | Downloading package snowball_data to\n",
      "[nltk_data]    |     /home/marcel/nltk_data...\n",
      "[nltk_data]    |   Package snowball_data is already up-to-date!\n",
      "[nltk_data]    | Downloading package averaged_perceptron_tagger to\n",
      "[nltk_data]    |     /home/marcel/nltk_data...\n",
      "[nltk_data]    |   Package averaged_perceptron_tagger is already up-\n",
      "[nltk_data]    |       to-date!\n",
      "[nltk_data]    | \n",
      "[nltk_data]  Done downloading collection popular\n"
     ]
    },
    {
     "data": {
      "text/plain": [
       "True"
      ]
     },
     "execution_count": 421,
     "metadata": {},
     "output_type": "execute_result"
    }
   ],
   "source": [
    "nltk.download('popular')"
   ]
  },
  {
   "cell_type": "code",
   "execution_count": 422,
   "id": "1522e3d6-4359-42d7-83f4-1daf214395fd",
   "metadata": {},
   "outputs": [],
   "source": [
    "corpus = ' '.join(projetos_pesquisa['orgao_normalizado'].dropna())"
   ]
  },
  {
   "cell_type": "code",
   "execution_count": 423,
   "id": "60213a4b-1649-4911-b462-39d733c58b90",
   "metadata": {},
   "outputs": [],
   "source": [
    "words = [word for word in word_tokenize(corpus) if word not in stopwords.words('portuguese')]"
   ]
  },
  {
   "cell_type": "code",
   "execution_count": 424,
   "id": "be82910a-df43-4afc-924f-ef57b5bfe143",
   "metadata": {},
   "outputs": [],
   "source": [
    "bag_geral = FreqDist(words)"
   ]
  },
  {
   "cell_type": "code",
   "execution_count": 425,
   "id": "75d3663f-b79c-4cee-9d4d-a8eaaffbaf70",
   "metadata": {},
   "outputs": [
    {
     "name": "stdout",
     "output_type": "stream",
     "text": [
      "FreqDist({'campus': 1809, 'instituto': 999, 'goias': 802, 'federal': 736, 'goiania': 596, 'ciencias': 362, 'educacao': 345, 'ifg': 308, 'faculdade': 299, 'tecnologia': 248, 'inhumas': 235, 'jatai': 232, 'departamento': 224, 'pesquisa': 193, 'centro': 178, 'ciencia': 171, 'anapolis': 167, 'escola': 163, 'itumbiara': 158, 'reitoria': 156, 'graduacao': 154, 'pos': 151, 'pro': 127, 'engenharia': 124, 'aparecida': 117, 'fisica': 106, 'humanas': 105, 'luziania': 102, 'uruacu': 95, 'formosa': 92, ...})\n"
     ]
    }
   ],
   "source": [
    "bag_geral.pprint(30)"
   ]
  },
  {
   "cell_type": "markdown",
   "id": "e8ced578-384d-4636-9dd6-bfd0bfaf49da",
   "metadata": {},
   "source": [
    "### Algoritmo para classificar se o órgão se referencia, ou não, a uma unidade do IFG"
   ]
  },
  {
   "cell_type": "code",
   "execution_count": 426,
   "id": "75ed0b58-9169-4554-a660-32a926f63449",
   "metadata": {},
   "outputs": [],
   "source": [
    "def link_orgao_to_campus(row, sigla, additional_tokens=None, blockant_tokens=None, debug=False):\n",
    "    from thefuzz import fuzz\n",
    "    from math import ceil\n",
    "    import re\n",
    "\n",
    "    sigla_to_campus_name = {\n",
    "        'LIN': 'aguas lindas',\n",
    "        'ANA': 'anapolis',\n",
    "        'APA': 'aparecida de goiania',\n",
    "        'GOI': 'cidade de goias',\n",
    "        'FOR': 'formosa',\n",
    "        'GYN': 'goiania',\n",
    "        'OES': 'goiania oeste',\n",
    "        'INH': 'inhumas',\n",
    "        'ITU': 'itumbiara',\n",
    "        'JAT': 'jatai',\n",
    "        'LUZ': 'luziania',\n",
    "        'SEN': 'senador canedo',\n",
    "        'URU': 'uruacu',\n",
    "        'VAL': 'valparaiso',\n",
    "        'REI': 'reitoria'\n",
    "    }\n",
    "\n",
    "    try:\n",
    "        campus_name = sigla_to_campus_name[sigla]\n",
    "    except KeyError:\n",
    "        raise KeyError(f'Sigla inválida, precisa ser alguma das seguintes: {list(sigla_to_campus_name.keys())}')\n",
    "\n",
    "    row['sigla_orgao'] = None\n",
    "    \n",
    "    base_tokens = ['campus', 'instituto', 'federal', 'ifg']\n",
    "\n",
    "    tokens = base_tokens\n",
    "\n",
    "    orgao_normalizado = ' '.join(set([word for word in row['orgao_normalizado'].split(' ') if word not in stopwords.words('portuguese')]))\n",
    "    orgao_normalizado_sem_cidade = ' '.join([word for word in orgao_normalizado.split(' ') if word != campus_name])\n",
    "\n",
    "    if blockant_tokens is not None and isinstance(blockant_tokens, list) and len(blockant_tokens) > 0:\n",
    "        for blockant_token in blockant_tokens:\n",
    "            if re.search(blockant_token, orgao_normalizado) is not None or fuzz.partial_ratio(blockant_token, orgao_normalizado) >= 85:\n",
    "                return row\n",
    "    \n",
    "    if additional_tokens is not None and isinstance(additional_tokens, list) and len(additional_tokens) > 0:\n",
    "        tokens += additional_tokens\n",
    "    \n",
    "    results = []\n",
    "    \n",
    "    for token_to_compare in tokens:\n",
    "        results.append(fuzz.partial_ratio(token_to_compare, orgao_normalizado_sem_cidade))\n",
    "\n",
    "    max_score = max(results)\n",
    "\n",
    "    amount_tokens_matched = len(list(filter(lambda result: result >= 80, results)))\n",
    "    amount_tokens_orgao_normalizado_sem_cidade = len(orgao_normalizado_sem_cidade.split(' '))\n",
    "    orgao_string_coverage = ceil((amount_tokens_matched / amount_tokens_orgao_normalizado_sem_cidade) * 100)\n",
    "\n",
    "    orgao_string_coverage_threshold = None\n",
    "\n",
    "    if amount_tokens_orgao_normalizado_sem_cidade <= 3:\n",
    "        orgao_string_coverage_threshold = 25\n",
    "    elif amount_tokens_orgao_normalizado_sem_cidade <= 5:\n",
    "        orgao_string_coverage_threshold = 20\n",
    "    elif amount_tokens_orgao_normalizado_sem_cidade > 5:\n",
    "        orgao_string_coverage_threshold = 15\n",
    "    \n",
    "    if max_score >= 80 and orgao_string_coverage >= orgao_string_coverage_threshold:\n",
    "        row['sigla_orgao'] = sigla\n",
    "    \n",
    "    if debug:\n",
    "        print('-' * 8)\n",
    "        print(f'Nome órgão normalizado: {orgao_normalizado}')\n",
    "        print(f'Nome órgão normalizado sem cidade: {orgao_normalizado_sem_cidade}')\n",
    "        print(f'Resultados: {results}')\n",
    "        print(f'String coverage: {orgao_string_coverage}')\n",
    "        print(f'Pontuação máxima: {max_score}')\n",
    "        print('-' * 8)\n",
    "\n",
    "    return row"
   ]
  },
  {
   "cell_type": "markdown",
   "id": "0dd18d25-24ae-415a-94fd-2ebf6c25e9fb",
   "metadata": {},
   "source": [
    "### Funções auxiliares"
   ]
  },
  {
   "cell_type": "code",
   "execution_count": 427,
   "id": "0f4a2b42-5aa6-4ce0-9c93-e2b8ad4db18a",
   "metadata": {},
   "outputs": [],
   "source": [
    "def get_orgao_normalizado_by_contains_term(term):\n",
    "    return projetos_pesquisa[(projetos_pesquisa['orgao_normalizado'].notna()) & ((projetos_pesquisa['orgao_normalizado'].str.contains(term)))]"
   ]
  },
  {
   "cell_type": "code",
   "execution_count": 428,
   "id": "4fad2989-a26c-440e-b938-d017f67501f9",
   "metadata": {},
   "outputs": [],
   "source": [
    "def get_orgao_normalizado_corpus(search_term):\n",
    "    return ' '.join(get_orgao_normalizado_by_contains_term(search_term)['orgao_normalizado'])"
   ]
  },
  {
   "cell_type": "code",
   "execution_count": 429,
   "id": "eae4bf0e-57de-4756-a171-bb3d746e2572",
   "metadata": {},
   "outputs": [],
   "source": [
    "def make_bag_from_corpus(corpus, tokens_to_ignore):\n",
    "    if isinstance(tokens_to_ignore, str):\n",
    "        tokens_to_ignore = [tokens_to_ignore]\n",
    "    \n",
    "    return FreqDist([word for word in corpus.split(' ') if word not in tokens_to_ignore and word not in stopwords.words('portuguese')])"
   ]
  },
  {
   "cell_type": "code",
   "execution_count": 430,
   "id": "f4593d73-72a5-4ed2-b467-1d38ff09a09d",
   "metadata": {},
   "outputs": [],
   "source": [
    "def get_notna_orgao_normalizado_indexes(search_term):\n",
    "    return get_orgao_normalizado_by_contains_term(search_term).index"
   ]
  },
  {
   "cell_type": "markdown",
   "id": "9d7025c9-2868-42ec-9a37-f999743c9c59",
   "metadata": {},
   "source": [
    "### Aplicação do algoritmo"
   ]
  },
  {
   "cell_type": "markdown",
   "id": "64228e92-8186-4d89-9fa2-1c81f477ab58",
   "metadata": {},
   "source": [
    "#### Jataí"
   ]
  },
  {
   "cell_type": "code",
   "execution_count": 431,
   "id": "82bbc5fb-aa04-476a-8ef9-4470d248ed8a",
   "metadata": {
    "scrolled": true
   },
   "outputs": [],
   "source": [
    "corpus_jatai = get_orgao_normalizado_corpus('jatai')"
   ]
  },
  {
   "cell_type": "code",
   "execution_count": 432,
   "id": "ecb0c241-4120-4b1a-be22-74771403d66e",
   "metadata": {},
   "outputs": [],
   "source": [
    "bag_jatai = make_bag_from_corpus(corpus_jatai, 'jatai')"
   ]
  },
  {
   "cell_type": "code",
   "execution_count": 433,
   "id": "f66f3119-8956-43c2-bfcb-e23d978bd955",
   "metadata": {},
   "outputs": [
    {
     "data": {
      "text/plain": [
       "\"FreqDist({'uruacu': 95, 'campus': 85, 'instituto': 34, 'federal': 34, 'goias': 34, 'ifg': 8, 'educacao': 4, 'ciencia': 4, 'tecnologia': 4, 'unidade': 2, 'universitaria': 2, 'gerencia': 2, 'pesquisa': 2, 'extensao': 2, 'pos': 2, 'graduacao': 2, 'coordenacao': 1, 'areas': 1, 'academicas': 1, 'gepex': 1})\""
      ]
     },
     "execution_count": 433,
     "metadata": {},
     "output_type": "execute_result"
    }
   ],
   "source": [
    "bag_jatai.pformat(20)"
   ]
  },
  {
   "cell_type": "code",
   "execution_count": 434,
   "id": "3314a1f7-5a8f-4b53-8cac-88a8a84d3dda",
   "metadata": {
    "scrolled": true
   },
   "outputs": [],
   "source": [
    "jatai_indexes = get_notna_orgao_normalizado_indexes('jatai')\n",
    "\n",
    "projetos_pesquisa.loc[jatai_indexes] = projetos_pesquisa.loc[jatai_indexes].apply(\n",
    "    link_orgao_to_campus,\n",
    "    args=('JAT', ['uned', 'cefet', 'centro ensino'], ['avancado']),\n",
    "    axis=1\n",
    ")"
   ]
  },
  {
   "cell_type": "markdown",
   "id": "4cf6b6cc-c3f5-41ea-9868-ffca1ee72724",
   "metadata": {
    "jp-MarkdownHeadingCollapsed": true
   },
   "source": [
    "#### Uruaçu"
   ]
  },
  {
   "cell_type": "code",
   "execution_count": 435,
   "id": "5ec9ef88-3d19-4543-bf45-9dd998334b23",
   "metadata": {},
   "outputs": [],
   "source": [
    "corpus_uruacu = get_orgao_normalizado_corpus('uruacu')"
   ]
  },
  {
   "cell_type": "code",
   "execution_count": 436,
   "id": "cf53957a-c269-45b0-8ffe-f8bc6e541112",
   "metadata": {},
   "outputs": [],
   "source": [
    "bag_uruacu = make_bag_from_corpus(corpus_uruacu, 'uruacu')"
   ]
  },
  {
   "cell_type": "code",
   "execution_count": 437,
   "id": "25006753-7ca4-4b18-8a53-e833a82d895d",
   "metadata": {},
   "outputs": [
    {
     "data": {
      "text/plain": [
       "\"FreqDist({'campus': 85, 'instituto': 34, 'federal': 34, 'goias': 34, 'ifg': 8, 'educacao': 4, 'ciencia': 4, 'tecnologia': 4, 'unidade': 2, 'universitaria': 2, 'gerencia': 2, 'pesquisa': 2, 'extensao': 2, 'pos': 2, 'graduacao': 2, 'coordenacao': 1, 'areas': 1, 'academicas': 1, 'gepex': 1})\""
      ]
     },
     "execution_count": 437,
     "metadata": {},
     "output_type": "execute_result"
    }
   ],
   "source": [
    "bag_uruacu.pformat(20)"
   ]
  },
  {
   "cell_type": "code",
   "execution_count": 438,
   "id": "35aca46e-0560-4708-a975-23a878628780",
   "metadata": {},
   "outputs": [],
   "source": [
    "uruacu_indexes = get_notna_orgao_normalizado_indexes('uruacu')\n",
    "\n",
    "projetos_pesquisa.loc[uruacu_indexes] = projetos_pesquisa.loc[uruacu_indexes].apply(\n",
    "    link_orgao_to_campus,\n",
    "    args=('URU',),\n",
    "    axis=1\n",
    ")"
   ]
  },
  {
   "cell_type": "code",
   "execution_count": 439,
   "id": "9f719fc8-9c5e-4808-bbf1-d6bfab88d78b",
   "metadata": {},
   "outputs": [
    {
     "data": {
      "text/plain": [
       "array(['campus uruacu',\n",
       "       'instituto federal de educacao ciencia e tecnologia de goias campus uruacu',\n",
       "       'ifg campus uruacu',\n",
       "       'instituto federal de educacao ciencia e tecnologia de goias uruacu',\n",
       "       'gerencia de pesquisa extensao e pos graduacao do ifg campus uruacu',\n",
       "       'instituto federal de goias campus uruacu',\n",
       "       'coordenacao das areas academicas campus uruacu', 'ifg uruacu',\n",
       "       'gepex campus uruacu'], dtype=object)"
      ]
     },
     "execution_count": 439,
     "metadata": {},
     "output_type": "execute_result"
    }
   ],
   "source": [
    "temp = projetos_pesquisa.loc[uruacu_indexes]\n",
    "\n",
    "temp[temp['sigla_orgao'].notna()]['orgao_normalizado'].unique()"
   ]
  },
  {
   "cell_type": "markdown",
   "id": "989565f8-ac37-47f6-801a-518c4af6e0e3",
   "metadata": {
    "jp-MarkdownHeadingCollapsed": true
   },
   "source": [
    "#### Anápolis"
   ]
  },
  {
   "cell_type": "code",
   "execution_count": 440,
   "id": "ea7d8271-59a0-47d7-8bad-08c542cdc4ff",
   "metadata": {},
   "outputs": [],
   "source": [
    "corpus_anapolis = get_orgao_normalizado_corpus('anapolis')"
   ]
  },
  {
   "cell_type": "code",
   "execution_count": 441,
   "id": "814eaf0e-5364-490f-beff-7e519026e797",
   "metadata": {},
   "outputs": [],
   "source": [
    "bag_anapolis = make_bag_from_corpus(corpus_anapolis, 'anapolis')"
   ]
  },
  {
   "cell_type": "code",
   "execution_count": 442,
   "id": "349c3cfd-a990-4970-97c0-be229a1c0ee0",
   "metadata": {},
   "outputs": [
    {
     "data": {
      "text/plain": [
       "\"FreqDist({'campus': 141, 'ifg': 33, 'instituto': 31, 'federal': 31, 'goias': 31, 'ciencia': 11, 'tecnologia': 11, 'educacao': 8, 'ciencias': 5, 'departamento': 4, 'areas': 4, 'academicas': 4, 'unidade': 3, 'exatas': 3, 'tecnologicas': 3, 'centro': 3, 'universitario': 3, 'gepex': 2, 'universitaria': 2, 'humanas': 2, ...})\""
      ]
     },
     "execution_count": 442,
     "metadata": {},
     "output_type": "execute_result"
    }
   ],
   "source": [
    "bag_anapolis.pformat(20)"
   ]
  },
  {
   "cell_type": "code",
   "execution_count": 443,
   "id": "5abd29d2-f1db-44d9-91f6-e8c039a8d04a",
   "metadata": {},
   "outputs": [],
   "source": [
    "anapolis_indexes = get_notna_orgao_normalizado_indexes('anapolis')\n",
    "\n",
    "projetos_pesquisa.loc[anapolis_indexes] = projetos_pesquisa.loc[anapolis_indexes].apply(\n",
    "    link_orgao_to_campus,\n",
    "    args=('ANA', None, ['ccseh', 'ciencias']),\n",
    "    axis=1\n",
    ")"
   ]
  },
  {
   "cell_type": "code",
   "execution_count": 444,
   "id": "4db2fd0c-127d-40ee-9025-66398c64b794",
   "metadata": {},
   "outputs": [
    {
     "data": {
      "text/plain": [
       "array(['campus anapolis ifg', 'gepex campus anapolis', 'campus anapolis',\n",
       "       'ifg campus anapolis',\n",
       "       'instituto federal de goias campus anapolis',\n",
       "       'instituto federal de goias campus anapolis go',\n",
       "       'campus de anapolis',\n",
       "       'departamento de areas academicas campus anapolis'], dtype=object)"
      ]
     },
     "execution_count": 444,
     "metadata": {},
     "output_type": "execute_result"
    }
   ],
   "source": [
    "temp = projetos_pesquisa.loc[anapolis_indexes]\n",
    "\n",
    "temp[temp['sigla_orgao'].notna()]['orgao_normalizado'].unique()"
   ]
  },
  {
   "cell_type": "markdown",
   "id": "fbe7174f-dded-415b-87a3-b65074699bb0",
   "metadata": {
    "jp-MarkdownHeadingCollapsed": true
   },
   "source": [
    "#### Inhumas"
   ]
  },
  {
   "cell_type": "code",
   "execution_count": 445,
   "id": "833a492c-f445-4e50-a372-15a07547824e",
   "metadata": {},
   "outputs": [],
   "source": [
    "corpus_inhumas = get_orgao_normalizado_corpus('inhumas')"
   ]
  },
  {
   "cell_type": "code",
   "execution_count": 446,
   "id": "90ca9abd-1aab-4050-82dc-6838f8a8ee2d",
   "metadata": {},
   "outputs": [],
   "source": [
    "bag_inhumas = make_bag_from_corpus(corpus_inhumas, 'inhumas')"
   ]
  },
  {
   "cell_type": "code",
   "execution_count": 447,
   "id": "9c3be80e-f77a-40c6-bdf6-5c9ce02209c9",
   "metadata": {},
   "outputs": [
    {
     "data": {
      "text/plain": [
       "\"FreqDist({'campus': 220, 'federal': 32, 'goias': 31, 'instituto': 30, 'ifg': 11, 'unidade': 7, 'ensino': 7, 'campi': 3, 'descentralizada': 3, 'faculdade': 2, 'fac': 2, 'goiania': 2, 'jatai': 2, 'educacao': 2, 'ciencia': 2, 'tecnologia': 2, 'nstituto': 2, 'depto': 1, 'areas': 1, 'academicas': 1, 'go': 1})\""
      ]
     },
     "execution_count": 447,
     "metadata": {},
     "output_type": "execute_result"
    }
   ],
   "source": [
    "bag_inhumas.pformat(30)"
   ]
  },
  {
   "cell_type": "code",
   "execution_count": 448,
   "id": "a56eac3a-27a1-4890-93db-215a5cfbf8dc",
   "metadata": {},
   "outputs": [],
   "source": [
    "inhumas_indexes = get_notna_orgao_normalizado_indexes('inhumas')\n",
    "\n",
    "projetos_pesquisa.loc[inhumas_indexes] = projetos_pesquisa.loc[inhumas_indexes].apply(\n",
    "    link_orgao_to_campus,\n",
    "    args=('INH',),\n",
    "    axis=1\n",
    ")"
   ]
  },
  {
   "cell_type": "code",
   "execution_count": 449,
   "id": "c51b0dbc-24d3-4c89-a9af-c225ecc8829d",
   "metadata": {},
   "outputs": [
    {
     "data": {
      "text/plain": [
       "array(['campus inhumas', 'campus de inhumas',\n",
       "       'instituto federal de goias campus inhumas', 'ifg campus inhumas',\n",
       "       'campus goiania campus inhumas campus jatai',\n",
       "       'campus inhumas depto de areas academicas', 'ifg campi inhumas',\n",
       "       'instituto federal de goias campus inhumas go',\n",
       "       'campus inhumas ifg', 'campus inhumas goiania e jatai',\n",
       "       'instituto federal de educacao ciencia e tecnologia de goias campus inhumas',\n",
       "       'nstituto federal de goias campus inhumas',\n",
       "       'nstituto federal de educacao ciencia e tecnologia campus inhumas'],\n",
       "      dtype=object)"
      ]
     },
     "execution_count": 449,
     "metadata": {},
     "output_type": "execute_result"
    }
   ],
   "source": [
    "temp = projetos_pesquisa.loc[inhumas_indexes]\n",
    "\n",
    "temp[temp['sigla_orgao'].notna()]['orgao_normalizado'].unique()"
   ]
  },
  {
   "cell_type": "markdown",
   "id": "162ef101-904f-4ead-a0f4-778b00efc056",
   "metadata": {
    "jp-MarkdownHeadingCollapsed": true
   },
   "source": [
    "#### Itumbiara"
   ]
  },
  {
   "cell_type": "code",
   "execution_count": 450,
   "id": "a61a3d53-c3ef-4e4b-9998-af2f8100f345",
   "metadata": {},
   "outputs": [],
   "source": [
    "corpus_itumbiara = get_orgao_normalizado_corpus('itumbiara')"
   ]
  },
  {
   "cell_type": "code",
   "execution_count": 451,
   "id": "861cc323-113e-415f-92cc-ad6e439615ac",
   "metadata": {},
   "outputs": [],
   "source": [
    "bag_itumbiara = make_bag_from_corpus(corpus_itumbiara, 'itumbiara')"
   ]
  },
  {
   "cell_type": "code",
   "execution_count": 452,
   "id": "f5eebbfa-0fb8-4e04-80fb-af04b8de2ea0",
   "metadata": {},
   "outputs": [
    {
     "data": {
      "text/plain": [
       "\"FreqDist({'campus': 113, 'instituto': 21, 'ifg': 21, 'federal': 16, 'goias': 16, 'educacao': 12, 'ifgoias': 11, 'ciencia': 9, 'tecnologia': 9, 'luterano': 7, 'ensino': 7, 'superior': 7, 'subsecretaria': 3, 'regional': 3, 'unidade': 3, 'universitaria': 3, 'institutol': 2})\""
      ]
     },
     "execution_count": 452,
     "metadata": {},
     "output_type": "execute_result"
    }
   ],
   "source": [
    "bag_itumbiara.pformat(30)"
   ]
  },
  {
   "cell_type": "code",
   "execution_count": 453,
   "id": "5da6e91c-145f-4aab-92c1-71228d829392",
   "metadata": {},
   "outputs": [],
   "source": [
    "itumbiara_indexes = get_notna_orgao_normalizado_indexes('itumbiara')\n",
    "\n",
    "projetos_pesquisa.loc[itumbiara_indexes] = projetos_pesquisa.loc[itumbiara_indexes].apply(\n",
    "    link_orgao_to_campus,\n",
    "    args=('ITU', None, ['luterano']),\n",
    "    axis=1\n",
    ")"
   ]
  },
  {
   "cell_type": "code",
   "execution_count": 454,
   "id": "d0e54021-842e-4e7a-a8b2-a706e1d6cad2",
   "metadata": {},
   "outputs": [
    {
     "data": {
      "text/plain": [
       "array(['itumbiara', 'subsecretaria regional de educacao de itumbiara',\n",
       "       'instituto luterano de ensino superior de itumbiara',\n",
       "       'unidade universitaria de itumbiara'], dtype=object)"
      ]
     },
     "execution_count": 454,
     "metadata": {},
     "output_type": "execute_result"
    }
   ],
   "source": [
    "temp = projetos_pesquisa.loc[itumbiara_indexes]\n",
    "\n",
    "temp[temp['sigla_orgao'].isna()]['orgao_normalizado'].unique()"
   ]
  },
  {
   "cell_type": "markdown",
   "id": "ad908334-5e88-4583-a5b7-b0f8f94de8ee",
   "metadata": {
    "jp-MarkdownHeadingCollapsed": true
   },
   "source": [
    "#### Luziânia"
   ]
  },
  {
   "cell_type": "code",
   "execution_count": 455,
   "id": "33a27985-27a7-41e1-8189-6e1a2ff0aba2",
   "metadata": {},
   "outputs": [],
   "source": [
    "corpus_luziania = get_orgao_normalizado_corpus('luziania')"
   ]
  },
  {
   "cell_type": "code",
   "execution_count": 456,
   "id": "e97db653-6ebc-474e-ad8c-53ef5498a39b",
   "metadata": {},
   "outputs": [],
   "source": [
    "bag_luziania = make_bag_from_corpus(corpus_luziania, 'luziania')"
   ]
  },
  {
   "cell_type": "code",
   "execution_count": 457,
   "id": "6e707110-97ed-4234-834d-88c67d416a38",
   "metadata": {},
   "outputs": [
    {
     "data": {
      "text/plain": [
       "\"FreqDist({'campus': 97, 'departamento': 14, 'assuntos': 14, 'academicos': 14, 'ifg': 9, 'instituto': 9, 'federal': 9, 'goias': 9, 'go': 4, 'campi': 2, 'gerencia': 1, 'ensino': 1, 'pesquisa': 1, 'extensao': 1})\""
      ]
     },
     "execution_count": 457,
     "metadata": {},
     "output_type": "execute_result"
    }
   ],
   "source": [
    "bag_luziania.pformat(30)"
   ]
  },
  {
   "cell_type": "code",
   "execution_count": 458,
   "id": "ce657611-b6b4-485c-b4b5-50690a95a686",
   "metadata": {},
   "outputs": [],
   "source": [
    "luziania_indexes = get_notna_orgao_normalizado_indexes('luziania')\n",
    "\n",
    "projetos_pesquisa.loc[luziania_indexes] = projetos_pesquisa.loc[luziania_indexes].apply(\n",
    "    link_orgao_to_campus,\n",
    "    args=('LUZ',),\n",
    "    axis=1\n",
    ")"
   ]
  },
  {
   "cell_type": "code",
   "execution_count": 459,
   "id": "ccfbb727-37e3-47a9-81b3-482adc71ace9",
   "metadata": {},
   "outputs": [
    {
     "data": {
      "text/plain": [
       "array(['campus luziania', 'ifg luziania',\n",
       "       'instituto federal de goias campus luziania',\n",
       "       'gerencia ensino pesquisa e extensao do ifg luziania',\n",
       "       'ifg campus luziania',\n",
       "       'departamento de assuntos academicos campus luziania',\n",
       "       'instituto federal de goias campus luziania go', 'campi luziania'],\n",
       "      dtype=object)"
      ]
     },
     "execution_count": 459,
     "metadata": {},
     "output_type": "execute_result"
    }
   ],
   "source": [
    "temp = projetos_pesquisa.loc[luziania_indexes]\n",
    "\n",
    "temp[temp['sigla_orgao'].notna()]['orgao_normalizado'].unique()"
   ]
  },
  {
   "cell_type": "markdown",
   "id": "2b3fcc50-7493-49f3-a93c-849c3a6dea83",
   "metadata": {
    "jp-MarkdownHeadingCollapsed": true
   },
   "source": [
    "#### Valparaíso"
   ]
  },
  {
   "cell_type": "code",
   "execution_count": 460,
   "id": "fdc7249f-30ed-4ce0-83bf-a895f1e2206c",
   "metadata": {},
   "outputs": [],
   "source": [
    "corpus_valparaiso = get_orgao_normalizado_corpus('valparaiso')"
   ]
  },
  {
   "cell_type": "code",
   "execution_count": 461,
   "id": "d771f247-6465-4a49-ab38-668322b71cec",
   "metadata": {},
   "outputs": [],
   "source": [
    "bag_valparaiso = make_bag_from_corpus(corpus_valparaiso, 'valparaiso')"
   ]
  },
  {
   "cell_type": "code",
   "execution_count": 462,
   "id": "07e243bf-251b-4485-8002-4bc8e7a95259",
   "metadata": {},
   "outputs": [
    {
     "data": {
      "text/plain": [
       "\"FreqDist({'campus': 32, 'goias': 25, 'ifg': 11, 'instituto': 6, 'federal': 6, 'departamento': 4, 'areas': 4, 'academicas': 4, 'gepex': 3, 'go': 1, 'colegio': 1, 'educacao': 1, 'ciencia': 1, 'tecnologia': 1})\""
      ]
     },
     "execution_count": 462,
     "metadata": {},
     "output_type": "execute_result"
    }
   ],
   "source": [
    "bag_valparaiso.pformat(30)"
   ]
  },
  {
   "cell_type": "code",
   "execution_count": 463,
   "id": "e661f60d-d28a-43da-a5cd-263fb053dc6f",
   "metadata": {},
   "outputs": [],
   "source": [
    "valparaiso_indexes = get_notna_orgao_normalizado_indexes('valparaiso')\n",
    "\n",
    "projetos_pesquisa.loc[valparaiso_indexes] = projetos_pesquisa.loc[valparaiso_indexes].apply(\n",
    "    link_orgao_to_campus,\n",
    "    args=('VAL',),\n",
    "    axis=1\n",
    ")"
   ]
  },
  {
   "cell_type": "code",
   "execution_count": 464,
   "id": "8fe6d330-67a3-449d-9f70-0e04a56dd8c6",
   "metadata": {},
   "outputs": [
    {
     "data": {
      "text/plain": [
       "array(['campus valparaiso',\n",
       "       'instituto federal de goias campus valparaiso go',\n",
       "       'ifg campus valparaiso',\n",
       "       'instituto federal de goias campus valparaiso de goias',\n",
       "       'instituto federal de goias campus valparaiso',\n",
       "       'departamento de areas academicas do campus de valparaiso de goias',\n",
       "       'gepex ifg valparaiso de goias',\n",
       "       'instituto federal de goias ifg campus valparaiso',\n",
       "       'campus valparaiso de goias', 'ifg campus valparaiso de goias',\n",
       "       'instituto federal de educacao ciencia e tecnologia de goias valparaiso'],\n",
       "      dtype=object)"
      ]
     },
     "execution_count": 464,
     "metadata": {},
     "output_type": "execute_result"
    }
   ],
   "source": [
    "temp = projetos_pesquisa.loc[valparaiso_indexes]\n",
    "\n",
    "temp[temp['sigla_orgao'].notna()]['orgao_normalizado'].unique()"
   ]
  },
  {
   "cell_type": "markdown",
   "id": "1c4d4d5c-ce25-49b7-800e-9e3d90700dc8",
   "metadata": {
    "jp-MarkdownHeadingCollapsed": true
   },
   "source": [
    "#### Senador Canedo"
   ]
  },
  {
   "cell_type": "code",
   "execution_count": 465,
   "id": "cbbbc6dd-5433-463b-837c-56d1669b3745",
   "metadata": {},
   "outputs": [],
   "source": [
    "corpus_senador_canedo = get_orgao_normalizado_corpus('senador canedo')"
   ]
  },
  {
   "cell_type": "code",
   "execution_count": 466,
   "id": "e2794bac-260a-47ea-afdd-cc9c5a4a394a",
   "metadata": {},
   "outputs": [],
   "source": [
    "bag_senador_canedo = make_bag_from_corpus(corpus_senador_canedo, ['senador', 'canedo'])"
   ]
  },
  {
   "cell_type": "code",
   "execution_count": 467,
   "id": "a16243ef-568d-4da8-a822-40791c51bff8",
   "metadata": {},
   "outputs": [
    {
     "data": {
      "text/plain": [
       "\"FreqDist({'campus': 49, 'instituto': 29, 'federal': 29, 'goias': 28, 'go': 7, 'ifg': 4, 'educacao': 3, 'campi': 1})\""
      ]
     },
     "execution_count": 467,
     "metadata": {},
     "output_type": "execute_result"
    }
   ],
   "source": [
    "bag_senador_canedo.pformat(30)"
   ]
  },
  {
   "cell_type": "code",
   "execution_count": 468,
   "id": "def10c22-7453-4fab-93ea-5c9e0b52985d",
   "metadata": {},
   "outputs": [],
   "source": [
    "senador_canedo_indexes = get_notna_orgao_normalizado_indexes('senador canedo')\n",
    "\n",
    "projetos_pesquisa.loc[senador_canedo_indexes] = projetos_pesquisa.loc[senador_canedo_indexes].apply(\n",
    "    link_orgao_to_campus,\n",
    "    args=('SEN',),\n",
    "    axis=1\n",
    ")"
   ]
  },
  {
   "cell_type": "code",
   "execution_count": 469,
   "id": "7aceae88-3ef8-4f37-a188-67dcdea9827e",
   "metadata": {},
   "outputs": [
    {
     "data": {
      "text/plain": [
       "array(['ifg campus senador canedo',\n",
       "       'instituto federal de goias campus senador canedo',\n",
       "       'instituto federal de goias senador canedo',\n",
       "       'campus senador canedo',\n",
       "       'instituto federal de goias campus senador canedo go',\n",
       "       'instituto federal de educacao campi senador canedo',\n",
       "       'instituto federal de educacao de goias campus senador canedo go'],\n",
       "      dtype=object)"
      ]
     },
     "execution_count": 469,
     "metadata": {},
     "output_type": "execute_result"
    }
   ],
   "source": [
    "temp = projetos_pesquisa.loc[senador_canedo_indexes]\n",
    "\n",
    "temp[temp['sigla_orgao'].notna()]['orgao_normalizado'].unique()"
   ]
  },
  {
   "cell_type": "markdown",
   "id": "28166684-2c47-4521-81b2-4b702f681bfd",
   "metadata": {
    "jp-MarkdownHeadingCollapsed": true
   },
   "source": [
    "#### Águas Lindas"
   ]
  },
  {
   "cell_type": "code",
   "execution_count": 470,
   "id": "912de595-aabc-46eb-81ca-f14ee616c9e5",
   "metadata": {},
   "outputs": [],
   "source": [
    "corpus_aguas_lindas = get_orgao_normalizado_corpus('aguas lindas')"
   ]
  },
  {
   "cell_type": "code",
   "execution_count": 471,
   "id": "10350cd0-103c-48a5-8e80-a51ed6b7cb7d",
   "metadata": {},
   "outputs": [],
   "source": [
    "bag_aguas_lindas = make_bag_from_corpus(corpus_aguas_lindas, ['aguas', 'lindas'])"
   ]
  },
  {
   "cell_type": "code",
   "execution_count": 472,
   "id": "00058382-13fb-4cc2-9650-e39779f71499",
   "metadata": {},
   "outputs": [
    {
     "data": {
      "text/plain": [
       "\"FreqDist({'campus': 39, 'goias': 30, 'instituto': 20, 'federal': 20, 'ifg': 2, 'goiania': 1, 'oeste': 1})\""
      ]
     },
     "execution_count": 472,
     "metadata": {},
     "output_type": "execute_result"
    }
   ],
   "source": [
    "bag_aguas_lindas.pformat(30)"
   ]
  },
  {
   "cell_type": "code",
   "execution_count": 473,
   "id": "ead48492-21e3-423a-87c1-1c3b2f6cd733",
   "metadata": {},
   "outputs": [],
   "source": [
    "aguas_lindas_indexes = get_notna_orgao_normalizado_indexes('aguas lindas')\n",
    "\n",
    "projetos_pesquisa.loc[aguas_lindas_indexes] = projetos_pesquisa.loc[aguas_lindas_indexes].apply(\n",
    "    link_orgao_to_campus,\n",
    "    args=('LIN',),\n",
    "    axis=1\n",
    ")"
   ]
  },
  {
   "cell_type": "code",
   "execution_count": 474,
   "id": "bab3654d-982a-4208-ab18-acb6487ece8b",
   "metadata": {},
   "outputs": [
    {
     "data": {
      "text/plain": [
       "array(['instituto federal de goias campus aguas lindas de goias',\n",
       "       'instituto federal de goias campus aguas lindas',\n",
       "       'ifg campus aguas lindas', 'campus aguas lindas',\n",
       "       'instituto federal de goias ifg campus aguas lindas',\n",
       "       'campus aguas lindas e goiania oeste'], dtype=object)"
      ]
     },
     "execution_count": 474,
     "metadata": {},
     "output_type": "execute_result"
    }
   ],
   "source": [
    "temp = projetos_pesquisa.loc[aguas_lindas_indexes]\n",
    "\n",
    "temp[temp['sigla_orgao'].notna()]['orgao_normalizado'].unique()"
   ]
  },
  {
   "cell_type": "markdown",
   "id": "f219e2b6-ad9f-4694-ba4f-0f369c258799",
   "metadata": {
    "jp-MarkdownHeadingCollapsed": true
   },
   "source": [
    "#### Cidade de Goiás"
   ]
  },
  {
   "cell_type": "code",
   "execution_count": 475,
   "id": "c99e1c5e-61ab-4295-becf-d043b287b9d0",
   "metadata": {},
   "outputs": [],
   "source": [
    "corpus_cidade_goias = get_orgao_normalizado_corpus('cidade de goias')"
   ]
  },
  {
   "cell_type": "code",
   "execution_count": 476,
   "id": "3d4d5838-9e39-4e43-afa6-7cf276c1795c",
   "metadata": {},
   "outputs": [],
   "source": [
    "bag_cidade_goias = make_bag_from_corpus(corpus_cidade_goias, ['cidade', 'goias'])"
   ]
  },
  {
   "cell_type": "code",
   "execution_count": 477,
   "id": "ffd7c072-c38b-4bda-96a1-9b58ff754597",
   "metadata": {},
   "outputs": [
    {
     "data": {
      "text/plain": [
       "\"FreqDist({'campus': 57, 'federal': 13, 'instituto': 9, 'ifg': 7, 'institudo': 4, 'departamento': 1, 'academico': 1, 'cora': 1, 'coralina': 1, 'sede': 1})\""
      ]
     },
     "execution_count": 477,
     "metadata": {},
     "output_type": "execute_result"
    }
   ],
   "source": [
    "bag_cidade_goias.pformat(30)"
   ]
  },
  {
   "cell_type": "code",
   "execution_count": 478,
   "id": "92791dd5-d940-4f88-9ab2-5596759edf79",
   "metadata": {},
   "outputs": [],
   "source": [
    "cidade_goias_indexes = get_notna_orgao_normalizado_indexes('cidade de goias')\n",
    "\n",
    "projetos_pesquisa.loc[cidade_goias_indexes] = projetos_pesquisa.loc[cidade_goias_indexes].apply(\n",
    "    link_orgao_to_campus,\n",
    "    args=('GOI', None, ['coralina']),\n",
    "    axis=1\n",
    ")"
   ]
  },
  {
   "cell_type": "code",
   "execution_count": 479,
   "id": "c71387d5-ec33-49d2-9a7d-d3bd54a03906",
   "metadata": {},
   "outputs": [
    {
     "data": {
      "text/plain": [
       "array(['campus cidade de goias',\n",
       "       'institudo federal de goias campus cidade de goias',\n",
       "       'ifg campus cidade de goias',\n",
       "       'instituto federal de goias campus cidade de goias',\n",
       "       'departamento academico campus cidade de goias'], dtype=object)"
      ]
     },
     "execution_count": 479,
     "metadata": {},
     "output_type": "execute_result"
    }
   ],
   "source": [
    "temp = projetos_pesquisa.loc[cidade_goias_indexes]\n",
    "\n",
    "temp[temp['sigla_orgao'].notna()]['orgao_normalizado'].unique()"
   ]
  },
  {
   "cell_type": "markdown",
   "id": "fc82cff9-6b88-4ba7-b908-4a5af8edd36a",
   "metadata": {
    "jp-MarkdownHeadingCollapsed": true
   },
   "source": [
    "#### Formosa"
   ]
  },
  {
   "cell_type": "code",
   "execution_count": 480,
   "id": "be79c735-8f79-419f-a63a-bc069de2a39a",
   "metadata": {},
   "outputs": [],
   "source": [
    "corpus_formosa = get_orgao_normalizado_corpus('formosa')"
   ]
  },
  {
   "cell_type": "code",
   "execution_count": 481,
   "id": "0c297139-e92a-4486-ab17-7584337ee236",
   "metadata": {},
   "outputs": [],
   "source": [
    "bag_formosa = make_bag_from_corpus(corpus_formosa, 'formosa')"
   ]
  },
  {
   "cell_type": "code",
   "execution_count": 482,
   "id": "011d83db-fa34-428e-805f-9dae21e3377a",
   "metadata": {},
   "outputs": [
    {
     "data": {
      "text/plain": [
       "\"FreqDist({'campus': 79, 'instituto': 26, 'federal': 26, 'goias': 24, 'unidade': 5, 'educacao': 4, 'ifg': 4, 'ciencia': 3, 'tecnologia': 3, 'departamento': 3, 'areas': 3, 'academicas': 3, 'camous': 2, 'go': 2, 'brasil': 1})\""
      ]
     },
     "execution_count": 482,
     "metadata": {},
     "output_type": "execute_result"
    }
   ],
   "source": [
    "bag_formosa.pformat(30)"
   ]
  },
  {
   "cell_type": "code",
   "execution_count": 483,
   "id": "41d8e493-7cc6-4d7b-972c-dea01631fb66",
   "metadata": {},
   "outputs": [],
   "source": [
    "formosa_indexes = get_notna_orgao_normalizado_indexes('formosa')\n",
    "\n",
    "projetos_pesquisa.loc[formosa_indexes] = projetos_pesquisa.loc[formosa_indexes].apply(\n",
    "    link_orgao_to_campus,\n",
    "    args=('FOR', ['unidade']),\n",
    "    axis=1\n",
    ")"
   ]
  },
  {
   "cell_type": "code",
   "execution_count": 484,
   "id": "3fe6b9e0-ee56-4db8-a0e3-8dd3a5c7e6af",
   "metadata": {},
   "outputs": [
    {
     "data": {
      "text/plain": [
       "array(['instituto federal de educacao ciencia e tecnologia de goias campus formosa',\n",
       "       'campus formosa', 'instituto federal de goias campus formosa',\n",
       "       'camous formosa',\n",
       "       'instituto federal de educacao do goias campus formosa go brasil',\n",
       "       'ifg campus formosa',\n",
       "       'instituto federal de educacao ciencia e tecnologia campus formosa',\n",
       "       'unidade formosa',\n",
       "       'departamento de areas academicas campus formosa',\n",
       "       'campus formosa go'], dtype=object)"
      ]
     },
     "execution_count": 484,
     "metadata": {},
     "output_type": "execute_result"
    }
   ],
   "source": [
    "temp = projetos_pesquisa.loc[formosa_indexes]\n",
    "\n",
    "temp[temp['sigla_orgao'].notna()]['orgao_normalizado'].unique()"
   ]
  },
  {
   "cell_type": "markdown",
   "id": "8946e36c-f0e7-4c40-b462-bc71f7faf4b8",
   "metadata": {
    "jp-MarkdownHeadingCollapsed": true
   },
   "source": [
    "#### Aparecida de Goiânia"
   ]
  },
  {
   "cell_type": "code",
   "execution_count": 485,
   "id": "26db0b5e-37d5-4fdb-bca5-3639f04f6de9",
   "metadata": {},
   "outputs": [],
   "source": [
    "corpus_aparecida = get_orgao_normalizado_corpus('aparecida de goiania')"
   ]
  },
  {
   "cell_type": "code",
   "execution_count": 486,
   "id": "15c22a97-ed53-4f58-8f45-345e4b05c765",
   "metadata": {},
   "outputs": [],
   "source": [
    "bag_aparecida = make_bag_from_corpus(corpus_aparecida, ['aparecida', 'goiania'])"
   ]
  },
  {
   "cell_type": "code",
   "execution_count": 487,
   "id": "af6780b7-0c40-4497-9666-67ecb80569de",
   "metadata": {},
   "outputs": [
    {
     "data": {
      "text/plain": [
       "\"FreqDist({'campus': 92, 'ifg': 17, 'instituto': 16, 'federal': 15, 'goias': 15, 'educacao': 6, 'secretaria': 5, 'municipal': 5, 'go': 2, 'institutofederal': 1, 'pesquisa': 1, 'planejamento': 1, 'urbano': 1, 'unidade': 1, 'campi': 1})\""
      ]
     },
     "execution_count": 487,
     "metadata": {},
     "output_type": "execute_result"
    }
   ],
   "source": [
    "bag_aparecida.pformat(30)"
   ]
  },
  {
   "cell_type": "code",
   "execution_count": 488,
   "id": "e0ad94f3-5058-4c6d-8b2e-1df186ad44c7",
   "metadata": {},
   "outputs": [],
   "source": [
    "aparecida_indexes = get_notna_orgao_normalizado_indexes('aparecida de goiania')\n",
    "\n",
    "projetos_pesquisa.loc[aparecida_indexes] = projetos_pesquisa.loc[aparecida_indexes].apply(\n",
    "    link_orgao_to_campus,\n",
    "    args=('APA', ['unidade'], ['urbano']),\n",
    "    axis=1\n",
    ")"
   ]
  },
  {
   "cell_type": "code",
   "execution_count": 489,
   "id": "1811f0a8-0ad1-4234-8ad9-aed00df4cb42",
   "metadata": {},
   "outputs": [
    {
     "data": {
      "text/plain": [
       "array(['instituto federal de goias campus de aparecida de goiania',\n",
       "       'campus aparecida de goiania', 'ifg campus aparecida de goiania',\n",
       "       'institutofederal de goias campus aparecida de goiania',\n",
       "       'instituto federal de goias campus aparecida de goiania go',\n",
       "       'instituto federal de goias ifg campus aparecida de goiania',\n",
       "       'unidade aparecida de goiania',\n",
       "       'instituto federal de goias aparecida de goiania',\n",
       "       'instituto federal de goias campus aparecida de goiania',\n",
       "       'campus de aparecida de goiania',\n",
       "       'instituto federal de educacao campi aparecida de goiania'],\n",
       "      dtype=object)"
      ]
     },
     "execution_count": 489,
     "metadata": {},
     "output_type": "execute_result"
    }
   ],
   "source": [
    "temp = projetos_pesquisa.loc[aparecida_indexes]\n",
    "\n",
    "temp[temp['sigla_orgao'].notna()]['orgao_normalizado'].unique()"
   ]
  },
  {
   "cell_type": "markdown",
   "id": "dd711522-6f07-4354-bbf6-94e5d10fcd1b",
   "metadata": {
    "jp-MarkdownHeadingCollapsed": true
   },
   "source": [
    "#### Goiânia Oeste"
   ]
  },
  {
   "cell_type": "code",
   "execution_count": 490,
   "id": "5ac82712-738a-49bc-b462-1cb213400182",
   "metadata": {},
   "outputs": [],
   "source": [
    "corpus_goiania_oeste = get_orgao_normalizado_corpus('goiania oeste')"
   ]
  },
  {
   "cell_type": "code",
   "execution_count": 491,
   "id": "fc511f94-c540-4924-b6a5-c3e2bceec749",
   "metadata": {},
   "outputs": [],
   "source": [
    "bag_goiania_oeste = make_bag_from_corpus(corpus_goiania_oeste, ['goiania', 'oeste'])"
   ]
  },
  {
   "cell_type": "code",
   "execution_count": 492,
   "id": "724e2028-9e31-4ee1-ad7c-8a94c9b9dcb5",
   "metadata": {},
   "outputs": [
    {
     "data": {
      "text/plain": [
       "\"FreqDist({'campus': 68, 'instituto': 19, 'federal': 19, 'goias': 17, 'ifg': 11, 'aguas': 1, 'lindas': 1})\""
      ]
     },
     "execution_count": 492,
     "metadata": {},
     "output_type": "execute_result"
    }
   ],
   "source": [
    "bag_goiania_oeste.pformat(30)"
   ]
  },
  {
   "cell_type": "code",
   "execution_count": 493,
   "id": "5d81f20b-603b-42c4-a4e7-c5092388379d",
   "metadata": {},
   "outputs": [],
   "source": [
    "goiania_oeste_indexes = get_notna_orgao_normalizado_indexes('goiania oeste')\n",
    "\n",
    "projetos_pesquisa.loc[goiania_oeste_indexes] = projetos_pesquisa.loc[goiania_oeste_indexes].apply(\n",
    "    link_orgao_to_campus,\n",
    "    args=('OES',),\n",
    "    axis=1\n",
    ")"
   ]
  },
  {
   "cell_type": "code",
   "execution_count": 494,
   "id": "ca55c2c6-ea1e-4396-8c9d-70bfc79425ef",
   "metadata": {},
   "outputs": [
    {
     "data": {
      "text/plain": [
       "array(['campus goiania oeste', 'ifg campus goiania oeste',\n",
       "       'instituto federal de goias campus goiania oeste',\n",
       "       'ifg goiania oeste', 'instituto federal campus goiania oeste',\n",
       "       'campus aguas lindas e goiania oeste', 'campus goiania oeste ifg'],\n",
       "      dtype=object)"
      ]
     },
     "execution_count": 494,
     "metadata": {},
     "output_type": "execute_result"
    }
   ],
   "source": [
    "temp = projetos_pesquisa.loc[goiania_oeste_indexes]\n",
    "\n",
    "temp[temp['sigla_orgao'].notna()]['orgao_normalizado'].unique()"
   ]
  },
  {
   "cell_type": "markdown",
   "id": "bcf5b67d-f45a-406d-8a6e-0f0e572001d0",
   "metadata": {},
   "source": [
    "#### Goiânia"
   ]
  },
  {
   "cell_type": "code",
   "execution_count": 495,
   "id": "df20cfe8-9e8c-4353-9f9b-4b74dc6eb9df",
   "metadata": {},
   "outputs": [],
   "source": [
    "corpus_goiania = get_orgao_normalizado_corpus('goiania')"
   ]
  },
  {
   "cell_type": "code",
   "execution_count": 496,
   "id": "34b1dfc4-7775-486c-9c58-b96a16526779",
   "metadata": {},
   "outputs": [],
   "source": [
    "bag_goiania = make_bag_from_corpus(corpus_goiania, 'goiania')"
   ]
  },
  {
   "cell_type": "code",
   "execution_count": 497,
   "id": "111c0772-80fe-4ecd-95a7-aa685eef0ccb",
   "metadata": {},
   "outputs": [
    {
     "data": {
      "text/plain": [
       "\"FreqDist({'campus': 558, 'instituto': 274, 'federal': 273, 'goias': 271, 'aparecida': 108, 'oeste': 74, 'ifg': 39, 'departamento': 7, 'municipal': 6, 'coordenacao': 6, 'educacao': 6, 'secretaria': 5, 'areas': 4, 'academicas': 4, 'turismo': 4, 'hospitalidade': 4, 'matematica': 3, 'daa': 3, 'ii': 3, 'oste': 2, 'laranjeiras': 2, 'pesquisa': 2, 'inhumas': 2, 'jatai': 2, 'go': 2, 'unidade': 2, 'ap': 2, 'colegio': 1, 'marista': 1, 'camara': 1, ...})\""
      ]
     },
     "execution_count": 497,
     "metadata": {},
     "output_type": "execute_result"
    }
   ],
   "source": [
    "bag_goiania.pformat(30)"
   ]
  },
  {
   "cell_type": "code",
   "execution_count": 498,
   "id": "813a2cde-b6fb-4f3f-80f0-18048524a63d",
   "metadata": {},
   "outputs": [],
   "source": [
    "goiania_indexes = get_notna_orgao_normalizado_indexes('goiania')\n",
    "\n",
    "projetos_pesquisa.loc[goiania_indexes] = projetos_pesquisa.loc[goiania_indexes].apply(\n",
    "    link_orgao_to_campus,\n",
    "    args=('GYN', None, ['oeste', 'aparecida', 'ap']),\n",
    "    axis=1\n",
    ")"
   ]
  },
  {
   "cell_type": "code",
   "execution_count": 499,
   "id": "a2072ee8-3fcc-4125-93f8-29603aea00da",
   "metadata": {},
   "outputs": [
    {
     "data": {
      "text/plain": [
       "array(['instituto federal de goias campus goiania', 'campus goiania',\n",
       "       'ifg goiania', 'campus goiania dept areas academicas i',\n",
       "       'campus de goiania', 'ifg campus goiania',\n",
       "       'coordenacao de turismo e hospitalidade do campus goiania',\n",
       "       'pro reitoria de pesquisa e pos graduacao campus goiania',\n",
       "       'campus goiania campus inhumas campus jatai',\n",
       "       'departamento de turismo e hospitalidade campus goiania',\n",
       "       'campus goiania ifg', 'campus goiania departamento',\n",
       "       'campus inhumas goiania e jatai',\n",
       "       'departamento de areas academicas ifg campus goiania',\n",
       "       'coordenacao de matematica daa ii campus goiania',\n",
       "       'instituto federal de goias campus de goiania'], dtype=object)"
      ]
     },
     "execution_count": 499,
     "metadata": {},
     "output_type": "execute_result"
    }
   ],
   "source": [
    "temp = projetos_pesquisa.loc[goiania_indexes]\n",
    "\n",
    "temp[temp['sigla_orgao'].notna()]['orgao_normalizado'].unique()"
   ]
  },
  {
   "cell_type": "markdown",
   "id": "29a8f29f-086d-435a-8672-08366f10a1ad",
   "metadata": {},
   "source": [
    "#### Reitoria"
   ]
  },
  {
   "cell_type": "code",
   "execution_count": 500,
   "id": "ed1c8b9f-b3cb-4234-8e0d-837d65eee7de",
   "metadata": {},
   "outputs": [],
   "source": [
    "corpus_reitoria = get_orgao_normalizado_corpus('reitoria')"
   ]
  },
  {
   "cell_type": "code",
   "execution_count": 501,
   "id": "11858a59-fde7-4e26-a052-3871530f8ba3",
   "metadata": {},
   "outputs": [],
   "source": [
    "bag_reitoria = make_bag_from_corpus(corpus_reitoria, 'reitoria')"
   ]
  },
  {
   "cell_type": "code",
   "execution_count": 502,
   "id": "83de79e8-e350-4e67-b395-f76cce33db70",
   "metadata": {},
   "outputs": [
    {
     "data": {
      "text/plain": [
       "\"FreqDist({'pro': 127, 'graduacao': 112, 'pos': 110, 'pesquisa': 109, 'ifg': 19, 'proppg': 5, 'propg': 5, 'ensino': 3, 'extensao': 3, 'educacao': 2, 'assuntos': 2, 'estudantis': 2, 'exteensao': 2, 'ifsp': 2, 'instituto': 1, 'federal': 1, 'ciencia': 1, 'tecnologia': 1, 'goias': 1, 'prppg': 1, 'campus': 1, 'goiania': 1, 'cultura': 1, 'proex': 1, 'graducacao': 1, 'proreitoria': 1, 'ufg': 1, 'inovacao': 1, 'vice': 1, 'vpg': 1})\""
      ]
     },
     "execution_count": 502,
     "metadata": {},
     "output_type": "execute_result"
    }
   ],
   "source": [
    "bag_reitoria.pformat(30)"
   ]
  },
  {
   "cell_type": "code",
   "execution_count": 503,
   "id": "a5b06131-c4bb-4517-be23-8b7acdf6f920",
   "metadata": {},
   "outputs": [],
   "source": [
    "reitoria_indexes = get_notna_orgao_normalizado_indexes('reitoria')\n",
    "\n",
    "projetos_pesquisa.loc[reitoria_indexes] = projetos_pesquisa.loc[reitoria_indexes].apply(\n",
    "    link_orgao_to_campus,\n",
    "    args=('REI', None, ['pro']),\n",
    "    axis=1\n",
    ")"
   ]
  },
  {
   "cell_type": "code",
   "execution_count": 504,
   "id": "09c56bb5-5ef0-46e7-b537-12d4cc9232ca",
   "metadata": {},
   "outputs": [
    {
     "data": {
      "text/plain": [
       "array(['reitoria ifg',\n",
       "       'instituto federal de educacao ciencia e tecnologia de goias reitoria',\n",
       "       'reitoria do ifg', 'ifg reitoria'], dtype=object)"
      ]
     },
     "execution_count": 504,
     "metadata": {},
     "output_type": "execute_result"
    }
   ],
   "source": [
    "temp = projetos_pesquisa.loc[reitoria_indexes]\n",
    "\n",
    "temp[temp['sigla_orgao'].notna()]['orgao_normalizado'].unique()"
   ]
  },
  {
   "cell_type": "markdown",
   "id": "0017b273-6d89-4b33-b49d-0cec2e19d5de",
   "metadata": {},
   "source": [
    "#### Lidar com projetos que tenham mais de um órgão do IFG"
   ]
  },
  {
   "cell_type": "code",
   "execution_count": 505,
   "id": "6b296915-28f7-439e-8131-970fd559a9c8",
   "metadata": {},
   "outputs": [],
   "source": [
    "def find_more_than_one_campus_reference(row):\n",
    "    campus_reference_tokens = ['anapolis', 'inhumas', 'goiania', 'luziania', 'itumbiara', 'reitoria', \n",
    "                               'lindas', 'canedo', 'uruacu', 'jatai', 'formosa', 'valparaiso', 'cidade']\n",
    "    match_results = []\n",
    "\n",
    "    for token in campus_reference_tokens:\n",
    "        if token in row['orgao_normalizado']:\n",
    "            match_results.append(True)\n",
    "\n",
    "    results = list(filter(lambda match_result: match_result is True, match_results))\n",
    "\n",
    "    if len(results) >= 2:\n",
    "        print((row['codigo'], row['orgao_normalizado']))"
   ]
  },
  {
   "cell_type": "code",
   "execution_count": 506,
   "id": "4349c10d-e0d7-4785-bc2b-b1acbc04c3b4",
   "metadata": {},
   "outputs": [
    {
     "name": "stdout",
     "output_type": "stream",
     "text": [
      "(1280, 'pro reitoria de pesquisa e pos graduacao campus goiania')\n",
      "(1305, 'campus goiania campus inhumas campus jatai')\n",
      "(3154, 'campus inhumas goiania e jatai')\n",
      "(3453, 'campus aguas lindas e goiania oeste')\n"
     ]
    },
    {
     "data": {
      "text/plain": [
       "0       None\n",
       "1       None\n",
       "2       None\n",
       "3       None\n",
       "4       None\n",
       "        ... \n",
       "4123    None\n",
       "4124    None\n",
       "4125    None\n",
       "4127    None\n",
       "4128    None\n",
       "Length: 4127, dtype: object"
      ]
     },
     "execution_count": 506,
     "metadata": {},
     "output_type": "execute_result"
    }
   ],
   "source": [
    "projetos_pesquisa[projetos_pesquisa['orgao_normalizado'].notna()].apply(find_more_than_one_campus_reference, axis=1)"
   ]
  },
  {
   "cell_type": "code",
   "execution_count": 507,
   "id": "fc5d3870-fbe4-47db-b4d6-95b5081d1f04",
   "metadata": {},
   "outputs": [
    {
     "data": {
      "text/html": [
       "<div>\n",
       "<style scoped>\n",
       "    .dataframe tbody tr th:only-of-type {\n",
       "        vertical-align: middle;\n",
       "    }\n",
       "\n",
       "    .dataframe tbody tr th {\n",
       "        vertical-align: top;\n",
       "    }\n",
       "\n",
       "    .dataframe thead th {\n",
       "        text-align: right;\n",
       "    }\n",
       "</style>\n",
       "<table border=\"1\" class=\"dataframe\">\n",
       "  <thead>\n",
       "    <tr style=\"text-align: right;\">\n",
       "      <th></th>\n",
       "      <th>codigo</th>\n",
       "      <th>nome</th>\n",
       "      <th>descricao</th>\n",
       "      <th>ano_inicio</th>\n",
       "      <th>ano_termino</th>\n",
       "      <th>financiador_projeto</th>\n",
       "      <th>instituicao_financiadora</th>\n",
       "      <th>orgao</th>\n",
       "      <th>codigo_curriculo</th>\n",
       "      <th>sigla_orgao</th>\n",
       "      <th>orgao_normalizado</th>\n",
       "    </tr>\n",
       "  </thead>\n",
       "  <tbody>\n",
       "    <tr>\n",
       "      <th>1292</th>\n",
       "      <td>1305</td>\n",
       "      <td>Alfabetização informacional na universidade: i...</td>\n",
       "      <td>A pesquisa objetiva conhecer como ocorre a imp...</td>\n",
       "      <td>2018</td>\n",
       "      <td>&lt;NA&gt;</td>\n",
       "      <td>NaN</td>\n",
       "      <td>NaN</td>\n",
       "      <td>Câmpus Goiânia; Câmpus Inhumas; Câmpus Jataí</td>\n",
       "      <td>627</td>\n",
       "      <td>GYN</td>\n",
       "      <td>campus goiania campus inhumas campus jatai</td>\n",
       "    </tr>\n",
       "    <tr>\n",
       "      <th>3129</th>\n",
       "      <td>3154</td>\n",
       "      <td>Projetos político-pedagógicos das licenciatura...</td>\n",
       "      <td>Face às novas diretrizes curriculares nacionai...</td>\n",
       "      <td>2013</td>\n",
       "      <td>2016</td>\n",
       "      <td>BOLSA-BOLSA-AUXILIO_FINANCEIRO-BOLSA</td>\n",
       "      <td>Conselho Nacional de Desenvolvimento Científic...</td>\n",
       "      <td>câmpus Inhumas, Goiânia e Jataí</td>\n",
       "      <td>1459</td>\n",
       "      <td>GYN</td>\n",
       "      <td>campus inhumas goiania e jatai</td>\n",
       "    </tr>\n",
       "    <tr>\n",
       "      <th>3436</th>\n",
       "      <td>3453</td>\n",
       "      <td>Conhecimento dos estudantesdo Curso Técnico em...</td>\n",
       "      <td>Resumo: Objetivo: Investigar o conhecimento do...</td>\n",
       "      <td>2017</td>\n",
       "      <td>&lt;NA&gt;</td>\n",
       "      <td>NaN</td>\n",
       "      <td>NaN</td>\n",
       "      <td>Câmpus Águas Lindas e Goiânia-oeste</td>\n",
       "      <td>1598</td>\n",
       "      <td>None</td>\n",
       "      <td>campus aguas lindas e goiania oeste</td>\n",
       "    </tr>\n",
       "  </tbody>\n",
       "</table>\n",
       "</div>"
      ],
      "text/plain": [
       "      codigo                                               nome  \\\n",
       "1292    1305  Alfabetização informacional na universidade: i...   \n",
       "3129    3154  Projetos político-pedagógicos das licenciatura...   \n",
       "3436    3453  Conhecimento dos estudantesdo Curso Técnico em...   \n",
       "\n",
       "                                              descricao  ano_inicio  \\\n",
       "1292  A pesquisa objetiva conhecer como ocorre a imp...        2018   \n",
       "3129  Face às novas diretrizes curriculares nacionai...        2013   \n",
       "3436  Resumo: Objetivo: Investigar o conhecimento do...        2017   \n",
       "\n",
       "      ano_termino                   financiador_projeto  \\\n",
       "1292         <NA>                                   NaN   \n",
       "3129         2016  BOLSA-BOLSA-AUXILIO_FINANCEIRO-BOLSA   \n",
       "3436         <NA>                                   NaN   \n",
       "\n",
       "                               instituicao_financiadora  \\\n",
       "1292                                                NaN   \n",
       "3129  Conselho Nacional de Desenvolvimento Científic...   \n",
       "3436                                                NaN   \n",
       "\n",
       "                                             orgao  codigo_curriculo  \\\n",
       "1292  Câmpus Goiânia; Câmpus Inhumas; Câmpus Jataí               627   \n",
       "3129               câmpus Inhumas, Goiânia e Jataí              1459   \n",
       "3436           Câmpus Águas Lindas e Goiânia-oeste              1598   \n",
       "\n",
       "     sigla_orgao                           orgao_normalizado  \n",
       "1292         GYN  campus goiania campus inhumas campus jatai  \n",
       "3129         GYN              campus inhumas goiania e jatai  \n",
       "3436        None         campus aguas lindas e goiania oeste  "
      ]
     },
     "execution_count": 507,
     "metadata": {},
     "output_type": "execute_result"
    }
   ],
   "source": [
    "multicampus_indexes = projetos_pesquisa[projetos_pesquisa['codigo'].isin([1305, 3154, 3453])].index\n",
    "\n",
    "projetos_pesquisa[projetos_pesquisa['codigo'].isin([1305, 3154, 3453])]"
   ]
  },
  {
   "cell_type": "code",
   "execution_count": 508,
   "id": "7455b6d2-0f79-4c2c-822f-5851122d9e35",
   "metadata": {},
   "outputs": [],
   "source": [
    "codigo_to_sigla_campus = {\n",
    "    1305: 'GYN,INH,JAT',\n",
    "    3154: 'GYN,INH,JAT',\n",
    "    3453: 'LIN,OES'\n",
    "}\n",
    "\n",
    "for index in multicampus_indexes:\n",
    "    projetos_pesquisa.loc[index, 'sigla_orgao'] = codigo_to_sigla_campus[projetos_pesquisa.loc[index]['codigo']]"
   ]
  },
  {
   "cell_type": "code",
   "execution_count": 509,
   "id": "3de30397-cf7f-466b-bf79-6f213351a3be",
   "metadata": {},
   "outputs": [
    {
     "data": {
      "text/html": [
       "<div>\n",
       "<style scoped>\n",
       "    .dataframe tbody tr th:only-of-type {\n",
       "        vertical-align: middle;\n",
       "    }\n",
       "\n",
       "    .dataframe tbody tr th {\n",
       "        vertical-align: top;\n",
       "    }\n",
       "\n",
       "    .dataframe thead th {\n",
       "        text-align: right;\n",
       "    }\n",
       "</style>\n",
       "<table border=\"1\" class=\"dataframe\">\n",
       "  <thead>\n",
       "    <tr style=\"text-align: right;\">\n",
       "      <th></th>\n",
       "      <th>codigo</th>\n",
       "      <th>sigla_orgao</th>\n",
       "    </tr>\n",
       "  </thead>\n",
       "  <tbody>\n",
       "    <tr>\n",
       "      <th>1292</th>\n",
       "      <td>1305</td>\n",
       "      <td>GYN,INH,JAT</td>\n",
       "    </tr>\n",
       "    <tr>\n",
       "      <th>3129</th>\n",
       "      <td>3154</td>\n",
       "      <td>GYN,INH,JAT</td>\n",
       "    </tr>\n",
       "    <tr>\n",
       "      <th>3436</th>\n",
       "      <td>3453</td>\n",
       "      <td>LIN,OES</td>\n",
       "    </tr>\n",
       "  </tbody>\n",
       "</table>\n",
       "</div>"
      ],
      "text/plain": [
       "      codigo  sigla_orgao\n",
       "1292    1305  GYN,INH,JAT\n",
       "3129    3154  GYN,INH,JAT\n",
       "3436    3453      LIN,OES"
      ]
     },
     "execution_count": 509,
     "metadata": {},
     "output_type": "execute_result"
    }
   ],
   "source": [
    "projetos_pesquisa[projetos_pesquisa['codigo'].isin([1305, 3154, 3453])].loc[:, ['codigo', 'sigla_orgao']]"
   ]
  },
  {
   "cell_type": "markdown",
   "id": "906a0af7-b060-4c06-af97-77b30d8dcd5a",
   "metadata": {},
   "source": [
    "## Exportar"
   ]
  },
  {
   "cell_type": "code",
   "execution_count": 510,
   "id": "c55189b8-69fd-48e5-951a-c6c70437ee66",
   "metadata": {},
   "outputs": [],
   "source": [
    "export_path = Path(IFG_PRODUZ_STORAGE_DIR / \"preprocessed\")\n",
    "\n",
    "if not export_path.is_dir():\n",
    "    Path(export_path).mkdir()\n",
    "\n",
    "projetos_pesquisa.to_csv(export_path / \"projetos_pesquisa.csv\", sep=\";\", index=False)"
   ]
  }
 ],
 "metadata": {
  "kernelspec": {
   "display_name": "Python 3 (ipykernel)",
   "language": "python",
   "name": "python3"
  },
  "language_info": {
   "codemirror_mode": {
    "name": "ipython",
    "version": 3
   },
   "file_extension": ".py",
   "mimetype": "text/x-python",
   "name": "python",
   "nbconvert_exporter": "python",
   "pygments_lexer": "ipython3",
   "version": "3.10.12"
  }
 },
 "nbformat": 4,
 "nbformat_minor": 5
}
