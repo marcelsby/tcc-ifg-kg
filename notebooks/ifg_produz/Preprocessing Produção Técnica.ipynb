{
 "cells": [
  {
   "cell_type": "code",
   "execution_count": 19,
   "id": "9e7e33ae",
   "metadata": {
    "tags": [
     "parameters"
    ]
   },
   "outputs": [],
   "source": [
    "p_storage_dir = \"../../storage\"\n",
    "p_notebooks_root = None"
   ]
  },
  {
   "cell_type": "code",
   "execution_count": 20,
   "id": "5bf9a189-38b8-425b-9e73-4ee11e953fe1",
   "metadata": {},
   "outputs": [],
   "source": [
    "if p_notebooks_root is not None:\n",
    "    import os\n",
    "    os.chdir(p_notebooks_root)"
   ]
  },
  {
   "cell_type": "code",
   "execution_count": 21,
   "id": "26699801",
   "metadata": {},
   "outputs": [],
   "source": [
    "import pandas as pd\n",
    "import numpy as np\n",
    "from pathlib import Path\n",
    "\n",
    "IFG_PRODUZ_STORAGE_DIR = Path(f\"{p_storage_dir}/ifg_produz\")"
   ]
  },
  {
   "cell_type": "markdown",
   "id": "63619834",
   "metadata": {},
   "source": [
    "## Produção Técnica"
   ]
  },
  {
   "cell_type": "code",
   "execution_count": 22,
   "id": "e0a1fdaa",
   "metadata": {},
   "outputs": [
    {
     "data": {
      "text/html": [
       "<div>\n",
       "<style scoped>\n",
       "    .dataframe tbody tr th:only-of-type {\n",
       "        vertical-align: middle;\n",
       "    }\n",
       "\n",
       "    .dataframe tbody tr th {\n",
       "        vertical-align: top;\n",
       "    }\n",
       "\n",
       "    .dataframe thead th {\n",
       "        text-align: right;\n",
       "    }\n",
       "</style>\n",
       "<table border=\"1\" class=\"dataframe\">\n",
       "  <thead>\n",
       "    <tr style=\"text-align: right;\">\n",
       "      <th></th>\n",
       "      <th>id_producao_tecnica</th>\n",
       "      <th>nome_producao</th>\n",
       "      <th>ano_producao_tecnica</th>\n",
       "      <th>natureza</th>\n",
       "      <th>ano</th>\n",
       "      <th>finalidade</th>\n",
       "      <th>descricao</th>\n",
       "      <th>id_curriculo_id</th>\n",
       "    </tr>\n",
       "  </thead>\n",
       "  <tbody>\n",
       "    <tr>\n",
       "      <th>2960</th>\n",
       "      <td>2958</td>\n",
       "      <td>Programa de monitoramento da fauna em áreas de...</td>\n",
       "      <td>2010</td>\n",
       "      <td>CONSULTORIA</td>\n",
       "      <td>NaN</td>\n",
       "      <td>NaN</td>\n",
       "      <td>NaN</td>\n",
       "      <td>506</td>\n",
       "    </tr>\n",
       "    <tr>\n",
       "      <th>816</th>\n",
       "      <td>813</td>\n",
       "      <td>Consultor ad hoc na avaliação de proposta subm...</td>\n",
       "      <td>2017</td>\n",
       "      <td>PARECER</td>\n",
       "      <td>NaN</td>\n",
       "      <td>Avaliação de proposta n° 2017198673301670</td>\n",
       "      <td>NaN</td>\n",
       "      <td>110</td>\n",
       "    </tr>\n",
       "    <tr>\n",
       "      <th>841</th>\n",
       "      <td>839</td>\n",
       "      <td>Avaliador Membro de Comitê Externo de Avaliaçã...</td>\n",
       "      <td>2016</td>\n",
       "      <td>PARECER</td>\n",
       "      <td>NaN</td>\n",
       "      <td>Avaliação de Projeto de Pesquisa &amp;quot;Ambient...</td>\n",
       "      <td>NaN</td>\n",
       "      <td>110</td>\n",
       "    </tr>\n",
       "    <tr>\n",
       "      <th>3103</th>\n",
       "      <td>3101</td>\n",
       "      <td>Chá pedagógico</td>\n",
       "      <td>2019</td>\n",
       "      <td>ORGANIZACAO</td>\n",
       "      <td>NaN</td>\n",
       "      <td>NaN</td>\n",
       "      <td>NaN</td>\n",
       "      <td>527</td>\n",
       "    </tr>\n",
       "    <tr>\n",
       "      <th>6279</th>\n",
       "      <td>6231</td>\n",
       "      <td>Protótipo de Software de Controle de Funcionários</td>\n",
       "      <td>2010</td>\n",
       "      <td>OUTRA</td>\n",
       "      <td>NaN</td>\n",
       "      <td>Comercial</td>\n",
       "      <td>NaN</td>\n",
       "      <td>1056</td>\n",
       "    </tr>\n",
       "  </tbody>\n",
       "</table>\n",
       "</div>"
      ],
      "text/plain": [
       "      id_producao_tecnica                                      nome_producao  \\\n",
       "2960                 2958  Programa de monitoramento da fauna em áreas de...   \n",
       "816                   813  Consultor ad hoc na avaliação de proposta subm...   \n",
       "841                   839  Avaliador Membro de Comitê Externo de Avaliaçã...   \n",
       "3103                 3101                                     Chá pedagógico   \n",
       "6279                 6231  Protótipo de Software de Controle de Funcionários   \n",
       "\n",
       "      ano_producao_tecnica     natureza  ano  \\\n",
       "2960                  2010  CONSULTORIA  NaN   \n",
       "816                   2017      PARECER  NaN   \n",
       "841                   2016      PARECER  NaN   \n",
       "3103                  2019  ORGANIZACAO  NaN   \n",
       "6279                  2010        OUTRA  NaN   \n",
       "\n",
       "                                             finalidade  descricao  \\\n",
       "2960                                                NaN        NaN   \n",
       "816           Avaliação de proposta n° 2017198673301670        NaN   \n",
       "841   Avaliação de Projeto de Pesquisa &quot;Ambient...        NaN   \n",
       "3103                                                NaN        NaN   \n",
       "6279                                          Comercial        NaN   \n",
       "\n",
       "      id_curriculo_id  \n",
       "2960              506  \n",
       "816               110  \n",
       "841               110  \n",
       "3103              527  \n",
       "6279             1056  "
      ]
     },
     "execution_count": 22,
     "metadata": {},
     "output_type": "execute_result"
    }
   ],
   "source": [
    "producao_tecnica = pd.read_csv(IFG_PRODUZ_STORAGE_DIR / \"extracted/producaotecnica.csv\", delimiter=\";\")\n",
    "\n",
    "producao_tecnica.sample(n=5)"
   ]
  },
  {
   "cell_type": "code",
   "execution_count": 23,
   "id": "818e19ec-5a3a-41d7-9603-04412c5bd43b",
   "metadata": {},
   "outputs": [],
   "source": [
    "ano_column = 'ano'\n",
    "descricao_column = 'descricao'\n",
    "\n",
    "if ano_column in producao_tecnica and producao_tecnica['ano'].isna().all():\n",
    "    producao_tecnica.drop(columns='ano', inplace=True)\n",
    "\n",
    "if descricao_column in producao_tecnica and producao_tecnica['descricao'].isna().all():\n",
    "    producao_tecnica.drop(columns='descricao', inplace=True)"
   ]
  },
  {
   "cell_type": "code",
   "execution_count": 24,
   "id": "bcc3e581-86df-475e-934f-595565bbc866",
   "metadata": {},
   "outputs": [
    {
     "data": {
      "text/plain": [
       "Index(['id_producao_tecnica', 'nome_producao', 'ano_producao_tecnica',\n",
       "       'natureza', 'finalidade', 'id_curriculo_id'],\n",
       "      dtype='object')"
      ]
     },
     "execution_count": 24,
     "metadata": {},
     "output_type": "execute_result"
    }
   ],
   "source": [
    "producao_tecnica.columns"
   ]
  },
  {
   "cell_type": "code",
   "execution_count": 25,
   "id": "cd2f7967-fa07-4816-ae01-4bc8f0625d6b",
   "metadata": {},
   "outputs": [
    {
     "data": {
      "text/html": [
       "<div>\n",
       "<style scoped>\n",
       "    .dataframe tbody tr th:only-of-type {\n",
       "        vertical-align: middle;\n",
       "    }\n",
       "\n",
       "    .dataframe tbody tr th {\n",
       "        vertical-align: top;\n",
       "    }\n",
       "\n",
       "    .dataframe thead th {\n",
       "        text-align: right;\n",
       "    }\n",
       "</style>\n",
       "<table border=\"1\" class=\"dataframe\">\n",
       "  <thead>\n",
       "    <tr style=\"text-align: right;\">\n",
       "      <th></th>\n",
       "      <th>id_producao_tecnica</th>\n",
       "      <th>nome_producao</th>\n",
       "      <th>ano_producao_tecnica</th>\n",
       "      <th>natureza</th>\n",
       "      <th>finalidade</th>\n",
       "      <th>id_curriculo_id</th>\n",
       "    </tr>\n",
       "  </thead>\n",
       "  <tbody>\n",
       "    <tr>\n",
       "      <th>9413</th>\n",
       "      <td>9414</td>\n",
       "      <td>XVIII Congresso Brasileiro de Engenharia e Arq...</td>\n",
       "      <td>2008</td>\n",
       "      <td>NAO_INFORMADO</td>\n",
       "      <td>NaN</td>\n",
       "      <td>1520</td>\n",
       "    </tr>\n",
       "    <tr>\n",
       "      <th>2987</th>\n",
       "      <td>2984</td>\n",
       "      <td>I Simpósio de Agroecologia da Cidade de Goiás</td>\n",
       "      <td>2016</td>\n",
       "      <td>ORGANIZACAO</td>\n",
       "      <td>NaN</td>\n",
       "      <td>506</td>\n",
       "    </tr>\n",
       "    <tr>\n",
       "      <th>1603</th>\n",
       "      <td>1599</td>\n",
       "      <td>VIII Festival de Paródias CantaFen (Faculdade ...</td>\n",
       "      <td>2014</td>\n",
       "      <td>ORGANIZACAO</td>\n",
       "      <td>NaN</td>\n",
       "      <td>265</td>\n",
       "    </tr>\n",
       "    <tr>\n",
       "      <th>9004</th>\n",
       "      <td>9005</td>\n",
       "      <td>Consultoria Técnica em Lavra e Usina de Britag...</td>\n",
       "      <td>2009</td>\n",
       "      <td>CONSULTORIA</td>\n",
       "      <td>NaN</td>\n",
       "      <td>1468</td>\n",
       "    </tr>\n",
       "    <tr>\n",
       "      <th>3149</th>\n",
       "      <td>3147</td>\n",
       "      <td>III Encontro de Professores de Língua Estrangeira</td>\n",
       "      <td>2008</td>\n",
       "      <td>ORGANIZACAO</td>\n",
       "      <td>NaN</td>\n",
       "      <td>536</td>\n",
       "    </tr>\n",
       "  </tbody>\n",
       "</table>\n",
       "</div>"
      ],
      "text/plain": [
       "      id_producao_tecnica                                      nome_producao  \\\n",
       "9413                 9414  XVIII Congresso Brasileiro de Engenharia e Arq...   \n",
       "2987                 2984      I Simpósio de Agroecologia da Cidade de Goiás   \n",
       "1603                 1599  VIII Festival de Paródias CantaFen (Faculdade ...   \n",
       "9004                 9005  Consultoria Técnica em Lavra e Usina de Britag...   \n",
       "3149                 3147  III Encontro de Professores de Língua Estrangeira   \n",
       "\n",
       "      ano_producao_tecnica       natureza finalidade  id_curriculo_id  \n",
       "9413                  2008  NAO_INFORMADO        NaN             1520  \n",
       "2987                  2016    ORGANIZACAO        NaN              506  \n",
       "1603                  2014    ORGANIZACAO        NaN              265  \n",
       "9004                  2009    CONSULTORIA        NaN             1468  \n",
       "3149                  2008    ORGANIZACAO        NaN              536  "
      ]
     },
     "execution_count": 25,
     "metadata": {},
     "output_type": "execute_result"
    }
   ],
   "source": [
    "producao_tecnica.sample(n=5)"
   ]
  },
  {
   "cell_type": "code",
   "execution_count": 26,
   "id": "2cb31d71-5206-455e-904d-23dfbceaefed",
   "metadata": {},
   "outputs": [],
   "source": [
    "producao_tecnica = producao_tecnica.rename(columns={\n",
    "    'id_producao_tecnica': 'codigo',\n",
    "    'nome_producao': 'nome',\n",
    "    'ano_producao_tecnica': 'ano',\n",
    "    'id_curriculo_id': 'codigo_curriculo'\n",
    "})"
   ]
  },
  {
   "cell_type": "code",
   "execution_count": 27,
   "id": "8a6002c9-ef28-413d-b711-6e9371ed3d5f",
   "metadata": {},
   "outputs": [
    {
     "data": {
      "text/html": [
       "<div>\n",
       "<style scoped>\n",
       "    .dataframe tbody tr th:only-of-type {\n",
       "        vertical-align: middle;\n",
       "    }\n",
       "\n",
       "    .dataframe tbody tr th {\n",
       "        vertical-align: top;\n",
       "    }\n",
       "\n",
       "    .dataframe thead th {\n",
       "        text-align: right;\n",
       "    }\n",
       "</style>\n",
       "<table border=\"1\" class=\"dataframe\">\n",
       "  <thead>\n",
       "    <tr style=\"text-align: right;\">\n",
       "      <th></th>\n",
       "      <th>codigo</th>\n",
       "      <th>nome</th>\n",
       "      <th>ano</th>\n",
       "      <th>natureza</th>\n",
       "      <th>finalidade</th>\n",
       "      <th>codigo_curriculo</th>\n",
       "    </tr>\n",
       "  </thead>\n",
       "  <tbody>\n",
       "    <tr>\n",
       "      <th>8402</th>\n",
       "      <td>8403</td>\n",
       "      <td>A história de Goiás nos Documentos do Arquivo ...</td>\n",
       "      <td>2004</td>\n",
       "      <td>ORGANIZACAO</td>\n",
       "      <td>NaN</td>\n",
       "      <td>1411</td>\n",
       "    </tr>\n",
       "    <tr>\n",
       "      <th>3690</th>\n",
       "      <td>3687</td>\n",
       "      <td>Currículo da Escola Técnica Federal de Goiás</td>\n",
       "      <td>1993</td>\n",
       "      <td>ELABORACAO_DE_PROJETO</td>\n",
       "      <td>Sistemar propostas e projetos com o objetivo d...</td>\n",
       "      <td>630</td>\n",
       "    </tr>\n",
       "    <tr>\n",
       "      <th>1293</th>\n",
       "      <td>1288</td>\n",
       "      <td>XV Semana Técnico Cultural do IFG/Campus Jataí...</td>\n",
       "      <td>2010</td>\n",
       "      <td>ORGANIZACAO</td>\n",
       "      <td>NaN</td>\n",
       "      <td>203</td>\n",
       "    </tr>\n",
       "    <tr>\n",
       "      <th>581</th>\n",
       "      <td>576</td>\n",
       "      <td>IV Simpósio de química</td>\n",
       "      <td>2015</td>\n",
       "      <td>ORGANIZACAO</td>\n",
       "      <td>NaN</td>\n",
       "      <td>59</td>\n",
       "    </tr>\n",
       "    <tr>\n",
       "      <th>3821</th>\n",
       "      <td>3818</td>\n",
       "      <td>Semana de Quimica Integrada</td>\n",
       "      <td>2008</td>\n",
       "      <td>ORGANIZACAO</td>\n",
       "      <td>NaN</td>\n",
       "      <td>653</td>\n",
       "    </tr>\n",
       "  </tbody>\n",
       "</table>\n",
       "</div>"
      ],
      "text/plain": [
       "      codigo                                               nome   ano  \\\n",
       "8402    8403  A história de Goiás nos Documentos do Arquivo ...  2004   \n",
       "3690    3687       Currículo da Escola Técnica Federal de Goiás  1993   \n",
       "1293    1288  XV Semana Técnico Cultural do IFG/Campus Jataí...  2010   \n",
       "581      576                             IV Simpósio de química  2015   \n",
       "3821    3818                        Semana de Quimica Integrada  2008   \n",
       "\n",
       "                   natureza  \\\n",
       "8402            ORGANIZACAO   \n",
       "3690  ELABORACAO_DE_PROJETO   \n",
       "1293            ORGANIZACAO   \n",
       "581             ORGANIZACAO   \n",
       "3821            ORGANIZACAO   \n",
       "\n",
       "                                             finalidade  codigo_curriculo  \n",
       "8402                                                NaN              1411  \n",
       "3690  Sistemar propostas e projetos com o objetivo d...               630  \n",
       "1293                                                NaN               203  \n",
       "581                                                 NaN                59  \n",
       "3821                                                NaN               653  "
      ]
     },
     "execution_count": 27,
     "metadata": {},
     "output_type": "execute_result"
    }
   ],
   "source": [
    "producao_tecnica.sample(n=5)"
   ]
  },
  {
   "cell_type": "code",
   "execution_count": 28,
   "id": "1e1a5232-e83f-436c-abfe-10d668b56050",
   "metadata": {},
   "outputs": [
    {
     "data": {
      "text/plain": [
       "array(['NAO_INFORMADO', 'COMPUTACIONAL', 'ORGANIZACAO', 'PARECER',\n",
       "       'OUTRA', 'ASSESSORIA', 'SERVICOS_NA_AREA_DA_SAUDE',\n",
       "       'RELATORIO_TECNICO', 'CONSULTORIA', 'ELABORACAO_DE_PROJETO',\n",
       "       'MONTAGEM', 'CURADORIA', 'MUSEOLOGIA', 'EXTENSAO_TECNOLOGICA',\n",
       "       'MAQUETE', 'MULTIMIDIA'], dtype=object)"
      ]
     },
     "execution_count": 28,
     "metadata": {},
     "output_type": "execute_result"
    }
   ],
   "source": [
    "producao_tecnica['natureza'].unique()"
   ]
  },
  {
   "cell_type": "code",
   "execution_count": 29,
   "id": "63bc7369-23dc-4c79-9133-ec2196820bd5",
   "metadata": {},
   "outputs": [],
   "source": [
    "producao_tecnica['natureza'] = producao_tecnica['natureza'].replace({'NAO_INFORMADO': np.nan})"
   ]
  },
  {
   "cell_type": "code",
   "execution_count": 30,
   "id": "ae85e7c8-ff3d-454b-8b94-e49b128d3eca",
   "metadata": {},
   "outputs": [
    {
     "data": {
      "text/plain": [
       "codigo              False\n",
       "nome                False\n",
       "ano                 False\n",
       "natureza             True\n",
       "finalidade           True\n",
       "codigo_curriculo    False\n",
       "dtype: bool"
      ]
     },
     "execution_count": 30,
     "metadata": {},
     "output_type": "execute_result"
    }
   ],
   "source": [
    "producao_tecnica.isna().any()"
   ]
  },
  {
   "cell_type": "markdown",
   "id": "906a0af7-b060-4c06-af97-77b30d8dcd5a",
   "metadata": {},
   "source": [
    "**Exportar**"
   ]
  },
  {
   "cell_type": "code",
   "execution_count": 31,
   "id": "c55189b8-69fd-48e5-951a-c6c70437ee66",
   "metadata": {},
   "outputs": [],
   "source": [
    "export_path = Path(IFG_PRODUZ_STORAGE_DIR / \"preprocessed\")\n",
    "\n",
    "if not export_path.is_dir():\n",
    "    Path(export_path).mkdir()\n",
    "\n",
    "producao_tecnica.to_csv(export_path / \"producao_tecnica.csv\", sep=\";\", index=False)"
   ]
  }
 ],
 "metadata": {
  "kernelspec": {
   "display_name": "Python 3 (ipykernel)",
   "language": "python",
   "name": "python3"
  },
  "language_info": {
   "codemirror_mode": {
    "name": "ipython",
    "version": 3
   },
   "file_extension": ".py",
   "mimetype": "text/x-python",
   "name": "python",
   "nbconvert_exporter": "python",
   "pygments_lexer": "ipython3",
   "version": "3.10.12"
  }
 },
 "nbformat": 4,
 "nbformat_minor": 5
}
