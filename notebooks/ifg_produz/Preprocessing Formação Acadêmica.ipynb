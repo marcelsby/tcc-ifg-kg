{
 "cells": [
  {
   "cell_type": "code",
   "execution_count": 1,
   "id": "9e7e33ae",
   "metadata": {
    "tags": [
     "parameters"
    ]
   },
   "outputs": [],
   "source": [
    "p_storage_dir = \"../../storage\"\n",
    "p_notebooks_root = None"
   ]
  },
  {
   "cell_type": "code",
   "execution_count": 2,
   "id": "13806b39-267c-45c6-afd5-46d39c4d3bf1",
   "metadata": {},
   "outputs": [],
   "source": [
    "if p_notebooks_root is not None:\n",
    "    import os\n",
    "    os.chdir(p_notebooks_root)"
   ]
  },
  {
   "cell_type": "code",
   "execution_count": 3,
   "id": "26699801",
   "metadata": {},
   "outputs": [],
   "source": [
    "from pathlib import Path\n",
    "\n",
    "import numpy as np\n",
    "import pandas as pd\n",
    "\n",
    "IFG_PRODUZ_STORAGE_DIR = Path(f\"{p_storage_dir}/ifg_produz\")"
   ]
  },
  {
   "cell_type": "markdown",
   "id": "63619834",
   "metadata": {},
   "source": [
    "# Formação Acadêmica"
   ]
  },
  {
   "cell_type": "code",
   "execution_count": 4,
   "id": "e0a1fdaa",
   "metadata": {},
   "outputs": [
    {
     "data": {
      "text/html": [
       "<div>\n",
       "<style scoped>\n",
       "    .dataframe tbody tr th:only-of-type {\n",
       "        vertical-align: middle;\n",
       "    }\n",
       "\n",
       "    .dataframe tbody tr th {\n",
       "        vertical-align: top;\n",
       "    }\n",
       "\n",
       "    .dataframe thead th {\n",
       "        text-align: right;\n",
       "    }\n",
       "</style>\n",
       "<table border=\"1\" class=\"dataframe\">\n",
       "  <thead>\n",
       "    <tr style=\"text-align: right;\">\n",
       "      <th></th>\n",
       "      <th>id_formacao_academica</th>\n",
       "      <th>nome_instituicao</th>\n",
       "      <th>nome_curso</th>\n",
       "      <th>ano_inicio</th>\n",
       "      <th>ano_conclusao</th>\n",
       "      <th>status_curso</th>\n",
       "      <th>tipo_formacao</th>\n",
       "      <th>id_curriculo_id</th>\n",
       "    </tr>\n",
       "  </thead>\n",
       "  <tbody>\n",
       "    <tr>\n",
       "      <th>4883</th>\n",
       "      <td>4874</td>\n",
       "      <td>Universidade Estadual de Londrina</td>\n",
       "      <td>Ensino de Ciências e Educação Matemática</td>\n",
       "      <td>2015</td>\n",
       "      <td>2019</td>\n",
       "      <td>CONCLUIDO</td>\n",
       "      <td>3</td>\n",
       "      <td>1776</td>\n",
       "    </tr>\n",
       "    <tr>\n",
       "      <th>3801</th>\n",
       "      <td>3793</td>\n",
       "      <td>Instituto Brasileiro de Educação</td>\n",
       "      <td>Pedagogia</td>\n",
       "      <td>2014</td>\n",
       "      <td>2016</td>\n",
       "      <td>CONCLUIDO</td>\n",
       "      <td>1</td>\n",
       "      <td>1371</td>\n",
       "    </tr>\n",
       "    <tr>\n",
       "      <th>3211</th>\n",
       "      <td>3210</td>\n",
       "      <td>Universidade Federal de Goiás</td>\n",
       "      <td>Sociologia</td>\n",
       "      <td>2013</td>\n",
       "      <td>2017</td>\n",
       "      <td>CONCLUIDO</td>\n",
       "      <td>5</td>\n",
       "      <td>1156</td>\n",
       "    </tr>\n",
       "    <tr>\n",
       "      <th>1457</th>\n",
       "      <td>1458</td>\n",
       "      <td>Universidade de Brasília</td>\n",
       "      <td>Biologia Animal</td>\n",
       "      <td>2010</td>\n",
       "      <td>2014</td>\n",
       "      <td>CONCLUIDO</td>\n",
       "      <td>5</td>\n",
       "      <td>514</td>\n",
       "    </tr>\n",
       "    <tr>\n",
       "      <th>255</th>\n",
       "      <td>256</td>\n",
       "      <td>Faculdade Jesuíta de Filosofia e Teologia</td>\n",
       "      <td>Filosofia</td>\n",
       "      <td>2008</td>\n",
       "      <td>2010</td>\n",
       "      <td>CONCLUIDO</td>\n",
       "      <td>2</td>\n",
       "      <td>87</td>\n",
       "    </tr>\n",
       "  </tbody>\n",
       "</table>\n",
       "</div>"
      ],
      "text/plain": [
       "      id_formacao_academica                           nome_instituicao  \\\n",
       "4883                   4874          Universidade Estadual de Londrina   \n",
       "3801                   3793           Instituto Brasileiro de Educação   \n",
       "3211                   3210              Universidade Federal de Goiás   \n",
       "1457                   1458                   Universidade de Brasília   \n",
       "255                     256  Faculdade Jesuíta de Filosofia e Teologia   \n",
       "\n",
       "                                    nome_curso  ano_inicio  ano_conclusao  \\\n",
       "4883  Ensino de Ciências e Educação Matemática        2015           2019   \n",
       "3801                                 Pedagogia        2014           2016   \n",
       "3211                                Sociologia        2013           2017   \n",
       "1457                           Biologia Animal        2010           2014   \n",
       "255                                  Filosofia        2008           2010   \n",
       "\n",
       "     status_curso  tipo_formacao  id_curriculo_id  \n",
       "4883    CONCLUIDO              3             1776  \n",
       "3801    CONCLUIDO              1             1371  \n",
       "3211    CONCLUIDO              5             1156  \n",
       "1457    CONCLUIDO              5              514  \n",
       "255     CONCLUIDO              2               87  "
      ]
     },
     "execution_count": 4,
     "metadata": {},
     "output_type": "execute_result"
    }
   ],
   "source": [
    "formacao_academica = pd.read_csv(IFG_PRODUZ_STORAGE_DIR / \"extracted/formacaoacademica.csv\", delimiter=\";\", \n",
    "                                 dtype={'ano_conclusao': 'Int64'})\n",
    "\n",
    "formacao_academica.sample(n=5)"
   ]
  },
  {
   "cell_type": "code",
   "execution_count": 5,
   "id": "c343a820-3911-4462-9ff0-f2de792589d5",
   "metadata": {},
   "outputs": [],
   "source": [
    "formacao_academica = formacao_academica.rename(columns={\n",
    "    'id_formacao_academica': 'codigo',\n",
    "    'id_curriculo_id': 'codigo_curriculo'\n",
    "})"
   ]
  },
  {
   "cell_type": "markdown",
   "id": "439b5843-20cd-478a-a81e-462b27dac9fc",
   "metadata": {},
   "source": [
    "## Remoção da coluna \"tipo_formacao\"\n",
    "\n",
    "Essa coluna é composta apenas por números, provavelmente eram chaves estrangeiras, porém no banco de dados do IFG Produz não existe nenhuma referência que possamos descobrir o que cada número significa, então essa coluna será removida."
   ]
  },
  {
   "cell_type": "code",
   "execution_count": 6,
   "id": "9eb69880-e1c1-42c0-9ae1-05ef40d39161",
   "metadata": {},
   "outputs": [
    {
     "data": {
      "text/plain": [
       "array([1, 2, 3, 5, 4])"
      ]
     },
     "execution_count": 6,
     "metadata": {},
     "output_type": "execute_result"
    }
   ],
   "source": [
    "formacao_academica['tipo_formacao'].unique()"
   ]
  },
  {
   "cell_type": "code",
   "execution_count": 7,
   "id": "88f7fd73-3a82-4dac-aca0-a18ee21c2240",
   "metadata": {},
   "outputs": [],
   "source": [
    "formacao_academica = formacao_academica.drop(columns='tipo_formacao')"
   ]
  },
  {
   "cell_type": "markdown",
   "id": "351e3cda-d21a-47ed-b2b7-e71cc24db72c",
   "metadata": {},
   "source": [
    "## Melhoria da ligação dos dados da coluna \"nome_instituicao\"\n",
    "\n",
    "Nessa coluna temos os dados de onde foi ou está sendo realizada uma formação acadêmica, caso essa formação esteja sendo feita em alguma unidade do IFG iremos colocar a sigla da unidade em uma nova coluna, para que no momento de inserção desses dados a formação acadêmica possa ser linkada com uma unidade do IFG, melhorando a interligação dos dados do grafo."
   ]
  },
  {
   "cell_type": "code",
   "execution_count": 8,
   "id": "da64eb20-a7a4-4d43-b953-1100efc7581e",
   "metadata": {},
   "outputs": [
    {
     "data": {
      "text/plain": [
       "'/home/marcel/Repos/Personal/tcc-ifg-kg/notebooks/ifg_produz'"
      ]
     },
     "execution_count": 8,
     "metadata": {},
     "output_type": "execute_result"
    }
   ],
   "source": [
    "import os\n",
    "\n",
    "os.getcwd()"
   ]
  },
  {
   "cell_type": "code",
   "execution_count": 9,
   "id": "0eec726a-f068-464e-8165-45ed782ca136",
   "metadata": {},
   "outputs": [],
   "source": [
    "from text_processors import normalizar_string, remover_stopwords\n",
    "\n",
    "formacao_academica['nome_instituicao_normalizado'] = formacao_academica['nome_instituicao'].apply(normalizar_string)\n",
    "formacao_academica['nome_instituicao_normalizado'] = formacao_academica['nome_instituicao_normalizado'].apply(remover_stopwords)"
   ]
  },
  {
   "cell_type": "code",
   "execution_count": 10,
   "id": "3cddaec4-4b1c-49ec-b12d-ae25cc5e1765",
   "metadata": {},
   "outputs": [
    {
     "data": {
      "text/plain": [
       "array(['instituto federal educacao ciencia tecnologia goias campus jatai',\n",
       "       'instituto federal educacao ciencia tecnologia goias',\n",
       "       'instituto federal goiano',\n",
       "       'instituto federal goias campus uruacu',\n",
       "       'instituto federal educacao ciencia tecnologia espirito santo',\n",
       "       'instituto federal educacao ciencia tecnologia goias campus aparecid',\n",
       "       'instituto federal educacao ciencia tecnologia',\n",
       "       'instituto federal goias',\n",
       "       'instituto federal educacao ciencias tecnologia goias',\n",
       "       'instituto federal educacao cienicas tecnologia goias campus jatai',\n",
       "       'instituto federal educacao ciencia tecnologia campus anapolis',\n",
       "       'instituto federal educacao ciencia tecnologia goias campus uruacu',\n",
       "       'instituto federal triangulo mineiro',\n",
       "       'instituto federal goiano campus morrinhos',\n",
       "       'instituto federal goiano campus urutai',\n",
       "       'instituto federal parana',\n",
       "       'instituto federal educacao ciencia tecnologia goias go',\n",
       "       'instituto federal goias campus jatai',\n",
       "       'instituto federal goias universidade aberta brasil',\n",
       "       'instituto federal goias campus anapolis go',\n",
       "       'instituto federal minas gerais',\n",
       "       'instituto federal educacao ciencia tecnologia sudeste minas gerais',\n",
       "       'instituto federal brasilia'], dtype=object)"
      ]
     },
     "execution_count": 10,
     "metadata": {},
     "output_type": "execute_result"
    }
   ],
   "source": [
    "formacao_academica[(formacao_academica['nome_instituicao_normalizado'].notna()) & (formacao_academica['nome_instituicao_normalizado'].str.startswith('instituto federal'))]['nome_instituicao_normalizado'].unique()"
   ]
  },
  {
   "cell_type": "code",
   "execution_count": 11,
   "id": "71614e0b-83c3-430d-872d-3daa6dd41425",
   "metadata": {},
   "outputs": [],
   "source": [
    "formacao_academica['sigla_instituicao'] = pd.Series([None] * len(formacao_academica), dtype='object')"
   ]
  },
  {
   "cell_type": "code",
   "execution_count": 12,
   "id": "d58449fd-15bd-41bb-a4c9-bc92b8da2dd1",
   "metadata": {},
   "outputs": [],
   "source": [
    "from thefuzz import fuzz\n",
    "\n",
    "campus_to_sigla = {\n",
    "    'jatai': 'JAT',\n",
    "    'uruacu': 'URU',\n",
    "    'aparecida': 'APA',\n",
    "    'anapolis': 'ANA'        \n",
    "}\n",
    "\n",
    "def get_campus_sigla(s, threshold=90):\n",
    "    for campus in campus_to_sigla.keys():\n",
    "        if fuzz.partial_token_sort_ratio(campus, s) >= threshold:\n",
    "            return campus_to_sigla[campus]\n",
    "\n",
    "def get_ifg_reference(row):\n",
    "    if pd.notna(row['nome_instituicao_normalizado']):\n",
    "        if fuzz.token_set_ratio('instituto federal goias campus', row['nome_instituicao_normalizado']) == 100:\n",
    "            campus_sigla_searched = get_campus_sigla(row['nome_instituicao_normalizado'])\n",
    "            \n",
    "            if campus_sigla_searched is not None:\n",
    "                row['sigla_instituicao'] = campus_sigla_searched\n",
    "\n",
    "    return row"
   ]
  },
  {
   "cell_type": "code",
   "execution_count": 13,
   "id": "2b7605c3-e2f5-45cc-a690-905ec63388ef",
   "metadata": {},
   "outputs": [],
   "source": [
    "formacao_academica = formacao_academica.apply(get_ifg_reference, axis=1)"
   ]
  },
  {
   "cell_type": "code",
   "execution_count": 14,
   "id": "dce74961-4997-427a-a59d-67c53c8102f9",
   "metadata": {},
   "outputs": [
    {
     "data": {
      "text/html": [
       "<div>\n",
       "<style scoped>\n",
       "    .dataframe tbody tr th:only-of-type {\n",
       "        vertical-align: middle;\n",
       "    }\n",
       "\n",
       "    .dataframe tbody tr th {\n",
       "        vertical-align: top;\n",
       "    }\n",
       "\n",
       "    .dataframe thead th {\n",
       "        text-align: right;\n",
       "    }\n",
       "</style>\n",
       "<table border=\"1\" class=\"dataframe\">\n",
       "  <thead>\n",
       "    <tr style=\"text-align: right;\">\n",
       "      <th></th>\n",
       "      <th>codigo</th>\n",
       "      <th>nome_instituicao</th>\n",
       "      <th>nome_curso</th>\n",
       "      <th>ano_inicio</th>\n",
       "      <th>ano_conclusao</th>\n",
       "      <th>status_curso</th>\n",
       "      <th>codigo_curriculo</th>\n",
       "      <th>nome_instituicao_normalizado</th>\n",
       "      <th>sigla_instituicao</th>\n",
       "    </tr>\n",
       "  </thead>\n",
       "  <tbody>\n",
       "    <tr>\n",
       "      <th>7</th>\n",
       "      <td>8</td>\n",
       "      <td>Instituto Federal de Educação, Ciência e Tecno...</td>\n",
       "      <td>Educação para Ciências e Matemática</td>\n",
       "      <td>2012</td>\n",
       "      <td>2014</td>\n",
       "      <td>CONCLUIDO</td>\n",
       "      <td>3</td>\n",
       "      <td>instituto federal educacao ciencia tecnologia ...</td>\n",
       "      <td>JAT</td>\n",
       "    </tr>\n",
       "    <tr>\n",
       "      <th>170</th>\n",
       "      <td>171</td>\n",
       "      <td>INSTITUTO FEDERAL DE GOIÁS - Câmpus Uruaçu</td>\n",
       "      <td>BACHARELADO EM ENGENHARIA CIVIL</td>\n",
       "      <td>2012</td>\n",
       "      <td>2017</td>\n",
       "      <td>CONCLUIDO</td>\n",
       "      <td>57</td>\n",
       "      <td>instituto federal goias campus uruacu</td>\n",
       "      <td>URU</td>\n",
       "    </tr>\n",
       "    <tr>\n",
       "      <th>310</th>\n",
       "      <td>311</td>\n",
       "      <td>INSTITUTO FEDERAL DE EDUCAÇÃO CIÊNCIA E TECNOL...</td>\n",
       "      <td>CURSO LICENCIATURA EM PEDAGOGIA BILÍNGUE LIBRA...</td>\n",
       "      <td>2018</td>\n",
       "      <td>&lt;NA&gt;</td>\n",
       "      <td>EM_ANDAMENTO</td>\n",
       "      <td>108</td>\n",
       "      <td>instituto federal educacao ciencia tecnologia ...</td>\n",
       "      <td>APA</td>\n",
       "    </tr>\n",
       "    <tr>\n",
       "      <th>1252</th>\n",
       "      <td>1253</td>\n",
       "      <td>Instituto Federal de Educação, Ciênicas e Tecn...</td>\n",
       "      <td>Programa de Pós-graduação em Educação para Ciê...</td>\n",
       "      <td>2019</td>\n",
       "      <td>&lt;NA&gt;</td>\n",
       "      <td>EM_ANDAMENTO</td>\n",
       "      <td>448</td>\n",
       "      <td>instituto federal educacao cienicas tecnologia...</td>\n",
       "      <td>JAT</td>\n",
       "    </tr>\n",
       "    <tr>\n",
       "      <th>1715</th>\n",
       "      <td>1715</td>\n",
       "      <td>Instituto Federal de Educação, Ciência e Tecno...</td>\n",
       "      <td>Bacharelado em Engenharia Civil</td>\n",
       "      <td>2012</td>\n",
       "      <td>&lt;NA&gt;</td>\n",
       "      <td>EM_ANDAMENTO</td>\n",
       "      <td>604</td>\n",
       "      <td>instituto federal educacao ciencia tecnologia ...</td>\n",
       "      <td>URU</td>\n",
       "    </tr>\n",
       "    <tr>\n",
       "      <th>1821</th>\n",
       "      <td>1822</td>\n",
       "      <td>INSTITUTO FEDERAL DE GOIÁS - Câmpus Uruaçu</td>\n",
       "      <td>Analise e Desenvolvimento de Sistemas</td>\n",
       "      <td>2019</td>\n",
       "      <td>&lt;NA&gt;</td>\n",
       "      <td>EM_ANDAMENTO</td>\n",
       "      <td>643</td>\n",
       "      <td>instituto federal goias campus uruacu</td>\n",
       "      <td>URU</td>\n",
       "    </tr>\n",
       "    <tr>\n",
       "      <th>2803</th>\n",
       "      <td>2804</td>\n",
       "      <td>Instituto Federal de Educação, Ciência e Tecno...</td>\n",
       "      <td>Educação para Ciências e Matemática</td>\n",
       "      <td>2013</td>\n",
       "      <td>2015</td>\n",
       "      <td>CONCLUIDO</td>\n",
       "      <td>1017</td>\n",
       "      <td>instituto federal educacao ciencia tecnologia ...</td>\n",
       "      <td>JAT</td>\n",
       "    </tr>\n",
       "    <tr>\n",
       "      <th>3452</th>\n",
       "      <td>3451</td>\n",
       "      <td>Instituto Federal de Educação, Ciência e Tecno...</td>\n",
       "      <td>Educação para Ciências e Matemática</td>\n",
       "      <td>2012</td>\n",
       "      <td>2014</td>\n",
       "      <td>CONCLUIDO</td>\n",
       "      <td>1244</td>\n",
       "      <td>instituto federal educacao ciencia tecnologia ...</td>\n",
       "      <td>JAT</td>\n",
       "    </tr>\n",
       "    <tr>\n",
       "      <th>4039</th>\n",
       "      <td>4030</td>\n",
       "      <td>Instituto Federal de Goiás - Câmpus Jataí</td>\n",
       "      <td>Programa de Pós-Graduação em Educação para Ciê...</td>\n",
       "      <td>2018</td>\n",
       "      <td>2021</td>\n",
       "      <td>CONCLUIDO</td>\n",
       "      <td>1456</td>\n",
       "      <td>instituto federal goias campus jatai</td>\n",
       "      <td>JAT</td>\n",
       "    </tr>\n",
       "    <tr>\n",
       "      <th>4419</th>\n",
       "      <td>4411</td>\n",
       "      <td>Instituto Federal de Educação, Ciência e Tecno...</td>\n",
       "      <td>Sistema da Tecnologia da Informação</td>\n",
       "      <td>2006</td>\n",
       "      <td>2010</td>\n",
       "      <td>CONCLUIDO</td>\n",
       "      <td>1603</td>\n",
       "      <td>instituto federal educacao ciencia tecnologia ...</td>\n",
       "      <td>JAT</td>\n",
       "    </tr>\n",
       "    <tr>\n",
       "      <th>4556</th>\n",
       "      <td>4548</td>\n",
       "      <td>Instituto Federal de Goiás - Câmpus Anápolis (GO)</td>\n",
       "      <td>Programa de Pós-Graduação em Educação Profissi...</td>\n",
       "      <td>2019</td>\n",
       "      <td>&lt;NA&gt;</td>\n",
       "      <td>EM_ANDAMENTO</td>\n",
       "      <td>1656</td>\n",
       "      <td>instituto federal goias campus anapolis go</td>\n",
       "      <td>ANA</td>\n",
       "    </tr>\n",
       "    <tr>\n",
       "      <th>4651</th>\n",
       "      <td>4643</td>\n",
       "      <td>Instituto Federal de Educação, Ciência e Tecno...</td>\n",
       "      <td>Tecnologia em Sistemas de Informação</td>\n",
       "      <td>2008</td>\n",
       "      <td>2010</td>\n",
       "      <td>CONCLUIDO</td>\n",
       "      <td>1694</td>\n",
       "      <td>instituto federal educacao ciencia tecnologia ...</td>\n",
       "      <td>JAT</td>\n",
       "    </tr>\n",
       "  </tbody>\n",
       "</table>\n",
       "</div>"
      ],
      "text/plain": [
       "      codigo                                   nome_instituicao  \\\n",
       "7          8  Instituto Federal de Educação, Ciência e Tecno...   \n",
       "170      171         INSTITUTO FEDERAL DE GOIÁS - Câmpus Uruaçu   \n",
       "310      311  INSTITUTO FEDERAL DE EDUCAÇÃO CIÊNCIA E TECNOL...   \n",
       "1252    1253  Instituto Federal de Educação, Ciênicas e Tecn...   \n",
       "1715    1715  Instituto Federal de Educação, Ciência e Tecno...   \n",
       "1821    1822         INSTITUTO FEDERAL DE GOIÁS - Câmpus Uruaçu   \n",
       "2803    2804  Instituto Federal de Educação, Ciência e Tecno...   \n",
       "3452    3451  Instituto Federal de Educação, Ciência e Tecno...   \n",
       "4039    4030          Instituto Federal de Goiás - Câmpus Jataí   \n",
       "4419    4411  Instituto Federal de Educação, Ciência e Tecno...   \n",
       "4556    4548  Instituto Federal de Goiás - Câmpus Anápolis (GO)   \n",
       "4651    4643  Instituto Federal de Educação, Ciência e Tecno...   \n",
       "\n",
       "                                             nome_curso  ano_inicio  \\\n",
       "7                   Educação para Ciências e Matemática        2012   \n",
       "170                     BACHARELADO EM ENGENHARIA CIVIL        2012   \n",
       "310   CURSO LICENCIATURA EM PEDAGOGIA BILÍNGUE LIBRA...        2018   \n",
       "1252  Programa de Pós-graduação em Educação para Ciê...        2019   \n",
       "1715                    Bacharelado em Engenharia Civil        2012   \n",
       "1821              Analise e Desenvolvimento de Sistemas        2019   \n",
       "2803                Educação para Ciências e Matemática        2013   \n",
       "3452                Educação para Ciências e Matemática        2012   \n",
       "4039  Programa de Pós-Graduação em Educação para Ciê...        2018   \n",
       "4419                Sistema da Tecnologia da Informação        2006   \n",
       "4556  Programa de Pós-Graduação em Educação Profissi...        2019   \n",
       "4651               Tecnologia em Sistemas de Informação        2008   \n",
       "\n",
       "     ano_conclusao  status_curso  codigo_curriculo  \\\n",
       "7             2014     CONCLUIDO                 3   \n",
       "170           2017     CONCLUIDO                57   \n",
       "310           <NA>  EM_ANDAMENTO               108   \n",
       "1252          <NA>  EM_ANDAMENTO               448   \n",
       "1715          <NA>  EM_ANDAMENTO               604   \n",
       "1821          <NA>  EM_ANDAMENTO               643   \n",
       "2803          2015     CONCLUIDO              1017   \n",
       "3452          2014     CONCLUIDO              1244   \n",
       "4039          2021     CONCLUIDO              1456   \n",
       "4419          2010     CONCLUIDO              1603   \n",
       "4556          <NA>  EM_ANDAMENTO              1656   \n",
       "4651          2010     CONCLUIDO              1694   \n",
       "\n",
       "                           nome_instituicao_normalizado sigla_instituicao  \n",
       "7     instituto federal educacao ciencia tecnologia ...               JAT  \n",
       "170               instituto federal goias campus uruacu               URU  \n",
       "310   instituto federal educacao ciencia tecnologia ...               APA  \n",
       "1252  instituto federal educacao cienicas tecnologia...               JAT  \n",
       "1715  instituto federal educacao ciencia tecnologia ...               URU  \n",
       "1821              instituto federal goias campus uruacu               URU  \n",
       "2803  instituto federal educacao ciencia tecnologia ...               JAT  \n",
       "3452  instituto federal educacao ciencia tecnologia ...               JAT  \n",
       "4039               instituto federal goias campus jatai               JAT  \n",
       "4419  instituto federal educacao ciencia tecnologia ...               JAT  \n",
       "4556         instituto federal goias campus anapolis go               ANA  \n",
       "4651  instituto federal educacao ciencia tecnologia ...               JAT  "
      ]
     },
     "execution_count": 14,
     "metadata": {},
     "output_type": "execute_result"
    }
   ],
   "source": [
    "formacao_academica[formacao_academica['sigla_instituicao'].notna()]"
   ]
  },
  {
   "cell_type": "code",
   "execution_count": 15,
   "id": "19498993-9ed8-41f4-a40c-d7b20b341d2a",
   "metadata": {},
   "outputs": [
    {
     "data": {
      "text/plain": [
       "array(['CONCLUIDO', 'EM_ANDAMENTO', 'INCOMPLETO'], dtype=object)"
      ]
     },
     "execution_count": 15,
     "metadata": {},
     "output_type": "execute_result"
    }
   ],
   "source": [
    "formacao_academica['status_curso'].unique()"
   ]
  },
  {
   "cell_type": "code",
   "execution_count": 16,
   "id": "21df011a-182b-4d2e-8637-7e9d584c8e6f",
   "metadata": {},
   "outputs": [
    {
     "data": {
      "text/plain": [
       "['codigo',\n",
       " 'nome_instituicao',\n",
       " 'nome_curso',\n",
       " 'ano_inicio',\n",
       " 'ano_conclusao',\n",
       " 'status_curso',\n",
       " 'codigo_curriculo',\n",
       " 'nome_instituicao_normalizado',\n",
       " 'sigla_instituicao']"
      ]
     },
     "execution_count": 16,
     "metadata": {},
     "output_type": "execute_result"
    }
   ],
   "source": [
    "list(formacao_academica.columns)"
   ]
  },
  {
   "cell_type": "code",
   "execution_count": 17,
   "id": "a5025d5a-2590-4468-8631-b534772a82ba",
   "metadata": {},
   "outputs": [
    {
     "data": {
      "text/plain": [
       "codigo                          False\n",
       "nome_instituicao                 True\n",
       "nome_curso                       True\n",
       "ano_inicio                      False\n",
       "ano_conclusao                    True\n",
       "status_curso                    False\n",
       "codigo_curriculo                False\n",
       "nome_instituicao_normalizado     True\n",
       "sigla_instituicao                True\n",
       "dtype: bool"
      ]
     },
     "execution_count": 17,
     "metadata": {},
     "output_type": "execute_result"
    }
   ],
   "source": [
    "formacao_academica.isna().any()"
   ]
  },
  {
   "cell_type": "markdown",
   "id": "906a0af7-b060-4c06-af97-77b30d8dcd5a",
   "metadata": {},
   "source": [
    "## Exportar"
   ]
  },
  {
   "cell_type": "code",
   "execution_count": 87,
   "id": "c55189b8-69fd-48e5-951a-c6c70437ee66",
   "metadata": {},
   "outputs": [],
   "source": [
    "export_path = Path(IFG_PRODUZ_STORAGE_DIR / \"preprocessed\")\n",
    "\n",
    "if not export_path.is_dir():\n",
    "    Path(export_path).mkdir()\n",
    "\n",
    "formacao_academica.to_csv(export_path / \"formacao_academica.csv\", sep=\";\", index=False)"
   ]
  }
 ],
 "metadata": {
  "kernelspec": {
   "display_name": "Python 3 (ipykernel)",
   "language": "python",
   "name": "python3"
  },
  "language_info": {
   "codemirror_mode": {
    "name": "ipython",
    "version": 3
   },
   "file_extension": ".py",
   "mimetype": "text/x-python",
   "name": "python",
   "nbconvert_exporter": "python",
   "pygments_lexer": "ipython3",
   "version": "3.10.12"
  }
 },
 "nbformat": 4,
 "nbformat_minor": 5
}
