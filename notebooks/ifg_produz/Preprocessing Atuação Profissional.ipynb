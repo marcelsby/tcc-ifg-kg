{
 "cells": [
  {
   "cell_type": "code",
   "execution_count": 1,
   "id": "9e7e33ae",
   "metadata": {
    "tags": [
     "parameters"
    ]
   },
   "outputs": [],
   "source": [
    "p_storage_dir = \"../../storage\"\n",
    "p_notebooks_root = None"
   ]
  },
  {
   "cell_type": "code",
   "execution_count": 2,
   "id": "bbbd8c3d-e9f8-489d-8176-e6487887250b",
   "metadata": {},
   "outputs": [],
   "source": [
    "if p_notebooks_root is not None:\n",
    "    import os\n",
    "    os.chdir(p_notebooks_root)"
   ]
  },
  {
   "cell_type": "code",
   "execution_count": 3,
   "id": "26699801",
   "metadata": {},
   "outputs": [],
   "source": [
    "import pandas as pd\n",
    "from pathlib import Path\n",
    "\n",
    "IFG_PRODUZ_STORAGE_DIR = Path(f\"{p_storage_dir}/ifg_produz\")"
   ]
  },
  {
   "cell_type": "markdown",
   "id": "63619834",
   "metadata": {},
   "source": [
    "## Atuação Profissional"
   ]
  },
  {
   "cell_type": "code",
   "execution_count": 4,
   "id": "e0a1fdaa",
   "metadata": {},
   "outputs": [
    {
     "data": {
      "text/html": [
       "<div>\n",
       "<style scoped>\n",
       "    .dataframe tbody tr th:only-of-type {\n",
       "        vertical-align: middle;\n",
       "    }\n",
       "\n",
       "    .dataframe tbody tr th {\n",
       "        vertical-align: top;\n",
       "    }\n",
       "\n",
       "    .dataframe thead th {\n",
       "        text-align: right;\n",
       "    }\n",
       "</style>\n",
       "<table border=\"1\" class=\"dataframe\">\n",
       "  <thead>\n",
       "    <tr style=\"text-align: right;\">\n",
       "      <th></th>\n",
       "      <th>id_atuacao_profissional</th>\n",
       "      <th>nome_da_instituicao</th>\n",
       "      <th>ano_trabalho</th>\n",
       "      <th>id_curriculo_id</th>\n",
       "    </tr>\n",
       "  </thead>\n",
       "  <tbody>\n",
       "    <tr>\n",
       "      <th>0</th>\n",
       "      <td>1</td>\n",
       "      <td>Laboratório de Pesquisa em Redes Neurais</td>\n",
       "      <td>2003.0</td>\n",
       "      <td>1</td>\n",
       "    </tr>\n",
       "    <tr>\n",
       "      <th>1</th>\n",
       "      <td>2</td>\n",
       "      <td>Tribunal de Justiça do Estado de Goiás</td>\n",
       "      <td>2005.0</td>\n",
       "      <td>1</td>\n",
       "    </tr>\n",
       "    <tr>\n",
       "      <th>2</th>\n",
       "      <td>3</td>\n",
       "      <td>Pires e Jacó Interatividade</td>\n",
       "      <td>2005.0</td>\n",
       "      <td>1</td>\n",
       "    </tr>\n",
       "    <tr>\n",
       "      <th>3</th>\n",
       "      <td>4</td>\n",
       "      <td>Universidade Federal de Goiás</td>\n",
       "      <td>NaN</td>\n",
       "      <td>1</td>\n",
       "    </tr>\n",
       "    <tr>\n",
       "      <th>4</th>\n",
       "      <td>5</td>\n",
       "      <td>Instituto Federal de Educação, Ciência e Tecno...</td>\n",
       "      <td>NaN</td>\n",
       "      <td>1</td>\n",
       "    </tr>\n",
       "  </tbody>\n",
       "</table>\n",
       "</div>"
      ],
      "text/plain": [
       "   id_atuacao_profissional                                nome_da_instituicao  \\\n",
       "0                        1           Laboratório de Pesquisa em Redes Neurais   \n",
       "1                        2             Tribunal de Justiça do Estado de Goiás   \n",
       "2                        3                        Pires e Jacó Interatividade   \n",
       "3                        4                      Universidade Federal de Goiás   \n",
       "4                        5  Instituto Federal de Educação, Ciência e Tecno...   \n",
       "\n",
       "   ano_trabalho  id_curriculo_id  \n",
       "0        2003.0                1  \n",
       "1        2005.0                1  \n",
       "2        2005.0                1  \n",
       "3           NaN                1  \n",
       "4           NaN                1  "
      ]
     },
     "execution_count": 4,
     "metadata": {},
     "output_type": "execute_result"
    }
   ],
   "source": [
    "atuacao_profissional = pd.read_csv(IFG_PRODUZ_STORAGE_DIR / \"extracted/atuacao_profissional.csv\", delimiter=\";\")\n",
    "\n",
    "atuacao_profissional.head(n=5)"
   ]
  },
  {
   "cell_type": "code",
   "execution_count": 5,
   "id": "eeb8f3b1-5abf-4c88-99b4-20bebf5ac7b6",
   "metadata": {},
   "outputs": [],
   "source": [
    "atuacao_profissional = atuacao_profissional.rename(columns={\n",
    "    'id_curriculo_id': 'codigo_curriculo',\n",
    "    'id_atuacao_profissional': 'codigo',\n",
    "})"
   ]
  },
  {
   "cell_type": "code",
   "execution_count": 6,
   "id": "e8642670-aebb-47ec-9cd8-16c047635ed4",
   "metadata": {},
   "outputs": [],
   "source": [
    "atuacao_profissional['ano_trabalho'] = atuacao_profissional['ano_trabalho'].astype('Int64')"
   ]
  },
  {
   "cell_type": "code",
   "execution_count": 7,
   "id": "2b5ddcd2-bf35-44e5-8bf0-9bef0532e827",
   "metadata": {},
   "outputs": [
    {
     "data": {
      "text/html": [
       "<div>\n",
       "<style scoped>\n",
       "    .dataframe tbody tr th:only-of-type {\n",
       "        vertical-align: middle;\n",
       "    }\n",
       "\n",
       "    .dataframe tbody tr th {\n",
       "        vertical-align: top;\n",
       "    }\n",
       "\n",
       "    .dataframe thead th {\n",
       "        text-align: right;\n",
       "    }\n",
       "</style>\n",
       "<table border=\"1\" class=\"dataframe\">\n",
       "  <thead>\n",
       "    <tr style=\"text-align: right;\">\n",
       "      <th></th>\n",
       "      <th>codigo</th>\n",
       "      <th>nome_da_instituicao</th>\n",
       "      <th>ano_trabalho</th>\n",
       "      <th>codigo_curriculo</th>\n",
       "    </tr>\n",
       "  </thead>\n",
       "  <tbody>\n",
       "    <tr>\n",
       "      <th>4794</th>\n",
       "      <td>4794</td>\n",
       "      <td>Instituto Federal de Educação, Ciência e Tecno...</td>\n",
       "      <td>2019</td>\n",
       "      <td>806</td>\n",
       "    </tr>\n",
       "    <tr>\n",
       "      <th>1538</th>\n",
       "      <td>1538</td>\n",
       "      <td>Secretaria de Educação do Estado de Goiás</td>\n",
       "      <td>&lt;NA&gt;</td>\n",
       "      <td>264</td>\n",
       "    </tr>\n",
       "    <tr>\n",
       "      <th>8875</th>\n",
       "      <td>8875</td>\n",
       "      <td>Universidade Federal de Goiás</td>\n",
       "      <td>2008</td>\n",
       "      <td>1471</td>\n",
       "    </tr>\n",
       "    <tr>\n",
       "      <th>4128</th>\n",
       "      <td>4129</td>\n",
       "      <td>Meta Prime Sistemas Ltda</td>\n",
       "      <td>2010</td>\n",
       "      <td>698</td>\n",
       "    </tr>\n",
       "    <tr>\n",
       "      <th>10654</th>\n",
       "      <td>10655</td>\n",
       "      <td>Governo do Distrito Federal</td>\n",
       "      <td>2018</td>\n",
       "      <td>1790</td>\n",
       "    </tr>\n",
       "  </tbody>\n",
       "</table>\n",
       "</div>"
      ],
      "text/plain": [
       "       codigo                                nome_da_instituicao  \\\n",
       "4794     4794  Instituto Federal de Educação, Ciência e Tecno...   \n",
       "1538     1538          Secretaria de Educação do Estado de Goiás   \n",
       "8875     8875                      Universidade Federal de Goiás   \n",
       "4128     4129                           Meta Prime Sistemas Ltda   \n",
       "10654   10655                        Governo do Distrito Federal   \n",
       "\n",
       "       ano_trabalho  codigo_curriculo  \n",
       "4794           2019               806  \n",
       "1538           <NA>               264  \n",
       "8875           2008              1471  \n",
       "4128           2010               698  \n",
       "10654          2018              1790  "
      ]
     },
     "execution_count": 7,
     "metadata": {},
     "output_type": "execute_result"
    }
   ],
   "source": [
    "atuacao_profissional.sample(n=5)"
   ]
  },
  {
   "cell_type": "code",
   "execution_count": 8,
   "id": "c3d63f96-e0ad-4f46-b482-cf1802f7f681",
   "metadata": {},
   "outputs": [
    {
     "data": {
      "text/plain": [
       "codigo                 False\n",
       "nome_da_instituicao    False\n",
       "ano_trabalho            True\n",
       "codigo_curriculo       False\n",
       "dtype: bool"
      ]
     },
     "execution_count": 8,
     "metadata": {},
     "output_type": "execute_result"
    }
   ],
   "source": [
    "atuacao_profissional.isna().any()"
   ]
  },
  {
   "cell_type": "code",
   "execution_count": 9,
   "id": "67c4fade-b960-48de-bb97-857e532c9ffa",
   "metadata": {},
   "outputs": [
    {
     "data": {
      "text/plain": [
       "['codigo', 'nome_da_instituicao', 'ano_trabalho', 'codigo_curriculo']"
      ]
     },
     "execution_count": 9,
     "metadata": {},
     "output_type": "execute_result"
    }
   ],
   "source": [
    "list(atuacao_profissional.columns)"
   ]
  },
  {
   "cell_type": "markdown",
   "id": "906a0af7-b060-4c06-af97-77b30d8dcd5a",
   "metadata": {},
   "source": [
    "**Exportar**"
   ]
  },
  {
   "cell_type": "code",
   "execution_count": 10,
   "id": "c55189b8-69fd-48e5-951a-c6c70437ee66",
   "metadata": {},
   "outputs": [],
   "source": [
    "export_path = Path(IFG_PRODUZ_STORAGE_DIR / \"preprocessed\")\n",
    "\n",
    "if not export_path.is_dir():\n",
    "    Path(export_path).mkdir()\n",
    "\n",
    "atuacao_profissional.to_csv(export_path / \"atuacao_profissional.csv\", sep=\";\", index=False)"
   ]
  }
 ],
 "metadata": {
  "kernelspec": {
   "display_name": "Python 3 (ipykernel)",
   "language": "python",
   "name": "python3"
  },
  "language_info": {
   "codemirror_mode": {
    "name": "ipython",
    "version": 3
   },
   "file_extension": ".py",
   "mimetype": "text/x-python",
   "name": "python",
   "nbconvert_exporter": "python",
   "pygments_lexer": "ipython3",
   "version": "3.10.12"
  }
 },
 "nbformat": 4,
 "nbformat_minor": 5
}
