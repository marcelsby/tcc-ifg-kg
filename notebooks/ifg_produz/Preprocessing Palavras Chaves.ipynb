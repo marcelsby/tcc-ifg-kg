{
 "cells": [
  {
   "cell_type": "code",
   "execution_count": 18,
   "id": "9e7e33ae",
   "metadata": {
    "tags": [
     "parameters"
    ]
   },
   "outputs": [],
   "source": [
    "p_storage_dir = \"../../storage\"\n",
    "p_notebooks_root = None"
   ]
  },
  {
   "cell_type": "code",
   "execution_count": 19,
   "id": "6225b302-865f-4a95-8b6e-2faf59a76328",
   "metadata": {},
   "outputs": [],
   "source": [
    "if p_notebooks_root is not None:\n",
    "    import os\n",
    "    os.chdir(p_notebooks_root)"
   ]
  },
  {
   "cell_type": "code",
   "execution_count": 20,
   "id": "26699801",
   "metadata": {},
   "outputs": [],
   "source": [
    "from ast import literal_eval\n",
    "\n",
    "import pandas as pd\n",
    "from pathlib import Path\n",
    "\n",
    "IFG_PRODUZ_STORAGE_DIR = Path(f\"{p_storage_dir}/ifg_produz\")"
   ]
  },
  {
   "cell_type": "markdown",
   "id": "63619834",
   "metadata": {},
   "source": [
    "## Palavras Chaves"
   ]
  },
  {
   "cell_type": "code",
   "execution_count": 21,
   "id": "e0a1fdaa",
   "metadata": {},
   "outputs": [
    {
     "data": {
      "text/html": [
       "<div>\n",
       "<style scoped>\n",
       "    .dataframe tbody tr th:only-of-type {\n",
       "        vertical-align: middle;\n",
       "    }\n",
       "\n",
       "    .dataframe tbody tr th {\n",
       "        vertical-align: top;\n",
       "    }\n",
       "\n",
       "    .dataframe thead th {\n",
       "        text-align: right;\n",
       "    }\n",
       "</style>\n",
       "<table border=\"1\" class=\"dataframe\">\n",
       "  <thead>\n",
       "    <tr style=\"text-align: right;\">\n",
       "      <th></th>\n",
       "      <th>palavra_chave</th>\n",
       "    </tr>\n",
       "  </thead>\n",
       "  <tbody>\n",
       "    <tr>\n",
       "      <th>0</th>\n",
       "      <td>[{'palavra': 'goiania', 'correta': 'Goiânia', ...</td>\n",
       "    </tr>\n",
       "    <tr>\n",
       "      <th>1</th>\n",
       "      <td>[{'palavra': 'enfermagem', 'correta': 'Enferma...</td>\n",
       "    </tr>\n",
       "    <tr>\n",
       "      <th>2</th>\n",
       "      <td>[{'palavra': 'engenharia', 'correta': 'Engenha...</td>\n",
       "    </tr>\n",
       "    <tr>\n",
       "      <th>3</th>\n",
       "      <td>[{'palavra': 'administracao', 'correta': 'Admi...</td>\n",
       "    </tr>\n",
       "    <tr>\n",
       "      <th>4</th>\n",
       "      <td>[{'palavra': 'administracao', 'correta': 'Admi...</td>\n",
       "    </tr>\n",
       "  </tbody>\n",
       "</table>\n",
       "</div>"
      ],
      "text/plain": [
       "                                       palavra_chave\n",
       "0  [{'palavra': 'goiania', 'correta': 'Goiânia', ...\n",
       "1  [{'palavra': 'enfermagem', 'correta': 'Enferma...\n",
       "2  [{'palavra': 'engenharia', 'correta': 'Engenha...\n",
       "3  [{'palavra': 'administracao', 'correta': 'Admi...\n",
       "4  [{'palavra': 'administracao', 'correta': 'Admi..."
      ]
     },
     "execution_count": 21,
     "metadata": {},
     "output_type": "execute_result"
    }
   ],
   "source": [
    "palavras_chaves = pd.read_csv(IFG_PRODUZ_STORAGE_DIR / \"intermediate/palavras_chaves.csv\", delimiter=\";\")\n",
    "\n",
    "palavras_chaves.head(n=5)"
   ]
  },
  {
   "cell_type": "code",
   "execution_count": 22,
   "id": "051ef63e-0dc2-4afa-af88-a88ec5bb4efa",
   "metadata": {},
   "outputs": [],
   "source": [
    "def extract_palavras(row, result_list):\n",
    "    palavras = literal_eval(row.values[0])\n",
    "    \n",
    "    for palavra in palavras:\n",
    "        del palavra['importancia']\n",
    "        result_list.append(palavra)"
   ]
  },
  {
   "cell_type": "code",
   "execution_count": 23,
   "id": "a230484b-1511-499e-bf29-4ce7df525dd3",
   "metadata": {},
   "outputs": [
    {
     "data": {
      "text/html": [
       "<div>\n",
       "<style scoped>\n",
       "    .dataframe tbody tr th:only-of-type {\n",
       "        vertical-align: middle;\n",
       "    }\n",
       "\n",
       "    .dataframe tbody tr th {\n",
       "        vertical-align: top;\n",
       "    }\n",
       "\n",
       "    .dataframe thead th {\n",
       "        text-align: right;\n",
       "    }\n",
       "</style>\n",
       "<table border=\"1\" class=\"dataframe\">\n",
       "  <thead>\n",
       "    <tr style=\"text-align: right;\">\n",
       "      <th></th>\n",
       "      <th>palavra</th>\n",
       "      <th>correta</th>\n",
       "    </tr>\n",
       "  </thead>\n",
       "  <tbody>\n",
       "    <tr>\n",
       "      <th>33944</th>\n",
       "      <td>tendencias pesquisas</td>\n",
       "      <td>Tendências Das Pesquisas</td>\n",
       "    </tr>\n",
       "    <tr>\n",
       "      <th>113367</th>\n",
       "      <td>cultura</td>\n",
       "      <td>Cultura</td>\n",
       "    </tr>\n",
       "    <tr>\n",
       "      <th>38161</th>\n",
       "      <td>aprendizados</td>\n",
       "      <td>Aprendizados</td>\n",
       "    </tr>\n",
       "    <tr>\n",
       "      <th>51391</th>\n",
       "      <td>estado</td>\n",
       "      <td>Estado</td>\n",
       "    </tr>\n",
       "    <tr>\n",
       "      <th>54287</th>\n",
       "      <td>particulas sedimentacao</td>\n",
       "      <td>Partículas Em Sedimentação</td>\n",
       "    </tr>\n",
       "    <tr>\n",
       "      <th>68688</th>\n",
       "      <td>pocos escavados</td>\n",
       "      <td>Poços Escavados</td>\n",
       "    </tr>\n",
       "    <tr>\n",
       "      <th>31121</th>\n",
       "      <td>ciencia politica</td>\n",
       "      <td>Ciência Política</td>\n",
       "    </tr>\n",
       "    <tr>\n",
       "      <th>43336</th>\n",
       "      <td>curriculo</td>\n",
       "      <td>Currículo</td>\n",
       "    </tr>\n",
       "    <tr>\n",
       "      <th>88906</th>\n",
       "      <td>centro</td>\n",
       "      <td>Centro</td>\n",
       "    </tr>\n",
       "    <tr>\n",
       "      <th>81127</th>\n",
       "      <td>entorno</td>\n",
       "      <td>Entorno</td>\n",
       "    </tr>\n",
       "  </tbody>\n",
       "</table>\n",
       "</div>"
      ],
      "text/plain": [
       "                        palavra                     correta\n",
       "33944      tendencias pesquisas    Tendências Das Pesquisas\n",
       "113367                  cultura                     Cultura\n",
       "38161              aprendizados                Aprendizados\n",
       "51391                    estado                      Estado\n",
       "54287   particulas sedimentacao  Partículas Em Sedimentação\n",
       "68688           pocos escavados             Poços Escavados\n",
       "31121          ciencia politica            Ciência Política\n",
       "43336                 curriculo                   Currículo\n",
       "88906                    centro                      Centro\n",
       "81127                   entorno                     Entorno"
      ]
     },
     "execution_count": 23,
     "metadata": {},
     "output_type": "execute_result"
    }
   ],
   "source": [
    "palavras_extracted = []\n",
    "\n",
    "palavras_chaves.apply(extract_palavras, args=(palavras_extracted,), axis=1)\n",
    "\n",
    "palavras_chaves_final = pd.DataFrame(palavras_extracted)\n",
    "\n",
    "palavras_chaves_final.sample(n=10)"
   ]
  },
  {
   "cell_type": "code",
   "execution_count": 24,
   "id": "91331308-9166-4a03-95dd-6b46eadc5fab",
   "metadata": {},
   "outputs": [],
   "source": [
    "palavras_chaves_final = palavras_chaves_final.drop_duplicates(subset='palavra')"
   ]
  },
  {
   "cell_type": "code",
   "execution_count": 25,
   "id": "909ba014-3085-45f1-83a5-e42d1fca69f0",
   "metadata": {},
   "outputs": [
    {
     "data": {
      "text/html": [
       "<div>\n",
       "<style scoped>\n",
       "    .dataframe tbody tr th:only-of-type {\n",
       "        vertical-align: middle;\n",
       "    }\n",
       "\n",
       "    .dataframe tbody tr th {\n",
       "        vertical-align: top;\n",
       "    }\n",
       "\n",
       "    .dataframe thead th {\n",
       "        text-align: right;\n",
       "    }\n",
       "</style>\n",
       "<table border=\"1\" class=\"dataframe\">\n",
       "  <thead>\n",
       "    <tr style=\"text-align: right;\">\n",
       "      <th></th>\n",
       "      <th>palavra</th>\n",
       "      <th>correta</th>\n",
       "    </tr>\n",
       "  </thead>\n",
       "  <tbody>\n",
       "    <tr>\n",
       "      <th>8581</th>\n",
       "      <td>manta termica</td>\n",
       "      <td>Manta Térmica</td>\n",
       "    </tr>\n",
       "    <tr>\n",
       "      <th>13380</th>\n",
       "      <td>historia social</td>\n",
       "      <td>História Social</td>\n",
       "    </tr>\n",
       "    <tr>\n",
       "      <th>68701</th>\n",
       "      <td>atraves tematicas</td>\n",
       "      <td>Através De Temáticas</td>\n",
       "    </tr>\n",
       "    <tr>\n",
       "      <th>46631</th>\n",
       "      <td>influencia estacao</td>\n",
       "      <td>Influência Da Estação</td>\n",
       "    </tr>\n",
       "    <tr>\n",
       "      <th>106585</th>\n",
       "      <td>analise percepcoes</td>\n",
       "      <td>Análise Das Percepções</td>\n",
       "    </tr>\n",
       "    <tr>\n",
       "      <th>39555</th>\n",
       "      <td>mapeamento fragilidade</td>\n",
       "      <td>Mapeamento Da Fragilidade</td>\n",
       "    </tr>\n",
       "    <tr>\n",
       "      <th>60808</th>\n",
       "      <td>contribuir</td>\n",
       "      <td>Contribuir</td>\n",
       "    </tr>\n",
       "    <tr>\n",
       "      <th>112898</th>\n",
       "      <td>modellus construcao</td>\n",
       "      <td>Modellus Para Construção</td>\n",
       "    </tr>\n",
       "    <tr>\n",
       "      <th>1575</th>\n",
       "      <td>superior</td>\n",
       "      <td>Superior</td>\n",
       "    </tr>\n",
       "    <tr>\n",
       "      <th>244</th>\n",
       "      <td>projeto</td>\n",
       "      <td>Projeto</td>\n",
       "    </tr>\n",
       "  </tbody>\n",
       "</table>\n",
       "</div>"
      ],
      "text/plain": [
       "                       palavra                    correta\n",
       "8581             manta termica              Manta Térmica\n",
       "13380          historia social            História Social\n",
       "68701        atraves tematicas       Através De Temáticas\n",
       "46631       influencia estacao      Influência Da Estação\n",
       "106585      analise percepcoes     Análise Das Percepções\n",
       "39555   mapeamento fragilidade  Mapeamento Da Fragilidade\n",
       "60808               contribuir                 Contribuir\n",
       "112898     modellus construcao   Modellus Para Construção\n",
       "1575                  superior                   Superior\n",
       "244                    projeto                    Projeto"
      ]
     },
     "execution_count": 25,
     "metadata": {},
     "output_type": "execute_result"
    }
   ],
   "source": [
    "palavras_chaves_final.sample(n=10)"
   ]
  },
  {
   "cell_type": "markdown",
   "id": "3913491b-8e94-4165-adb8-34a4c486311c",
   "metadata": {},
   "source": [
    "Limpando palavras chaves mal formadas"
   ]
  },
  {
   "cell_type": "code",
   "execution_count": 26,
   "id": "32929783-f3bd-489d-a668-8351b5ad2077",
   "metadata": {},
   "outputs": [
    {
     "data": {
      "text/html": [
       "<div>\n",
       "<style scoped>\n",
       "    .dataframe tbody tr th:only-of-type {\n",
       "        vertical-align: middle;\n",
       "    }\n",
       "\n",
       "    .dataframe tbody tr th {\n",
       "        vertical-align: top;\n",
       "    }\n",
       "\n",
       "    .dataframe thead th {\n",
       "        text-align: right;\n",
       "    }\n",
       "</style>\n",
       "<table border=\"1\" class=\"dataframe\">\n",
       "  <thead>\n",
       "    <tr style=\"text-align: right;\">\n",
       "      <th></th>\n",
       "      <th>palavra</th>\n",
       "      <th>correta</th>\n",
       "    </tr>\n",
       "  </thead>\n",
       "  <tbody>\n",
       "    <tr>\n",
       "      <th>23825</th>\n",
       "      <td>conectados rede</td>\n",
       "      <td>Conectados A&amp;#768; Rede</td>\n",
       "    </tr>\n",
       "    <tr>\n",
       "      <th>100133</th>\n",
       "      <td>dores definidas</td>\n",
       "      <td>Dores Na&amp;#771;O Definidas</td>\n",
       "    </tr>\n",
       "  </tbody>\n",
       "</table>\n",
       "</div>"
      ],
      "text/plain": [
       "                palavra                    correta\n",
       "23825   conectados rede    Conectados A&#768; Rede\n",
       "100133  dores definidas  Dores Na&#771;O Definidas"
      ]
     },
     "execution_count": 26,
     "metadata": {},
     "output_type": "execute_result"
    }
   ],
   "source": [
    "palavras_chaves_final[palavras_chaves_final['correta'].str.contains('&\\S')]"
   ]
  },
  {
   "cell_type": "code",
   "execution_count": 27,
   "id": "a34290a0-0e92-4870-96f5-d709624ac662",
   "metadata": {},
   "outputs": [],
   "source": [
    "palavras_chaves_final.loc[23825]['correta'] = \"Conectados À Rede\""
   ]
  },
  {
   "cell_type": "code",
   "execution_count": 28,
   "id": "6d36e762-e0af-4277-a5e3-fb9d60d74184",
   "metadata": {},
   "outputs": [],
   "source": [
    "palavras_chaves_final.loc[100133]['correta'] = \"Dores Não Definidas\""
   ]
  },
  {
   "cell_type": "code",
   "execution_count": 29,
   "id": "38f297cd-02eb-43ea-a1c7-874427325e25",
   "metadata": {},
   "outputs": [
    {
     "data": {
      "text/html": [
       "<div>\n",
       "<style scoped>\n",
       "    .dataframe tbody tr th:only-of-type {\n",
       "        vertical-align: middle;\n",
       "    }\n",
       "\n",
       "    .dataframe tbody tr th {\n",
       "        vertical-align: top;\n",
       "    }\n",
       "\n",
       "    .dataframe thead th {\n",
       "        text-align: right;\n",
       "    }\n",
       "</style>\n",
       "<table border=\"1\" class=\"dataframe\">\n",
       "  <thead>\n",
       "    <tr style=\"text-align: right;\">\n",
       "      <th></th>\n",
       "      <th>palavra</th>\n",
       "      <th>correta</th>\n",
       "    </tr>\n",
       "  </thead>\n",
       "  <tbody>\n",
       "  </tbody>\n",
       "</table>\n",
       "</div>"
      ],
      "text/plain": [
       "Empty DataFrame\n",
       "Columns: [palavra, correta]\n",
       "Index: []"
      ]
     },
     "execution_count": 29,
     "metadata": {},
     "output_type": "execute_result"
    }
   ],
   "source": [
    "palavras_chaves_final[palavras_chaves_final['correta'].str.contains('&\\S')]"
   ]
  },
  {
   "cell_type": "markdown",
   "id": "906a0af7-b060-4c06-af97-77b30d8dcd5a",
   "metadata": {},
   "source": [
    "**Exportar as palavras chaves**"
   ]
  },
  {
   "cell_type": "code",
   "execution_count": 30,
   "id": "c55189b8-69fd-48e5-951a-c6c70437ee66",
   "metadata": {},
   "outputs": [],
   "source": [
    "export_path = Path(IFG_PRODUZ_STORAGE_DIR / \"preprocessed\")\n",
    "\n",
    "if not export_path.is_dir():\n",
    "    Path(export_path).mkdir()\n",
    "\n",
    "try:\n",
    "    palavras_chaves_final.to_csv(export_path / \"palavras_chaves.csv\", sep=\";\", index=False)\n",
    "except Exception as e:\n",
    "    print(str(e))"
   ]
  }
 ],
 "metadata": {
  "kernelspec": {
   "display_name": "Python 3 (ipykernel)",
   "language": "python",
   "name": "python3"
  },
  "language_info": {
   "codemirror_mode": {
    "name": "ipython",
    "version": 3
   },
   "file_extension": ".py",
   "mimetype": "text/x-python",
   "name": "python",
   "nbconvert_exporter": "python",
   "pygments_lexer": "ipython3",
   "version": "3.10.12"
  }
 },
 "nbformat": 4,
 "nbformat_minor": 5
}
