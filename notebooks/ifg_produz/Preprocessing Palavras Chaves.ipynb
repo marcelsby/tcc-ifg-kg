{
 "cells": [
  {
   "cell_type": "code",
   "execution_count": 2,
   "id": "9e7e33ae",
   "metadata": {
    "tags": [
     "parameters"
    ]
   },
   "outputs": [],
   "source": [
    "p_storage_dir = \"../../storage\""
   ]
  },
  {
   "cell_type": "code",
   "execution_count": 20,
   "id": "26699801",
   "metadata": {},
   "outputs": [],
   "source": [
    "from ast import literal_eval\n",
    "\n",
    "import pandas as pd\n",
    "from pathlib import Path\n",
    "\n",
    "IFG_PRODUZ_STORAGE_DIR = Path(f\"{p_storage_dir}/ifg_produz\")"
   ]
  },
  {
   "cell_type": "markdown",
   "id": "63619834",
   "metadata": {},
   "source": [
    "## Palavras Chaves"
   ]
  },
  {
   "cell_type": "code",
   "execution_count": 30,
   "id": "e0a1fdaa",
   "metadata": {},
   "outputs": [
    {
     "data": {
      "text/html": [
       "<div>\n",
       "<style scoped>\n",
       "    .dataframe tbody tr th:only-of-type {\n",
       "        vertical-align: middle;\n",
       "    }\n",
       "\n",
       "    .dataframe tbody tr th {\n",
       "        vertical-align: top;\n",
       "    }\n",
       "\n",
       "    .dataframe thead th {\n",
       "        text-align: right;\n",
       "    }\n",
       "</style>\n",
       "<table border=\"1\" class=\"dataframe\">\n",
       "  <thead>\n",
       "    <tr style=\"text-align: right;\">\n",
       "      <th></th>\n",
       "      <th>palavra_chave</th>\n",
       "    </tr>\n",
       "  </thead>\n",
       "  <tbody>\n",
       "    <tr>\n",
       "      <th>0</th>\n",
       "      <td>[{'palavra': 'goiania', 'correta': 'Goiânia', ...</td>\n",
       "    </tr>\n",
       "    <tr>\n",
       "      <th>1</th>\n",
       "      <td>[{'palavra': 'enfermagem', 'correta': 'Enferma...</td>\n",
       "    </tr>\n",
       "    <tr>\n",
       "      <th>2</th>\n",
       "      <td>[{'palavra': 'engenharia', 'correta': 'Engenha...</td>\n",
       "    </tr>\n",
       "    <tr>\n",
       "      <th>3</th>\n",
       "      <td>[{'palavra': 'administracao', 'correta': 'Admi...</td>\n",
       "    </tr>\n",
       "    <tr>\n",
       "      <th>4</th>\n",
       "      <td>[{'palavra': 'administracao', 'correta': 'Admi...</td>\n",
       "    </tr>\n",
       "  </tbody>\n",
       "</table>\n",
       "</div>"
      ],
      "text/plain": [
       "                                       palavra_chave\n",
       "0  [{'palavra': 'goiania', 'correta': 'Goiânia', ...\n",
       "1  [{'palavra': 'enfermagem', 'correta': 'Enferma...\n",
       "2  [{'palavra': 'engenharia', 'correta': 'Engenha...\n",
       "3  [{'palavra': 'administracao', 'correta': 'Admi...\n",
       "4  [{'palavra': 'administracao', 'correta': 'Admi..."
      ]
     },
     "execution_count": 30,
     "metadata": {},
     "output_type": "execute_result"
    }
   ],
   "source": [
    "palavras_chaves = pd.read_csv(IFG_PRODUZ_STORAGE_DIR / \"intermediate/palavras_chaves.csv\", delimiter=\";\")\n",
    "\n",
    "palavras_chaves.head(n=5)"
   ]
  },
  {
   "cell_type": "code",
   "execution_count": 33,
   "id": "051ef63e-0dc2-4afa-af88-a88ec5bb4efa",
   "metadata": {},
   "outputs": [],
   "source": [
    "def extract_palavras(row, result_list):\n",
    "    palavras = literal_eval(row.values[0])\n",
    "    \n",
    "    for palavra in palavras:\n",
    "        del palavra['importancia']\n",
    "        result_list.append(palavra)"
   ]
  },
  {
   "cell_type": "code",
   "execution_count": 43,
   "id": "a230484b-1511-499e-bf29-4ce7df525dd3",
   "metadata": {},
   "outputs": [
    {
     "data": {
      "text/html": [
       "<div>\n",
       "<style scoped>\n",
       "    .dataframe tbody tr th:only-of-type {\n",
       "        vertical-align: middle;\n",
       "    }\n",
       "\n",
       "    .dataframe tbody tr th {\n",
       "        vertical-align: top;\n",
       "    }\n",
       "\n",
       "    .dataframe thead th {\n",
       "        text-align: right;\n",
       "    }\n",
       "</style>\n",
       "<table border=\"1\" class=\"dataframe\">\n",
       "  <thead>\n",
       "    <tr style=\"text-align: right;\">\n",
       "      <th></th>\n",
       "      <th>palavra</th>\n",
       "      <th>correta</th>\n",
       "    </tr>\n",
       "  </thead>\n",
       "  <tbody>\n",
       "    <tr>\n",
       "      <th>98771</th>\n",
       "      <td>concepcoes</td>\n",
       "      <td>Concepções</td>\n",
       "    </tr>\n",
       "    <tr>\n",
       "      <th>61411</th>\n",
       "      <td>espaco fisico</td>\n",
       "      <td>Espaço Físico</td>\n",
       "    </tr>\n",
       "    <tr>\n",
       "      <th>97572</th>\n",
       "      <td>ciencias</td>\n",
       "      <td>Ciências</td>\n",
       "    </tr>\n",
       "    <tr>\n",
       "      <th>72813</th>\n",
       "      <td>carboidratos</td>\n",
       "      <td>Carboidratos</td>\n",
       "    </tr>\n",
       "    <tr>\n",
       "      <th>40429</th>\n",
       "      <td>tradutores</td>\n",
       "      <td>Tradutores</td>\n",
       "    </tr>\n",
       "    <tr>\n",
       "      <th>12298</th>\n",
       "      <td>curso edificacoes</td>\n",
       "      <td>Curso De Edificações</td>\n",
       "    </tr>\n",
       "    <tr>\n",
       "      <th>95338</th>\n",
       "      <td>movimento estudantil</td>\n",
       "      <td>Movimento Estudantil</td>\n",
       "    </tr>\n",
       "    <tr>\n",
       "      <th>85516</th>\n",
       "      <td>tecnico edificacoes</td>\n",
       "      <td>Técnico Em Edificações</td>\n",
       "    </tr>\n",
       "    <tr>\n",
       "      <th>85033</th>\n",
       "      <td>abraco</td>\n",
       "      <td>Abraço</td>\n",
       "    </tr>\n",
       "    <tr>\n",
       "      <th>96469</th>\n",
       "      <td>excessivo</td>\n",
       "      <td>Excessivo</td>\n",
       "    </tr>\n",
       "  </tbody>\n",
       "</table>\n",
       "</div>"
      ],
      "text/plain": [
       "                    palavra                 correta\n",
       "98771            concepcoes              Concepções\n",
       "61411         espaco fisico           Espaço Físico\n",
       "97572              ciencias                Ciências\n",
       "72813          carboidratos            Carboidratos\n",
       "40429            tradutores              Tradutores\n",
       "12298     curso edificacoes    Curso De Edificações\n",
       "95338  movimento estudantil    Movimento Estudantil\n",
       "85516   tecnico edificacoes  Técnico Em Edificações\n",
       "85033                abraco                  Abraço\n",
       "96469             excessivo               Excessivo"
      ]
     },
     "execution_count": 43,
     "metadata": {},
     "output_type": "execute_result"
    }
   ],
   "source": [
    "palavras_extracted = []\n",
    "\n",
    "palavras_chaves.apply(extract_palavras, args=(palavras_extracted,), axis=1)\n",
    "\n",
    "palavras_chaves_final = pd.DataFrame(palavras_extracted)\n",
    "\n",
    "palavras_chaves_final.sample(n=10)"
   ]
  },
  {
   "cell_type": "code",
   "execution_count": 44,
   "id": "91331308-9166-4a03-95dd-6b46eadc5fab",
   "metadata": {},
   "outputs": [],
   "source": [
    "palavras_chaves_final = palavras_chaves_final.drop_duplicates(subset='palavra')"
   ]
  },
  {
   "cell_type": "code",
   "execution_count": 45,
   "id": "909ba014-3085-45f1-83a5-e42d1fca69f0",
   "metadata": {},
   "outputs": [
    {
     "data": {
      "text/html": [
       "<div>\n",
       "<style scoped>\n",
       "    .dataframe tbody tr th:only-of-type {\n",
       "        vertical-align: middle;\n",
       "    }\n",
       "\n",
       "    .dataframe tbody tr th {\n",
       "        vertical-align: top;\n",
       "    }\n",
       "\n",
       "    .dataframe thead th {\n",
       "        text-align: right;\n",
       "    }\n",
       "</style>\n",
       "<table border=\"1\" class=\"dataframe\">\n",
       "  <thead>\n",
       "    <tr style=\"text-align: right;\">\n",
       "      <th></th>\n",
       "      <th>palavra</th>\n",
       "      <th>correta</th>\n",
       "    </tr>\n",
       "  </thead>\n",
       "  <tbody>\n",
       "    <tr>\n",
       "      <th>115568</th>\n",
       "      <td>solo divertimentos</td>\n",
       "      <td>Solo - Divertimentos</td>\n",
       "    </tr>\n",
       "    <tr>\n",
       "      <th>87235</th>\n",
       "      <td>patrimonio imaterial</td>\n",
       "      <td>Patrimônio Imaterial</td>\n",
       "    </tr>\n",
       "    <tr>\n",
       "      <th>41358</th>\n",
       "      <td>estimating wood</td>\n",
       "      <td>Estimating Wood</td>\n",
       "    </tr>\n",
       "    <tr>\n",
       "      <th>82410</th>\n",
       "      <td>ensino curso</td>\n",
       "      <td>Ensino No Curso</td>\n",
       "    </tr>\n",
       "    <tr>\n",
       "      <th>26740</th>\n",
       "      <td>normas concessionarias</td>\n",
       "      <td>Normas Das Concessionárias</td>\n",
       "    </tr>\n",
       "    <tr>\n",
       "      <th>5748</th>\n",
       "      <td>caju polivinil</td>\n",
       "      <td>Caju E Polivinil</td>\n",
       "    </tr>\n",
       "    <tr>\n",
       "      <th>77557</th>\n",
       "      <td>politicas produzidas</td>\n",
       "      <td>Políticas Produzidas</td>\n",
       "    </tr>\n",
       "    <tr>\n",
       "      <th>30038</th>\n",
       "      <td>ampliando</td>\n",
       "      <td>Ampliando</td>\n",
       "    </tr>\n",
       "    <tr>\n",
       "      <th>15972</th>\n",
       "      <td>recital abertura</td>\n",
       "      <td>Recital De Abertura</td>\n",
       "    </tr>\n",
       "    <tr>\n",
       "      <th>45152</th>\n",
       "      <td>formoso</td>\n",
       "      <td>Formoso</td>\n",
       "    </tr>\n",
       "  </tbody>\n",
       "</table>\n",
       "</div>"
      ],
      "text/plain": [
       "                       palavra                     correta\n",
       "115568      solo divertimentos        Solo - Divertimentos\n",
       "87235     patrimonio imaterial        Patrimônio Imaterial\n",
       "41358          estimating wood             Estimating Wood\n",
       "82410             ensino curso             Ensino No Curso\n",
       "26740   normas concessionarias  Normas Das Concessionárias\n",
       "5748            caju polivinil            Caju E Polivinil\n",
       "77557     politicas produzidas        Políticas Produzidas\n",
       "30038                ampliando                   Ampliando\n",
       "15972         recital abertura         Recital De Abertura\n",
       "45152                  formoso                     Formoso"
      ]
     },
     "execution_count": 45,
     "metadata": {},
     "output_type": "execute_result"
    }
   ],
   "source": [
    "palavras_chaves_final.sample(n=10)"
   ]
  },
  {
   "cell_type": "markdown",
   "id": "906a0af7-b060-4c06-af97-77b30d8dcd5a",
   "metadata": {},
   "source": [
    "**Exportar as palavras chaves**"
   ]
  },
  {
   "cell_type": "code",
   "execution_count": 46,
   "id": "c55189b8-69fd-48e5-951a-c6c70437ee66",
   "metadata": {},
   "outputs": [],
   "source": [
    "export_path = Path(IFG_PRODUZ_STORAGE_DIR / \"preprocessed\")\n",
    "\n",
    "if not export_path.is_dir():\n",
    "    Path(export_path).mkdir()\n",
    "\n",
    "try:\n",
    "    palavras_chaves_final.to_csv(export_path / \"palavras_chaves.csv\", sep=\";\", index=False)\n",
    "except Exception as e:\n",
    "    print(str(e))"
   ]
  }
 ],
 "metadata": {
  "kernelspec": {
   "display_name": "Python 3 (ipykernel)",
   "language": "python",
   "name": "python3"
  },
  "language_info": {
   "codemirror_mode": {
    "name": "ipython",
    "version": 3
   },
   "file_extension": ".py",
   "mimetype": "text/x-python",
   "name": "python",
   "nbconvert_exporter": "python",
   "pygments_lexer": "ipython3",
   "version": "3.10.12"
  }
 },
 "nbformat": 4,
 "nbformat_minor": 5
}
