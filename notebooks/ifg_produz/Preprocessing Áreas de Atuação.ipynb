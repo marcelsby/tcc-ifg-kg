{
 "cells": [
  {
   "cell_type": "code",
   "execution_count": 2,
   "id": "9e7e33ae",
   "metadata": {
    "tags": [
     "parameters"
    ]
   },
   "outputs": [],
   "source": [
    "p_storage_dir = \"../../storage\"\n",
    "p_notebooks_root = None"
   ]
  },
  {
   "cell_type": "code",
   "execution_count": 3,
   "id": "bb30d57d-c43e-4dca-b842-6f4020dd6047",
   "metadata": {},
   "outputs": [],
   "source": [
    "if p_notebooks_root is not None:\n",
    "    import os\n",
    "    os.chdir(p_notebooks_root)"
   ]
  },
  {
   "cell_type": "code",
   "execution_count": 4,
   "id": "26699801",
   "metadata": {},
   "outputs": [],
   "source": [
    "import pandas as pd\n",
    "from pathlib import Path\n",
    "\n",
    "IFG_PRODUZ_STORAGE_DIR = Path(f\"{p_storage_dir}/ifg_produz\")"
   ]
  },
  {
   "cell_type": "markdown",
   "id": "63619834",
   "metadata": {},
   "source": [
    "## Áreas de Atuação"
   ]
  },
  {
   "cell_type": "code",
   "execution_count": 5,
   "id": "e0a1fdaa",
   "metadata": {},
   "outputs": [
    {
     "data": {
      "text/html": [
       "<div>\n",
       "<style scoped>\n",
       "    .dataframe tbody tr th:only-of-type {\n",
       "        vertical-align: middle;\n",
       "    }\n",
       "\n",
       "    .dataframe tbody tr th {\n",
       "        vertical-align: top;\n",
       "    }\n",
       "\n",
       "    .dataframe thead th {\n",
       "        text-align: right;\n",
       "    }\n",
       "</style>\n",
       "<table border=\"1\" class=\"dataframe\">\n",
       "  <thead>\n",
       "    <tr style=\"text-align: right;\">\n",
       "      <th></th>\n",
       "      <th>id_area_atuacao</th>\n",
       "      <th>grande_area_conhecimento</th>\n",
       "      <th>especialidade</th>\n",
       "      <th>area_do_conheciento</th>\n",
       "      <th>sub_area_do_conhecimento</th>\n",
       "      <th>id_curriculo_id</th>\n",
       "    </tr>\n",
       "  </thead>\n",
       "  <tbody>\n",
       "    <tr>\n",
       "      <th>0</th>\n",
       "      <td>1</td>\n",
       "      <td>ENGENHARIAS</td>\n",
       "      <td>NaN</td>\n",
       "      <td>Engenharia Elétrica</td>\n",
       "      <td>ENGENHARIA DE COMPUTAÇÃO</td>\n",
       "      <td>1</td>\n",
       "    </tr>\n",
       "    <tr>\n",
       "      <th>1</th>\n",
       "      <td>2</td>\n",
       "      <td>CIENCIAS_HUMANAS</td>\n",
       "      <td>NaN</td>\n",
       "      <td>Educação</td>\n",
       "      <td>Educação matemática</td>\n",
       "      <td>3</td>\n",
       "    </tr>\n",
       "    <tr>\n",
       "      <th>2</th>\n",
       "      <td>3</td>\n",
       "      <td>CIENCIAS_HUMANAS</td>\n",
       "      <td>NaN</td>\n",
       "      <td>Educação</td>\n",
       "      <td>Formação de professores</td>\n",
       "      <td>3</td>\n",
       "    </tr>\n",
       "    <tr>\n",
       "      <th>3</th>\n",
       "      <td>4</td>\n",
       "      <td>CIENCIAS_EXATAS_E_DA_TERRA</td>\n",
       "      <td>NaN</td>\n",
       "      <td>Matemática</td>\n",
       "      <td>NaN</td>\n",
       "      <td>3</td>\n",
       "    </tr>\n",
       "    <tr>\n",
       "      <th>4</th>\n",
       "      <td>5</td>\n",
       "      <td>CIENCIAS_SOCIAIS_APLICADAS</td>\n",
       "      <td>NaN</td>\n",
       "      <td>Administração</td>\n",
       "      <td>NaN</td>\n",
       "      <td>3</td>\n",
       "    </tr>\n",
       "  </tbody>\n",
       "</table>\n",
       "</div>"
      ],
      "text/plain": [
       "   id_area_atuacao    grande_area_conhecimento especialidade  \\\n",
       "0                1                 ENGENHARIAS           NaN   \n",
       "1                2            CIENCIAS_HUMANAS           NaN   \n",
       "2                3            CIENCIAS_HUMANAS           NaN   \n",
       "3                4  CIENCIAS_EXATAS_E_DA_TERRA           NaN   \n",
       "4                5  CIENCIAS_SOCIAIS_APLICADAS           NaN   \n",
       "\n",
       "   area_do_conheciento  sub_area_do_conhecimento  id_curriculo_id  \n",
       "0  Engenharia Elétrica  ENGENHARIA DE COMPUTAÇÃO                1  \n",
       "1             Educação       Educação matemática                3  \n",
       "2             Educação   Formação de professores                3  \n",
       "3           Matemática                       NaN                3  \n",
       "4        Administração                       NaN                3  "
      ]
     },
     "execution_count": 5,
     "metadata": {},
     "output_type": "execute_result"
    }
   ],
   "source": [
    "areas_de_atuacao = pd.read_csv(IFG_PRODUZ_STORAGE_DIR / \"extracted/areas_de_atuacao.csv\", delimiter=\";\")\n",
    "\n",
    "areas_de_atuacao.head(n=5)"
   ]
  },
  {
   "cell_type": "code",
   "execution_count": 6,
   "id": "e4f0c019-0551-4cc0-af68-61e752735f8e",
   "metadata": {},
   "outputs": [
    {
     "data": {
      "text/html": [
       "<div>\n",
       "<style scoped>\n",
       "    .dataframe tbody tr th:only-of-type {\n",
       "        vertical-align: middle;\n",
       "    }\n",
       "\n",
       "    .dataframe tbody tr th {\n",
       "        vertical-align: top;\n",
       "    }\n",
       "\n",
       "    .dataframe thead th {\n",
       "        text-align: right;\n",
       "    }\n",
       "</style>\n",
       "<table border=\"1\" class=\"dataframe\">\n",
       "  <thead>\n",
       "    <tr style=\"text-align: right;\">\n",
       "      <th></th>\n",
       "      <th>codigo</th>\n",
       "      <th>grande_area_conhecimento</th>\n",
       "      <th>especialidade</th>\n",
       "      <th>area_do_conhecimento</th>\n",
       "      <th>subarea_do_conhecimento</th>\n",
       "      <th>codigo_curriculo</th>\n",
       "    </tr>\n",
       "  </thead>\n",
       "  <tbody>\n",
       "    <tr>\n",
       "      <th>2305</th>\n",
       "      <td>2238</td>\n",
       "      <td>ENGENHARIAS</td>\n",
       "      <td>Métodos de Concentração e Enriquecimento de Mi...</td>\n",
       "      <td>Engenharia de Minas</td>\n",
       "      <td>Tratamento de Minérios</td>\n",
       "      <td>814</td>\n",
       "    </tr>\n",
       "    <tr>\n",
       "      <th>631</th>\n",
       "      <td>630</td>\n",
       "      <td>ENGENHARIAS</td>\n",
       "      <td>Hidrologia</td>\n",
       "      <td>Engenharia Civil</td>\n",
       "      <td>Engenharia Hidráulica</td>\n",
       "      <td>228</td>\n",
       "    </tr>\n",
       "    <tr>\n",
       "      <th>3033</th>\n",
       "      <td>2966</td>\n",
       "      <td>CIENCIAS_EXATAS_E_DA_TERRA</td>\n",
       "      <td>Linguagens de Programação</td>\n",
       "      <td>Ciência da Computação</td>\n",
       "      <td>Metodologia e Técnicas da Computação</td>\n",
       "      <td>1091</td>\n",
       "    </tr>\n",
       "    <tr>\n",
       "      <th>4051</th>\n",
       "      <td>4050</td>\n",
       "      <td>ENGENHARIAS</td>\n",
       "      <td>Lavra de Rocha Ornamental</td>\n",
       "      <td>Engenharia de Minas</td>\n",
       "      <td>Lavra</td>\n",
       "      <td>1468</td>\n",
       "    </tr>\n",
       "    <tr>\n",
       "      <th>2429</th>\n",
       "      <td>2362</td>\n",
       "      <td>CIENCIAS_HUMANAS</td>\n",
       "      <td>NaN</td>\n",
       "      <td>História</td>\n",
       "      <td>NaN</td>\n",
       "      <td>867</td>\n",
       "    </tr>\n",
       "  </tbody>\n",
       "</table>\n",
       "</div>"
      ],
      "text/plain": [
       "      codigo    grande_area_conhecimento  \\\n",
       "2305    2238                 ENGENHARIAS   \n",
       "631      630                 ENGENHARIAS   \n",
       "3033    2966  CIENCIAS_EXATAS_E_DA_TERRA   \n",
       "4051    4050                 ENGENHARIAS   \n",
       "2429    2362            CIENCIAS_HUMANAS   \n",
       "\n",
       "                                          especialidade  \\\n",
       "2305  Métodos de Concentração e Enriquecimento de Mi...   \n",
       "631                                          Hidrologia   \n",
       "3033                          Linguagens de Programação   \n",
       "4051                          Lavra de Rocha Ornamental   \n",
       "2429                                                NaN   \n",
       "\n",
       "       area_do_conhecimento               subarea_do_conhecimento  \\\n",
       "2305    Engenharia de Minas                Tratamento de Minérios   \n",
       "631        Engenharia Civil                 Engenharia Hidráulica   \n",
       "3033  Ciência da Computação  Metodologia e Técnicas da Computação   \n",
       "4051    Engenharia de Minas                                 Lavra   \n",
       "2429               História                                   NaN   \n",
       "\n",
       "      codigo_curriculo  \n",
       "2305               814  \n",
       "631                228  \n",
       "3033              1091  \n",
       "4051              1468  \n",
       "2429               867  "
      ]
     },
     "execution_count": 6,
     "metadata": {},
     "output_type": "execute_result"
    }
   ],
   "source": [
    "areas_de_atuacao = areas_de_atuacao.rename(columns={\n",
    "    'area_do_conheciento': 'area_do_conhecimento', \n",
    "    'sub_area_do_conhecimento': 'subarea_do_conhecimento', \n",
    "    'id_area_atuacao': 'codigo',\n",
    "    'id_curriculo_id': 'codigo_curriculo'\n",
    "})\n",
    "\n",
    "areas_de_atuacao.sample(n=5)"
   ]
  },
  {
   "cell_type": "code",
   "execution_count": 7,
   "id": "6fcecb83-6d86-4e82-a348-508b1695c546",
   "metadata": {},
   "outputs": [
    {
     "data": {
      "text/plain": [
       "array(['Lingüística'], dtype=object)"
      ]
     },
     "execution_count": 7,
     "metadata": {},
     "output_type": "execute_result"
    }
   ],
   "source": [
    "areas_de_atuacao[(areas_de_atuacao['area_do_conhecimento'].notna()) & (\n",
    "    areas_de_atuacao['area_do_conhecimento'].str.contains('ü'))]['area_do_conhecimento'].unique()"
   ]
  },
  {
   "cell_type": "code",
   "execution_count": 8,
   "id": "fd57224e-8e60-4f18-897d-7991e2816b58",
   "metadata": {},
   "outputs": [
    {
     "data": {
      "text/plain": [
       "array(['Lingüística', 'Lingüística Aplicada',\n",
       "       'Teoria e Análise Lingüística', 'Sociolingüística e Dialetologia',\n",
       "       'Psicolingüística', 'Lingüística da Enunciação'], dtype=object)"
      ]
     },
     "execution_count": 8,
     "metadata": {},
     "output_type": "execute_result"
    }
   ],
   "source": [
    "areas_de_atuacao[(areas_de_atuacao['subarea_do_conhecimento'].notna()) & (\n",
    "    areas_de_atuacao['subarea_do_conhecimento'].str.contains('ü'))]['subarea_do_conhecimento'].unique()"
   ]
  },
  {
   "cell_type": "code",
   "execution_count": 9,
   "id": "f8911138-c0d4-49a0-8021-bfb6e1b17ee6",
   "metadata": {},
   "outputs": [],
   "source": [
    "areas_de_atuacao[['area_do_conhecimento', 'subarea_do_conhecimento']] = areas_de_atuacao[['area_do_conhecimento', 'subarea_do_conhecimento']].replace('ü', 'u', regex=True)"
   ]
  },
  {
   "cell_type": "code",
   "execution_count": 10,
   "id": "098fceb9-40ca-428f-acf4-5894d7012853",
   "metadata": {},
   "outputs": [
    {
     "data": {
      "text/html": [
       "<div>\n",
       "<style scoped>\n",
       "    .dataframe tbody tr th:only-of-type {\n",
       "        vertical-align: middle;\n",
       "    }\n",
       "\n",
       "    .dataframe tbody tr th {\n",
       "        vertical-align: top;\n",
       "    }\n",
       "\n",
       "    .dataframe thead th {\n",
       "        text-align: right;\n",
       "    }\n",
       "</style>\n",
       "<table border=\"1\" class=\"dataframe\">\n",
       "  <thead>\n",
       "    <tr style=\"text-align: right;\">\n",
       "      <th></th>\n",
       "      <th>codigo</th>\n",
       "      <th>grande_area_conhecimento</th>\n",
       "      <th>especialidade</th>\n",
       "      <th>area_do_conhecimento</th>\n",
       "      <th>subarea_do_conhecimento</th>\n",
       "      <th>codigo_curriculo</th>\n",
       "    </tr>\n",
       "  </thead>\n",
       "  <tbody>\n",
       "    <tr>\n",
       "      <th>4645</th>\n",
       "      <td>4617</td>\n",
       "      <td>CIENCIAS_EXATAS_E_DA_TERRA</td>\n",
       "      <td>Cristalografia</td>\n",
       "      <td>Geociências</td>\n",
       "      <td>Geologia</td>\n",
       "      <td>1673</td>\n",
       "    </tr>\n",
       "    <tr>\n",
       "      <th>2164</th>\n",
       "      <td>2097</td>\n",
       "      <td>CIENCIAS_EXATAS_E_DA_TERRA</td>\n",
       "      <td>Lógicas e Semântica de Programas</td>\n",
       "      <td>Ciência da Computação</td>\n",
       "      <td>Teoria da Computação</td>\n",
       "      <td>765</td>\n",
       "    </tr>\n",
       "    <tr>\n",
       "      <th>2601</th>\n",
       "      <td>2533</td>\n",
       "      <td>CIENCIAS_SOCIAIS_APLICADAS</td>\n",
       "      <td>Administração de Pessoal</td>\n",
       "      <td>Administração</td>\n",
       "      <td>Administração Pública</td>\n",
       "      <td>936</td>\n",
       "    </tr>\n",
       "    <tr>\n",
       "      <th>2748</th>\n",
       "      <td>2680</td>\n",
       "      <td>ENGENHARIAS</td>\n",
       "      <td>Sistemas de Telecomunicações</td>\n",
       "      <td>Engenharia Elétrica</td>\n",
       "      <td>Telecomunicações</td>\n",
       "      <td>992</td>\n",
       "    </tr>\n",
       "    <tr>\n",
       "      <th>2439</th>\n",
       "      <td>2372</td>\n",
       "      <td>CIENCIAS_HUMANAS</td>\n",
       "      <td>Geografia Cultural</td>\n",
       "      <td>Geografia</td>\n",
       "      <td>Geografia Humana</td>\n",
       "      <td>869</td>\n",
       "    </tr>\n",
       "    <tr>\n",
       "      <th>3879</th>\n",
       "      <td>3878</td>\n",
       "      <td>LINGUISTICA_LETRAS_E_ARTES</td>\n",
       "      <td>cultura popular</td>\n",
       "      <td>Artes</td>\n",
       "      <td>Dança</td>\n",
       "      <td>1403</td>\n",
       "    </tr>\n",
       "    <tr>\n",
       "      <th>1766</th>\n",
       "      <td>1765</td>\n",
       "      <td>CIENCIAS_HUMANAS</td>\n",
       "      <td>Sociologia da Educação</td>\n",
       "      <td>Educação</td>\n",
       "      <td>Fundamentos da Educação</td>\n",
       "      <td>639</td>\n",
       "    </tr>\n",
       "    <tr>\n",
       "      <th>2904</th>\n",
       "      <td>2837</td>\n",
       "      <td>CIENCIAS_SOCIAIS_APLICADAS</td>\n",
       "      <td>Responsabilidade Social</td>\n",
       "      <td>Administração</td>\n",
       "      <td>Administração de Empresas</td>\n",
       "      <td>1052</td>\n",
       "    </tr>\n",
       "    <tr>\n",
       "      <th>4540</th>\n",
       "      <td>4539</td>\n",
       "      <td>CIENCIAS_EXATAS_E_DA_TERRA</td>\n",
       "      <td>Linguagem Formais e Autômatos</td>\n",
       "      <td>Ciência da Computação</td>\n",
       "      <td>Teoria da Computação</td>\n",
       "      <td>1646</td>\n",
       "    </tr>\n",
       "    <tr>\n",
       "      <th>183</th>\n",
       "      <td>184</td>\n",
       "      <td>CIENCIAS_EXATAS_E_DA_TERRA</td>\n",
       "      <td>Sistemas Inteligentes</td>\n",
       "      <td>Ciência da Computação</td>\n",
       "      <td>Metodologia e Técnicas da Computação</td>\n",
       "      <td>61</td>\n",
       "    </tr>\n",
       "  </tbody>\n",
       "</table>\n",
       "</div>"
      ],
      "text/plain": [
       "      codigo    grande_area_conhecimento                     especialidade  \\\n",
       "4645    4617  CIENCIAS_EXATAS_E_DA_TERRA                    Cristalografia   \n",
       "2164    2097  CIENCIAS_EXATAS_E_DA_TERRA  Lógicas e Semântica de Programas   \n",
       "2601    2533  CIENCIAS_SOCIAIS_APLICADAS          Administração de Pessoal   \n",
       "2748    2680                 ENGENHARIAS      Sistemas de Telecomunicações   \n",
       "2439    2372            CIENCIAS_HUMANAS                Geografia Cultural   \n",
       "3879    3878  LINGUISTICA_LETRAS_E_ARTES                   cultura popular   \n",
       "1766    1765            CIENCIAS_HUMANAS            Sociologia da Educação   \n",
       "2904    2837  CIENCIAS_SOCIAIS_APLICADAS           Responsabilidade Social   \n",
       "4540    4539  CIENCIAS_EXATAS_E_DA_TERRA     Linguagem Formais e Autômatos   \n",
       "183      184  CIENCIAS_EXATAS_E_DA_TERRA             Sistemas Inteligentes   \n",
       "\n",
       "       area_do_conhecimento               subarea_do_conhecimento  \\\n",
       "4645            Geociências                              Geologia   \n",
       "2164  Ciência da Computação                  Teoria da Computação   \n",
       "2601          Administração                 Administração Pública   \n",
       "2748    Engenharia Elétrica                      Telecomunicações   \n",
       "2439              Geografia                      Geografia Humana   \n",
       "3879                  Artes                                 Dança   \n",
       "1766               Educação               Fundamentos da Educação   \n",
       "2904          Administração             Administração de Empresas   \n",
       "4540  Ciência da Computação                  Teoria da Computação   \n",
       "183   Ciência da Computação  Metodologia e Técnicas da Computação   \n",
       "\n",
       "      codigo_curriculo  \n",
       "4645              1673  \n",
       "2164               765  \n",
       "2601               936  \n",
       "2748               992  \n",
       "2439               869  \n",
       "3879              1403  \n",
       "1766               639  \n",
       "2904              1052  \n",
       "4540              1646  \n",
       "183                 61  "
      ]
     },
     "execution_count": 10,
     "metadata": {},
     "output_type": "execute_result"
    }
   ],
   "source": [
    "areas_de_atuacao[areas_de_atuacao['especialidade'].notna()].sample(n=10)"
   ]
  },
  {
   "cell_type": "code",
   "execution_count": 11,
   "id": "e0915422-fd46-43bc-b94c-86c404827550",
   "metadata": {},
   "outputs": [
    {
     "data": {
      "text/plain": [
       "['codigo',\n",
       " 'grande_area_conhecimento',\n",
       " 'especialidade',\n",
       " 'area_do_conhecimento',\n",
       " 'subarea_do_conhecimento',\n",
       " 'codigo_curriculo']"
      ]
     },
     "execution_count": 11,
     "metadata": {},
     "output_type": "execute_result"
    }
   ],
   "source": [
    "list(areas_de_atuacao.columns)"
   ]
  },
  {
   "cell_type": "code",
   "execution_count": 12,
   "id": "2c1a6515-1e9e-4c00-a230-6c9fdd7a2414",
   "metadata": {},
   "outputs": [
    {
     "data": {
      "text/plain": [
       "codigo                      False\n",
       "grande_area_conhecimento    False\n",
       "especialidade                True\n",
       "area_do_conhecimento         True\n",
       "subarea_do_conhecimento      True\n",
       "codigo_curriculo            False\n",
       "dtype: bool"
      ]
     },
     "execution_count": 12,
     "metadata": {},
     "output_type": "execute_result"
    }
   ],
   "source": [
    "areas_de_atuacao.isna().any()"
   ]
  },
  {
   "cell_type": "markdown",
   "id": "906a0af7-b060-4c06-af97-77b30d8dcd5a",
   "metadata": {},
   "source": [
    "**Exportar**"
   ]
  },
  {
   "cell_type": "code",
   "execution_count": 88,
   "id": "c55189b8-69fd-48e5-951a-c6c70437ee66",
   "metadata": {},
   "outputs": [],
   "source": [
    "export_path = Path(IFG_PRODUZ_STORAGE_DIR / \"preprocessed\")\n",
    "\n",
    "if not export_path.is_dir():\n",
    "    Path(export_path).mkdir()\n",
    "\n",
    "areas_de_atuacao.to_csv(export_path / \"areas_de_atuacao.csv\", sep=\";\", index=False)"
   ]
  }
 ],
 "metadata": {
  "kernelspec": {
   "display_name": "Python 3 (ipykernel)",
   "language": "python",
   "name": "python3"
  },
  "language_info": {
   "codemirror_mode": {
    "name": "ipython",
    "version": 3
   },
   "file_extension": ".py",
   "mimetype": "text/x-python",
   "name": "python",
   "nbconvert_exporter": "python",
   "pygments_lexer": "ipython3",
   "version": "3.10.12"
  }
 },
 "nbformat": 4,
 "nbformat_minor": 5
}
