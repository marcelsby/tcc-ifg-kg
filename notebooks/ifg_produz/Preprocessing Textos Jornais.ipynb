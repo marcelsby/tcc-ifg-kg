{
 "cells": [
  {
   "cell_type": "code",
   "execution_count": 2,
   "id": "9e7e33ae",
   "metadata": {
    "tags": [
     "parameters"
    ]
   },
   "outputs": [],
   "source": [
    "p_storage_dir = \"../../storage\"\n",
    "p_notebooks_root = None"
   ]
  },
  {
   "cell_type": "code",
   "execution_count": 3,
   "id": "0a515d5d-50ca-4f64-bce2-8d45f0995bba",
   "metadata": {},
   "outputs": [],
   "source": [
    "if p_notebooks_root is not None:\n",
    "    import os\n",
    "    os.chdir(p_notebooks_root)"
   ]
  },
  {
   "cell_type": "code",
   "execution_count": 4,
   "id": "26699801",
   "metadata": {},
   "outputs": [],
   "source": [
    "from pathlib import Path\n",
    "\n",
    "import numpy as np\n",
    "import pandas as pd\n",
    "\n",
    "IFG_PRODUZ_STORAGE_DIR = Path(f\"{p_storage_dir}/ifg_produz\")"
   ]
  },
  {
   "cell_type": "markdown",
   "id": "63619834",
   "metadata": {},
   "source": [
    "# Textos Jornais"
   ]
  },
  {
   "cell_type": "code",
   "execution_count": 5,
   "id": "e0a1fdaa",
   "metadata": {},
   "outputs": [
    {
     "data": {
      "text/html": [
       "<div>\n",
       "<style scoped>\n",
       "    .dataframe tbody tr th:only-of-type {\n",
       "        vertical-align: middle;\n",
       "    }\n",
       "\n",
       "    .dataframe tbody tr th {\n",
       "        vertical-align: top;\n",
       "    }\n",
       "\n",
       "    .dataframe thead th {\n",
       "        text-align: right;\n",
       "    }\n",
       "</style>\n",
       "<table border=\"1\" class=\"dataframe\">\n",
       "  <thead>\n",
       "    <tr style=\"text-align: right;\">\n",
       "      <th></th>\n",
       "      <th>id_texto</th>\n",
       "      <th>natureza</th>\n",
       "      <th>titulo_texto</th>\n",
       "      <th>ano_texto</th>\n",
       "      <th>id_curriculo_id</th>\n",
       "    </tr>\n",
       "  </thead>\n",
       "  <tbody>\n",
       "    <tr>\n",
       "      <th>181</th>\n",
       "      <td>182</td>\n",
       "      <td>REVISTA_MAGAZINE</td>\n",
       "      <td>Palavras do meu mestre (crítica do filme, Lesl...</td>\n",
       "      <td>2004</td>\n",
       "      <td>278</td>\n",
       "    </tr>\n",
       "    <tr>\n",
       "      <th>664</th>\n",
       "      <td>665</td>\n",
       "      <td>REVISTA_MAGAZINE</td>\n",
       "      <td>O SONHO POSSÍVEL DA SOLIDARIZAÇÃO RADICAL  A ...</td>\n",
       "      <td>2016</td>\n",
       "      <td>1163</td>\n",
       "    </tr>\n",
       "    <tr>\n",
       "      <th>435</th>\n",
       "      <td>434</td>\n",
       "      <td>REVISTA_MAGAZINE</td>\n",
       "      <td>A INFORMÁTICA NA FORMAÇÃO DO PROFESSOR</td>\n",
       "      <td>2008</td>\n",
       "      <td>697</td>\n",
       "    </tr>\n",
       "    <tr>\n",
       "      <th>201</th>\n",
       "      <td>202</td>\n",
       "      <td>REVISTA_MAGAZINE</td>\n",
       "      <td>Um filme experimental 100% nordestino, crítica...</td>\n",
       "      <td>2011</td>\n",
       "      <td>278</td>\n",
       "    </tr>\n",
       "    <tr>\n",
       "      <th>202</th>\n",
       "      <td>203</td>\n",
       "      <td>REVISTA_MAGAZINE</td>\n",
       "      <td>Mundo oral (crítica do filme Girimunho, Helvéc...</td>\n",
       "      <td>2011</td>\n",
       "      <td>278</td>\n",
       "    </tr>\n",
       "  </tbody>\n",
       "</table>\n",
       "</div>"
      ],
      "text/plain": [
       "     id_texto          natureza  \\\n",
       "181       182  REVISTA_MAGAZINE   \n",
       "664       665  REVISTA_MAGAZINE   \n",
       "435       434  REVISTA_MAGAZINE   \n",
       "201       202  REVISTA_MAGAZINE   \n",
       "202       203  REVISTA_MAGAZINE   \n",
       "\n",
       "                                          titulo_texto  ano_texto  \\\n",
       "181  Palavras do meu mestre (crítica do filme, Lesl...       2004   \n",
       "664  O SONHO POSSÍVEL DA SOLIDARIZAÇÃO RADICAL  A ...       2016   \n",
       "435             A INFORMÁTICA NA FORMAÇÃO DO PROFESSOR       2008   \n",
       "201  Um filme experimental 100% nordestino, crítica...       2011   \n",
       "202  Mundo oral (crítica do filme Girimunho, Helvéc...       2011   \n",
       "\n",
       "     id_curriculo_id  \n",
       "181              278  \n",
       "664             1163  \n",
       "435              697  \n",
       "201              278  \n",
       "202              278  "
      ]
     },
     "execution_count": 5,
     "metadata": {},
     "output_type": "execute_result"
    }
   ],
   "source": [
    "textos_jornais = pd.read_csv(IFG_PRODUZ_STORAGE_DIR / \"extracted/textosjornais.csv\", delimiter=\";\")\n",
    "\n",
    "textos_jornais.sample(n=5)"
   ]
  },
  {
   "cell_type": "code",
   "execution_count": 6,
   "id": "c343a820-3911-4462-9ff0-f2de792589d5",
   "metadata": {},
   "outputs": [],
   "source": [
    "textos_jornais = textos_jornais.rename(columns={\n",
    "    'id_texto': 'codigo',\n",
    "    'titulo_texto': 'titulo',\n",
    "    'ano_texto': 'ano',\n",
    "    'id_curriculo_id': 'codigo_curriculo'\n",
    "})"
   ]
  },
  {
   "cell_type": "code",
   "execution_count": 7,
   "id": "bd6fc02b-d83c-4b69-b898-7bfa2284ab5d",
   "metadata": {},
   "outputs": [
    {
     "data": {
      "text/html": [
       "<div>\n",
       "<style scoped>\n",
       "    .dataframe tbody tr th:only-of-type {\n",
       "        vertical-align: middle;\n",
       "    }\n",
       "\n",
       "    .dataframe tbody tr th {\n",
       "        vertical-align: top;\n",
       "    }\n",
       "\n",
       "    .dataframe thead th {\n",
       "        text-align: right;\n",
       "    }\n",
       "</style>\n",
       "<table border=\"1\" class=\"dataframe\">\n",
       "  <thead>\n",
       "    <tr style=\"text-align: right;\">\n",
       "      <th></th>\n",
       "      <th>codigo</th>\n",
       "      <th>natureza</th>\n",
       "      <th>titulo</th>\n",
       "      <th>ano</th>\n",
       "      <th>codigo_curriculo</th>\n",
       "    </tr>\n",
       "  </thead>\n",
       "  <tbody>\n",
       "    <tr>\n",
       "      <th>599</th>\n",
       "      <td>600</td>\n",
       "      <td>REVISTA_MAGAZINE</td>\n",
       "      <td>IFMT: É pra lá que eu vou!</td>\n",
       "      <td>2018</td>\n",
       "      <td>1017</td>\n",
       "    </tr>\n",
       "    <tr>\n",
       "      <th>1052</th>\n",
       "      <td>1053</td>\n",
       "      <td>JORNAL_DE_NOTICIAS</td>\n",
       "      <td>A Educação como base para a formação humanista</td>\n",
       "      <td>2013</td>\n",
       "      <td>1660</td>\n",
       "    </tr>\n",
       "    <tr>\n",
       "      <th>569</th>\n",
       "      <td>570</td>\n",
       "      <td>REVISTA_MAGAZINE</td>\n",
       "      <td>Direitos Humanos e Violência Doméstica e Famil...</td>\n",
       "      <td>2009</td>\n",
       "      <td>909</td>\n",
       "    </tr>\n",
       "    <tr>\n",
       "      <th>425</th>\n",
       "      <td>424</td>\n",
       "      <td>JORNAL_DE_NOTICIAS</td>\n",
       "      <td>CEFET-GO: História, Desafios e Perspectivas</td>\n",
       "      <td>2006</td>\n",
       "      <td>630</td>\n",
       "    </tr>\n",
       "    <tr>\n",
       "      <th>8</th>\n",
       "      <td>9</td>\n",
       "      <td>JORNAL_DE_NOTICIAS</td>\n",
       "      <td>De fio em fio se faz um pavio</td>\n",
       "      <td>2004</td>\n",
       "      <td>12</td>\n",
       "    </tr>\n",
       "  </tbody>\n",
       "</table>\n",
       "</div>"
      ],
      "text/plain": [
       "      codigo            natureza  \\\n",
       "599      600    REVISTA_MAGAZINE   \n",
       "1052    1053  JORNAL_DE_NOTICIAS   \n",
       "569      570    REVISTA_MAGAZINE   \n",
       "425      424  JORNAL_DE_NOTICIAS   \n",
       "8          9  JORNAL_DE_NOTICIAS   \n",
       "\n",
       "                                                 titulo   ano  \\\n",
       "599                          IFMT: É pra lá que eu vou!  2018   \n",
       "1052     A Educação como base para a formação humanista  2013   \n",
       "569   Direitos Humanos e Violência Doméstica e Famil...  2009   \n",
       "425         CEFET-GO: História, Desafios e Perspectivas  2006   \n",
       "8                         De fio em fio se faz um pavio  2004   \n",
       "\n",
       "      codigo_curriculo  \n",
       "599               1017  \n",
       "1052              1660  \n",
       "569                909  \n",
       "425                630  \n",
       "8                   12  "
      ]
     },
     "execution_count": 7,
     "metadata": {},
     "output_type": "execute_result"
    }
   ],
   "source": [
    "textos_jornais.sample(n=5)"
   ]
  },
  {
   "cell_type": "code",
   "execution_count": 8,
   "id": "e5a58e25-da20-4f4a-93ec-4dbb51fc340b",
   "metadata": {},
   "outputs": [
    {
     "data": {
      "text/plain": [
       "array(['REVISTA_MAGAZINE', 'JORNAL_DE_NOTICIAS'], dtype=object)"
      ]
     },
     "execution_count": 8,
     "metadata": {},
     "output_type": "execute_result"
    }
   ],
   "source": [
    "textos_jornais['natureza'].unique()"
   ]
  },
  {
   "cell_type": "code",
   "execution_count": 11,
   "id": "e382e262-8f1f-4657-8059-fcb827248039",
   "metadata": {},
   "outputs": [
    {
     "data": {
      "text/html": [
       "<div>\n",
       "<style scoped>\n",
       "    .dataframe tbody tr th:only-of-type {\n",
       "        vertical-align: middle;\n",
       "    }\n",
       "\n",
       "    .dataframe tbody tr th {\n",
       "        vertical-align: top;\n",
       "    }\n",
       "\n",
       "    .dataframe thead th {\n",
       "        text-align: right;\n",
       "    }\n",
       "</style>\n",
       "<table border=\"1\" class=\"dataframe\">\n",
       "  <thead>\n",
       "    <tr style=\"text-align: right;\">\n",
       "      <th></th>\n",
       "      <th>codigo</th>\n",
       "      <th>natureza</th>\n",
       "      <th>titulo</th>\n",
       "      <th>ano</th>\n",
       "      <th>codigo_curriculo</th>\n",
       "    </tr>\n",
       "  </thead>\n",
       "  <tbody>\n",
       "  </tbody>\n",
       "</table>\n",
       "</div>"
      ],
      "text/plain": [
       "Empty DataFrame\n",
       "Columns: [codigo, natureza, titulo, ano, codigo_curriculo]\n",
       "Index: []"
      ]
     },
     "execution_count": 11,
     "metadata": {},
     "output_type": "execute_result"
    }
   ],
   "source": [
    "textos_jornais[textos_jornais['titulo'].str.strip() == '']"
   ]
  },
  {
   "cell_type": "code",
   "execution_count": 12,
   "id": "1fd3efef-8e38-48d9-b562-aa503425d326",
   "metadata": {},
   "outputs": [
    {
     "data": {
      "text/plain": [
       "codigo              False\n",
       "natureza            False\n",
       "titulo              False\n",
       "ano                 False\n",
       "codigo_curriculo    False\n",
       "dtype: bool"
      ]
     },
     "execution_count": 12,
     "metadata": {},
     "output_type": "execute_result"
    }
   ],
   "source": [
    "textos_jornais.isna().any()"
   ]
  },
  {
   "cell_type": "code",
   "execution_count": 13,
   "id": "aa1c026c-b6c0-4575-bdb2-5ebdc4044637",
   "metadata": {},
   "outputs": [
    {
     "data": {
      "text/plain": [
       "['codigo', 'natureza', 'titulo', 'ano', 'codigo_curriculo']"
      ]
     },
     "execution_count": 13,
     "metadata": {},
     "output_type": "execute_result"
    }
   ],
   "source": [
    "list(textos_jornais.columns)"
   ]
  },
  {
   "cell_type": "markdown",
   "id": "906a0af7-b060-4c06-af97-77b30d8dcd5a",
   "metadata": {},
   "source": [
    "## Exportar"
   ]
  },
  {
   "cell_type": "code",
   "execution_count": 8,
   "id": "c55189b8-69fd-48e5-951a-c6c70437ee66",
   "metadata": {},
   "outputs": [],
   "source": [
    "export_path = Path(IFG_PRODUZ_STORAGE_DIR / \"preprocessed\")\n",
    "\n",
    "if not export_path.is_dir():\n",
    "    Path(export_path).mkdir()\n",
    "\n",
    "textos_jornais.to_csv(export_path / \"textos_jornais.csv\", sep=\";\", index=False)"
   ]
  }
 ],
 "metadata": {
  "kernelspec": {
   "display_name": "Python 3 (ipykernel)",
   "language": "python",
   "name": "python3"
  },
  "language_info": {
   "codemirror_mode": {
    "name": "ipython",
    "version": 3
   },
   "file_extension": ".py",
   "mimetype": "text/x-python",
   "name": "python",
   "nbconvert_exporter": "python",
   "pygments_lexer": "ipython3",
   "version": "3.10.12"
  }
 },
 "nbformat": 4,
 "nbformat_minor": 5
}
