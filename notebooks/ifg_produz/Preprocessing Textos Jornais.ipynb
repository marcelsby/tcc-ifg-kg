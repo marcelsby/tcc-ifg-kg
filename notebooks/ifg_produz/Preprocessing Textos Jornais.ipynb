{
 "cells": [
  {
   "cell_type": "code",
   "execution_count": 1,
   "id": "9e7e33ae",
   "metadata": {
    "tags": [
     "parameters"
    ]
   },
   "outputs": [],
   "source": [
    "p_storage_dir = \"../../storage\"\n",
    "p_notebooks_root = None"
   ]
  },
  {
   "cell_type": "code",
   "execution_count": null,
   "id": "0a515d5d-50ca-4f64-bce2-8d45f0995bba",
   "metadata": {},
   "outputs": [],
   "source": [
    "if p_notebooks_root is not None:\n",
    "    import os\n",
    "    os.chdir(p_notebooks_root)"
   ]
  },
  {
   "cell_type": "code",
   "execution_count": 2,
   "id": "26699801",
   "metadata": {},
   "outputs": [],
   "source": [
    "from pathlib import Path\n",
    "\n",
    "import numpy as np\n",
    "import pandas as pd\n",
    "\n",
    "IFG_PRODUZ_STORAGE_DIR = Path(f\"{p_storage_dir}/ifg_produz\")"
   ]
  },
  {
   "cell_type": "markdown",
   "id": "63619834",
   "metadata": {},
   "source": [
    "# Textos Jornais"
   ]
  },
  {
   "cell_type": "code",
   "execution_count": 4,
   "id": "e0a1fdaa",
   "metadata": {},
   "outputs": [
    {
     "data": {
      "text/html": [
       "<div>\n",
       "<style scoped>\n",
       "    .dataframe tbody tr th:only-of-type {\n",
       "        vertical-align: middle;\n",
       "    }\n",
       "\n",
       "    .dataframe tbody tr th {\n",
       "        vertical-align: top;\n",
       "    }\n",
       "\n",
       "    .dataframe thead th {\n",
       "        text-align: right;\n",
       "    }\n",
       "</style>\n",
       "<table border=\"1\" class=\"dataframe\">\n",
       "  <thead>\n",
       "    <tr style=\"text-align: right;\">\n",
       "      <th></th>\n",
       "      <th>id_texto</th>\n",
       "      <th>natureza</th>\n",
       "      <th>titulo_texto</th>\n",
       "      <th>ano_texto</th>\n",
       "      <th>id_curriculo_id</th>\n",
       "    </tr>\n",
       "  </thead>\n",
       "  <tbody>\n",
       "    <tr>\n",
       "      <th>805</th>\n",
       "      <td>805</td>\n",
       "      <td>JORNAL_DE_NOTICIAS</td>\n",
       "      <td>A Marta e a Maria de todos nós!</td>\n",
       "      <td>2019</td>\n",
       "      <td>1380</td>\n",
       "    </tr>\n",
       "    <tr>\n",
       "      <th>739</th>\n",
       "      <td>740</td>\n",
       "      <td>JORNAL_DE_NOTICIAS</td>\n",
       "      <td>Avenida Goiás é a mais completa de Goiânia</td>\n",
       "      <td>2018</td>\n",
       "      <td>1317</td>\n",
       "    </tr>\n",
       "    <tr>\n",
       "      <th>729</th>\n",
       "      <td>730</td>\n",
       "      <td>REVISTA_MAGAZINE</td>\n",
       "      <td>Há liberdade em servir a Deus?</td>\n",
       "      <td>2013</td>\n",
       "      <td>1304</td>\n",
       "    </tr>\n",
       "    <tr>\n",
       "      <th>272</th>\n",
       "      <td>272</td>\n",
       "      <td>JORNAL_DE_NOTICIAS</td>\n",
       "      <td>Alunos mostram que políticas ainda engatinham</td>\n",
       "      <td>2011</td>\n",
       "      <td>463</td>\n",
       "    </tr>\n",
       "    <tr>\n",
       "      <th>407</th>\n",
       "      <td>406</td>\n",
       "      <td>REVISTA_MAGAZINE</td>\n",
       "      <td>Brincadeiras, Gênero e sexualidade: Uma experi...</td>\n",
       "      <td>2010</td>\n",
       "      <td>618</td>\n",
       "    </tr>\n",
       "  </tbody>\n",
       "</table>\n",
       "</div>"
      ],
      "text/plain": [
       "     id_texto            natureza  \\\n",
       "805       805  JORNAL_DE_NOTICIAS   \n",
       "739       740  JORNAL_DE_NOTICIAS   \n",
       "729       730    REVISTA_MAGAZINE   \n",
       "272       272  JORNAL_DE_NOTICIAS   \n",
       "407       406    REVISTA_MAGAZINE   \n",
       "\n",
       "                                          titulo_texto  ano_texto  \\\n",
       "805                    A Marta e a Maria de todos nós!       2019   \n",
       "739         Avenida Goiás é a mais completa de Goiânia       2018   \n",
       "729                     Há liberdade em servir a Deus?       2013   \n",
       "272      Alunos mostram que políticas ainda engatinham       2011   \n",
       "407  Brincadeiras, Gênero e sexualidade: Uma experi...       2010   \n",
       "\n",
       "     id_curriculo_id  \n",
       "805             1380  \n",
       "739             1317  \n",
       "729             1304  \n",
       "272              463  \n",
       "407              618  "
      ]
     },
     "execution_count": 4,
     "metadata": {},
     "output_type": "execute_result"
    }
   ],
   "source": [
    "textos_jornais = pd.read_csv(IFG_PRODUZ_STORAGE_DIR / \"extracted/textosjornais.csv\", delimiter=\";\")\n",
    "\n",
    "textos_jornais.sample(n=5)"
   ]
  },
  {
   "cell_type": "code",
   "execution_count": 5,
   "id": "c343a820-3911-4462-9ff0-f2de792589d5",
   "metadata": {},
   "outputs": [],
   "source": [
    "textos_jornais = textos_jornais.rename(columns={\n",
    "    'id_texto': 'codigo',\n",
    "    'titulo_texto': 'titulo',\n",
    "    'ano_texto': 'ano',\n",
    "    'id_curriculo_id': 'codigo_curriculo'\n",
    "})"
   ]
  },
  {
   "cell_type": "code",
   "execution_count": 6,
   "id": "bd6fc02b-d83c-4b69-b898-7bfa2284ab5d",
   "metadata": {},
   "outputs": [
    {
     "data": {
      "text/html": [
       "<div>\n",
       "<style scoped>\n",
       "    .dataframe tbody tr th:only-of-type {\n",
       "        vertical-align: middle;\n",
       "    }\n",
       "\n",
       "    .dataframe tbody tr th {\n",
       "        vertical-align: top;\n",
       "    }\n",
       "\n",
       "    .dataframe thead th {\n",
       "        text-align: right;\n",
       "    }\n",
       "</style>\n",
       "<table border=\"1\" class=\"dataframe\">\n",
       "  <thead>\n",
       "    <tr style=\"text-align: right;\">\n",
       "      <th></th>\n",
       "      <th>codigo</th>\n",
       "      <th>natureza</th>\n",
       "      <th>titulo</th>\n",
       "      <th>ano</th>\n",
       "      <th>codigo_curriculo</th>\n",
       "    </tr>\n",
       "  </thead>\n",
       "  <tbody>\n",
       "    <tr>\n",
       "      <th>15</th>\n",
       "      <td>16</td>\n",
       "      <td>JORNAL_DE_NOTICIAS</td>\n",
       "      <td>Tomando uma overdose de cultura</td>\n",
       "      <td>2006</td>\n",
       "      <td>12</td>\n",
       "    </tr>\n",
       "    <tr>\n",
       "      <th>438</th>\n",
       "      <td>437</td>\n",
       "      <td>JORNAL_DE_NOTICIAS</td>\n",
       "      <td>Cresce acesso à internet em casa</td>\n",
       "      <td>2008</td>\n",
       "      <td>709</td>\n",
       "    </tr>\n",
       "    <tr>\n",
       "      <th>707</th>\n",
       "      <td>708</td>\n",
       "      <td>JORNAL_DE_NOTICIAS</td>\n",
       "      <td>Delitos de menores</td>\n",
       "      <td>1997</td>\n",
       "      <td>1234</td>\n",
       "    </tr>\n",
       "    <tr>\n",
       "      <th>105</th>\n",
       "      <td>106</td>\n",
       "      <td>REVISTA_MAGAZINE</td>\n",
       "      <td>O que há de novo no Novo Cinema Argentino?</td>\n",
       "      <td>2003</td>\n",
       "      <td>278</td>\n",
       "    </tr>\n",
       "    <tr>\n",
       "      <th>930</th>\n",
       "      <td>931</td>\n",
       "      <td>JORNAL_DE_NOTICIAS</td>\n",
       "      <td>Em defesa do altruísmo ativo</td>\n",
       "      <td>2012</td>\n",
       "      <td>1488</td>\n",
       "    </tr>\n",
       "  </tbody>\n",
       "</table>\n",
       "</div>"
      ],
      "text/plain": [
       "     codigo            natureza                                      titulo  \\\n",
       "15       16  JORNAL_DE_NOTICIAS             Tomando uma overdose de cultura   \n",
       "438     437  JORNAL_DE_NOTICIAS            Cresce acesso à internet em casa   \n",
       "707     708  JORNAL_DE_NOTICIAS                          Delitos de menores   \n",
       "105     106    REVISTA_MAGAZINE  O que há de novo no Novo Cinema Argentino?   \n",
       "930     931  JORNAL_DE_NOTICIAS                Em defesa do altruísmo ativo   \n",
       "\n",
       "      ano  codigo_curriculo  \n",
       "15   2006                12  \n",
       "438  2008               709  \n",
       "707  1997              1234  \n",
       "105  2003               278  \n",
       "930  2012              1488  "
      ]
     },
     "execution_count": 6,
     "metadata": {},
     "output_type": "execute_result"
    }
   ],
   "source": [
    "textos_jornais.sample(n=5)"
   ]
  },
  {
   "cell_type": "code",
   "execution_count": 7,
   "id": "e5a58e25-da20-4f4a-93ec-4dbb51fc340b",
   "metadata": {},
   "outputs": [
    {
     "data": {
      "text/plain": [
       "array(['REVISTA_MAGAZINE', 'JORNAL_DE_NOTICIAS'], dtype=object)"
      ]
     },
     "execution_count": 7,
     "metadata": {},
     "output_type": "execute_result"
    }
   ],
   "source": [
    "textos_jornais['natureza'].unique()"
   ]
  },
  {
   "cell_type": "markdown",
   "id": "906a0af7-b060-4c06-af97-77b30d8dcd5a",
   "metadata": {},
   "source": [
    "## Exportar"
   ]
  },
  {
   "cell_type": "code",
   "execution_count": 8,
   "id": "c55189b8-69fd-48e5-951a-c6c70437ee66",
   "metadata": {},
   "outputs": [],
   "source": [
    "export_path = Path(IFG_PRODUZ_STORAGE_DIR / \"preprocessed\")\n",
    "\n",
    "if not export_path.is_dir():\n",
    "    Path(export_path).mkdir()\n",
    "\n",
    "textos_jornais.to_csv(export_path / \"textos_jornais.csv\", sep=\";\", index=False)"
   ]
  }
 ],
 "metadata": {
  "kernelspec": {
   "display_name": "Python 3 (ipykernel)",
   "language": "python",
   "name": "python3"
  },
  "language_info": {
   "codemirror_mode": {
    "name": "ipython",
    "version": 3
   },
   "file_extension": ".py",
   "mimetype": "text/x-python",
   "name": "python",
   "nbconvert_exporter": "python",
   "pygments_lexer": "ipython3",
   "version": "3.10.12"
  }
 },
 "nbformat": 4,
 "nbformat_minor": 5
}
