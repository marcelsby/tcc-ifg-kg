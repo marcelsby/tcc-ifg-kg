{
 "cells": [
  {
   "cell_type": "code",
   "execution_count": 298,
   "id": "9e7e33ae",
   "metadata": {
    "tags": [
     "parameters"
    ]
   },
   "outputs": [],
   "source": [
    "p_storage_dir = \"../../storage\""
   ]
  },
  {
   "cell_type": "code",
   "execution_count": 299,
   "id": "26699801",
   "metadata": {},
   "outputs": [],
   "source": [
    "import unicodedata\n",
    "import re\n",
    "from pathlib import Path\n",
    "\n",
    "import pandas as pd\n",
    "from thefuzz import fuzz\n",
    "\n",
    "IFG_PRODUZ_STORAGE_DIR = Path(f\"{p_storage_dir}/ifg_produz\")"
   ]
  },
  {
   "cell_type": "markdown",
   "id": "63619834",
   "metadata": {},
   "source": [
    "## Unidades Federativas"
   ]
  },
  {
   "cell_type": "code",
   "execution_count": 300,
   "id": "e0a1fdaa",
   "metadata": {},
   "outputs": [
    {
     "data": {
      "text/html": [
       "<div>\n",
       "<style scoped>\n",
       "    .dataframe tbody tr th:only-of-type {\n",
       "        vertical-align: middle;\n",
       "    }\n",
       "\n",
       "    .dataframe tbody tr th {\n",
       "        vertical-align: top;\n",
       "    }\n",
       "\n",
       "    .dataframe thead th {\n",
       "        text-align: right;\n",
       "    }\n",
       "</style>\n",
       "<table border=\"1\" class=\"dataframe\">\n",
       "  <thead>\n",
       "    <tr style=\"text-align: right;\">\n",
       "      <th></th>\n",
       "      <th>sigla</th>\n",
       "    </tr>\n",
       "  </thead>\n",
       "  <tbody>\n",
       "    <tr>\n",
       "      <th>14</th>\n",
       "      <td>PE</td>\n",
       "    </tr>\n",
       "    <tr>\n",
       "      <th>12</th>\n",
       "      <td>PA</td>\n",
       "    </tr>\n",
       "    <tr>\n",
       "      <th>23</th>\n",
       "      <td>SE</td>\n",
       "    </tr>\n",
       "    <tr>\n",
       "      <th>24</th>\n",
       "      <td>SP</td>\n",
       "    </tr>\n",
       "    <tr>\n",
       "      <th>6</th>\n",
       "      <td>ES</td>\n",
       "    </tr>\n",
       "  </tbody>\n",
       "</table>\n",
       "</div>"
      ],
      "text/plain": [
       "   sigla\n",
       "14    PE\n",
       "12    PA\n",
       "23    SE\n",
       "24    SP\n",
       "6     ES"
      ]
     },
     "execution_count": 300,
     "metadata": {},
     "output_type": "execute_result"
    }
   ],
   "source": [
    "ufs = pd.read_csv(IFG_PRODUZ_STORAGE_DIR / \"intermediate/unidades_federativas.csv\", delimiter=\";\")\n",
    "\n",
    "ufs.sample(n=5)"
   ]
  },
  {
   "cell_type": "markdown",
   "id": "38d19868-1662-44de-8b82-d2c8c00baa15",
   "metadata": {},
   "source": [
    "**Colocar o nome completo em cada UF**"
   ]
  },
  {
   "cell_type": "code",
   "execution_count": 301,
   "id": "902702e9-971b-45eb-9c18-8ceeff657308",
   "metadata": {},
   "outputs": [],
   "source": [
    "ufs['nome'] = ufs['sigla']"
   ]
  },
  {
   "cell_type": "code",
   "execution_count": 302,
   "id": "ef78581e-ad5d-440e-9719-f3726d68e841",
   "metadata": {},
   "outputs": [],
   "source": [
    "uf_name_replacement_map = {\n",
    "    'AC': 'Acre',\n",
    "    'AL': 'Alagoas',\n",
    "    'AM': 'Amazonas',\n",
    "    'BA': 'Bahia',\n",
    "    'CE': 'Ceará',\n",
    "    'DF': 'Distrito Federal',\n",
    "    'ES': 'Espírito Santo',\n",
    "    'GO': 'Goiás',\n",
    "    'MA': 'Maranhão',\n",
    "    'MG': 'Minas Gerais',\n",
    "    'MS': 'Mato Grosso do Sul',\n",
    "    'MT': 'Mato Grosso',\n",
    "    'PA': 'Pará',\n",
    "    'PB': 'Paraíba',\n",
    "    'PE': 'Pernambuco',\n",
    "    'PI': 'Piauí',\n",
    "    'PR': 'Paraná',\n",
    "    'RJ': 'Rio de Janeiro',\n",
    "    'RN': 'Rio Grande do Norte',\n",
    "    'RO': 'Rondônia',\n",
    "    'RR': 'Roraima',\n",
    "    'RS': 'Rio Grande do Sul',\n",
    "    'SC': 'Santa Catarina',\n",
    "    'SE': 'Sergipe',\n",
    "    'SP': 'São Paulo',\n",
    "    'TO': 'Tocantins'\n",
    "}"
   ]
  },
  {
   "cell_type": "code",
   "execution_count": 303,
   "id": "502218e3-fae7-4db0-af17-a30b2b0644f3",
   "metadata": {},
   "outputs": [],
   "source": [
    "ufs['nome'] = ufs['nome'].replace(uf_name_replacement_map)"
   ]
  },
  {
   "cell_type": "code",
   "execution_count": 304,
   "id": "f9262167-6b6e-47d1-ba0e-627187560409",
   "metadata": {},
   "outputs": [
    {
     "data": {
      "text/html": [
       "<div>\n",
       "<style scoped>\n",
       "    .dataframe tbody tr th:only-of-type {\n",
       "        vertical-align: middle;\n",
       "    }\n",
       "\n",
       "    .dataframe tbody tr th {\n",
       "        vertical-align: top;\n",
       "    }\n",
       "\n",
       "    .dataframe thead th {\n",
       "        text-align: right;\n",
       "    }\n",
       "</style>\n",
       "<table border=\"1\" class=\"dataframe\">\n",
       "  <thead>\n",
       "    <tr style=\"text-align: right;\">\n",
       "      <th></th>\n",
       "      <th>sigla</th>\n",
       "      <th>nome</th>\n",
       "    </tr>\n",
       "  </thead>\n",
       "  <tbody>\n",
       "    <tr>\n",
       "      <th>0</th>\n",
       "      <td>AC</td>\n",
       "      <td>Acre</td>\n",
       "    </tr>\n",
       "    <tr>\n",
       "      <th>12</th>\n",
       "      <td>PA</td>\n",
       "      <td>Pará</td>\n",
       "    </tr>\n",
       "    <tr>\n",
       "      <th>17</th>\n",
       "      <td>RJ</td>\n",
       "      <td>Rio de Janeiro</td>\n",
       "    </tr>\n",
       "    <tr>\n",
       "      <th>15</th>\n",
       "      <td>PI</td>\n",
       "      <td>Piauí</td>\n",
       "    </tr>\n",
       "    <tr>\n",
       "      <th>19</th>\n",
       "      <td>RO</td>\n",
       "      <td>Rondônia</td>\n",
       "    </tr>\n",
       "    <tr>\n",
       "      <th>10</th>\n",
       "      <td>MS</td>\n",
       "      <td>Mato Grosso do Sul</td>\n",
       "    </tr>\n",
       "    <tr>\n",
       "      <th>16</th>\n",
       "      <td>PR</td>\n",
       "      <td>Paraná</td>\n",
       "    </tr>\n",
       "    <tr>\n",
       "      <th>3</th>\n",
       "      <td>BA</td>\n",
       "      <td>Bahia</td>\n",
       "    </tr>\n",
       "    <tr>\n",
       "      <th>2</th>\n",
       "      <td>AM</td>\n",
       "      <td>Amazonas</td>\n",
       "    </tr>\n",
       "    <tr>\n",
       "      <th>22</th>\n",
       "      <td>SC</td>\n",
       "      <td>Santa Catarina</td>\n",
       "    </tr>\n",
       "  </tbody>\n",
       "</table>\n",
       "</div>"
      ],
      "text/plain": [
       "   sigla                nome\n",
       "0     AC                Acre\n",
       "12    PA                Pará\n",
       "17    RJ      Rio de Janeiro\n",
       "15    PI               Piauí\n",
       "19    RO            Rondônia\n",
       "10    MS  Mato Grosso do Sul\n",
       "16    PR              Paraná\n",
       "3     BA               Bahia\n",
       "2     AM            Amazonas\n",
       "22    SC      Santa Catarina"
      ]
     },
     "execution_count": 304,
     "metadata": {},
     "output_type": "execute_result"
    }
   ],
   "source": [
    "ufs.sample(n=10)"
   ]
  },
  {
   "cell_type": "markdown",
   "id": "7c6052e1-fdf9-4218-9414-4fc5c3df29fa",
   "metadata": {},
   "source": [
    "## Cidades"
   ]
  },
  {
   "cell_type": "code",
   "execution_count": 305,
   "id": "0e7b89b3-5ffb-44f6-b5f7-fd46a98fd5e8",
   "metadata": {},
   "outputs": [
    {
     "data": {
      "text/html": [
       "<div>\n",
       "<style scoped>\n",
       "    .dataframe tbody tr th:only-of-type {\n",
       "        vertical-align: middle;\n",
       "    }\n",
       "\n",
       "    .dataframe tbody tr th {\n",
       "        vertical-align: top;\n",
       "    }\n",
       "\n",
       "    .dataframe thead th {\n",
       "        text-align: right;\n",
       "    }\n",
       "</style>\n",
       "<table border=\"1\" class=\"dataframe\">\n",
       "  <thead>\n",
       "    <tr style=\"text-align: right;\">\n",
       "      <th></th>\n",
       "      <th>nome</th>\n",
       "      <th>sigla_uf</th>\n",
       "    </tr>\n",
       "  </thead>\n",
       "  <tbody>\n",
       "    <tr>\n",
       "      <th>0</th>\n",
       "      <td>ALMEIRIM</td>\n",
       "      <td>PA</td>\n",
       "    </tr>\n",
       "    <tr>\n",
       "      <th>1</th>\n",
       "      <td>ANÁPOLIS</td>\n",
       "      <td>GO</td>\n",
       "    </tr>\n",
       "    <tr>\n",
       "      <th>2</th>\n",
       "      <td>APARECIDA DE GOIÂNIA</td>\n",
       "      <td>GO</td>\n",
       "    </tr>\n",
       "    <tr>\n",
       "      <th>3</th>\n",
       "      <td>Abadiânia</td>\n",
       "      <td>GO</td>\n",
       "    </tr>\n",
       "    <tr>\n",
       "      <th>4</th>\n",
       "      <td>Alagoinhas</td>\n",
       "      <td>BA</td>\n",
       "    </tr>\n",
       "  </tbody>\n",
       "</table>\n",
       "</div>"
      ],
      "text/plain": [
       "                   nome sigla_uf\n",
       "0              ALMEIRIM       PA\n",
       "1              ANÁPOLIS       GO\n",
       "2  APARECIDA DE GOIÂNIA       GO\n",
       "3             Abadiânia       GO\n",
       "4            Alagoinhas       BA"
      ]
     },
     "execution_count": 305,
     "metadata": {},
     "output_type": "execute_result"
    }
   ],
   "source": [
    "cidades = pd.read_csv(IFG_PRODUZ_STORAGE_DIR / \"intermediate/cidades.csv\", delimiter=\";\")\n",
    "\n",
    "cidades.head()"
   ]
  },
  {
   "cell_type": "markdown",
   "id": "ef7c08c9-ac24-4607-a13c-cbc5738c0d72",
   "metadata": {},
   "source": [
    "**Normalizar o nome das cidades**"
   ]
  },
  {
   "cell_type": "code",
   "execution_count": 306,
   "id": "6a480ece-90cf-4db4-9f14-7fcc5d3da174",
   "metadata": {},
   "outputs": [],
   "source": [
    "cidades['nome_normalizado'] = cidades['nome']"
   ]
  },
  {
   "cell_type": "code",
   "execution_count": 307,
   "id": "ac33210b-dbf8-4c6d-b82c-28a2421a77d2",
   "metadata": {},
   "outputs": [],
   "source": [
    "def normalizar_string(s):\n",
    "    # Transforma todos os caracteres em minúsculas\n",
    "    s = s.lower()\n",
    "    \n",
    "    # Remove acentos das letras\n",
    "    s = unicodedata.normalize(\"NFD\", s).encode(\"ascii\", \"ignore\").decode(\"utf-8\")\n",
    "\n",
    "    # Substitui todos os caracteres que não são letras por um espaço em branco\n",
    "    s = re.sub(r'[^A-Za-z ]', ' ', s)\n",
    "\n",
    "    # Substitui espaços consecutivos por apenas um espaço\n",
    "    s = re.sub(r'\\d{2,}', ' ', s)\n",
    "\n",
    "    # Remove os espaços em branco do começo e fim\n",
    "    s = s.strip()\n",
    "\n",
    "    return s"
   ]
  },
  {
   "cell_type": "code",
   "execution_count": 308,
   "id": "81969591-d46f-4693-97bb-70b34ba4983b",
   "metadata": {},
   "outputs": [],
   "source": [
    "cidades['nome_normalizado'] = cidades['nome_normalizado'].apply(normalizar_string)"
   ]
  },
  {
   "cell_type": "code",
   "execution_count": 309,
   "id": "cf169e25-e970-4ffe-8182-2d4f6739557a",
   "metadata": {},
   "outputs": [
    {
     "data": {
      "text/html": [
       "<div>\n",
       "<style scoped>\n",
       "    .dataframe tbody tr th:only-of-type {\n",
       "        vertical-align: middle;\n",
       "    }\n",
       "\n",
       "    .dataframe tbody tr th {\n",
       "        vertical-align: top;\n",
       "    }\n",
       "\n",
       "    .dataframe thead th {\n",
       "        text-align: right;\n",
       "    }\n",
       "</style>\n",
       "<table border=\"1\" class=\"dataframe\">\n",
       "  <thead>\n",
       "    <tr style=\"text-align: right;\">\n",
       "      <th></th>\n",
       "      <th>nome</th>\n",
       "      <th>sigla_uf</th>\n",
       "      <th>nome_normalizado</th>\n",
       "    </tr>\n",
       "  </thead>\n",
       "  <tbody>\n",
       "    <tr>\n",
       "      <th>2</th>\n",
       "      <td>APARECIDA DE GOIÂNIA</td>\n",
       "      <td>GO</td>\n",
       "      <td>aparecida de goiania</td>\n",
       "    </tr>\n",
       "    <tr>\n",
       "      <th>6</th>\n",
       "      <td>Alto Araguaia</td>\n",
       "      <td>MT</td>\n",
       "      <td>alto araguaia</td>\n",
       "    </tr>\n",
       "    <tr>\n",
       "      <th>7</th>\n",
       "      <td>Alto Garças</td>\n",
       "      <td>MT</td>\n",
       "      <td>alto garcas</td>\n",
       "    </tr>\n",
       "    <tr>\n",
       "      <th>8</th>\n",
       "      <td>Amarante do Maranhão</td>\n",
       "      <td>MA</td>\n",
       "      <td>amarante do maranhao</td>\n",
       "    </tr>\n",
       "    <tr>\n",
       "      <th>14</th>\n",
       "      <td>Aparecida de Goiânia</td>\n",
       "      <td>GO</td>\n",
       "      <td>aparecida de goiania</td>\n",
       "    </tr>\n",
       "    <tr>\n",
       "      <th>15</th>\n",
       "      <td>Aparecida de goiânia</td>\n",
       "      <td>GO</td>\n",
       "      <td>aparecida de goiania</td>\n",
       "    </tr>\n",
       "    <tr>\n",
       "      <th>29</th>\n",
       "      <td>BELO HORIZONTE</td>\n",
       "      <td>MG</td>\n",
       "      <td>belo horizonte</td>\n",
       "    </tr>\n",
       "    <tr>\n",
       "      <th>31</th>\n",
       "      <td>BOA VISTA</td>\n",
       "      <td>RR</td>\n",
       "      <td>boa vista</td>\n",
       "    </tr>\n",
       "    <tr>\n",
       "      <th>33</th>\n",
       "      <td>BRASILIA-DF</td>\n",
       "      <td>DF</td>\n",
       "      <td>brasilia df</td>\n",
       "    </tr>\n",
       "    <tr>\n",
       "      <th>36</th>\n",
       "      <td>Barra do Corda</td>\n",
       "      <td>MA</td>\n",
       "      <td>barra do corda</td>\n",
       "    </tr>\n",
       "  </tbody>\n",
       "</table>\n",
       "</div>"
      ],
      "text/plain": [
       "                    nome sigla_uf      nome_normalizado\n",
       "2   APARECIDA DE GOIÂNIA       GO  aparecida de goiania\n",
       "6          Alto Araguaia       MT         alto araguaia\n",
       "7            Alto Garças       MT           alto garcas\n",
       "8   Amarante do Maranhão       MA  amarante do maranhao\n",
       "14  Aparecida de Goiânia       GO  aparecida de goiania\n",
       "15  Aparecida de goiânia       GO  aparecida de goiania\n",
       "29        BELO HORIZONTE       MG        belo horizonte\n",
       "31             BOA VISTA       RR             boa vista\n",
       "33           BRASILIA-DF       DF           brasilia df\n",
       "36        Barra do Corda       MA        barra do corda"
      ]
     },
     "execution_count": 309,
     "metadata": {},
     "output_type": "execute_result"
    }
   ],
   "source": [
    "cidades[cidades['nome_normalizado'].str.contains(' ')].head(n=10)"
   ]
  },
  {
   "cell_type": "markdown",
   "id": "7a9a6c9f-f2b5-4a3d-a1ca-0d26f7618046",
   "metadata": {},
   "source": [
    "### Reconciliar as cidades por UF"
   ]
  },
  {
   "cell_type": "code",
   "execution_count": 310,
   "id": "8a86c28f-02aa-408b-9cf5-c8c6e228c78e",
   "metadata": {},
   "outputs": [
    {
     "data": {
      "text/plain": [
       "sigla_uf\n",
       "GO    153\n",
       "MG     65\n",
       "SP     55\n",
       "RS     17\n",
       "BA     13\n",
       "DF     12\n",
       "MA     11\n",
       "MT     11\n",
       "RJ     11\n",
       "PR     10\n",
       "TO     10\n",
       "PA      7\n",
       "MS      6\n",
       "PE      6\n",
       "PI      5\n",
       "ES      4\n",
       "CE      4\n",
       "SC      3\n",
       "PB      3\n",
       "RN      2\n",
       "SE      2\n",
       "RO      1\n",
       "RR      1\n",
       "AL      1\n",
       "AM      1\n",
       "AC      1\n",
       "Name: nome, dtype: int64"
      ]
     },
     "execution_count": 310,
     "metadata": {},
     "output_type": "execute_result"
    }
   ],
   "source": [
    "cidades.groupby('sigla_uf')['nome'].count().sort_values(ascending=False)"
   ]
  },
  {
   "cell_type": "markdown",
   "id": "88ca4743-517d-48d2-abf6-5aef22b94d8c",
   "metadata": {},
   "source": [
    "**Funções auxiliares**"
   ]
  },
  {
   "cell_type": "code",
   "execution_count": 333,
   "id": "ff125bfd-bd86-4ccf-adeb-524f11fe9576",
   "metadata": {},
   "outputs": [],
   "source": [
    "def get_first_token_length(s):\n",
    "    partes = s.split(\" \")\n",
    "    return len(partes[0])"
   ]
  },
  {
   "cell_type": "markdown",
   "id": "e4cac555-9b3a-4df8-a629-456c233ab29c",
   "metadata": {},
   "source": [
    "**Rio Grande do Sul - RS**"
   ]
  },
  {
   "cell_type": "code",
   "execution_count": 312,
   "id": "73747f94-dd29-439a-a1fb-fa041481e8aa",
   "metadata": {},
   "outputs": [],
   "source": [
    "cidades_rs = cidades[cidades['sigla_uf'] == 'RS']"
   ]
  },
  {
   "cell_type": "code",
   "execution_count": 313,
   "id": "8523b142-8cd8-42b1-9c20-232dc13a11d8",
   "metadata": {},
   "outputs": [
    {
     "data": {
      "text/plain": [
       "(17, 3)"
      ]
     },
     "execution_count": 313,
     "metadata": {},
     "output_type": "execute_result"
    }
   ],
   "source": [
    "cidades_rs.shape"
   ]
  },
  {
   "cell_type": "code",
   "execution_count": 314,
   "id": "75754fd7-31a7-43fd-b943-5b2b42263d64",
   "metadata": {},
   "outputs": [
    {
     "data": {
      "text/plain": [
       "Index(['nome', 'sigla_uf', 'nome_normalizado'], dtype='object')"
      ]
     },
     "execution_count": 314,
     "metadata": {},
     "output_type": "execute_result"
    }
   ],
   "source": [
    "cidades_rs.columns"
   ]
  },
  {
   "cell_type": "code",
   "execution_count": 315,
   "id": "08a32eed-c463-45c8-ba72-b67b5688b9ae",
   "metadata": {},
   "outputs": [],
   "source": [
    "nome_cidades_rs = [\n",
    "    'Bagé', 'Boa Vista do Buricá', 'Catuípe', 'Ijuí', 'Independência',\n",
    "    'Muçum', 'Pelotas', 'Porto Alegre', 'Rio Grande', 'Santa Maria',\n",
    "    'Santiago', 'Santo Ângelo', 'São Francisco de Assis',\n",
    "    'Tenente Portela', 'Uruguaiana', 'Venâncio Aires'\n",
    "]\n",
    "\n",
    "\n",
    "nome_ascii_cidades_rs = [\n",
    "    'bage', 'boa vista do burica', 'catuipe', 'ijui', 'independencia',\n",
    "    'mucum', 'pelotas', 'porto alegre', 'rio grande', 'santa maria',\n",
    "    'santiago', 'santo angelo', 'sao francisco de assis',\n",
    "    'tenente portela', 'uruguaiana', 'venancio aires'\n",
    "]"
   ]
  },
  {
   "cell_type": "code",
   "execution_count": 316,
   "id": "eeb41332-4429-4d32-89f5-270263eb888a",
   "metadata": {},
   "outputs": [],
   "source": [
    "cidades_rs_final = pd.DataFrame({'nome': nome_cidades_rs, 'nome_ascii': nome_ascii_cidades_rs, 'sigla_uf': ['RS'] * len(nome_cidades_rs)})"
   ]
  },
  {
   "cell_type": "code",
   "execution_count": 317,
   "id": "ed366360-3e5e-4515-89a8-78f9f48a293b",
   "metadata": {},
   "outputs": [
    {
     "data": {
      "text/html": [
       "<div>\n",
       "<style scoped>\n",
       "    .dataframe tbody tr th:only-of-type {\n",
       "        vertical-align: middle;\n",
       "    }\n",
       "\n",
       "    .dataframe tbody tr th {\n",
       "        vertical-align: top;\n",
       "    }\n",
       "\n",
       "    .dataframe thead th {\n",
       "        text-align: right;\n",
       "    }\n",
       "</style>\n",
       "<table border=\"1\" class=\"dataframe\">\n",
       "  <thead>\n",
       "    <tr style=\"text-align: right;\">\n",
       "      <th></th>\n",
       "      <th>nome</th>\n",
       "      <th>nome_ascii</th>\n",
       "      <th>sigla_uf</th>\n",
       "    </tr>\n",
       "  </thead>\n",
       "  <tbody>\n",
       "    <tr>\n",
       "      <th>6</th>\n",
       "      <td>Pelotas</td>\n",
       "      <td>pelotas</td>\n",
       "      <td>RS</td>\n",
       "    </tr>\n",
       "    <tr>\n",
       "      <th>0</th>\n",
       "      <td>Bagé</td>\n",
       "      <td>bage</td>\n",
       "      <td>RS</td>\n",
       "    </tr>\n",
       "    <tr>\n",
       "      <th>15</th>\n",
       "      <td>Venâncio Aires</td>\n",
       "      <td>venancio aires</td>\n",
       "      <td>RS</td>\n",
       "    </tr>\n",
       "    <tr>\n",
       "      <th>5</th>\n",
       "      <td>Muçum</td>\n",
       "      <td>mucum</td>\n",
       "      <td>RS</td>\n",
       "    </tr>\n",
       "    <tr>\n",
       "      <th>11</th>\n",
       "      <td>Santo Ângelo</td>\n",
       "      <td>santo angelo</td>\n",
       "      <td>RS</td>\n",
       "    </tr>\n",
       "  </tbody>\n",
       "</table>\n",
       "</div>"
      ],
      "text/plain": [
       "              nome      nome_ascii sigla_uf\n",
       "6          Pelotas         pelotas       RS\n",
       "0             Bagé            bage       RS\n",
       "15  Venâncio Aires  venancio aires       RS\n",
       "5            Muçum           mucum       RS\n",
       "11    Santo Ângelo    santo angelo       RS"
      ]
     },
     "execution_count": 317,
     "metadata": {},
     "output_type": "execute_result"
    }
   ],
   "source": [
    "cidades_rs_final.sample(n=5)"
   ]
  },
  {
   "cell_type": "code",
   "execution_count": 318,
   "id": "89e4ac5e-3e10-4341-8265-ea1818287a75",
   "metadata": {},
   "outputs": [],
   "source": [
    "cidades_rs.loc[:, ['tamanho_primeiro_token']] = cidades_rs['nome_normalizado'].apply(get_first_token_length)"
   ]
  },
  {
   "cell_type": "code",
   "execution_count": 319,
   "id": "dda274ab-d8b1-4268-8a85-f03aed774a99",
   "metadata": {},
   "outputs": [
    {
     "data": {
      "text/plain": [
       "3"
      ]
     },
     "execution_count": 319,
     "metadata": {},
     "output_type": "execute_result"
    }
   ],
   "source": [
    "cidades_rs['tamanho_primeiro_token'].min()"
   ]
  },
  {
   "cell_type": "code",
   "execution_count": 320,
   "id": "912eaa63-c96c-4cd2-a023-40d46a2b9ba4",
   "metadata": {},
   "outputs": [],
   "source": [
    "nome_ascii_to_nome = list(zip(cidades_rs[\"nome\"], cidades_rs[\"nome_normalizado\"]))"
   ]
  },
  {
   "cell_type": "code",
   "execution_count": 321,
   "id": "4166b7b1-dd97-49b8-9717-4793eb8ff942",
   "metadata": {},
   "outputs": [],
   "source": [
    "def create_aliases(row):\n",
    "    nome_ascii = row[\"nome_ascii\"]\n",
    "    aliases = [nome_desnormalizado for nome_desnormalizado, nome_normalizado in\n",
    "               nome_ascii_to_nome if fuzz.ratio(nome_normalizado, nome_ascii) >= 80 and nome_normalizado[:3] == nome_ascii[:3]]\n",
    "    return aliases"
   ]
  },
  {
   "cell_type": "code",
   "execution_count": 322,
   "id": "856b352b-9188-4cbf-90d2-95b9b8463dc9",
   "metadata": {
    "scrolled": true
   },
   "outputs": [],
   "source": [
    "cidades_rs_final['aliases'] = cidades_rs_final.apply(create_aliases, axis=1)"
   ]
  },
  {
   "cell_type": "code",
   "execution_count": 323,
   "id": "b90e3b05-789a-4b07-bc08-04fac36fbf71",
   "metadata": {},
   "outputs": [
    {
     "data": {
      "text/html": [
       "<div>\n",
       "<style scoped>\n",
       "    .dataframe tbody tr th:only-of-type {\n",
       "        vertical-align: middle;\n",
       "    }\n",
       "\n",
       "    .dataframe tbody tr th {\n",
       "        vertical-align: top;\n",
       "    }\n",
       "\n",
       "    .dataframe thead th {\n",
       "        text-align: right;\n",
       "    }\n",
       "</style>\n",
       "<table border=\"1\" class=\"dataframe\">\n",
       "  <thead>\n",
       "    <tr style=\"text-align: right;\">\n",
       "      <th></th>\n",
       "      <th>nome</th>\n",
       "      <th>nome_ascii</th>\n",
       "      <th>sigla_uf</th>\n",
       "      <th>aliases</th>\n",
       "    </tr>\n",
       "  </thead>\n",
       "  <tbody>\n",
       "    <tr>\n",
       "      <th>0</th>\n",
       "      <td>Bagé</td>\n",
       "      <td>bage</td>\n",
       "      <td>RS</td>\n",
       "      <td>[BAGÉ]</td>\n",
       "    </tr>\n",
       "    <tr>\n",
       "      <th>1</th>\n",
       "      <td>Boa Vista do Buricá</td>\n",
       "      <td>boa vista do burica</td>\n",
       "      <td>RS</td>\n",
       "      <td>[Boa Vista do Buricá]</td>\n",
       "    </tr>\n",
       "    <tr>\n",
       "      <th>2</th>\n",
       "      <td>Catuípe</td>\n",
       "      <td>catuipe</td>\n",
       "      <td>RS</td>\n",
       "      <td>[Catuípe]</td>\n",
       "    </tr>\n",
       "    <tr>\n",
       "      <th>3</th>\n",
       "      <td>Ijuí</td>\n",
       "      <td>ijui</td>\n",
       "      <td>RS</td>\n",
       "      <td>[Ijuí]</td>\n",
       "    </tr>\n",
       "    <tr>\n",
       "      <th>4</th>\n",
       "      <td>Independência</td>\n",
       "      <td>independencia</td>\n",
       "      <td>RS</td>\n",
       "      <td>[Independência]</td>\n",
       "    </tr>\n",
       "    <tr>\n",
       "      <th>5</th>\n",
       "      <td>Muçum</td>\n",
       "      <td>mucum</td>\n",
       "      <td>RS</td>\n",
       "      <td>[MUÇUM]</td>\n",
       "    </tr>\n",
       "    <tr>\n",
       "      <th>6</th>\n",
       "      <td>Pelotas</td>\n",
       "      <td>pelotas</td>\n",
       "      <td>RS</td>\n",
       "      <td>[Pelotas]</td>\n",
       "    </tr>\n",
       "    <tr>\n",
       "      <th>7</th>\n",
       "      <td>Porto Alegre</td>\n",
       "      <td>porto alegre</td>\n",
       "      <td>RS</td>\n",
       "      <td>[Porto Alegre]</td>\n",
       "    </tr>\n",
       "    <tr>\n",
       "      <th>8</th>\n",
       "      <td>Rio Grande</td>\n",
       "      <td>rio grande</td>\n",
       "      <td>RS</td>\n",
       "      <td>[Rio Grande]</td>\n",
       "    </tr>\n",
       "    <tr>\n",
       "      <th>9</th>\n",
       "      <td>Santa Maria</td>\n",
       "      <td>santa maria</td>\n",
       "      <td>RS</td>\n",
       "      <td>[Santa Maria, santa maria]</td>\n",
       "    </tr>\n",
       "    <tr>\n",
       "      <th>10</th>\n",
       "      <td>Santiago</td>\n",
       "      <td>santiago</td>\n",
       "      <td>RS</td>\n",
       "      <td>[Santiago]</td>\n",
       "    </tr>\n",
       "    <tr>\n",
       "      <th>11</th>\n",
       "      <td>Santo Ângelo</td>\n",
       "      <td>santo angelo</td>\n",
       "      <td>RS</td>\n",
       "      <td>[Santo Ângelo]</td>\n",
       "    </tr>\n",
       "    <tr>\n",
       "      <th>12</th>\n",
       "      <td>São Francisco de Assis</td>\n",
       "      <td>sao francisco de assis</td>\n",
       "      <td>RS</td>\n",
       "      <td>[São Francisco de Assis]</td>\n",
       "    </tr>\n",
       "    <tr>\n",
       "      <th>13</th>\n",
       "      <td>Tenente Portela</td>\n",
       "      <td>tenente portela</td>\n",
       "      <td>RS</td>\n",
       "      <td>[Tenente Portela]</td>\n",
       "    </tr>\n",
       "    <tr>\n",
       "      <th>14</th>\n",
       "      <td>Uruguaiana</td>\n",
       "      <td>uruguaiana</td>\n",
       "      <td>RS</td>\n",
       "      <td>[Uruguaiana]</td>\n",
       "    </tr>\n",
       "    <tr>\n",
       "      <th>15</th>\n",
       "      <td>Venâncio Aires</td>\n",
       "      <td>venancio aires</td>\n",
       "      <td>RS</td>\n",
       "      <td>[Venâncio Aires]</td>\n",
       "    </tr>\n",
       "  </tbody>\n",
       "</table>\n",
       "</div>"
      ],
      "text/plain": [
       "                      nome              nome_ascii sigla_uf  \\\n",
       "0                     Bagé                    bage       RS   \n",
       "1      Boa Vista do Buricá     boa vista do burica       RS   \n",
       "2                  Catuípe                 catuipe       RS   \n",
       "3                     Ijuí                    ijui       RS   \n",
       "4            Independência           independencia       RS   \n",
       "5                    Muçum                   mucum       RS   \n",
       "6                  Pelotas                 pelotas       RS   \n",
       "7             Porto Alegre            porto alegre       RS   \n",
       "8               Rio Grande              rio grande       RS   \n",
       "9              Santa Maria             santa maria       RS   \n",
       "10                Santiago                santiago       RS   \n",
       "11            Santo Ângelo            santo angelo       RS   \n",
       "12  São Francisco de Assis  sao francisco de assis       RS   \n",
       "13         Tenente Portela         tenente portela       RS   \n",
       "14              Uruguaiana              uruguaiana       RS   \n",
       "15          Venâncio Aires          venancio aires       RS   \n",
       "\n",
       "                       aliases  \n",
       "0                       [BAGÉ]  \n",
       "1        [Boa Vista do Buricá]  \n",
       "2                    [Catuípe]  \n",
       "3                       [Ijuí]  \n",
       "4              [Independência]  \n",
       "5                      [MUÇUM]  \n",
       "6                    [Pelotas]  \n",
       "7               [Porto Alegre]  \n",
       "8                 [Rio Grande]  \n",
       "9   [Santa Maria, santa maria]  \n",
       "10                  [Santiago]  \n",
       "11              [Santo Ângelo]  \n",
       "12    [São Francisco de Assis]  \n",
       "13           [Tenente Portela]  \n",
       "14                [Uruguaiana]  \n",
       "15            [Venâncio Aires]  "
      ]
     },
     "execution_count": 323,
     "metadata": {},
     "output_type": "execute_result"
    }
   ],
   "source": [
    "cidades_rs_final"
   ]
  },
  {
   "cell_type": "markdown",
   "id": "fc97463e-4e74-4342-b2b5-569deafa7c39",
   "metadata": {},
   "source": [
    "**Bahia - BA**"
   ]
  },
  {
   "cell_type": "code",
   "execution_count": 324,
   "id": "6851c369-db4e-4af6-9cdc-8631d16b9599",
   "metadata": {},
   "outputs": [],
   "source": [
    "cidades_ba = cidades[cidades['sigla_uf'] == 'BA']"
   ]
  },
  {
   "cell_type": "code",
   "execution_count": 325,
   "id": "521722a9-8728-456a-9485-eba2d6082ad9",
   "metadata": {},
   "outputs": [
    {
     "data": {
      "text/html": [
       "<div>\n",
       "<style scoped>\n",
       "    .dataframe tbody tr th:only-of-type {\n",
       "        vertical-align: middle;\n",
       "    }\n",
       "\n",
       "    .dataframe tbody tr th {\n",
       "        vertical-align: top;\n",
       "    }\n",
       "\n",
       "    .dataframe thead th {\n",
       "        text-align: right;\n",
       "    }\n",
       "</style>\n",
       "<table border=\"1\" class=\"dataframe\">\n",
       "  <thead>\n",
       "    <tr style=\"text-align: right;\">\n",
       "      <th></th>\n",
       "      <th>nome</th>\n",
       "      <th>sigla_uf</th>\n",
       "      <th>nome_normalizado</th>\n",
       "    </tr>\n",
       "  </thead>\n",
       "  <tbody>\n",
       "    <tr>\n",
       "      <th>4</th>\n",
       "      <td>Alagoinhas</td>\n",
       "      <td>BA</td>\n",
       "      <td>alagoinhas</td>\n",
       "    </tr>\n",
       "    <tr>\n",
       "      <th>46</th>\n",
       "      <td>Bom Jesus da Serra</td>\n",
       "      <td>BA</td>\n",
       "      <td>bom jesus da serra</td>\n",
       "    </tr>\n",
       "    <tr>\n",
       "      <th>48</th>\n",
       "      <td>Brasilia</td>\n",
       "      <td>BA</td>\n",
       "      <td>brasilia</td>\n",
       "    </tr>\n",
       "    <tr>\n",
       "      <th>84</th>\n",
       "      <td>Casa Nova</td>\n",
       "      <td>BA</td>\n",
       "      <td>casa nova</td>\n",
       "    </tr>\n",
       "    <tr>\n",
       "      <th>95</th>\n",
       "      <td>Cocos</td>\n",
       "      <td>BA</td>\n",
       "      <td>cocos</td>\n",
       "    </tr>\n",
       "    <tr>\n",
       "      <th>98</th>\n",
       "      <td>Correntina</td>\n",
       "      <td>BA</td>\n",
       "      <td>correntina</td>\n",
       "    </tr>\n",
       "    <tr>\n",
       "      <th>181</th>\n",
       "      <td>Itaberaba</td>\n",
       "      <td>BA</td>\n",
       "      <td>itaberaba</td>\n",
       "    </tr>\n",
       "    <tr>\n",
       "      <th>184</th>\n",
       "      <td>Itabuna</td>\n",
       "      <td>BA</td>\n",
       "      <td>itabuna</td>\n",
       "    </tr>\n",
       "    <tr>\n",
       "      <th>186</th>\n",
       "      <td>Itamaraju</td>\n",
       "      <td>BA</td>\n",
       "      <td>itamaraju</td>\n",
       "    </tr>\n",
       "    <tr>\n",
       "      <th>202</th>\n",
       "      <td>Jacobina</td>\n",
       "      <td>BA</td>\n",
       "      <td>jacobina</td>\n",
       "    </tr>\n",
       "    <tr>\n",
       "      <th>211</th>\n",
       "      <td>Jequié</td>\n",
       "      <td>BA</td>\n",
       "      <td>jequie</td>\n",
       "    </tr>\n",
       "    <tr>\n",
       "      <th>327</th>\n",
       "      <td>Salvador</td>\n",
       "      <td>BA</td>\n",
       "      <td>salvador</td>\n",
       "    </tr>\n",
       "    <tr>\n",
       "      <th>334</th>\n",
       "      <td>Santa Maria da Vitória</td>\n",
       "      <td>BA</td>\n",
       "      <td>santa maria da vitoria</td>\n",
       "    </tr>\n",
       "  </tbody>\n",
       "</table>\n",
       "</div>"
      ],
      "text/plain": [
       "                       nome sigla_uf        nome_normalizado\n",
       "4                Alagoinhas       BA              alagoinhas\n",
       "46       Bom Jesus da Serra       BA      bom jesus da serra\n",
       "48                 Brasilia       BA                brasilia\n",
       "84                Casa Nova       BA               casa nova\n",
       "95                    Cocos       BA                   cocos\n",
       "98               Correntina       BA              correntina\n",
       "181               Itaberaba       BA               itaberaba\n",
       "184                 Itabuna       BA                 itabuna\n",
       "186               Itamaraju       BA               itamaraju\n",
       "202                Jacobina       BA                jacobina\n",
       "211                  Jequié       BA                  jequie\n",
       "327                Salvador       BA                salvador\n",
       "334  Santa Maria da Vitória       BA  santa maria da vitoria"
      ]
     },
     "execution_count": 325,
     "metadata": {},
     "output_type": "execute_result"
    }
   ],
   "source": [
    "cidades_ba"
   ]
  },
  {
   "cell_type": "code",
   "execution_count": 337,
   "id": "8e7ea18d-3309-41c4-a30d-b31d5c48ee9c",
   "metadata": {},
   "outputs": [],
   "source": [
    "cidades_ba = cidades_ba.drop(cidades_ba[cidades_ba['nome_normalizado'] == 'brasilia'].index)"
   ]
  },
  {
   "cell_type": "code",
   "execution_count": 332,
   "id": "a154fbdb-5fc5-42a6-a6b6-e9d0ec42a214",
   "metadata": {},
   "outputs": [
    {
     "data": {
      "text/plain": [
       "True"
      ]
     },
     "execution_count": 332,
     "metadata": {},
     "output_type": "execute_result"
    }
   ],
   "source": [
    "len(cidades_ba['nome_normalizado'].unique()) == len(cidades_ba['nome_normalizado'])"
   ]
  },
  {
   "cell_type": "code",
   "execution_count": 338,
   "id": "0c5c0707-b772-4cb3-bcd9-a8710a7bc361",
   "metadata": {},
   "outputs": [],
   "source": [
    "cidades_ba_final = cidades_ba[['nome', 'sigla_uf']]"
   ]
  },
  {
   "cell_type": "code",
   "execution_count": 339,
   "id": "1ceae57c-138a-4176-8484-47bfe2b304b6",
   "metadata": {},
   "outputs": [],
   "source": [
    "cidades_ba_final['aliases'] = cidades_ba['nome'].apply(lambda s: [s])"
   ]
  },
  {
   "cell_type": "code",
   "execution_count": 341,
   "id": "40f7313d-523d-4cd8-8cf5-84f5fd289c1e",
   "metadata": {},
   "outputs": [],
   "source": [
    "cidades_ba_final['nome_ascii'] = cidades_ba['nome_normalizado']"
   ]
  },
  {
   "cell_type": "code",
   "execution_count": 342,
   "id": "29f861a3-4198-4a92-bfc7-fe209de8392f",
   "metadata": {},
   "outputs": [
    {
     "data": {
      "text/html": [
       "<div>\n",
       "<style scoped>\n",
       "    .dataframe tbody tr th:only-of-type {\n",
       "        vertical-align: middle;\n",
       "    }\n",
       "\n",
       "    .dataframe tbody tr th {\n",
       "        vertical-align: top;\n",
       "    }\n",
       "\n",
       "    .dataframe thead th {\n",
       "        text-align: right;\n",
       "    }\n",
       "</style>\n",
       "<table border=\"1\" class=\"dataframe\">\n",
       "  <thead>\n",
       "    <tr style=\"text-align: right;\">\n",
       "      <th></th>\n",
       "      <th>nome</th>\n",
       "      <th>sigla_uf</th>\n",
       "      <th>aliases</th>\n",
       "      <th>nome_ascii</th>\n",
       "    </tr>\n",
       "  </thead>\n",
       "  <tbody>\n",
       "    <tr>\n",
       "      <th>4</th>\n",
       "      <td>Alagoinhas</td>\n",
       "      <td>BA</td>\n",
       "      <td>[Alagoinhas]</td>\n",
       "      <td>alagoinhas</td>\n",
       "    </tr>\n",
       "    <tr>\n",
       "      <th>46</th>\n",
       "      <td>Bom Jesus da Serra</td>\n",
       "      <td>BA</td>\n",
       "      <td>[Bom Jesus da Serra]</td>\n",
       "      <td>bom jesus da serra</td>\n",
       "    </tr>\n",
       "    <tr>\n",
       "      <th>84</th>\n",
       "      <td>Casa Nova</td>\n",
       "      <td>BA</td>\n",
       "      <td>[Casa Nova]</td>\n",
       "      <td>casa nova</td>\n",
       "    </tr>\n",
       "    <tr>\n",
       "      <th>95</th>\n",
       "      <td>Cocos</td>\n",
       "      <td>BA</td>\n",
       "      <td>[Cocos]</td>\n",
       "      <td>cocos</td>\n",
       "    </tr>\n",
       "    <tr>\n",
       "      <th>98</th>\n",
       "      <td>Correntina</td>\n",
       "      <td>BA</td>\n",
       "      <td>[Correntina]</td>\n",
       "      <td>correntina</td>\n",
       "    </tr>\n",
       "    <tr>\n",
       "      <th>181</th>\n",
       "      <td>Itaberaba</td>\n",
       "      <td>BA</td>\n",
       "      <td>[Itaberaba]</td>\n",
       "      <td>itaberaba</td>\n",
       "    </tr>\n",
       "    <tr>\n",
       "      <th>184</th>\n",
       "      <td>Itabuna</td>\n",
       "      <td>BA</td>\n",
       "      <td>[Itabuna]</td>\n",
       "      <td>itabuna</td>\n",
       "    </tr>\n",
       "    <tr>\n",
       "      <th>186</th>\n",
       "      <td>Itamaraju</td>\n",
       "      <td>BA</td>\n",
       "      <td>[Itamaraju]</td>\n",
       "      <td>itamaraju</td>\n",
       "    </tr>\n",
       "    <tr>\n",
       "      <th>202</th>\n",
       "      <td>Jacobina</td>\n",
       "      <td>BA</td>\n",
       "      <td>[Jacobina]</td>\n",
       "      <td>jacobina</td>\n",
       "    </tr>\n",
       "    <tr>\n",
       "      <th>211</th>\n",
       "      <td>Jequié</td>\n",
       "      <td>BA</td>\n",
       "      <td>[Jequié]</td>\n",
       "      <td>jequie</td>\n",
       "    </tr>\n",
       "    <tr>\n",
       "      <th>327</th>\n",
       "      <td>Salvador</td>\n",
       "      <td>BA</td>\n",
       "      <td>[Salvador]</td>\n",
       "      <td>salvador</td>\n",
       "    </tr>\n",
       "    <tr>\n",
       "      <th>334</th>\n",
       "      <td>Santa Maria da Vitória</td>\n",
       "      <td>BA</td>\n",
       "      <td>[Santa Maria da Vitória]</td>\n",
       "      <td>santa maria da vitoria</td>\n",
       "    </tr>\n",
       "  </tbody>\n",
       "</table>\n",
       "</div>"
      ],
      "text/plain": [
       "                       nome sigla_uf                   aliases  \\\n",
       "4                Alagoinhas       BA              [Alagoinhas]   \n",
       "46       Bom Jesus da Serra       BA      [Bom Jesus da Serra]   \n",
       "84                Casa Nova       BA               [Casa Nova]   \n",
       "95                    Cocos       BA                   [Cocos]   \n",
       "98               Correntina       BA              [Correntina]   \n",
       "181               Itaberaba       BA               [Itaberaba]   \n",
       "184                 Itabuna       BA                 [Itabuna]   \n",
       "186               Itamaraju       BA               [Itamaraju]   \n",
       "202                Jacobina       BA                [Jacobina]   \n",
       "211                  Jequié       BA                  [Jequié]   \n",
       "327                Salvador       BA                [Salvador]   \n",
       "334  Santa Maria da Vitória       BA  [Santa Maria da Vitória]   \n",
       "\n",
       "                 nome_ascii  \n",
       "4                alagoinhas  \n",
       "46       bom jesus da serra  \n",
       "84                casa nova  \n",
       "95                    cocos  \n",
       "98               correntina  \n",
       "181               itaberaba  \n",
       "184                 itabuna  \n",
       "186               itamaraju  \n",
       "202                jacobina  \n",
       "211                  jequie  \n",
       "327                salvador  \n",
       "334  santa maria da vitoria  "
      ]
     },
     "execution_count": 342,
     "metadata": {},
     "output_type": "execute_result"
    }
   ],
   "source": [
    "cidades_ba_final"
   ]
  }
 ],
 "metadata": {
  "kernelspec": {
   "display_name": "Python 3 (ipykernel)",
   "language": "python",
   "name": "python3"
  },
  "language_info": {
   "codemirror_mode": {
    "name": "ipython",
    "version": 3
   },
   "file_extension": ".py",
   "mimetype": "text/x-python",
   "name": "python",
   "nbconvert_exporter": "python",
   "pygments_lexer": "ipython3",
   "version": "3.10.12"
  }
 },
 "nbformat": 4,
 "nbformat_minor": 5
}
