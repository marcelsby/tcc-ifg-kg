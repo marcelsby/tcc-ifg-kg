{
 "cells": [
  {
   "cell_type": "code",
   "execution_count": 8,
   "id": "9e7e33ae",
   "metadata": {
    "tags": [
     "parameters"
    ]
   },
   "outputs": [],
   "source": [
    "p_storage_dir = \"../../storage\"\n",
    "p_notebooks_root = None"
   ]
  },
  {
   "cell_type": "code",
   "execution_count": null,
   "id": "8df883b2-d74c-48b6-b500-544c55cf89f0",
   "metadata": {},
   "outputs": [],
   "source": [
    "if p_notebooks_root is not None:\n",
    "    import os\n",
    "    os.chdir(p_notebooks_root)"
   ]
  },
  {
   "cell_type": "code",
   "execution_count": 9,
   "id": "26699801",
   "metadata": {},
   "outputs": [],
   "source": [
    "from pathlib import Path\n",
    "\n",
    "import numpy as np\n",
    "import pandas as pd\n",
    "\n",
    "IFG_PRODUZ_STORAGE_DIR = Path(f\"{p_storage_dir}/ifg_produz\")"
   ]
  },
  {
   "cell_type": "markdown",
   "id": "63619834",
   "metadata": {},
   "source": [
    "# Banca"
   ]
  },
  {
   "cell_type": "code",
   "execution_count": 10,
   "id": "e0a1fdaa",
   "metadata": {},
   "outputs": [
    {
     "data": {
      "text/html": [
       "<div>\n",
       "<style scoped>\n",
       "    .dataframe tbody tr th:only-of-type {\n",
       "        vertical-align: middle;\n",
       "    }\n",
       "\n",
       "    .dataframe tbody tr th {\n",
       "        vertical-align: top;\n",
       "    }\n",
       "\n",
       "    .dataframe thead th {\n",
       "        text-align: right;\n",
       "    }\n",
       "</style>\n",
       "<table border=\"1\" class=\"dataframe\">\n",
       "  <thead>\n",
       "    <tr style=\"text-align: right;\">\n",
       "      <th></th>\n",
       "      <th>id_banca</th>\n",
       "      <th>titulo</th>\n",
       "      <th>ano</th>\n",
       "      <th>natureza</th>\n",
       "      <th>id_curriculo_id</th>\n",
       "    </tr>\n",
       "  </thead>\n",
       "  <tbody>\n",
       "    <tr>\n",
       "      <th>5023</th>\n",
       "      <td>4973</td>\n",
       "      <td>Análise de viabilidade técnica e econômica da ...</td>\n",
       "      <td>2018</td>\n",
       "      <td>Mestrado</td>\n",
       "      <td>653</td>\n",
       "    </tr>\n",
       "    <tr>\n",
       "      <th>6544</th>\n",
       "      <td>6536</td>\n",
       "      <td>Utilização de algas no tratamento de efluente ...</td>\n",
       "      <td>2005</td>\n",
       "      <td>Graduação</td>\n",
       "      <td>893</td>\n",
       "    </tr>\n",
       "    <tr>\n",
       "      <th>14250</th>\n",
       "      <td>14250</td>\n",
       "      <td>DESENVOLVIMENTO DE UM SISTEMA DE CONTROLE E SU...</td>\n",
       "      <td>2016</td>\n",
       "      <td>Graduação</td>\n",
       "      <td>1814</td>\n",
       "    </tr>\n",
       "    <tr>\n",
       "      <th>6939</th>\n",
       "      <td>6935</td>\n",
       "      <td>Novos Caminhos</td>\n",
       "      <td>2009</td>\n",
       "      <td>Graduação</td>\n",
       "      <td>898</td>\n",
       "    </tr>\n",
       "    <tr>\n",
       "      <th>10924</th>\n",
       "      <td>10913</td>\n",
       "      <td>O PROEJA NO IFG - CÂMPUS Goiânia: os desafios ...</td>\n",
       "      <td>2015</td>\n",
       "      <td>Graduação</td>\n",
       "      <td>1418</td>\n",
       "    </tr>\n",
       "  </tbody>\n",
       "</table>\n",
       "</div>"
      ],
      "text/plain": [
       "       id_banca                                             titulo   ano  \\\n",
       "5023       4973  Análise de viabilidade técnica e econômica da ...  2018   \n",
       "6544       6536  Utilização de algas no tratamento de efluente ...  2005   \n",
       "14250     14250  DESENVOLVIMENTO DE UM SISTEMA DE CONTROLE E SU...  2016   \n",
       "6939       6935                                     Novos Caminhos  2009   \n",
       "10924     10913  O PROEJA NO IFG - CÂMPUS Goiânia: os desafios ...  2015   \n",
       "\n",
       "        natureza  id_curriculo_id  \n",
       "5023    Mestrado              653  \n",
       "6544   Graduação              893  \n",
       "14250  Graduação             1814  \n",
       "6939   Graduação              898  \n",
       "10924  Graduação             1418  "
      ]
     },
     "execution_count": 10,
     "metadata": {},
     "output_type": "execute_result"
    }
   ],
   "source": [
    "banca = pd.read_csv(IFG_PRODUZ_STORAGE_DIR / \"extracted/banca.csv\", delimiter=\";\")\n",
    "\n",
    "banca.sample(n=5)"
   ]
  },
  {
   "cell_type": "code",
   "execution_count": 11,
   "id": "c343a820-3911-4462-9ff0-f2de792589d5",
   "metadata": {},
   "outputs": [],
   "source": [
    "banca = banca.rename(columns={\n",
    "    'id_banca': 'codigo',\n",
    "    'id_curriculo_id': 'codigo_curriculo'\n",
    "})"
   ]
  },
  {
   "cell_type": "code",
   "execution_count": 12,
   "id": "bd6fc02b-d83c-4b69-b898-7bfa2284ab5d",
   "metadata": {},
   "outputs": [
    {
     "data": {
      "text/html": [
       "<div>\n",
       "<style scoped>\n",
       "    .dataframe tbody tr th:only-of-type {\n",
       "        vertical-align: middle;\n",
       "    }\n",
       "\n",
       "    .dataframe tbody tr th {\n",
       "        vertical-align: top;\n",
       "    }\n",
       "\n",
       "    .dataframe thead th {\n",
       "        text-align: right;\n",
       "    }\n",
       "</style>\n",
       "<table border=\"1\" class=\"dataframe\">\n",
       "  <thead>\n",
       "    <tr style=\"text-align: right;\">\n",
       "      <th></th>\n",
       "      <th>codigo</th>\n",
       "      <th>titulo</th>\n",
       "      <th>ano</th>\n",
       "      <th>natureza</th>\n",
       "      <th>codigo_curriculo</th>\n",
       "    </tr>\n",
       "  </thead>\n",
       "  <tbody>\n",
       "    <tr>\n",
       "      <th>8353</th>\n",
       "      <td>8350</td>\n",
       "      <td>Segmento de turismo GLS em Goiânia:Uma análise...</td>\n",
       "      <td>2016</td>\n",
       "      <td>Graduação</td>\n",
       "      <td>1080</td>\n",
       "    </tr>\n",
       "    <tr>\n",
       "      <th>307</th>\n",
       "      <td>307</td>\n",
       "      <td>PROCEDIMENTO PARA INSPEÇÃO E DIAGNÓSTICO DE PA...</td>\n",
       "      <td>2019</td>\n",
       "      <td>Graduação</td>\n",
       "      <td>32</td>\n",
       "    </tr>\n",
       "    <tr>\n",
       "      <th>1631</th>\n",
       "      <td>1628</td>\n",
       "      <td>Um enfoque nos sistemas de informações na ECT</td>\n",
       "      <td>2013</td>\n",
       "      <td>Graduação</td>\n",
       "      <td>200</td>\n",
       "    </tr>\n",
       "    <tr>\n",
       "      <th>7197</th>\n",
       "      <td>7155</td>\n",
       "      <td>Análise da Mistura solo emulsão cal para fins ...</td>\n",
       "      <td>2008</td>\n",
       "      <td>Graduação</td>\n",
       "      <td>931</td>\n",
       "    </tr>\n",
       "    <tr>\n",
       "      <th>2235</th>\n",
       "      <td>2231</td>\n",
       "      <td>Análise de crédito emprestado X crescimento ec...</td>\n",
       "      <td>2011</td>\n",
       "      <td>Graduação</td>\n",
       "      <td>268</td>\n",
       "    </tr>\n",
       "  </tbody>\n",
       "</table>\n",
       "</div>"
      ],
      "text/plain": [
       "      codigo                                             titulo   ano  \\\n",
       "8353    8350  Segmento de turismo GLS em Goiânia:Uma análise...  2016   \n",
       "307      307  PROCEDIMENTO PARA INSPEÇÃO E DIAGNÓSTICO DE PA...  2019   \n",
       "1631    1628      Um enfoque nos sistemas de informações na ECT  2013   \n",
       "7197    7155  Análise da Mistura solo emulsão cal para fins ...  2008   \n",
       "2235    2231  Análise de crédito emprestado X crescimento ec...  2011   \n",
       "\n",
       "       natureza  codigo_curriculo  \n",
       "8353  Graduação              1080  \n",
       "307   Graduação                32  \n",
       "1631  Graduação               200  \n",
       "7197  Graduação               931  \n",
       "2235  Graduação               268  "
      ]
     },
     "execution_count": 12,
     "metadata": {},
     "output_type": "execute_result"
    }
   ],
   "source": [
    "banca.sample(n=5)"
   ]
  },
  {
   "cell_type": "markdown",
   "id": "906a0af7-b060-4c06-af97-77b30d8dcd5a",
   "metadata": {},
   "source": [
    "## Exportar"
   ]
  },
  {
   "cell_type": "code",
   "execution_count": 13,
   "id": "c55189b8-69fd-48e5-951a-c6c70437ee66",
   "metadata": {},
   "outputs": [],
   "source": [
    "export_path = Path(IFG_PRODUZ_STORAGE_DIR / \"preprocessed\")\n",
    "\n",
    "if not export_path.is_dir():\n",
    "    Path(export_path).mkdir()\n",
    "\n",
    "banca.to_csv(export_path / \"banca.csv\", sep=\";\", index=False)"
   ]
  }
 ],
 "metadata": {
  "kernelspec": {
   "display_name": "Python 3 (ipykernel)",
   "language": "python",
   "name": "python3"
  },
  "language_info": {
   "codemirror_mode": {
    "name": "ipython",
    "version": 3
   },
   "file_extension": ".py",
   "mimetype": "text/x-python",
   "name": "python",
   "nbconvert_exporter": "python",
   "pygments_lexer": "ipython3",
   "version": "3.10.12"
  }
 },
 "nbformat": 4,
 "nbformat_minor": 5
}
