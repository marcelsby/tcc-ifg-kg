{
 "cells": [
  {
   "cell_type": "code",
   "execution_count": 1,
   "id": "9e7e33ae",
   "metadata": {
    "tags": [
     "parameters"
    ]
   },
   "outputs": [],
   "source": [
    "p_storage_dir = \"../../storage\"\n",
    "p_notebooks_root = None"
   ]
  },
  {
   "cell_type": "code",
   "execution_count": 2,
   "id": "6d0c39c7-6dd3-43ff-baf8-5bb1c13e4503",
   "metadata": {},
   "outputs": [],
   "source": [
    "if p_notebooks_root is not None:\n",
    "    import os\n",
    "    os.chdir(p_notebooks_root)"
   ]
  },
  {
   "cell_type": "code",
   "execution_count": 3,
   "id": "26699801",
   "metadata": {},
   "outputs": [],
   "source": [
    "import pandas as pd\n",
    "from pathlib import Path\n",
    "\n",
    "IFG_PRODUZ_STORAGE_DIR = Path(f\"{p_storage_dir}/ifg_produz\")"
   ]
  },
  {
   "cell_type": "markdown",
   "id": "63619834",
   "metadata": {},
   "source": [
    "## Atividades Atuação Profissional"
   ]
  },
  {
   "cell_type": "code",
   "execution_count": 4,
   "id": "e0a1fdaa",
   "metadata": {},
   "outputs": [
    {
     "data": {
      "text/html": [
       "<div>\n",
       "<style scoped>\n",
       "    .dataframe tbody tr th:only-of-type {\n",
       "        vertical-align: middle;\n",
       "    }\n",
       "\n",
       "    .dataframe tbody tr th {\n",
       "        vertical-align: top;\n",
       "    }\n",
       "\n",
       "    .dataframe thead th {\n",
       "        text-align: right;\n",
       "    }\n",
       "</style>\n",
       "<table border=\"1\" class=\"dataframe\">\n",
       "  <thead>\n",
       "    <tr style=\"text-align: right;\">\n",
       "      <th></th>\n",
       "      <th>id_atividade</th>\n",
       "      <th>data_inicio</th>\n",
       "      <th>atividade</th>\n",
       "      <th>id_atuacao_profissional_id</th>\n",
       "    </tr>\n",
       "  </thead>\n",
       "  <tbody>\n",
       "    <tr>\n",
       "      <th>718</th>\n",
       "      <td>719</td>\n",
       "      <td>2005</td>\n",
       "      <td>Coordenador Assistente dos Cursos de Sistemas ...</td>\n",
       "      <td>6296</td>\n",
       "    </tr>\n",
       "    <tr>\n",
       "      <th>733</th>\n",
       "      <td>734</td>\n",
       "      <td>2014</td>\n",
       "      <td>Coordenação Curso de Ciências Contábeis</td>\n",
       "      <td>6375</td>\n",
       "    </tr>\n",
       "    <tr>\n",
       "      <th>904</th>\n",
       "      <td>904</td>\n",
       "      <td>2004</td>\n",
       "      <td>Coordenadora Técnica</td>\n",
       "      <td>7955</td>\n",
       "    </tr>\n",
       "    <tr>\n",
       "      <th>1264</th>\n",
       "      <td>1265</td>\n",
       "      <td>2011</td>\n",
       "      <td>Diretor Presidente</td>\n",
       "      <td>10932</td>\n",
       "    </tr>\n",
       "    <tr>\n",
       "      <th>466</th>\n",
       "      <td>467</td>\n",
       "      <td>2004</td>\n",
       "      <td>Vice-Coordenação - Mestrado em Ecologia e Prod...</td>\n",
       "      <td>4097</td>\n",
       "    </tr>\n",
       "    <tr>\n",
       "      <th>399</th>\n",
       "      <td>400</td>\n",
       "      <td>2019</td>\n",
       "      <td>Coordenadora do Curso de Pós-Graduação Lato Se...</td>\n",
       "      <td>3371</td>\n",
       "    </tr>\n",
       "    <tr>\n",
       "      <th>727</th>\n",
       "      <td>728</td>\n",
       "      <td>2017</td>\n",
       "      <td>Suplente no Colegiado do Curso de Eletroeletrô...</td>\n",
       "      <td>6346</td>\n",
       "    </tr>\n",
       "    <tr>\n",
       "      <th>294</th>\n",
       "      <td>295</td>\n",
       "      <td>2014</td>\n",
       "      <td>Equipe de Apoio nos Processos Licitatórios do ...</td>\n",
       "      <td>2663</td>\n",
       "    </tr>\n",
       "  </tbody>\n",
       "</table>\n",
       "</div>"
      ],
      "text/plain": [
       "      id_atividade  data_inicio  \\\n",
       "718            719         2005   \n",
       "733            734         2014   \n",
       "904            904         2004   \n",
       "1264          1265         2011   \n",
       "466            467         2004   \n",
       "399            400         2019   \n",
       "727            728         2017   \n",
       "294            295         2014   \n",
       "\n",
       "                                              atividade  \\\n",
       "718   Coordenador Assistente dos Cursos de Sistemas ...   \n",
       "733             Coordenação Curso de Ciências Contábeis   \n",
       "904                                Coordenadora Técnica   \n",
       "1264                                 Diretor Presidente   \n",
       "466   Vice-Coordenação - Mestrado em Ecologia e Prod...   \n",
       "399   Coordenadora do Curso de Pós-Graduação Lato Se...   \n",
       "727   Suplente no Colegiado do Curso de Eletroeletrô...   \n",
       "294   Equipe de Apoio nos Processos Licitatórios do ...   \n",
       "\n",
       "      id_atuacao_profissional_id  \n",
       "718                         6296  \n",
       "733                         6375  \n",
       "904                         7955  \n",
       "1264                       10932  \n",
       "466                         4097  \n",
       "399                         3371  \n",
       "727                         6346  \n",
       "294                         2663  "
      ]
     },
     "execution_count": 4,
     "metadata": {},
     "output_type": "execute_result"
    }
   ],
   "source": [
    "atividades = pd.read_csv(IFG_PRODUZ_STORAGE_DIR / \"extracted/atividades.csv\", delimiter=\";\")\n",
    "\n",
    "atividades.sample(n=8)"
   ]
  },
  {
   "cell_type": "code",
   "execution_count": 5,
   "id": "2cb31d71-5206-455e-904d-23dfbceaefed",
   "metadata": {},
   "outputs": [],
   "source": [
    "atividades = atividades.rename(columns={\n",
    "    'id_atividade': 'codigo',\n",
    "    'atividade': 'cargo',\n",
    "    'id_atuacao_profissional_id': 'codigo_atuacao_profissional',\n",
    "    'data_inicio': 'ano_inicio'\n",
    "})"
   ]
  },
  {
   "cell_type": "code",
   "execution_count": 6,
   "id": "3dc31f7f-7c43-43ac-a7bf-75c2a94e4164",
   "metadata": {},
   "outputs": [
    {
     "data": {
      "text/html": [
       "<div>\n",
       "<style scoped>\n",
       "    .dataframe tbody tr th:only-of-type {\n",
       "        vertical-align: middle;\n",
       "    }\n",
       "\n",
       "    .dataframe tbody tr th {\n",
       "        vertical-align: top;\n",
       "    }\n",
       "\n",
       "    .dataframe thead th {\n",
       "        text-align: right;\n",
       "    }\n",
       "</style>\n",
       "<table border=\"1\" class=\"dataframe\">\n",
       "  <thead>\n",
       "    <tr style=\"text-align: right;\">\n",
       "      <th></th>\n",
       "      <th>codigo</th>\n",
       "      <th>ano_inicio</th>\n",
       "      <th>cargo</th>\n",
       "      <th>codigo_atuacao_profissional</th>\n",
       "    </tr>\n",
       "  </thead>\n",
       "  <tbody>\n",
       "    <tr>\n",
       "      <th>71</th>\n",
       "      <td>72</td>\n",
       "      <td>1999</td>\n",
       "      <td>Direção da Escola Estadual Dom Bosco</td>\n",
       "      <td>514</td>\n",
       "    </tr>\n",
       "    <tr>\n",
       "      <th>238</th>\n",
       "      <td>239</td>\n",
       "      <td>2006</td>\n",
       "      <td>Professor de pos-graduacao</td>\n",
       "      <td>2050</td>\n",
       "    </tr>\n",
       "    <tr>\n",
       "      <th>865</th>\n",
       "      <td>865</td>\n",
       "      <td>2006</td>\n",
       "      <td>Gerente Municipal de Educação Infantil</td>\n",
       "      <td>7658</td>\n",
       "    </tr>\n",
       "  </tbody>\n",
       "</table>\n",
       "</div>"
      ],
      "text/plain": [
       "     codigo  ano_inicio                                   cargo  \\\n",
       "71       72        1999    Direção da Escola Estadual Dom Bosco   \n",
       "238     239        2006              Professor de pos-graduacao   \n",
       "865     865        2006  Gerente Municipal de Educação Infantil   \n",
       "\n",
       "     codigo_atuacao_profissional  \n",
       "71                           514  \n",
       "238                         2050  \n",
       "865                         7658  "
      ]
     },
     "execution_count": 6,
     "metadata": {},
     "output_type": "execute_result"
    }
   ],
   "source": [
    "atividades.sample(n=3)"
   ]
  },
  {
   "cell_type": "code",
   "execution_count": 7,
   "id": "1f190c72-127c-4bc0-882d-e21695efb429",
   "metadata": {},
   "outputs": [
    {
     "data": {
      "text/plain": [
       "['codigo', 'ano_inicio', 'cargo', 'codigo_atuacao_profissional']"
      ]
     },
     "execution_count": 7,
     "metadata": {},
     "output_type": "execute_result"
    }
   ],
   "source": [
    "list(atividades.columns)"
   ]
  },
  {
   "cell_type": "markdown",
   "id": "906a0af7-b060-4c06-af97-77b30d8dcd5a",
   "metadata": {},
   "source": [
    "**Exportar**"
   ]
  },
  {
   "cell_type": "code",
   "execution_count": 13,
   "id": "c55189b8-69fd-48e5-951a-c6c70437ee66",
   "metadata": {},
   "outputs": [],
   "source": [
    "export_path = Path(IFG_PRODUZ_STORAGE_DIR / \"preprocessed\")\n",
    "\n",
    "if not export_path.is_dir():\n",
    "    Path(export_path).mkdir()\n",
    "\n",
    "atividades.to_csv(export_path / \"atividades_atuacao_profissional.csv\", sep=\";\", index=False)"
   ]
  }
 ],
 "metadata": {
  "kernelspec": {
   "display_name": "Python 3 (ipykernel)",
   "language": "python",
   "name": "python3"
  },
  "language_info": {
   "codemirror_mode": {
    "name": "ipython",
    "version": 3
   },
   "file_extension": ".py",
   "mimetype": "text/x-python",
   "name": "python",
   "nbconvert_exporter": "python",
   "pygments_lexer": "ipython3",
   "version": "3.10.12"
  }
 },
 "nbformat": 4,
 "nbformat_minor": 5
}
