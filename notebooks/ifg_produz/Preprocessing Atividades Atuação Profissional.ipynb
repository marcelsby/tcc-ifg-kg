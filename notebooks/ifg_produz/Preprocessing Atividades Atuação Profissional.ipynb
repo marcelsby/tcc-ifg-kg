{
 "cells": [
  {
   "cell_type": "code",
   "execution_count": 4,
   "id": "9e7e33ae",
   "metadata": {
    "tags": [
     "parameters"
    ]
   },
   "outputs": [],
   "source": [
    "p_storage_dir = \"../../storage\"\n",
    "p_notebooks_root = None"
   ]
  },
  {
   "cell_type": "code",
   "execution_count": null,
   "id": "6d0c39c7-6dd3-43ff-baf8-5bb1c13e4503",
   "metadata": {},
   "outputs": [],
   "source": [
    "if p_notebooks_root is not None:\n",
    "    import os\n",
    "    os.chdir(p_notebooks_root)"
   ]
  },
  {
   "cell_type": "code",
   "execution_count": 5,
   "id": "26699801",
   "metadata": {},
   "outputs": [],
   "source": [
    "import pandas as pd\n",
    "from pathlib import Path\n",
    "\n",
    "IFG_PRODUZ_STORAGE_DIR = Path(f\"{p_storage_dir}/ifg_produz\")"
   ]
  },
  {
   "cell_type": "markdown",
   "id": "63619834",
   "metadata": {},
   "source": [
    "## Atividades Atuação Profissional"
   ]
  },
  {
   "cell_type": "code",
   "execution_count": 8,
   "id": "e0a1fdaa",
   "metadata": {},
   "outputs": [
    {
     "data": {
      "text/html": [
       "<div>\n",
       "<style scoped>\n",
       "    .dataframe tbody tr th:only-of-type {\n",
       "        vertical-align: middle;\n",
       "    }\n",
       "\n",
       "    .dataframe tbody tr th {\n",
       "        vertical-align: top;\n",
       "    }\n",
       "\n",
       "    .dataframe thead th {\n",
       "        text-align: right;\n",
       "    }\n",
       "</style>\n",
       "<table border=\"1\" class=\"dataframe\">\n",
       "  <thead>\n",
       "    <tr style=\"text-align: right;\">\n",
       "      <th></th>\n",
       "      <th>id_atividade</th>\n",
       "      <th>data_inicio</th>\n",
       "      <th>atividade</th>\n",
       "      <th>id_atuacao_profissional_id</th>\n",
       "    </tr>\n",
       "  </thead>\n",
       "  <tbody>\n",
       "    <tr>\n",
       "      <th>1237</th>\n",
       "      <td>1238</td>\n",
       "      <td>2016</td>\n",
       "      <td>Coordenador do da Coordenação de Educação Física</td>\n",
       "      <td>10779</td>\n",
       "    </tr>\n",
       "    <tr>\n",
       "      <th>136</th>\n",
       "      <td>137</td>\n",
       "      <td>1984</td>\n",
       "      <td>NaN</td>\n",
       "      <td>1100</td>\n",
       "    </tr>\n",
       "    <tr>\n",
       "      <th>777</th>\n",
       "      <td>778</td>\n",
       "      <td>2003</td>\n",
       "      <td>Chefe de Gabinete</td>\n",
       "      <td>6791</td>\n",
       "    </tr>\n",
       "    <tr>\n",
       "      <th>910</th>\n",
       "      <td>910</td>\n",
       "      <td>2009</td>\n",
       "      <td>Coordenador de Polo de Apoio Presencial</td>\n",
       "      <td>8057</td>\n",
       "    </tr>\n",
       "    <tr>\n",
       "      <th>596</th>\n",
       "      <td>597</td>\n",
       "      <td>2002</td>\n",
       "      <td>NaN</td>\n",
       "      <td>5270</td>\n",
       "    </tr>\n",
       "    <tr>\n",
       "      <th>662</th>\n",
       "      <td>663</td>\n",
       "      <td>2017</td>\n",
       "      <td>Coordenadora do Curso Técnico em Secretariado ...</td>\n",
       "      <td>5913</td>\n",
       "    </tr>\n",
       "    <tr>\n",
       "      <th>961</th>\n",
       "      <td>961</td>\n",
       "      <td>2007</td>\n",
       "      <td>Coordenador Adjunto de Trabalho de Conclusão d...</td>\n",
       "      <td>8447</td>\n",
       "    </tr>\n",
       "    <tr>\n",
       "      <th>631</th>\n",
       "      <td>632</td>\n",
       "      <td>2003</td>\n",
       "      <td>Coordenador da Àrea de Indústria</td>\n",
       "      <td>5613</td>\n",
       "    </tr>\n",
       "  </tbody>\n",
       "</table>\n",
       "</div>"
      ],
      "text/plain": [
       "      id_atividade  data_inicio  \\\n",
       "1237          1238         2016   \n",
       "136            137         1984   \n",
       "777            778         2003   \n",
       "910            910         2009   \n",
       "596            597         2002   \n",
       "662            663         2017   \n",
       "961            961         2007   \n",
       "631            632         2003   \n",
       "\n",
       "                                              atividade  \\\n",
       "1237   Coordenador do da Coordenação de Educação Física   \n",
       "136                                                 NaN   \n",
       "777                                   Chefe de Gabinete   \n",
       "910             Coordenador de Polo de Apoio Presencial   \n",
       "596                                                 NaN   \n",
       "662   Coordenadora do Curso Técnico em Secretariado ...   \n",
       "961   Coordenador Adjunto de Trabalho de Conclusão d...   \n",
       "631                    Coordenador da Àrea de Indústria   \n",
       "\n",
       "      id_atuacao_profissional_id  \n",
       "1237                       10779  \n",
       "136                         1100  \n",
       "777                         6791  \n",
       "910                         8057  \n",
       "596                         5270  \n",
       "662                         5913  \n",
       "961                         8447  \n",
       "631                         5613  "
      ]
     },
     "execution_count": 8,
     "metadata": {},
     "output_type": "execute_result"
    }
   ],
   "source": [
    "atividades = pd.read_csv(IFG_PRODUZ_STORAGE_DIR / \"extracted/atividades.csv\", delimiter=\";\")\n",
    "\n",
    "atividades.sample(n=8)"
   ]
  },
  {
   "cell_type": "code",
   "execution_count": 11,
   "id": "2cb31d71-5206-455e-904d-23dfbceaefed",
   "metadata": {},
   "outputs": [],
   "source": [
    "atividades = atividades.rename(columns={\n",
    "    'id_atividade': 'codigo',\n",
    "    'atividade': 'cargo',\n",
    "    'id_atuacao_profissional_id': 'codigo_atuacao_profissional'\n",
    "})"
   ]
  },
  {
   "cell_type": "code",
   "execution_count": 12,
   "id": "3dc31f7f-7c43-43ac-a7bf-75c2a94e4164",
   "metadata": {},
   "outputs": [
    {
     "data": {
      "text/html": [
       "<div>\n",
       "<style scoped>\n",
       "    .dataframe tbody tr th:only-of-type {\n",
       "        vertical-align: middle;\n",
       "    }\n",
       "\n",
       "    .dataframe tbody tr th {\n",
       "        vertical-align: top;\n",
       "    }\n",
       "\n",
       "    .dataframe thead th {\n",
       "        text-align: right;\n",
       "    }\n",
       "</style>\n",
       "<table border=\"1\" class=\"dataframe\">\n",
       "  <thead>\n",
       "    <tr style=\"text-align: right;\">\n",
       "      <th></th>\n",
       "      <th>codigo</th>\n",
       "      <th>data_inicio</th>\n",
       "      <th>cargo</th>\n",
       "      <th>codigo_atuacao_profissional</th>\n",
       "    </tr>\n",
       "  </thead>\n",
       "  <tbody>\n",
       "    <tr>\n",
       "      <th>1206</th>\n",
       "      <td>1206</td>\n",
       "      <td>1993</td>\n",
       "      <td>Gerente da área de processamento de dados</td>\n",
       "      <td>10513</td>\n",
       "    </tr>\n",
       "    <tr>\n",
       "      <th>719</th>\n",
       "      <td>720</td>\n",
       "      <td>2003</td>\n",
       "      <td>Coordenador do laboratório de pesquisas em eng...</td>\n",
       "      <td>6302</td>\n",
       "    </tr>\n",
       "    <tr>\n",
       "      <th>462</th>\n",
       "      <td>463</td>\n",
       "      <td>2013</td>\n",
       "      <td>Coordenação do Serviço de Interação Escola-Emp...</td>\n",
       "      <td>4095</td>\n",
       "    </tr>\n",
       "  </tbody>\n",
       "</table>\n",
       "</div>"
      ],
      "text/plain": [
       "      codigo  data_inicio                                              cargo  \\\n",
       "1206    1206         1993          Gerente da área de processamento de dados   \n",
       "719      720         2003  Coordenador do laboratório de pesquisas em eng...   \n",
       "462      463         2013  Coordenação do Serviço de Interação Escola-Emp...   \n",
       "\n",
       "      codigo_atuacao_profissional  \n",
       "1206                        10513  \n",
       "719                          6302  \n",
       "462                          4095  "
      ]
     },
     "execution_count": 12,
     "metadata": {},
     "output_type": "execute_result"
    }
   ],
   "source": [
    "atividades.sample(n=3)"
   ]
  },
  {
   "cell_type": "markdown",
   "id": "906a0af7-b060-4c06-af97-77b30d8dcd5a",
   "metadata": {},
   "source": [
    "**Exportar**"
   ]
  },
  {
   "cell_type": "code",
   "execution_count": 13,
   "id": "c55189b8-69fd-48e5-951a-c6c70437ee66",
   "metadata": {},
   "outputs": [],
   "source": [
    "export_path = Path(IFG_PRODUZ_STORAGE_DIR / \"preprocessed\")\n",
    "\n",
    "if not export_path.is_dir():\n",
    "    Path(export_path).mkdir()\n",
    "\n",
    "atividades.to_csv(export_path / \"atividades_atuacao_profissional.csv\", sep=\";\", index=False)"
   ]
  }
 ],
 "metadata": {
  "kernelspec": {
   "display_name": "Python 3 (ipykernel)",
   "language": "python",
   "name": "python3"
  },
  "language_info": {
   "codemirror_mode": {
    "name": "ipython",
    "version": 3
   },
   "file_extension": ".py",
   "mimetype": "text/x-python",
   "name": "python",
   "nbconvert_exporter": "python",
   "pygments_lexer": "ipython3",
   "version": "3.10.12"
  }
 },
 "nbformat": 4,
 "nbformat_minor": 5
}
